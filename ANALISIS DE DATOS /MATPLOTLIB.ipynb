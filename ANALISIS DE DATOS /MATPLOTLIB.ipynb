{
 "cells": [
  {
   "cell_type": "markdown",
   "metadata": {},
   "source": [
    "<center> <h1>Universidad Nacional de San Agustín de Arequipa</h1> </center> \n",
    "<center> <h1>Escuela Profesional de Ingeniería de Telecomunicaciones</h1> </center> \n",
    "\n",
    "<center> <h1> </h1> </center> \n",
    "\n",
    "<center><img src=\"https://user-images.githubusercontent.com/19308295/115939517-f1c6fe80-a463-11eb-989c-812ab4942586.png\" width=\"380\" height=\"4200\"></center>"
   ]
  },
  {
   "cell_type": "markdown",
   "metadata": {},
   "source": [
    "<center> <h2>Ingeniero Renzo Bolivar - Docente DAIE</h2> </center> "
   ]
  },
  {
   "cell_type": "markdown",
   "metadata": {},
   "source": [
    "<center> <h2>Alumno Cristhian Denis Larico Yucra </h2> </center> "
   ]
  },
  {
   "cell_type": "markdown",
   "metadata": {},
   "source": [
    "<center> <h1>Curso : Computación 2</h1> </center> "
   ]
  },
  {
   "cell_type": "markdown",
   "metadata": {},
   "source": [
    "<center> <h1>TEMA MATPLOTLIB</h1> </center> "
   ]
  },
  {
   "cell_type": "markdown",
   "metadata": {},
   "source": [
    "![linea 1](https://user-images.githubusercontent.com/19308295/115926252-2b8a0c00-a448-11eb-9d9c-b43beaf0ff68.png)"
   ]
  },
  {
   "cell_type": "markdown",
   "metadata": {},
   "source": [
    "# Descripción:"
   ]
  },
  {
   "cell_type": "markdown",
   "metadata": {},
   "source": [
    "En este notebook se explicará como utilizar la librerías **MatplotLib y Numpy** para realizar gráficas de todo tipo utilizando el lenguage de programación **Python 3**"
   ]
  },
  {
   "cell_type": "markdown",
   "metadata": {},
   "source": [
    "# Objetivos:"
   ]
  },
  {
   "cell_type": "markdown",
   "metadata": {},
   "source": [
    " 1. Presentación y/o Visualización de **Datos con Matplotlib**.\n",
    " 2. Utilizar datos en **listas simples** en Python 3 para graficar con **Matplotlib**.\n",
    " 3. Utilizar datos en **matrices NumPy** para graficar con **Matplotlib**.\n"
   ]
  },
  {
   "cell_type": "markdown",
   "metadata": {},
   "source": [
    "# Contenido:"
   ]
  },
  {
   "cell_type": "markdown",
   "metadata": {},
   "source": [
    "\n",
    "\n",
    "[1. MatplotLib Librería de Generación de Gráficas](#1.-MatplotLib-Librería-de-Generación-de-Gráficas)<br>\n",
    "[2. Gráficas de línea](#2.-Gráficas-de-línea)<br>\n",
    "[3. Gráfico de Barras](#3.-Gráfico-de-Barras)<br>\n",
    "[4. Gráfica Circular (pastel)](#4.-Gráfica-Circular-(pastel))<br>\n",
    "[5. Gráfica Dispersión](#5.-Gráfica-Dispersión)<br>\n",
    "[6. Histogramas](#6.-Histogramas)<br>\n",
    "\n",
    "[EJEMPLOS](#EJEMPLOS)<br>\n",
    "[EJERCICIOS](#EJERCICIOS)<br>\n",
    "[BIBLIOGRAFÍA](#BIBLIOGRAFÍA)<br>"
   ]
  },
  {
   "cell_type": "markdown",
   "metadata": {},
   "source": [
    "![linea 1](https://user-images.githubusercontent.com/19308295/115926252-2b8a0c00-a448-11eb-9d9c-b43beaf0ff68.png)"
   ]
  },
  {
   "cell_type": "markdown",
   "metadata": {},
   "source": [
    "## <font color=#33A5FF>****1. MatplotLib Librería de Generación de Gráficas****<tfont>"
   ]
  },
  {
   "cell_type": "markdown",
   "metadata": {},
   "source": [
    "![matplotlib](https://user-images.githubusercontent.com/19308295/117550941-af2b2780-b008-11eb-9403-60764935081f.png)"
   ]
  },
  {
   "cell_type": "markdown",
   "metadata": {},
   "source": [
    "<div class=\"well\">\n",
    "<strong>Matplotlib: </strong> es una librería de trazado utilizada para gráficos 2D en lenguaje de programación Python, es muy flexible y tiene muchos valores predeterminados incorporados que te ayudarán en tú trabajo. \n",
    "    \n",
    "   Para iniciar necesitas: \n",
    "    \n",
    "    \n",
    "   - Realizar las importaciones necesarias\n",
    "   - Preparar algunos datos y \n",
    "   - Trazar tu función con la ayuda de la interfaz <strong>pyplot</strong>. \n",
    "</div>"
   ]
  },
  {
   "cell_type": "markdown",
   "metadata": {},
   "source": [
    "<div class=\"well\">\n",
    "<code>matplotlib.pyplot</code> es una colección de funciones que hacen que <strong>matplotlib</strong> funcione como MATLAB. Cada función <strong>pyplot</strong> realiza algún cambio en la figura.\n",
    "\n",
    "</div>"
   ]
  },
  {
   "cell_type": "markdown",
   "metadata": {},
   "source": [
    "<div class=\"well\">\n",
    "<strong>Nota: </strong>\n",
    "\n",
    "La <strong>API</strong> de <code>pyplot</code> es generalmente menos flexible que la API orientada a objetos. La mayoría de las llamadas a funciones que ve aquí también se pueden llamar como <strong>métodos</strong> desde un objeto <code>ax.plot</code>. \n",
    "\n",
    "</div>"
   ]
  },
  {
   "cell_type": "markdown",
   "metadata": {},
   "source": [
    "## Visualización con Matplotlib:"
   ]
  },
  {
   "cell_type": "markdown",
   "metadata": {},
   "source": [
    "###  Importamos los paquetes necesarios:"
   ]
  },
  {
   "cell_type": "code",
   "execution_count": 35,
   "metadata": {},
   "outputs": [],
   "source": [
    "import numpy as np\n",
    "import matplotlib.pyplot as plt\n"
   ]
  },
  {
   "cell_type": "markdown",
   "metadata": {},
   "source": [
    "## Interfaz pyplot:"
   ]
  },
  {
   "cell_type": "markdown",
   "metadata": {},
   "source": [
    "###  Función `plot`"
   ]
  },
  {
   "cell_type": "markdown",
   "metadata": {},
   "source": [
    "La interfaz `pyplot` proporciona una serie de funciones que operan sobre un estado global - es decir, nosotros no especificamos sobre qué gráfica o ejes estamos actuando. Es una forma rápida y cómoda de crear gráficas pero perdemos parte del control."
   ]
  },
  {
   "cell_type": "markdown",
   "metadata": {},
   "source": [
    "El paquete `pyplot` se suele importar bajo el alias `plt`, de modo que todas las funciones se acceden a través de `plt.<funcion>`. La función más básica es la función `plot`:"
   ]
  },
  {
   "cell_type": "code",
   "execution_count": 37,
   "metadata": {},
   "outputs": [
    {
     "data": {
      "image/png": "[encoded data removed]",
      "text/plain": [
       "<Figure size 432x288 with 1 Axes>"
      ]
     },
     "metadata": {
      "needs_background": "light"
     },
     "output_type": "display_data"
    }
   ],
   "source": [
    "y =[1, 2, 5, 6, 12] \n",
    "plt.plot(y,   \"g--d\")\n",
    "\n",
    "plt.show()"
   ]
  },
  {
   "cell_type": "markdown",
   "metadata": {},
   "source": [
    "La función `plot` recibe una sola lista (si queremos especificar los valores y) o dos listas (si especificamos x e y). Naturalmente si especificamos dos listas ambas tienen que tener la misma longitud."
   ]
  },
  {
   "cell_type": "markdown",
   "metadata": {},
   "source": [
    "![linea 2](https://user-images.githubusercontent.com/19308295/115926262-2fb62980-a448-11eb-8189-c2f10e499944.png)"
   ]
  },
  {
   "cell_type": "markdown",
   "metadata": {},
   "source": [
    "## <font color=#33A5FF>****2. Gráficas de línea****<tfont>"
   ]
  },
  {
   "cell_type": "code",
   "execution_count": 40,
   "metadata": {
    "scrolled": true
   },
   "outputs": [
    {
     "data": {
      "image/png": "[encoded data removed]",
      "text/plain": [
       "<Figure size 432x288 with 1 Axes>"
      ]
     },
     "metadata": {
      "needs_background": "light"
     },
     "output_type": "display_data"
    }
   ],
   "source": [
    "#>>>>LISTAS\n",
    "x=[0.0,0.1,0.2,0.7,0.9]\n",
    "y=[1,-2,3,4,1]\n",
    "\n",
    "#>>>> GRAFICA\n",
    "plt.plot(x,y)\n",
    "plt.grid() \n",
    "plt.show()"
   ]
  },
  {
   "cell_type": "code",
   "execution_count": 42,
   "metadata": {
    "scrolled": true
   },
   "outputs": [
    {
     "data": {
      "image/png": "[encoded data removed]",
      "text/plain": [
       "<Figure size 432x288 with 1 Axes>"
      ]
     },
     "metadata": {
      "needs_background": "light"
     },
     "output_type": "display_data"
    }
   ],
   "source": [
    "x=[0,0.1,0.2,0.5,0.6]\n",
    "y=[1,-1,0,3,-1]\n",
    "plt.plot(x,y, color=\"pink\", linewidth=2, label=\"LINE\")\n",
    "plt.legend()     \n",
    "plt.grid()\n",
    "plt.show()    "
   ]
  },
  {
   "cell_type": "code",
   "execution_count": 46,
   "metadata": {},
   "outputs": [
    {
     "data": {
      "image/png": "[encoded data removed]",
      "text/plain": [
       "<Figure size 432x288 with 1 Axes>"
      ]
     },
     "metadata": {
      "needs_background": "light"
     },
     "output_type": "display_data"
    }
   ],
   "source": [
    "\n",
    "x1=[3,4,5,6]\n",
    "y1=[5,6,3,4]\n",
    "x2=[2,5,8]\n",
    "y2=[3,4,3]\n",
    "plt.plot(x1,y1, label=\"Linea1 \", linewidth=5, color=\"green\")\n",
    "plt.plot(x2,y2, label=\"Linea2 \", linewidth=8, color=\"black\")\n",
    "\n",
    "plt.title(\"Diagrama de Lineas\")\n",
    "plt.ylabel(\"Eje y\")\n",
    "plt.xlabel(\"Eje X\")\n",
    "\n",
    "\n",
    "plt.legend()\n",
    "plt.grid()\n",
    "plt.show()"
   ]
  },
  {
   "cell_type": "markdown",
   "metadata": {},
   "source": [
    "![linea 2](https://user-images.githubusercontent.com/19308295/115926262-2fb62980-a448-11eb-8189-c2f10e499944.png)"
   ]
  },
  {
   "cell_type": "markdown",
   "metadata": {},
   "source": [
    "## <font color=#33A5FF>****3. Gráfico de Barras****<tfont>"
   ]
  },
  {
   "cell_type": "markdown",
   "metadata": {},
   "source": [
    "Los gráficos de barras se usan para comparar datos entre diferentes categorías, estos se pueden representar horizontal o verticalmente.\n",
    "\n",
    "La pogramación es muy parecida con gráficas de líneas, definimos los datos que vamos a graficar y configuramos las características del gráfico, en ves de utilizar `plt.plot()` usamos `plt.bar()` que indica que se va a graficar una gráfica de barras. El resto de instrucciones es exactamente igual."
   ]
  },
  {
   "cell_type": "markdown",
   "metadata": {},
   "source": [
    "**Barras Verticales**"
   ]
  },
  {
   "cell_type": "code",
   "execution_count": 51,
   "metadata": {},
   "outputs": [
    {
     "data": {
      "image/png": "[encoded data removed]",
      "text/plain": [
       "<Figure size 432x288 with 1 Axes>"
      ]
     },
     "metadata": {
      "needs_background": "light"
     },
     "output_type": "display_data"
    }
   ],
   "source": [
    "fechas=[\"15/05/2020\",\"18/05/2020\",\"20/05/2020\",\"22/0572020\",\"25/0572020\"]  \n",
    "valores=[42,83,68,90,80]                                                  \n",
    "\n",
    "plt.bar(range(5), valores, edgecolor=\"red\")\n",
    "plt.xticks(range(5), fechas)\n",
    "plt.ylim(min(valores)-30, max(valores)+30)\n",
    "\n",
    "plt.title(\"Farmacia-Ingreso Diario\")\n",
    "plt.ylabel(\"Soles\")\n",
    "plt.xlabel(\"Fechas\")\n",
    "\n",
    "plt.show()"
   ]
  },
  {
   "cell_type": "markdown",
   "metadata": {},
   "source": [
    "**Barras Horizontales**"
   ]
  },
  {
   "cell_type": "code",
   "execution_count": 57,
   "metadata": {},
   "outputs": [
    {
     "data": {
      "image/png": "[encoded data removed]",
      "text/plain": [
       "<Figure size 432x288 with 1 Axes>"
      ]
     },
     "metadata": {
      "needs_background": "light"
     },
     "output_type": "display_data"
    }
   ],
   "source": [
    "fechas=[\"15/05/2020\",\"18/05/2020\",\"20/05/2020\",\"22/0572020\",\"25/0572020\"]  \n",
    "valores=[42,83,68,90,80]  \n",
    "plt.barh(range(5), valores, edgecolor=\"black\")\n",
    "plt.yticks(range(5), fechas, rotation=60)\n",
    "plt.xlim(min(valores)-10, max(valores)+10)\n",
    "\n",
    "plt.title(\"Farmacia - Ingresos x Dia\")\n",
    "plt.ylabel(\"Fechas\")\n",
    "plt.xlabel(\"Soles\")\n",
    "\n",
    "plt.show()"
   ]
  },
  {
   "cell_type": "markdown",
   "metadata": {},
   "source": [
    "![linea 2](https://user-images.githubusercontent.com/19308295/115926262-2fb62980-a448-11eb-8189-c2f10e499944.png)"
   ]
  },
  {
   "cell_type": "markdown",
   "metadata": {},
   "source": [
    "## <font color=#33A5FF>****4. Gráfica Circular (pastel)****<tfont>"
   ]
  },
  {
   "cell_type": "markdown",
   "metadata": {},
   "source": [
    "Un gráfico circular se divide en segmentos, es decir, sectores de pastel, básicamente se usa para mostrar el porcentaje o los datos proporcionales en los que cada porción del pastel representa una categoría.\n",
    "\n",
    "El procedimiento es muy parecido alos casos anteriores, ahora se utiliza `plt.pie()` pero se debe especificar otras características para mejorar la presentación de la gráfica."
   ]
  },
  {
   "cell_type": "markdown",
   "metadata": {},
   "source": [
    "**Simple**"
   ]
  },
  {
   "cell_type": "code",
   "execution_count": 4,
   "metadata": {},
   "outputs": [],
   "source": [
    "import numpy as np\n",
    "import matplotlib.pyplot as plt"
   ]
  },
  {
   "cell_type": "code",
   "execution_count": 9,
   "metadata": {},
   "outputs": [
    {
     "data": {
      "image/png": "[encoded data removed]",
      "text/plain": [
       "<Figure size 432x288 with 1 Axes>"
      ]
     },
     "metadata": {},
     "output_type": "display_data"
    }
   ],
   "source": [
    "\n",
    "\n",
    "manzanas= [20,10,25,30]\n",
    "nombres=[\"Ana\",\"Juan\", \"Diana\",\"Catalina\"]\n",
    "\n",
    "plt.pie(manzanas,labels=nombres)\n",
    "\n",
    "plt.title(\"Grafica Circular\")\n",
    "\n",
    "plt.show()"
   ]
  },
  {
   "cell_type": "markdown",
   "metadata": {},
   "source": [
    "**Con porcentajes**"
   ]
  },
  {
   "cell_type": "code",
   "execution_count": 16,
   "metadata": {},
   "outputs": [
    {
     "data": {
      "image/png": "[encoded data removed]",
      "text/plain": [
       "<Figure size 432x288 with 1 Axes>"
      ]
     },
     "metadata": {},
     "output_type": "display_data"
    }
   ],
   "source": [
    "\n",
    "\n",
    "\n",
    "manzanas= [20,10,25,30]\n",
    "nombres=[\"Ana\",\"Juan\", \"Diana\",\"Catalina\"]\n",
    "\n",
    "\n",
    "\n",
    "plt.pie(manzanas,labels=nombres ,autopct=\"%0.1f%%\")\n",
    "\n",
    "plt.title(\"Grafica Circular\")\n",
    "\n",
    "plt.show()\n",
    "\n",
    "\n",
    "\n"
   ]
  },
  {
   "cell_type": "markdown",
   "metadata": {},
   "source": [
    "**Cambio de colores**"
   ]
  },
  {
   "cell_type": "code",
   "execution_count": 17,
   "metadata": {},
   "outputs": [
    {
     "data": {
      "image/png": "[encoded data removed]",
      "text/plain": [
       "<Figure size 432x288 with 1 Axes>"
      ]
     },
     "metadata": {},
     "output_type": "display_data"
    }
   ],
   "source": [
    "manzanas= [20,10,25,30]\n",
    "nombres=[\"Ana\",\"Juan\", \"Diana\",\"Catalina\"]\n",
    "\n",
    "colores=[\"magenta\",\"green\",\"red\",\"cyan\"]\n",
    "\n",
    "plt.pie(manzanas,labels=nombres ,autopct=\"%0.1f%%\", colors=colores)\n",
    "\n",
    "plt.title(\"Grafica Circular\")\n",
    "\n",
    "plt.show()"
   ]
  },
  {
   "cell_type": "markdown",
   "metadata": {},
   "source": [
    "**Separación del pie**"
   ]
  },
  {
   "cell_type": "code",
   "execution_count": 29,
   "metadata": {},
   "outputs": [
    {
     "data": {
      "image/png": "[encoded data removed]",
      "text/plain": [
       "<Figure size 432x288 with 1 Axes>"
      ]
     },
     "metadata": {},
     "output_type": "display_data"
    }
   ],
   "source": [
    "manzanas= [20,10,25,30]\n",
    "nombres=[\"Ana\",\"Juan\", \"Diana\",\"Catalina\"]\n",
    "\n",
    "colores=[\"magenta\",\"green\",\"red\",\"cyan\"]\n",
    "\n",
    "desface =(0.2,0,0.3,0.1)\n",
    "\n",
    "plt.pie(manzanas,labels=nombres ,autopct=\"%0.1f%%\", colors=colores,explode=desface)\n",
    "\n",
    "plt.title(\"Grafica Circular\")\n",
    "\n",
    "plt.show()\n"
   ]
  },
  {
   "cell_type": "markdown",
   "metadata": {},
   "source": [
    "## <font color=#33A5FF>****5. Gráfica Dispersión****<tfont>"
   ]
  },
  {
   "cell_type": "markdown",
   "metadata": {},
   "source": [
    "Los gráficos de dispersión se utilizaron para comparar variables, por ejemplo, cuánto una variable se ve afectada por otra variable y de esta forma se construye una relación a partir de ella. \n",
    "\n",
    "En esta gráfica los datos se muestran como una colección de puntos, cada uno con el valor de una variable que determina la posición en el eje horizontal y el valor de otra variable determina la posición en el eje vertical.\n",
    "\n",
    "La gráfica se construye utilizando el comando `plt.scatter()` que significa dispersión en inglés, y el resto de las instrucciones son las mismas que hemos utilizado hasta ahora."
   ]
  },
  {
   "cell_type": "markdown",
   "metadata": {},
   "source": [
    "**Simple**"
   ]
  },
  {
   "cell_type": "code",
   "execution_count": 32,
   "metadata": {},
   "outputs": [
    {
     "data": {
      "image/png": "[encoded data removed]",
      "text/plain": [
       "<Figure size 432x288 with 1 Axes>"
      ]
     },
     "metadata": {
      "needs_background": "light"
     },
     "output_type": "display_data"
    }
   ],
   "source": [
    "x =np.random.randint(1,100, size=20)\n",
    "y = np.random.randint(50,200, size =20)\n",
    "\n",
    "\n",
    "plt. scatter(x,y)\n",
    "\n",
    "plt.title (\"GRAFICO DE DISPERCION\")\n",
    "plt.show()\n"
   ]
  },
  {
   "cell_type": "markdown",
   "metadata": {},
   "source": [
    "## <font color=#33A5FF>****6. Histogramas****<tfont>"
   ]
  },
  {
   "cell_type": "markdown",
   "metadata": {},
   "source": [
    "Los histogramas se usan para mostrar una distribución, son útiles cuando tienes matrices o una lista muy larga. Veamos como podemos graficar este tipo de gráficos.\n",
    "\n",
    "Para esta gráfica definimos los datos y a su vez un los `bins` que vendría siendo los compartimientos en donde estarán ubicados en nuestra gráfica los datos. A su vez acá empleamos la instrucción `plt.hist()` para representar esta gráfica y el resto de instrucciones es la misma que hemos utilizado con anterioridad."
   ]
  },
  {
   "cell_type": "markdown",
   "metadata": {},
   "source": [
    "**simple**"
   ]
  },
  {
   "cell_type": "code",
   "execution_count": 34,
   "metadata": {},
   "outputs": [
    {
     "data": {
      "image/png": "[encoded data removed]",
      "text/plain": [
       "<Figure size 432x288 with 1 Axes>"
      ]
     },
     "metadata": {
      "needs_background": "light"
     },
     "output_type": "display_data"
    }
   ],
   "source": [
    "a =[11,15,18,16,12,52,1922,55,62,45,21,22,34,42,42,4,2,102,95,85,55,110,120,70,65,55,111,115,80,75,65,54,55,43,42,48]\n",
    "bins =[0,10,20,30,40,50,60,70,80,90,100]\n",
    "\n",
    "\n",
    "#configurar las caracteristicas de grafico\n",
    "\n",
    "plt.hist(a,bins, histtype=\"bar\", rwidth=0.8, color=\"lightgreen\")\n",
    "\n",
    "plt.title(\"Histograma\")\n",
    "\n",
    "plt.ylabel(\"Eje Y\")\n",
    "plt.ylabel(\"Eje X\")\n",
    "plt.show()\n"
   ]
  },
  {
   "cell_type": "markdown",
   "metadata": {},
   "source": [
    "![linea 2](https://user-images.githubusercontent.com/19308295/115926262-2fb62980-a448-11eb-8189-c2f10e499944.png)"
   ]
  },
  {
   "cell_type": "markdown",
   "metadata": {},
   "source": [
    "## <font color=#33A5FF>****EJEMPLOS****<tfont>"
   ]
  },
  {
   "cell_type": "markdown",
   "metadata": {},
   "source": [
    "___Ejemplo 1:___ Varias gráficas de línea"
   ]
  },
  {
   "cell_type": "code",
   "execution_count": null,
   "metadata": {},
   "outputs": [],
   "source": [
    "#declaramos el tamaño de la figura\n",
    "fig = plt.figure(figsize=(15,15))\n",
    "fig.tight_layout()  #definimos espaciado suficiente entre graficas\n",
    "\n",
    "#lista de colores\n",
    "colores = ['blue','green','red','cyan','magenta','yellow','black','white']\n",
    "\n",
    "for i in range(1,7):                 # seis graficas\n",
    "    x = np.arange(0,16,2)            # rango de numeros desde 0 al 16 , de 2 en 2\n",
    "    y = pow(x,np.random.randint(0,6))+np.random.randint(0,10)*x+np.random.randint(-5,10) # ecuación al azar con x elevado a la potencia al azar de 0 a 6, \n",
    "    ax = plt.subplot(2,3,i)          # acomodo de 2 filas con 3 columnas acomodo con i\n",
    "    ax.plot(x,y,color = colores[i])  #graficamos con color cada subgrafica\n",
    "    ax.set_xlabel('x')            #etiquetas\n",
    "    ax.set_ylabel('y')\n",
    "    ax.set_title('Gráfica '+str(i))\n",
    "    "
   ]
  },
  {
   "cell_type": "markdown",
   "metadata": {},
   "source": [
    "___Ejemplo 2:___ Gráfica completa circular"
   ]
  },
  {
   "cell_type": "code",
   "execution_count": null,
   "metadata": {},
   "outputs": [],
   "source": [
    "#Definir los datos\n",
    "dormir =[7,8,6,11,7]\n",
    "comer = [2,3,4,3,2]\n",
    "trabajar =[7,8,7,2,2]\n",
    "recreación = [8,5,7,8,13]\n",
    "divisiones = [7,2,2,13]\n",
    "actividades = ['Dormir','Comer','Trabajar','Recreación']\n",
    "colores = ['red','purple','blue','orange']\n",
    "desfase = (0.1,0,0,0)\n",
    "\n",
    "#Configurar las características del gráfico\n",
    "plt.pie(divisiones, labels=actividades, colors=colores, startangle=90, shadow=True, explode=desfase, autopct='%1.1f%%')\n",
    "\n",
    "#Definir título\n",
    "plt.title('Gráfico circular')\n",
    "\n",
    "#Mostrar figura\n",
    "plt.show()"
   ]
  },
  {
   "cell_type": "markdown",
   "metadata": {},
   "source": [
    "___Ejemplo 3:___ Barras Dobles Verticales"
   ]
  },
  {
   "cell_type": "code",
   "execution_count": null,
   "metadata": {},
   "outputs": [],
   "source": [
    "#Definir los datos\n",
    "x1 = [0.25, 1.25, 2.25, 3.25, 4.25]\n",
    "y1 = [10, 55, 80, 32, 40]\n",
    "x2 = [0.75, 1.75, 2.75, 3.75, 4.75]\n",
    "y2 = [42, 26, 10, 29, 66]\n",
    "\n",
    "#Configurar las características del gráfico\n",
    "plt.bar(x1, y1, label = 'Datos 1', width = 0.5, color = 'lightblue', edgecolor='black')\n",
    "plt.bar(x2, y2, label = 'Datos 2', width = 0.5, color = 'orange', edgecolor='black')\n",
    "\n",
    "#Definir título y nombres de ejes\n",
    "plt.title('Gráfico de barras')\n",
    "plt.ylabel('Eje Y')\n",
    "plt.xlabel('Eje X')\n",
    "\n",
    "#Mostrar leyenda y figura\n",
    "plt.legend()\n",
    "plt.show()"
   ]
  },
  {
   "cell_type": "markdown",
   "metadata": {},
   "source": [
    "___Ejemplo 4:___ Gráfico Dispersión"
   ]
  },
  {
   "cell_type": "code",
   "execution_count": null,
   "metadata": {},
   "outputs": [],
   "source": [
    "#Definir los datos\n",
    "x1 = [0.25, 1.25, 2.25, 3.25, 4.25]\n",
    "y1 = [10, 55, 80, 32, 40]\n",
    "x2 = [0.75, 1.75, 2.75, 3.75, 4.75]\n",
    "y2 = [42, 26, 10, 29, 66]\n",
    "\n",
    "#Configurar las características del gráfico\n",
    "plt.scatter(x1, y1, label = 'Datos 1',color = 'red')\n",
    "plt.scatter(x2, y2,label = 'Datos 2', color = 'purple')\n",
    "\n",
    "#Definir título y nombres de ejes\n",
    "plt.title('Gráfico de dispersión')\n",
    "plt.ylabel('Eje Y')\n",
    "plt.xlabel('Eje X')\n",
    "\n",
    "#Mostrar leyenda y figura\n",
    "plt.legend()\n",
    "plt.show()"
   ]
  },
  {
   "cell_type": "markdown",
   "metadata": {},
   "source": [
    "![linea 2](https://user-images.githubusercontent.com/19308295/115926262-2fb62980-a448-11eb-8189-c2f10e499944.png)"
   ]
  },
  {
   "cell_type": "markdown",
   "metadata": {},
   "source": [
    "## <font color=#33A5FF>****BIBLIOGRAFÍA****<tfont>"
   ]
  },
  {
   "cell_type": "markdown",
   "metadata": {},
   "source": [
    "[1] Guía de matplotlib https://matplotlib.org/stable/contents.html\n",
    "\n",
    "[2] Tutorial de matplotlib en español http://pybonacci.org/tag/tutorial-matplotlib-pyplot/\n",
    "\n",
    "[3] Referencia rápida de matplotlib https://scipy-lectures.org/intro/matplotlib/index.html"
   ]
  },
  {
   "cell_type": "markdown",
   "metadata": {},
   "source": [
    "![linea 1](https://user-images.githubusercontent.com/19308295/115926252-2b8a0c00-a448-11eb-9d9c-b43beaf0ff68.png)"
   ]
  }
 ],
 "metadata": {
  "kernelspec": {
   "display_name": "Python 3 (ipykernel)",
   "language": "python",
   "name": "python3"
  },
  "language_info": {
   "codemirror_mode": {
    "name": "ipython",
    "version": 3
   },
   "file_extension": ".py",
   "mimetype": "text/x-python",
   "name": "python",
   "nbconvert_exporter": "python",
   "pygments_lexer": "ipython3",
   "version": "3.8.12"
  }
 },
 "nbformat": 4,
 "nbformat_minor": 4
}
