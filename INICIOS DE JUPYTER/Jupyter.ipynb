{
 "cells": [
  {
   "cell_type": "markdown",
   "id": "ab6bd348",
   "metadata": {},
   "source": [
    "   # <center>Universidad Nacional de San Agustin de Arequipa\n",
    " "
   ]
  },
  {
   "cell_type": "markdown",
   "id": "034993d5",
   "metadata": {},
   "source": [
    "<center><img src=\"https://upload.wikimedia.org/wikipedia/commons/3/3a/LOGO_UNSA.png\" width=\"380\" height=\"420\"><center>\n"
   ]
  },
  {
   "cell_type": "markdown",
   "id": "33a68ae0",
   "metadata": {},
   "source": [
    "## <center> FACULTAD DE INGENIERÍA DE PRODUCCIÓN Y SERVICIOS\n"
   ]
  },
  {
   "cell_type": "markdown",
   "id": "37ea9324",
   "metadata": {},
   "source": [
    "## <CENTER> ESCUELA PROFESIONAL DE INGENIERÍA EN TELECOMUNICACIONES"
   ]
  },
  {
   "cell_type": "markdown",
   "id": "79ca396b",
   "metadata": {},
   "source": [
    "\n",
    "### alumno: Larico Yucra, Cristhian Denis\n",
    "#### CUI: 20213186"
   ]
  },
  {
   "cell_type": "markdown",
   "id": "64b52d70",
   "metadata": {},
   "source": [
    "Curso: Computacion 2\n",
    "\n",
    "Autor: Renzo Bolivar"
   ]
  },
  {
   "cell_type": "code",
   "execution_count": 1,
   "id": "c07b031d",
   "metadata": {},
   "outputs": [],
   "source": [
    "#Estmamos ingresando nuestras primeras lineas en Python"
   ]
  },
  {
   "cell_type": "code",
   "execution_count": 7,
   "id": "8a5eaa56",
   "metadata": {
    "scrolled": true
   },
   "outputs": [
    {
     "data": {
      "text/plain": [
       "'Queremos varias\\nlineas de \\ncomentarios'"
      ]
     },
     "execution_count": 7,
     "metadata": {},
     "output_type": "execute_result"
    }
   ],
   "source": [
    "'''Queremos varias\n",
    "lineas de \n",
    "comentarios'''"
   ]
  },
  {
   "cell_type": "code",
   "execution_count": 8,
   "id": "1982ff57",
   "metadata": {},
   "outputs": [
    {
     "data": {
      "text/plain": [
       "12"
      ]
     },
     "execution_count": 8,
     "metadata": {},
     "output_type": "execute_result"
    }
   ],
   "source": [
    "7 + 5"
   ]
  },
  {
   "cell_type": "code",
   "execution_count": 9,
   "id": "3810d31e",
   "metadata": {},
   "outputs": [
    {
     "data": {
      "text/plain": [
       "12"
      ]
     },
     "execution_count": 9,
     "metadata": {},
     "output_type": "execute_result"
    }
   ],
   "source": [
    "7+5"
   ]
  },
  {
   "cell_type": "code",
   "execution_count": 10,
   "id": "48828226",
   "metadata": {},
   "outputs": [
    {
     "data": {
      "text/plain": [
       "35"
      ]
     },
     "execution_count": 10,
     "metadata": {},
     "output_type": "execute_result"
    }
   ],
   "source": [
    "7*5"
   ]
  },
  {
   "cell_type": "code",
   "execution_count": 11,
   "id": "96b95e6d",
   "metadata": {},
   "outputs": [
    {
     "name": "stdout",
     "output_type": "stream",
     "text": [
      "el resultado es :\n"
     ]
    },
    {
     "data": {
      "text/plain": [
       "12"
      ]
     },
     "execution_count": 11,
     "metadata": {},
     "output_type": "execute_result"
    }
   ],
   "source": [
    "print(\"el resultado es :\")\n",
    "7+5"
   ]
  },
  {
   "cell_type": "code",
   "execution_count": 12,
   "id": "93b2b4b3",
   "metadata": {},
   "outputs": [
    {
     "name": "stdout",
     "output_type": "stream",
     "text": [
      "el resultado es:\n"
     ]
    },
    {
     "data": {
      "text/plain": [
       "35"
      ]
     },
     "execution_count": 12,
     "metadata": {},
     "output_type": "execute_result"
    }
   ],
   "source": [
    "print(\"el resultado es:\")\n",
    "7*5"
   ]
  },
  {
   "cell_type": "code",
   "execution_count": 13,
   "id": "01f33893",
   "metadata": {},
   "outputs": [
    {
     "name": "stdout",
     "output_type": "stream",
     "text": [
      "En la rama master\r\n",
      "Cambios no rastreados para el commit:\r\n",
      "  (usa \"git add <archivo>...\" para actualizar lo que será confirmado)\r\n",
      "  (usa \"git restore <archivo>...\" para descartar los cambios en el directorio de trabajo)\r\n",
      "\t\u001b[31mmodificado:     ../Challco/Primera Practica de Putyhon -Cesar.ipynb\u001b[m\r\n",
      "\t\u001b[31mmodificado:     Primer Proyecto de Python.ipynb\u001b[m\r\n",
      "\t\u001b[31mmodificado:     ../Llerena/Primera practica de  Python.ipynb\u001b[m\r\n",
      "\r\n",
      "sin cambios agregados al commit (usa \"git add\" y/o \"git commit -a\")\r\n"
     ]
    }
   ],
   "source": [
    "!git status"
   ]
  },
  {
   "cell_type": "code",
   "execution_count": 2,
   "id": "9c8750a2",
   "metadata": {},
   "outputs": [
    {
     "name": "stdout",
     "output_type": "stream",
     "text": [
      "error: switch desconocido `a'\r\n",
      "uso: git add [<opción>] [--] <especificación-de-ruta>...\r\n",
      "\r\n",
      "    -n, --dry-run         dry run ( ejecución en seco)\r\n",
      "    -v, --verbose         ser verboso\r\n",
      "\r\n",
      "    -i, --interactive     selección interactiva\r\n",
      "    -p, --patch           elegir hunks de forma interactiva\r\n",
      "    -e, --edit            editar diff actual y aplicar\r\n",
      "    -f, --force           permitir agregar caso contrario ignorar archivos\r\n",
      "    -u, --update          actualizado las carpetas rastreadas\r\n",
      "    --renormalize         renormalizar EOL de los archivos rastreados (implica -u)\r\n",
      "    -N, --intent-to-add   grabar solo el hecho de que la ruta será agregada después\r\n",
      "    -A, --all             agregar los cambios de todas las carpetas con y sin seguimiento\r\n",
      "    --ignore-removal      ignorar rutas eliminadas en el árbol de trabajo (lo mismo que --no-all)\r\n",
      "    --refresh             no agregar, solo actualizar el índice\r\n",
      "    --ignore-errors       saltar las carpetas que no pueden ser agregadas a causa de errores\r\n",
      "    --ignore-missing      comprobar si - incluso los archivos que faltan - se ignoran en dry run\r\n",
      "    --chmod (+|-)x        sobrescribir el bit ejecutable de los archivos listados\r\n",
      "    --pathspec-from-file <carpeta>\r\n",
      "                          leer pathspec de archivo\r\n",
      "    --pathspec-file-nul   con --pathspec-from-file, elementos de pathspec son separados con caracter NUL\r\n",
      "\r\n"
     ]
    }
   ],
   "source": [
    "!git add -a"
   ]
  },
  {
   "cell_type": "code",
   "execution_count": 3,
   "id": "6f863bd5",
   "metadata": {},
   "outputs": [],
   "source": [
    "!git add -A"
   ]
  },
  {
   "cell_type": "code",
   "execution_count": 16,
   "id": "d959794d",
   "metadata": {},
   "outputs": [
    {
     "name": "stdout",
     "output_type": "stream",
     "text": [
      "error: switch `m' requiere un valor\r\n"
     ]
    }
   ],
   "source": [
    "!git commit -m"
   ]
  },
  {
   "cell_type": "code",
   "execution_count": 17,
   "id": "c04d7ffb",
   "metadata": {},
   "outputs": [
    {
     "name": "stdout",
     "output_type": "stream",
     "text": [
      "[master 877acee] Finalizando Desarrollo de la practica 01\r\n",
      " 3 files changed, 168 insertions(+), 14 deletions(-)\r\n"
     ]
    }
   ],
   "source": [
    "!git commit -m \"Finalizando Desarrollo de la practica 01\""
   ]
  },
  {
   "cell_type": "code",
   "execution_count": 4,
   "id": "872cf206",
   "metadata": {},
   "outputs": [
    {
     "name": "stdout",
     "output_type": "stream",
     "text": [
      "\u001b[33mcommit a9346571656a571298340e4277b7b6185b31ab44\u001b[m\u001b[33m (\u001b[m\u001b[1;36mHEAD -> \u001b[m\u001b[1;32mmaster\u001b[m\u001b[33m)\u001b[m\r\n",
      "Author: Cristhian Larico <claricoy@unsa.edu.pe>\r\n",
      "Date:   Tue Oct 12 20:33:49 2021 -0500\r\n",
      "\r\n",
      "    finalizando ejercicios de la practica 01\r\n",
      "\r\n",
      "\u001b[33mcommit fcc213603d14fb0b1344a71ea7dc64eb25c36222\u001b[m\r\n",
      "Author: Cristhian Larico <claricoy@unsa.edu.pe>\r\n",
      "Date:   Tue Oct 12 18:28:59 2021 -0500\r\n",
      "\r\n",
      "    finalizando ejercicios de la practica 01\r\n",
      "\r\n",
      "\u001b[33mcommit 84309c4529bf1b96a72b6039ef5260646a925486\u001b[m\r\n",
      "Author: Cristhian Larico <claricoy@unsa.edu.pe>\r\n",
      "Date:   Tue Oct 12 13:53:53 2021 -0500\r\n",
      "\r\n",
      "    Finalizando Ejemplos de la practica 01\r\n",
      "\r\n",
      "\u001b[33mcommit 877aceeead94b3e5f70a58eaef6791a0c04f59c6\u001b[m\r\n",
      "Author: Cristhian Larico <claricoy@unsa.edu.pe>\r\n",
      "Date:   Tue Oct 12 13:32:48 2021 -0500\r\n",
      "\r\n",
      "    Finalizando Desarrollo de la practica 01\r\n",
      "\r\n",
      "\u001b[33mcommit 66a2e98f90888254274707272b28c5f246f0eabc\u001b[m\r\n",
      "Merge: cc5e8ad c86b7a5\r\n",
      "Author: Jhordan Llerena <jllerenapa@unsa.edu.pe>\r\n",
      "Date:   Sat Oct 9 02:28:27 2021 -0500\r\n",
      "\r\n",
      "    Inicio de la Practica1 JHordan Llerena$\r\n",
      "    clear\r\n",
      "\r\n",
      "\u001b[33mcommit cc5e8adc0bf7b3d3bdeee6fa68c5fcad515bda85\u001b[m\r\n",
      "Author: Jhordan Llerena <jllerenapa@unsa.edu.pe>\r\n",
      "Date:   Sat Oct 9 02:18:09 2021 -0500\r\n",
      "\r\n",
      "    Inicio de Practica1 Jhordan Llerena\r\n",
      "\r\n",
      "\u001b[33mcommit c86b7a5588551afa86890778268867f7fecce3a1\u001b[m\r\n",
      "Author: Rudy MA <rmamanialva@unsa.edu.pe>\r\n",
      "Date:   Fri Oct 8 12:45:22 2021 -0500\r\n",
      "\r\n",
      "    Iniciando archivo jupyter notebook\r\n",
      "\r\n",
      "\u001b[33mcommit 6805cb2c8df44f369ce676025dba4f691fecd49b\u001b[m\r\n",
      "Author: Manuel Prieto <mprietot@unsa.edu.pe>\r\n",
      "Date:   Fri Oct 8 10:29:59 2021 -0500\r\n",
      "\r\n",
      "    inicio de practica 1\r\n",
      "\r\n",
      "\u001b[33mcommit 83f58acfb582c7c27630128a9a740a785a5ba234\u001b[m\r\n",
      "Author: Cesar Agusto <cchallcoa@unsa.edu.pe>\r\n",
      "Date:   Thu Oct 7 16:25:49 2021 -0500\r\n",
      "\r\n",
      "    Inicio de Practica1 Cesar Challco\r\n",
      "\r\n",
      "\u001b[33mcommit 80e92a99e16cde08836cbd87931751dc4eef19af\u001b[m\r\n",
      "Author: Cristhian Larico <claricoy@unsa.edu.pe>\r\n",
      "Date:   Thu Oct 7 11:58:54 2021 -0500\r\n",
      "\r\n",
      "    Iniciando la Practica1\r\n"
     ]
    }
   ],
   "source": [
    "!git log"
   ]
  },
  {
   "cell_type": "markdown",
   "id": "10b476df",
   "metadata": {},
   "source": [
    "# primera linea de comentarios"
   ]
  },
  {
   "cell_type": "code",
   "execution_count": 19,
   "id": "e512e74a",
   "metadata": {},
   "outputs": [
    {
     "data": {
      "text/plain": [
       "'\\nMis primeras lineas\\nMultiples'"
      ]
     },
     "execution_count": 19,
     "metadata": {},
     "output_type": "execute_result"
    }
   ],
   "source": [
    "\"\"\"\n",
    "Mis primeras lineas\n",
    "Multiples\"\"\""
   ]
  },
  {
   "cell_type": "code",
   "execution_count": 21,
   "id": "b92ee060",
   "metadata": {},
   "outputs": [
    {
     "name": "stdout",
     "output_type": "stream",
     "text": [
      " El primer resultado: \n"
     ]
    },
    {
     "data": {
      "text/plain": [
       "50"
      ]
     },
     "execution_count": 21,
     "metadata": {},
     "output_type": "execute_result"
    }
   ],
   "source": [
    "print (\" El primer resultado: \")\n",
    "10*5"
   ]
  },
  {
   "cell_type": "code",
   "execution_count": 22,
   "id": "7af64a3f",
   "metadata": {},
   "outputs": [
    {
     "name": "stdout",
     "output_type": "stream",
     "text": [
      "El mejor resultado posible\n"
     ]
    },
    {
     "data": {
      "text/plain": [
       "100"
      ]
     },
     "execution_count": 22,
     "metadata": {},
     "output_type": "execute_result"
    }
   ],
   "source": [
    "print (\"El mejor resultado posible\")\n",
    "10*10"
   ]
  },
  {
   "cell_type": "code",
   "execution_count": 23,
   "id": "f2219350",
   "metadata": {},
   "outputs": [
    {
     "name": "stdout",
     "output_type": "stream",
     "text": [
      "En la rama master\r\n",
      "Cambios no rastreados para el commit:\r\n",
      "  (usa \"git add <archivo>...\" para actualizar lo que será confirmado)\r\n",
      "  (usa \"git restore <archivo>...\" para descartar los cambios en el directorio de trabajo)\r\n",
      "\t\u001b[31mmodificado:     Primer Proyecto de Python.ipynb\u001b[m\r\n",
      "\r\n",
      "sin cambios agregados al commit (usa \"git add\" y/o \"git commit -a\")\r\n"
     ]
    }
   ],
   "source": [
    "!git status"
   ]
  },
  {
   "cell_type": "code",
   "execution_count": 24,
   "id": "162c0839",
   "metadata": {},
   "outputs": [],
   "source": [
    "!git add -A"
   ]
  },
  {
   "cell_type": "code",
   "execution_count": 26,
   "id": "f3d241c3",
   "metadata": {},
   "outputs": [
    {
     "name": "stdout",
     "output_type": "stream",
     "text": [
      "[master 84309c4] Finalizando Ejemplos de la practica 01\r\n",
      " 1 file changed, 243 insertions(+), 8 deletions(-)\r\n"
     ]
    }
   ],
   "source": [
    "!git commit -m \"Finalizando Ejemplos de la practica 01\""
   ]
  },
  {
   "cell_type": "markdown",
   "id": "7c8a2146",
   "metadata": {},
   "source": [
    "# gracias "
   ]
  },
  {
   "cell_type": "code",
   "execution_count": 1,
   "id": "a22d0676",
   "metadata": {},
   "outputs": [
    {
     "name": "stdout",
     "output_type": "stream",
     "text": [
      "En la rama master\r\n",
      "Todos los conflictos resueltos pero sigues fusionando.\r\n",
      "  (usa \"git commit\" para concluir la fusión)\r\n",
      "\r\n",
      "Cambios a ser confirmados:\r\n",
      "\t\u001b[32mborrado:        ../Challco/.ipynb_checkpoints/Primera Practica de Putyhon -Cesar-checkpoint.ipynb\u001b[m\r\n",
      "\t\u001b[32mnuevo archivo:  ../Challco/.ipynb_checkpoints/Primera Practica de Python -Cesar-checkpoint.ipynb\u001b[m\r\n",
      "\t\u001b[32mnuevo archivo:  ../Challco/Primera Practica de Python -Cesar.ipynb\u001b[m\r\n",
      "\t\u001b[32mmodificado:     ../Llerena/Primera practica de  Python.ipynb\u001b[m\r\n",
      "\t\u001b[32mnuevo archivo:  ../Llerena/unsa.png\u001b[m\r\n",
      "\t\u001b[32mmodificado:     ../Prieto/primera practica python (manuel).ipynb\u001b[m\r\n",
      "\r\n",
      "Cambios no rastreados para el commit:\r\n",
      "  (usa \"git add <archivo>...\" para actualizar lo que será confirmado)\r\n",
      "  (usa \"git restore <archivo>...\" para descartar los cambios en el directorio de trabajo)\r\n",
      "\t\u001b[31mmodificado:     Primer Proyecto de Python.ipynb\u001b[m\r\n",
      "\r\n"
     ]
    }
   ],
   "source": [
    "!git status"
   ]
  },
  {
   "cell_type": "code",
   "execution_count": 2,
   "id": "6b29bb67",
   "metadata": {},
   "outputs": [],
   "source": [
    "!git add -A"
   ]
  },
  {
   "cell_type": "code",
   "execution_count": 3,
   "id": "196d287d",
   "metadata": {},
   "outputs": [
    {
     "name": "stdout",
     "output_type": "stream",
     "text": [
      "[master 658921d] Finalizando ejercicios de la practica01\r\n"
     ]
    }
   ],
   "source": [
    "!git commit -m\"Finalizando ejercicios de la practica01\""
   ]
  },
  {
   "cell_type": "code",
   "execution_count": 4,
   "id": "a6ed1893",
   "metadata": {},
   "outputs": [
    {
     "name": "stdout",
     "output_type": "stream",
     "text": [
      "En la rama master\r\n",
      "Cambios no rastreados para el commit:\r\n",
      "  (usa \"git add <archivo>...\" para actualizar lo que será confirmado)\r\n",
      "  (usa \"git restore <archivo>...\" para descartar los cambios en el directorio de trabajo)\r\n",
      "\t\u001b[31mmodificado:     Primer Proyecto de Python.ipynb\u001b[m\r\n",
      "\r\n",
      "sin cambios agregados al commit (usa \"git add\" y/o \"git commit -a\")\r\n"
     ]
    }
   ],
   "source": [
    "!git status"
   ]
  },
  {
   "cell_type": "code",
   "execution_count": 5,
   "id": "1030cc4a",
   "metadata": {},
   "outputs": [
    {
     "name": "stdout",
     "output_type": "stream",
     "text": [
      "\u001b[33mcommit 658921d23d4ecd9446f42a85ee6c8d3d6eaa3d9a\u001b[m\u001b[33m (\u001b[m\u001b[1;36mHEAD -> \u001b[m\u001b[1;32mmaster\u001b[m\u001b[33m)\u001b[m\r\n",
      "Merge: a934657 57eefa2\r\n",
      "Author: Cristhian Larico <claricoy@unsa.edu.pe>\r\n",
      "Date:   Wed Oct 13 20:43:45 2021 -0500\r\n",
      "\r\n",
      "    Finalizando ejercicios de la practica01\r\n",
      "\r\n",
      "\u001b[33mcommit a9346571656a571298340e4277b7b6185b31ab44\u001b[m\r\n",
      "Author: Cristhian Larico <claricoy@unsa.edu.pe>\r\n",
      "Date:   Tue Oct 12 20:33:49 2021 -0500\r\n",
      "\r\n",
      "    finalizando ejercicios de la practica 01\r\n",
      "\r\n",
      "\u001b[33mcommit 57eefa29465271b0d95eebc6d75f464fc2225e9b\u001b[m\u001b[33m (\u001b[m\u001b[1;31morigin/master\u001b[m\u001b[33m)\u001b[m\r\n",
      "Merge: c61771a 081f9ca\r\n",
      "Author: Jhordan Llerena <jllerenapa@unsa.edu.pe>\r\n",
      "Date:   Tue Oct 12 18:52:41 2021 -0500\r\n",
      "\r\n",
      "    Merge branch 'master' of https://gitlab.com/epit-computacion/programacion-i/2021/grupo-c/grupo-2/practica1\r\n",
      "\r\n",
      "\u001b[33mcommit c61771a1ea3a3ceb68dff3eb222b0483315f9f19\u001b[m\r\n",
      "Author: Jhordan Llerena <jllerenapa@unsa.edu.pe>\r\n",
      "Date:   Tue Oct 12 18:51:49 2021 -0500\r\n",
      "\r\n",
      "    Finalizacion de Ejercicios Practica1\r\n",
      "\r\n",
      "\u001b[33mcommit fcc213603d14fb0b1344a71ea7dc64eb25c36222\u001b[m\r\n",
      "Author: Cristhian Larico <claricoy@unsa.edu.pe>\r\n",
      "Date:   Tue Oct 12 18:28:59 2021 -0500\r\n",
      "\r\n",
      "    finalizando ejercicios de la practica 01\r\n",
      "\r\n",
      "\u001b[33mcommit b74fa95132407b409e67870c9a10c0199060e08f\u001b[m\r\n",
      "Author: Jhordan Llerena <jllerenapa@unsa.edu.pe>\r\n",
      "Date:   Tue Oct 12 18:05:35 2021 -0500\r\n",
      "\r\n",
      "    finalizando Ejemplos de la practica 1\r\n",
      "\r\n",
      "\u001b[33mcommit 9031b02078c374bfea7527be29eb7064ae70a3a1\u001b[m\r\n",
      "Author: Jhordan Llerena <jllerenapa@unsa.edu.pe>\r\n",
      "Date:   Tue Oct 12 17:52:40 2021 -0500\r\n",
      "\r\n",
      "    Finalizando Desarrollo de la Practica 0\r\n",
      "\r\n",
      "\u001b[33mcommit 84309c4529bf1b96a72b6039ef5260646a925486\u001b[m\r\n",
      "Author: Cristhian Larico <claricoy@unsa.edu.pe>\r\n",
      "Date:   Tue Oct 12 13:53:53 2021 -0500\r\n",
      "\r\n",
      "    Finalizando Ejemplos de la practica 01\r\n",
      "\r\n",
      "\u001b[33mcommit 877aceeead94b3e5f70a58eaef6791a0c04f59c6\u001b[m\r\n",
      "Author: Cristhian Larico <claricoy@unsa.edu.pe>\r\n",
      "Date:   Tue Oct 12 13:32:48 2021 -0500\r\n",
      "\r\n",
      "    Finalizando Desarrollo de la practica 01\r\n",
      "\r\n",
      "\u001b[33mcommit 081f9ca76722403d561b6f7a4357d22fc4a115d5\u001b[m\r\n",
      "Merge: 4b8fb55 4db75d8\r\n",
      "Author: Manuel Prieto <mprietot@unsa.edu.pe>\r\n",
      "Date:   Tue Oct 12 06:59:27 2021 -0500\r\n",
      "\r\n",
      "    finalizando practica_1\r\n",
      "\r\n",
      "\u001b[33mcommit 4b8fb55a1c32f958127475bc779de62602baf9e5\u001b[m\r\n",
      "Author: Manuel Prieto <mprietot@unsa.edu.pe>\r\n",
      "Date:   Tue Oct 12 06:54:30 2021 -0500\r\n",
      "\r\n",
      "    Finalizando ejercicios de la practica01\r\n",
      "\r\n",
      "\u001b[33mcommit 9f94da8b2be687312f2ce9ed415f2a7ccf8e55e8\u001b[m\r\n",
      "Author: Manuel Prieto <mprietot@unsa.edu.pe>\r\n",
      "Date:   Tue Oct 12 06:34:43 2021 -0500\r\n",
      "\r\n",
      "    Finalizando ejemplos de la practica 1\r\n",
      "\r\n",
      "\u001b[33mcommit 8f263955c48109ef12f28997db4512ff1961c426\u001b[m\r\n",
      "Author: Manuel Prieto <mprietot@unsa.edu.pe>\r\n",
      "Date:   Tue Oct 12 06:15:05 2021 -0500\r\n",
      "\r\n",
      "    finalizando desarrollo de la practica 01\r\n",
      "\r\n",
      "\u001b[33mcommit 4db75d89a38630199ba46df0c192a32d060d3cd9\u001b[m\r\n",
      "Author: Cesar Agusto <cchallcoa@unsa.edu.pe>\r\n",
      "Date:   Mon Oct 11 19:24:57 2021 -0500\r\n",
      "\r\n",
      "    Finalizando Ejercicios de la practica 1\r\n",
      "\r\n",
      "\u001b[33mcommit 5ce84b2d9aaa5122b7016e18f52e20c44b7a349b\u001b[m\r\n",
      "Author: Cesar Agusto <cchallcoa@unsa.edu.pe>\r\n",
      "Date:   Mon Oct 11 18:42:51 2021 -0500\r\n",
      "\r\n",
      "    Finalizando Ejemplos de la Practica 01\r\n",
      "\r\n",
      "\u001b[33mcommit 51a6e65976edf4639ed0ba0faefa9cef4691cefe\u001b[m\r\n",
      "Author: Cesar Agusto <cchallcoa@unsa.edu.pe>\r\n",
      "Date:   Mon Oct 11 18:35:52 2021 -0500\r\n",
      "\r\n",
      "    Finalizando desarrollo de la Practica01\r\n",
      "\r\n",
      "\u001b[33mcommit f8ea31269068ad0adc6ecee28ef7f09c159fcf4c\u001b[m\r\n",
      "Author: Cesar Agusto <cchallcoa@unsa.edu.pe>\r\n",
      "Date:   Mon Oct 11 18:21:00 2021 -0500\r\n",
      "\r\n",
      "    Inicio de Practica1 Cesar Challco\r\n",
      "\r\n",
      "\u001b[33mcommit 339d605c123bdf9e6b3a70121883a5910561d332\u001b[m\r\n",
      "Author: Cesar Agusto <cchallcoa@unsa.edu.pe>\r\n",
      "Date:   Mon Oct 11 18:12:57 2021 -0500\r\n",
      "\r\n",
      "    Inicio de Practica1-Cesar Challco\r\n",
      "\r\n",
      "\u001b[33mcommit 66a2e98f90888254274707272b28c5f246f0eabc\u001b[m\r\n",
      "Merge: cc5e8ad c86b7a5\r\n",
      "Author: Jhordan Llerena <jllerenapa@unsa.edu.pe>\r\n",
      "Date:   Sat Oct 9 02:28:27 2021 -0500\r\n",
      "\r\n",
      "    Inicio de la Practica1 JHordan Llerena$\r\n",
      "    clear\r\n",
      "\r\n",
      "\u001b[33mcommit cc5e8adc0bf7b3d3bdeee6fa68c5fcad515bda85\u001b[m\r\n",
      "Author: Jhordan Llerena <jllerenapa@unsa.edu.pe>\r\n",
      "Date:   Sat Oct 9 02:18:09 2021 -0500\r\n",
      "\r\n",
      "    Inicio de Practica1 Jhordan Llerena\r\n",
      "\r\n",
      "\u001b[33mcommit c86b7a5588551afa86890778268867f7fecce3a1\u001b[m\r\n",
      "Author: Rudy MA <rmamanialva@unsa.edu.pe>\r\n",
      "Date:   Fri Oct 8 12:45:22 2021 -0500\r\n",
      "\r\n",
      "    Iniciando archivo jupyter notebook\r\n",
      "\r\n",
      "\u001b[33mcommit 6805cb2c8df44f369ce676025dba4f691fecd49b\u001b[m\r\n",
      "Author: Manuel Prieto <mprietot@unsa.edu.pe>\r\n",
      "Date:   Fri Oct 8 10:29:59 2021 -0500\r\n",
      "\r\n",
      "    inicio de practica 1\r\n",
      "\r\n",
      "\u001b[33mcommit 83f58acfb582c7c27630128a9a740a785a5ba234\u001b[m\r\n",
      "Author: Cesar Agusto <cchallcoa@unsa.edu.pe>\r\n",
      "Date:   Thu Oct 7 16:25:49 2021 -0500\r\n",
      "\r\n",
      "    Inicio de Practica1 Cesar Challco\r\n",
      "\r\n",
      "\u001b[33mcommit 80e92a99e16cde08836cbd87931751dc4eef19af\u001b[m\r\n",
      "Author: Cristhian Larico <claricoy@unsa.edu.pe>\r\n",
      "Date:   Thu Oct 7 11:58:54 2021 -0500\r\n",
      "\r\n",
      "    Iniciando la Practica1\r\n"
     ]
    }
   ],
   "source": [
    "!git log"
   ]
  },
  {
   "cell_type": "code",
   "execution_count": null,
   "id": "b659f8b6",
   "metadata": {},
   "outputs": [],
   "source": []
  }
 ],
 "metadata": {
  "kernelspec": {
   "display_name": "Python 3 (ipykernel)",
   "language": "python",
   "name": "python3"
  },
  "language_info": {
   "codemirror_mode": {
    "name": "ipython",
    "version": 3
   },
   "file_extension": ".py",
   "mimetype": "text/x-python",
   "name": "python",
   "nbconvert_exporter": "python",
   "pygments_lexer": "ipython3",
   "version": "3.8.11"
  }
 },
 "nbformat": 4,
 "nbformat_minor": 5
}
