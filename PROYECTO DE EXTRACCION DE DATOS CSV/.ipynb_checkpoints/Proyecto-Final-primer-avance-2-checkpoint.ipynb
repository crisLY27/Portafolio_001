{
 "cells": [
  {
   "cell_type": "markdown",
   "metadata": {},
   "source": [
    "<center> <h1>Universidad Nacional de San Agustín de Arequipa</h1> </center> \n",
    "<center> <h1>Escuela Profesional de Ingeniería de Telecomunicaciones</h1> </center> \n",
    "\n",
    "<center> <h1> </h1> </center> \n",
    "\n",
    "<center><img src=\"https://www.unsa.edu.pe/wp-content/uploads/sites/3/2018/05/Logo-UNSA.png\" width=\"380\" height=\"4200\"></center>\n"
   ]
  },
  {
   "cell_type": "markdown",
   "metadata": {},
   "source": [
    "<center> <h2>Ingeniero Renzo Bolivar - Docente DAIE</h2> </center> "
   ]
  },
  {
   "cell_type": "markdown",
   "metadata": {},
   "source": [
    "<center> <h1>Curso : Computación 1</h1> </center> "
   ]
  },
  {
   "cell_type": "markdown",
   "metadata": {},
   "source": [
    "![linea 1](https://user-images.githubusercontent.com/19308295/115926252-2b8a0c00-a448-11eb-9d9c-b43beaf0ff68.png)"
   ]
  },
  {
   "cell_type": "markdown",
   "metadata": {},
   "source": [
    "<center> <h2>GRUPO C - Nº2</h2> </center> \n",
    "<h2>Alumnos:  </h2>\n",
    "<h2>    \n",
    "\n",
    "    LARICO YUCRA, CRISTHIAN DENIS \n",
    "    CHALLCO ANCCASI, CESAR AUGUSTO \n",
    "    MAMANI ALVAREZ, RUDY \n",
    "    PRIETO TITO, MANUEL ISMAEL \n",
    "    JHORDAN ALEXANDER, LLERENA PASTOR \n",
    "\n",
    "</h2>\n"
   ]
  },
  {
   "cell_type": "markdown",
   "metadata": {},
   "source": [
    "![linea 1](https://user-images.githubusercontent.com/19308295/115926252-2b8a0c00-a448-11eb-9d9c-b43beaf0ff68.png)"
   ]
  },
  {
   "cell_type": "markdown",
   "metadata": {},
   "source": [
    "<center> <h1>INVESTIGACIÓN FORMATIVA</h1> </center> \n",
    "<center> <h1>PROYECTO FINAL</h1> </center> \n",
    "<center> <h1>PYTHON - Inteligencia Artificial</h1> </center> "
   ]
  },
  {
   "cell_type": "markdown",
   "metadata": {},
   "source": [
    "![linea 1](https://user-images.githubusercontent.com/19308295/115926252-2b8a0c00-a448-11eb-9d9c-b43beaf0ff68.png)"
   ]
  },
  {
   "cell_type": "markdown",
   "metadata": {},
   "source": [
    "## OBJETIVOS"
   ]
  },
  {
   "cell_type": "markdown",
   "metadata": {},
   "source": [
    "Los Objetivos de la investigación formativa son:\n",
    "\n",
    "- **Competencia Comunicativa** Presentación de sus resultados con lenguaje de programación Python utilizando los archivos Jupyter Notebook.\n",
    "- **Competencia Aprendizaje**: con las aptitudes en **Descomposición** (desarticular el problema en pequeñas series de soluciones), **Reconocimiento de Patrones** (encontrar simulitud al momento de resolver problemas), **Abstracción** (omitir información relevante), **Algoritmos** (pasos para resolución de un problema).\n",
    "- **Competencia de Trabajo en Equipo**: exige habilidades individuales y grupales orientadas a la cooperación, planificación, coordinación, asignación de tareas, cumplimiento de tareas y solución de conflictos en pro de un trabajo colectivo, utilizando los archivos Jupyter Notebook los cuales se sincronizan en el servidor Gitlab con comandos Git."
   ]
  },
  {
   "cell_type": "markdown",
   "metadata": {},
   "source": [
    "![linea 1](https://user-images.githubusercontent.com/19308295/115926252-2b8a0c00-a448-11eb-9d9c-b43beaf0ff68.png)"
   ]
  },
  {
   "cell_type": "markdown",
   "metadata": {},
   "source": [
    "<center> <h1>Aplicación en IA</h1> </center> \n",
    "<center> <h1>Sistema Recomendador</h1> </center> "
   ]
  },
  {
   "cell_type": "markdown",
   "metadata": {},
   "source": [
    "![linea 2](https://user-images.githubusercontent.com/19308295/115926262-2fb62980-a448-11eb-8189-c2f10e499944.png)"
   ]
  },
  {
   "cell_type": "markdown",
   "metadata": {},
   "source": [
    "<div class=\"alert alert-info\">\n",
    "El Sistema recomendador deberá encontrar la <strong>compatibilidad o similitud</strong> entre un grupo de personas encuestadas, en las áreas de:\n",
    "\n",
    "</div>"
   ]
  },
  {
   "cell_type": "markdown",
   "metadata": {},
   "source": [
    "<div class=\"alert alert-info\">\n",
    "    \n",
    "   -Musica\n",
    "   \n",
    "   -Peliculas\n",
    "    \n",
    "   -Comida\n",
    "    \n",
    "   -Lugares que desean Conocer\n",
    "    \n",
    "   -Obras de Arte\n",
    "    \n",
    "   -Aficiones o Hobbies\n",
    "    \n",
    "\n",
    "\n",
    "    \n",
    "</div>"
   ]
  },
  {
   "cell_type": "markdown",
   "metadata": {},
   "source": [
    "<div class=\"alert alert-info\">\n",
    "\n",
    "    \n",
    "   La <strong>compatibilidad o similitud</strong> será encontrada con el algoritmo de <strong>Correlación de Pearson</strong> y será verificada con la <strong>La Matrix de Correlación de Pearson de la librería Numpy</strong>\n",
    "    \n",
    "</div>"
   ]
  },
  {
   "cell_type": "markdown",
   "metadata": {},
   "source": [
    "![linea 2](https://user-images.githubusercontent.com/19308295/115926262-2fb62980-a448-11eb-8189-c2f10e499944.png)"
   ]
  },
  {
   "cell_type": "markdown",
   "metadata": {},
   "source": [
    "## 1.- Dataset"
   ]
  },
  {
   "cell_type": "markdown",
   "metadata": {},
   "source": [
    "<div class=\"alert alert-info\">\n",
    "\n",
    "    \n",
    "   Para poder tener el  <strong>Datset</strong> hay que recolectar información a travez de encuentas.\n",
    "    \n",
    "</div>"
   ]
  },
  {
   "cell_type": "markdown",
   "metadata": {},
   "source": [
    "#### Formulario de Google\n"
   ]
  },
  {
   "cell_type": "markdown",
   "metadata": {},
   "source": [
    "<center><img src=\"https://i.pinimg.com/564x/b6/31/bd/b631bd83f000193a7a95e518dcf1b7f3.jpg\" width=\"720\" height=\"480\"></center>"
   ]
  },
  {
   "cell_type": "markdown",
   "metadata": {},
   "source": [
    "<center><img src=\"https://i.pinimg.com/564x/86/0b/bd/860bbd0f164f0f980f1b8eef76ba9240.jpg\" width=\"720\" height=\"480\"></center>"
   ]
  },
  {
   "cell_type": "markdown",
   "metadata": {},
   "source": [
    "<center><img src=\"https://i.pinimg.com/564x/2a/9e/e5/2a9ee5f9e006a300fd757fd7be80ada5.jpg\" width=\"720\" height=\"480\"></center>"
   ]
  },
  {
   "cell_type": "markdown",
   "metadata": {},
   "source": [
    "#### Formulario de Google"
   ]
  },
  {
   "cell_type": "code",
   "execution_count": null,
   "metadata": {},
   "outputs": [],
   "source": []
  },
  {
   "cell_type": "code",
   "execution_count": 2,
   "metadata": {},
   "outputs": [],
   "source": [
    "#Importamos librerias para Ciencia de Datos y Machine Learning\n",
    "import numpy as np\n",
    "import pandas as pd"
   ]
  },
  {
   "cell_type": "code",
   "execution_count": 3,
   "metadata": {},
   "outputs": [
    {
     "data": {
      "text/html": [
       "<div>\n",
       "<style scoped>\n",
       "    .dataframe tbody tr th:only-of-type {\n",
       "        vertical-align: middle;\n",
       "    }\n",
       "\n",
       "    .dataframe tbody tr th {\n",
       "        vertical-align: top;\n",
       "    }\n",
       "\n",
       "    .dataframe thead th {\n",
       "        text-align: right;\n",
       "    }\n",
       "</style>\n",
       "<table border=\"1\" class=\"dataframe\">\n",
       "  <thead>\n",
       "    <tr style=\"text-align: right;\">\n",
       "      <th></th>\n",
       "      <th>EMAIL</th>\n",
       "      <th>SECO DE CABRITO</th>\n",
       "      <th>OCOPA AREQUIPEÑA</th>\n",
       "      <th>CARAPULCRA CON SOPA SECA</th>\n",
       "      <th>CAUSA RELLENA</th>\n",
       "      <th>PAPA RELLENA</th>\n",
       "      <th>LOMO SALTADO</th>\n",
       "      <th>ARROZ VERDE</th>\n",
       "      <th>JUANE</th>\n",
       "      <th>POLLO A LA BRASA</th>\n",
       "      <th>...</th>\n",
       "      <th>ESTOFADO DE RES</th>\n",
       "      <th>ADOBO</th>\n",
       "      <th>MONDONGUITO</th>\n",
       "      <th>ROCOTO RELLENO</th>\n",
       "      <th>LECHE DE TIGRE</th>\n",
       "      <th>ARROZ CON MARISCOS</th>\n",
       "      <th>PACHAMANCA</th>\n",
       "      <th>COSTILAR DORADO</th>\n",
       "      <th>LENTEJAS</th>\n",
       "      <th>CALDO BLANCO</th>\n",
       "    </tr>\n",
       "  </thead>\n",
       "  <tbody>\n",
       "    <tr>\n",
       "      <th>0</th>\n",
       "      <td>cchallcoa@unsa.edu.pe</td>\n",
       "      <td>4</td>\n",
       "      <td>5</td>\n",
       "      <td>2</td>\n",
       "      <td>3</td>\n",
       "      <td>5</td>\n",
       "      <td>5</td>\n",
       "      <td>5</td>\n",
       "      <td>2</td>\n",
       "      <td>4</td>\n",
       "      <td>...</td>\n",
       "      <td>3</td>\n",
       "      <td>4</td>\n",
       "      <td>1</td>\n",
       "      <td>3</td>\n",
       "      <td>3</td>\n",
       "      <td>5</td>\n",
       "      <td>2</td>\n",
       "      <td>3</td>\n",
       "      <td>2</td>\n",
       "      <td>2</td>\n",
       "    </tr>\n",
       "    <tr>\n",
       "      <th>1</th>\n",
       "      <td>jllerenapa@unsa.edu.pe</td>\n",
       "      <td>4</td>\n",
       "      <td>5</td>\n",
       "      <td>5</td>\n",
       "      <td>5</td>\n",
       "      <td>5</td>\n",
       "      <td>5</td>\n",
       "      <td>5</td>\n",
       "      <td>5</td>\n",
       "      <td>5</td>\n",
       "      <td>...</td>\n",
       "      <td>5</td>\n",
       "      <td>5</td>\n",
       "      <td>5</td>\n",
       "      <td>5</td>\n",
       "      <td>5</td>\n",
       "      <td>5</td>\n",
       "      <td>5</td>\n",
       "      <td>4</td>\n",
       "      <td>4</td>\n",
       "      <td>5</td>\n",
       "    </tr>\n",
       "    <tr>\n",
       "      <th>2</th>\n",
       "      <td>claricoy@unsa.edu.pe</td>\n",
       "      <td>5</td>\n",
       "      <td>5</td>\n",
       "      <td>5</td>\n",
       "      <td>5</td>\n",
       "      <td>5</td>\n",
       "      <td>5</td>\n",
       "      <td>5</td>\n",
       "      <td>5</td>\n",
       "      <td>5</td>\n",
       "      <td>...</td>\n",
       "      <td>5</td>\n",
       "      <td>5</td>\n",
       "      <td>5</td>\n",
       "      <td>5</td>\n",
       "      <td>5</td>\n",
       "      <td>5</td>\n",
       "      <td>5</td>\n",
       "      <td>5</td>\n",
       "      <td>5</td>\n",
       "      <td>5</td>\n",
       "    </tr>\n",
       "    <tr>\n",
       "      <th>3</th>\n",
       "      <td>chuaylla@unsa.edu.pe</td>\n",
       "      <td>3</td>\n",
       "      <td>4</td>\n",
       "      <td>4</td>\n",
       "      <td>3</td>\n",
       "      <td>3</td>\n",
       "      <td>5</td>\n",
       "      <td>5</td>\n",
       "      <td>5</td>\n",
       "      <td>5</td>\n",
       "      <td>...</td>\n",
       "      <td>5</td>\n",
       "      <td>4</td>\n",
       "      <td>5</td>\n",
       "      <td>5</td>\n",
       "      <td>4</td>\n",
       "      <td>3</td>\n",
       "      <td>4</td>\n",
       "      <td>4</td>\n",
       "      <td>3</td>\n",
       "      <td>5</td>\n",
       "    </tr>\n",
       "    <tr>\n",
       "      <th>4</th>\n",
       "      <td>jquempes@unsa.edu.pe</td>\n",
       "      <td>1</td>\n",
       "      <td>5</td>\n",
       "      <td>1</td>\n",
       "      <td>1</td>\n",
       "      <td>5</td>\n",
       "      <td>3</td>\n",
       "      <td>5</td>\n",
       "      <td>5</td>\n",
       "      <td>5</td>\n",
       "      <td>...</td>\n",
       "      <td>3</td>\n",
       "      <td>1</td>\n",
       "      <td>1</td>\n",
       "      <td>1</td>\n",
       "      <td>1</td>\n",
       "      <td>5</td>\n",
       "      <td>2</td>\n",
       "      <td>1</td>\n",
       "      <td>5</td>\n",
       "      <td>4</td>\n",
       "    </tr>\n",
       "    <tr>\n",
       "      <th>5</th>\n",
       "      <td>mloayzam@unsa.edu.pe</td>\n",
       "      <td>3</td>\n",
       "      <td>4</td>\n",
       "      <td>1</td>\n",
       "      <td>5</td>\n",
       "      <td>3</td>\n",
       "      <td>3</td>\n",
       "      <td>4</td>\n",
       "      <td>2</td>\n",
       "      <td>5</td>\n",
       "      <td>...</td>\n",
       "      <td>3</td>\n",
       "      <td>3</td>\n",
       "      <td>1</td>\n",
       "      <td>2</td>\n",
       "      <td>1</td>\n",
       "      <td>2</td>\n",
       "      <td>1</td>\n",
       "      <td>4</td>\n",
       "      <td>2</td>\n",
       "      <td>2</td>\n",
       "    </tr>\n",
       "    <tr>\n",
       "      <th>6</th>\n",
       "      <td>bbeltrand@unsa.edu.pe</td>\n",
       "      <td>4</td>\n",
       "      <td>3</td>\n",
       "      <td>3</td>\n",
       "      <td>4</td>\n",
       "      <td>4</td>\n",
       "      <td>5</td>\n",
       "      <td>4</td>\n",
       "      <td>2</td>\n",
       "      <td>5</td>\n",
       "      <td>...</td>\n",
       "      <td>5</td>\n",
       "      <td>5</td>\n",
       "      <td>1</td>\n",
       "      <td>5</td>\n",
       "      <td>5</td>\n",
       "      <td>2</td>\n",
       "      <td>2</td>\n",
       "      <td>4</td>\n",
       "      <td>4</td>\n",
       "      <td>4</td>\n",
       "    </tr>\n",
       "    <tr>\n",
       "      <th>7</th>\n",
       "      <td>ssoriaq@unsa.edu.pe</td>\n",
       "      <td>3</td>\n",
       "      <td>4</td>\n",
       "      <td>2</td>\n",
       "      <td>5</td>\n",
       "      <td>5</td>\n",
       "      <td>5</td>\n",
       "      <td>4</td>\n",
       "      <td>3</td>\n",
       "      <td>5</td>\n",
       "      <td>...</td>\n",
       "      <td>4</td>\n",
       "      <td>1</td>\n",
       "      <td>4</td>\n",
       "      <td>5</td>\n",
       "      <td>5</td>\n",
       "      <td>5</td>\n",
       "      <td>5</td>\n",
       "      <td>5</td>\n",
       "      <td>3</td>\n",
       "      <td>4</td>\n",
       "    </tr>\n",
       "    <tr>\n",
       "      <th>8</th>\n",
       "      <td>jquispebar@unsa.edu.pe</td>\n",
       "      <td>1</td>\n",
       "      <td>5</td>\n",
       "      <td>1</td>\n",
       "      <td>5</td>\n",
       "      <td>5</td>\n",
       "      <td>5</td>\n",
       "      <td>5</td>\n",
       "      <td>5</td>\n",
       "      <td>5</td>\n",
       "      <td>...</td>\n",
       "      <td>5</td>\n",
       "      <td>5</td>\n",
       "      <td>5</td>\n",
       "      <td>5</td>\n",
       "      <td>5</td>\n",
       "      <td>3</td>\n",
       "      <td>5</td>\n",
       "      <td>5</td>\n",
       "      <td>4</td>\n",
       "      <td>5</td>\n",
       "    </tr>\n",
       "    <tr>\n",
       "      <th>9</th>\n",
       "      <td>spaucav@unsa.edu.pe</td>\n",
       "      <td>2</td>\n",
       "      <td>3</td>\n",
       "      <td>2</td>\n",
       "      <td>3</td>\n",
       "      <td>3</td>\n",
       "      <td>5</td>\n",
       "      <td>4</td>\n",
       "      <td>2</td>\n",
       "      <td>5</td>\n",
       "      <td>...</td>\n",
       "      <td>4</td>\n",
       "      <td>5</td>\n",
       "      <td>4</td>\n",
       "      <td>4</td>\n",
       "      <td>3</td>\n",
       "      <td>4</td>\n",
       "      <td>4</td>\n",
       "      <td>4</td>\n",
       "      <td>3</td>\n",
       "      <td>4</td>\n",
       "    </tr>\n",
       "    <tr>\n",
       "      <th>10</th>\n",
       "      <td>harenaza@unsa.edu.pe</td>\n",
       "      <td>4</td>\n",
       "      <td>3</td>\n",
       "      <td>3</td>\n",
       "      <td>3</td>\n",
       "      <td>4</td>\n",
       "      <td>4</td>\n",
       "      <td>5</td>\n",
       "      <td>4</td>\n",
       "      <td>4</td>\n",
       "      <td>...</td>\n",
       "      <td>4</td>\n",
       "      <td>4</td>\n",
       "      <td>2</td>\n",
       "      <td>4</td>\n",
       "      <td>5</td>\n",
       "      <td>4</td>\n",
       "      <td>4</td>\n",
       "      <td>4</td>\n",
       "      <td>3</td>\n",
       "      <td>4</td>\n",
       "    </tr>\n",
       "    <tr>\n",
       "      <th>11</th>\n",
       "      <td>jvillenav@unsa.edu.pe</td>\n",
       "      <td>3</td>\n",
       "      <td>5</td>\n",
       "      <td>4</td>\n",
       "      <td>5</td>\n",
       "      <td>5</td>\n",
       "      <td>4</td>\n",
       "      <td>4</td>\n",
       "      <td>4</td>\n",
       "      <td>3</td>\n",
       "      <td>...</td>\n",
       "      <td>4</td>\n",
       "      <td>5</td>\n",
       "      <td>3</td>\n",
       "      <td>3</td>\n",
       "      <td>5</td>\n",
       "      <td>4</td>\n",
       "      <td>3</td>\n",
       "      <td>3</td>\n",
       "      <td>5</td>\n",
       "      <td>4</td>\n",
       "    </tr>\n",
       "    <tr>\n",
       "      <th>12</th>\n",
       "      <td>lessly25huacan@gmail.com</td>\n",
       "      <td>4</td>\n",
       "      <td>5</td>\n",
       "      <td>1</td>\n",
       "      <td>5</td>\n",
       "      <td>4</td>\n",
       "      <td>5</td>\n",
       "      <td>5</td>\n",
       "      <td>1</td>\n",
       "      <td>5</td>\n",
       "      <td>...</td>\n",
       "      <td>3</td>\n",
       "      <td>5</td>\n",
       "      <td>3</td>\n",
       "      <td>5</td>\n",
       "      <td>5</td>\n",
       "      <td>5</td>\n",
       "      <td>4</td>\n",
       "      <td>4</td>\n",
       "      <td>4</td>\n",
       "      <td>4</td>\n",
       "    </tr>\n",
       "    <tr>\n",
       "      <th>13</th>\n",
       "      <td>mfloreschav@unsa.edu.pe</td>\n",
       "      <td>2</td>\n",
       "      <td>2</td>\n",
       "      <td>5</td>\n",
       "      <td>5</td>\n",
       "      <td>5</td>\n",
       "      <td>5</td>\n",
       "      <td>5</td>\n",
       "      <td>4</td>\n",
       "      <td>5</td>\n",
       "      <td>...</td>\n",
       "      <td>5</td>\n",
       "      <td>5</td>\n",
       "      <td>5</td>\n",
       "      <td>5</td>\n",
       "      <td>5</td>\n",
       "      <td>5</td>\n",
       "      <td>5</td>\n",
       "      <td>5</td>\n",
       "      <td>5</td>\n",
       "      <td>5</td>\n",
       "    </tr>\n",
       "    <tr>\n",
       "      <th>14</th>\n",
       "      <td>ruizcruza9@gmail.com</td>\n",
       "      <td>1</td>\n",
       "      <td>5</td>\n",
       "      <td>1</td>\n",
       "      <td>3</td>\n",
       "      <td>3</td>\n",
       "      <td>2</td>\n",
       "      <td>3</td>\n",
       "      <td>1</td>\n",
       "      <td>4</td>\n",
       "      <td>...</td>\n",
       "      <td>3</td>\n",
       "      <td>3</td>\n",
       "      <td>1</td>\n",
       "      <td>1</td>\n",
       "      <td>2</td>\n",
       "      <td>2</td>\n",
       "      <td>2</td>\n",
       "      <td>4</td>\n",
       "      <td>1</td>\n",
       "      <td>5</td>\n",
       "    </tr>\n",
       "    <tr>\n",
       "      <th>15</th>\n",
       "      <td>jlagunam@unsa.edu.pe</td>\n",
       "      <td>5</td>\n",
       "      <td>4</td>\n",
       "      <td>5</td>\n",
       "      <td>3</td>\n",
       "      <td>5</td>\n",
       "      <td>5</td>\n",
       "      <td>5</td>\n",
       "      <td>3</td>\n",
       "      <td>5</td>\n",
       "      <td>...</td>\n",
       "      <td>5</td>\n",
       "      <td>5</td>\n",
       "      <td>2</td>\n",
       "      <td>4</td>\n",
       "      <td>3</td>\n",
       "      <td>5</td>\n",
       "      <td>5</td>\n",
       "      <td>5</td>\n",
       "      <td>5</td>\n",
       "      <td>5</td>\n",
       "    </tr>\n",
       "    <tr>\n",
       "      <th>16</th>\n",
       "      <td>jvaleroc@unsa.edu.pe</td>\n",
       "      <td>3</td>\n",
       "      <td>4</td>\n",
       "      <td>3</td>\n",
       "      <td>5</td>\n",
       "      <td>5</td>\n",
       "      <td>5</td>\n",
       "      <td>5</td>\n",
       "      <td>4</td>\n",
       "      <td>5</td>\n",
       "      <td>...</td>\n",
       "      <td>4</td>\n",
       "      <td>5</td>\n",
       "      <td>3</td>\n",
       "      <td>4</td>\n",
       "      <td>5</td>\n",
       "      <td>2</td>\n",
       "      <td>4</td>\n",
       "      <td>4</td>\n",
       "      <td>3</td>\n",
       "      <td>5</td>\n",
       "    </tr>\n",
       "    <tr>\n",
       "      <th>17</th>\n",
       "      <td>joselyn.qa.20@gmail.com</td>\n",
       "      <td>4</td>\n",
       "      <td>5</td>\n",
       "      <td>4</td>\n",
       "      <td>5</td>\n",
       "      <td>5</td>\n",
       "      <td>1</td>\n",
       "      <td>5</td>\n",
       "      <td>3</td>\n",
       "      <td>4</td>\n",
       "      <td>...</td>\n",
       "      <td>3</td>\n",
       "      <td>5</td>\n",
       "      <td>1</td>\n",
       "      <td>2</td>\n",
       "      <td>5</td>\n",
       "      <td>2</td>\n",
       "      <td>2</td>\n",
       "      <td>5</td>\n",
       "      <td>2</td>\n",
       "      <td>3</td>\n",
       "    </tr>\n",
       "    <tr>\n",
       "      <th>18</th>\n",
       "      <td>chemystry03@gmail.com</td>\n",
       "      <td>3</td>\n",
       "      <td>5</td>\n",
       "      <td>4</td>\n",
       "      <td>5</td>\n",
       "      <td>5</td>\n",
       "      <td>5</td>\n",
       "      <td>5</td>\n",
       "      <td>3</td>\n",
       "      <td>5</td>\n",
       "      <td>...</td>\n",
       "      <td>2</td>\n",
       "      <td>5</td>\n",
       "      <td>5</td>\n",
       "      <td>4</td>\n",
       "      <td>5</td>\n",
       "      <td>5</td>\n",
       "      <td>5</td>\n",
       "      <td>5</td>\n",
       "      <td>1</td>\n",
       "      <td>4</td>\n",
       "    </tr>\n",
       "    <tr>\n",
       "      <th>19</th>\n",
       "      <td>huamanidana@gmail.com</td>\n",
       "      <td>4</td>\n",
       "      <td>5</td>\n",
       "      <td>4</td>\n",
       "      <td>5</td>\n",
       "      <td>3</td>\n",
       "      <td>5</td>\n",
       "      <td>5</td>\n",
       "      <td>5</td>\n",
       "      <td>5</td>\n",
       "      <td>...</td>\n",
       "      <td>3</td>\n",
       "      <td>3</td>\n",
       "      <td>1</td>\n",
       "      <td>5</td>\n",
       "      <td>5</td>\n",
       "      <td>2</td>\n",
       "      <td>5</td>\n",
       "      <td>5</td>\n",
       "      <td>3</td>\n",
       "      <td>5</td>\n",
       "    </tr>\n",
       "    <tr>\n",
       "      <th>20</th>\n",
       "      <td>fmirandaa@unsa.edu.pe</td>\n",
       "      <td>2</td>\n",
       "      <td>3</td>\n",
       "      <td>3</td>\n",
       "      <td>5</td>\n",
       "      <td>5</td>\n",
       "      <td>5</td>\n",
       "      <td>5</td>\n",
       "      <td>5</td>\n",
       "      <td>5</td>\n",
       "      <td>...</td>\n",
       "      <td>5</td>\n",
       "      <td>4</td>\n",
       "      <td>5</td>\n",
       "      <td>4</td>\n",
       "      <td>5</td>\n",
       "      <td>3</td>\n",
       "      <td>3</td>\n",
       "      <td>5</td>\n",
       "      <td>2</td>\n",
       "      <td>4</td>\n",
       "    </tr>\n",
       "  </tbody>\n",
       "</table>\n",
       "<p>21 rows × 21 columns</p>\n",
       "</div>"
      ],
      "text/plain": [
       "                       EMAIL  SECO DE CABRITO  OCOPA AREQUIPEÑA  \\\n",
       "0      cchallcoa@unsa.edu.pe                4                 5   \n",
       "1     jllerenapa@unsa.edu.pe                4                 5   \n",
       "2       claricoy@unsa.edu.pe                5                 5   \n",
       "3       chuaylla@unsa.edu.pe                3                 4   \n",
       "4       jquempes@unsa.edu.pe                1                 5   \n",
       "5       mloayzam@unsa.edu.pe                3                 4   \n",
       "6      bbeltrand@unsa.edu.pe                4                 3   \n",
       "7        ssoriaq@unsa.edu.pe                3                 4   \n",
       "8     jquispebar@unsa.edu.pe                1                 5   \n",
       "9        spaucav@unsa.edu.pe                2                 3   \n",
       "10      harenaza@unsa.edu.pe                4                 3   \n",
       "11     jvillenav@unsa.edu.pe                3                 5   \n",
       "12  lessly25huacan@gmail.com                4                 5   \n",
       "13   mfloreschav@unsa.edu.pe                2                 2   \n",
       "14      ruizcruza9@gmail.com                1                 5   \n",
       "15      jlagunam@unsa.edu.pe                5                 4   \n",
       "16      jvaleroc@unsa.edu.pe                3                 4   \n",
       "17   joselyn.qa.20@gmail.com                4                 5   \n",
       "18     chemystry03@gmail.com                3                 5   \n",
       "19     huamanidana@gmail.com                4                 5   \n",
       "20     fmirandaa@unsa.edu.pe                2                 3   \n",
       "\n",
       "    CARAPULCRA CON SOPA SECA  CAUSA RELLENA  PAPA RELLENA  LOMO SALTADO  \\\n",
       "0                          2              3             5             5   \n",
       "1                          5              5             5             5   \n",
       "2                          5              5             5             5   \n",
       "3                          4              3             3             5   \n",
       "4                          1              1             5             3   \n",
       "5                          1              5             3             3   \n",
       "6                          3              4             4             5   \n",
       "7                          2              5             5             5   \n",
       "8                          1              5             5             5   \n",
       "9                          2              3             3             5   \n",
       "10                         3              3             4             4   \n",
       "11                         4              5             5             4   \n",
       "12                         1              5             4             5   \n",
       "13                         5              5             5             5   \n",
       "14                         1              3             3             2   \n",
       "15                         5              3             5             5   \n",
       "16                         3              5             5             5   \n",
       "17                         4              5             5             1   \n",
       "18                         4              5             5             5   \n",
       "19                         4              5             3             5   \n",
       "20                         3              5             5             5   \n",
       "\n",
       "    ARROZ VERDE  JUANE  POLLO A LA BRASA  ...  ESTOFADO DE RES  ADOBO  \\\n",
       "0             5      2                 4  ...                3      4   \n",
       "1             5      5                 5  ...                5      5   \n",
       "2             5      5                 5  ...                5      5   \n",
       "3             5      5                 5  ...                5      4   \n",
       "4             5      5                 5  ...                3      1   \n",
       "5             4      2                 5  ...                3      3   \n",
       "6             4      2                 5  ...                5      5   \n",
       "7             4      3                 5  ...                4      1   \n",
       "8             5      5                 5  ...                5      5   \n",
       "9             4      2                 5  ...                4      5   \n",
       "10            5      4                 4  ...                4      4   \n",
       "11            4      4                 3  ...                4      5   \n",
       "12            5      1                 5  ...                3      5   \n",
       "13            5      4                 5  ...                5      5   \n",
       "14            3      1                 4  ...                3      3   \n",
       "15            5      3                 5  ...                5      5   \n",
       "16            5      4                 5  ...                4      5   \n",
       "17            5      3                 4  ...                3      5   \n",
       "18            5      3                 5  ...                2      5   \n",
       "19            5      5                 5  ...                3      3   \n",
       "20            5      5                 5  ...                5      4   \n",
       "\n",
       "    MONDONGUITO  ROCOTO RELLENO  LECHE DE TIGRE  ARROZ CON MARISCOS  \\\n",
       "0             1               3               3                   5   \n",
       "1             5               5               5                   5   \n",
       "2             5               5               5                   5   \n",
       "3             5               5               4                   3   \n",
       "4             1               1               1                   5   \n",
       "5             1               2               1                   2   \n",
       "6             1               5               5                   2   \n",
       "7             4               5               5                   5   \n",
       "8             5               5               5                   3   \n",
       "9             4               4               3                   4   \n",
       "10            2               4               5                   4   \n",
       "11            3               3               5                   4   \n",
       "12            3               5               5                   5   \n",
       "13            5               5               5                   5   \n",
       "14            1               1               2                   2   \n",
       "15            2               4               3                   5   \n",
       "16            3               4               5                   2   \n",
       "17            1               2               5                   2   \n",
       "18            5               4               5                   5   \n",
       "19            1               5               5                   2   \n",
       "20            5               4               5                   3   \n",
       "\n",
       "    PACHAMANCA  COSTILAR DORADO  LENTEJAS  CALDO BLANCO  \n",
       "0            2                3         2             2  \n",
       "1            5                4         4             5  \n",
       "2            5                5         5             5  \n",
       "3            4                4         3             5  \n",
       "4            2                1         5             4  \n",
       "5            1                4         2             2  \n",
       "6            2                4         4             4  \n",
       "7            5                5         3             4  \n",
       "8            5                5         4             5  \n",
       "9            4                4         3             4  \n",
       "10           4                4         3             4  \n",
       "11           3                3         5             4  \n",
       "12           4                4         4             4  \n",
       "13           5                5         5             5  \n",
       "14           2                4         1             5  \n",
       "15           5                5         5             5  \n",
       "16           4                4         3             5  \n",
       "17           2                5         2             3  \n",
       "18           5                5         1             4  \n",
       "19           5                5         3             5  \n",
       "20           3                5         2             4  \n",
       "\n",
       "[21 rows x 21 columns]"
      ]
     },
     "execution_count": 3,
     "metadata": {},
     "output_type": "execute_result"
    }
   ],
   "source": [
    "#archivo CSV separado por comas\n",
    "data = pd.read_csv ('TRABAJO FINAL.csv')\n",
    "\n",
    "#leer  lineas\n",
    "data"
   ]
  },
  {
   "cell_type": "code",
   "execution_count": 8,
   "metadata": {},
   "outputs": [
    {
     "data": {
      "text/plain": [
       "EMAIL                       object\n",
       "SECO DE CABRITO              int64\n",
       "OCOPA AREQUIPEÑA             int64\n",
       "CARAPULCRA CON SOPA SECA     int64\n",
       "CAUSA RELLENA                int64\n",
       "PAPA RELLENA                 int64\n",
       "LOMO SALTADO                 int64\n",
       "ARROZ VERDE                  int64\n",
       "JUANE                        int64\n",
       "POLLO A LA BRASA             int64\n",
       "POLLO A LA OLLA              int64\n",
       "ESTOFADO DE RES              int64\n",
       "ADOBO                        int64\n",
       "MONDONGUITO                  int64\n",
       "ROCOTO RELLENO               int64\n",
       "LECHE DE TIGRE               int64\n",
       "ARROZ CON MARISCOS           int64\n",
       "PACHAMANCA                   int64\n",
       "COSTILAR DORADO              int64\n",
       "LENTEJAS                     int64\n",
       "CALDO BLANCO                 int64\n",
       "dtype: object"
      ]
     },
     "execution_count": 8,
     "metadata": {},
     "output_type": "execute_result"
    }
   ],
   "source": [
    "data.dtypes"
   ]
  },
  {
   "cell_type": "markdown",
   "metadata": {},
   "source": [
    "![linea 2](https://user-images.githubusercontent.com/19308295/115926262-2fb62980-a448-11eb-8189-c2f10e499944.png)"
   ]
  },
  {
   "cell_type": "markdown",
   "metadata": {},
   "source": [
    "## 2.- Distancia Euclidiana"
   ]
  },
  {
   "cell_type": "markdown",
   "metadata": {},
   "source": [
    "__La distancia euclidiana__ es la generalización del __`teorema de Pitágoras`__."
   ]
  },
  {
   "cell_type": "markdown",
   "metadata": {},
   "source": [
    "$$d_{E}(P,Q)=\\sqrt{(p_{1}-q_{1})^{2}+(p_{2}-q_{2})^{2}+...+(p_{n}-q_{n})^{2}}=\\sqrt{\\sum_{i=1}^{n}}(p_{i}-q_{i})^{2})$$"
   ]
  },
  {
   "cell_type": "code",
   "execution_count": 7,
   "metadata": {},
   "outputs": [
    {
     "data": {
      "text/html": [
       "<div>\n",
       "<style scoped>\n",
       "    .dataframe tbody tr th:only-of-type {\n",
       "        vertical-align: middle;\n",
       "    }\n",
       "\n",
       "    .dataframe tbody tr th {\n",
       "        vertical-align: top;\n",
       "    }\n",
       "\n",
       "    .dataframe thead th {\n",
       "        text-align: right;\n",
       "    }\n",
       "</style>\n",
       "<table border=\"1\" class=\"dataframe\">\n",
       "  <thead>\n",
       "    <tr style=\"text-align: right;\">\n",
       "      <th></th>\n",
       "      <th>EMAIL</th>\n",
       "      <th>SECO DE CABRITO</th>\n",
       "      <th>OCOPA AREQUIPEÑA</th>\n",
       "      <th>CARAPULCRA CON SOPA SECA</th>\n",
       "      <th>CAUSA RELLENA</th>\n",
       "      <th>PAPA RELLENA</th>\n",
       "      <th>LOMO SALTADO</th>\n",
       "      <th>ARROZ VERDE</th>\n",
       "      <th>JUANE</th>\n",
       "      <th>POLLO A LA BRASA</th>\n",
       "      <th>...</th>\n",
       "      <th>ESTOFADO DE RES</th>\n",
       "      <th>ADOBO</th>\n",
       "      <th>MONDONGUITO</th>\n",
       "      <th>ROCOTO RELLENO</th>\n",
       "      <th>LECHE DE TIGRE</th>\n",
       "      <th>ARROZ CON MARISCOS</th>\n",
       "      <th>PACHAMANCA</th>\n",
       "      <th>COSTILAR DORADO</th>\n",
       "      <th>LENTEJAS</th>\n",
       "      <th>CALDO BLANCO</th>\n",
       "    </tr>\n",
       "  </thead>\n",
       "  <tbody>\n",
       "    <tr>\n",
       "      <th>0</th>\n",
       "      <td>cchallcoa@unsa.edu.pe</td>\n",
       "      <td>4</td>\n",
       "      <td>5</td>\n",
       "      <td>2</td>\n",
       "      <td>3</td>\n",
       "      <td>5</td>\n",
       "      <td>5</td>\n",
       "      <td>5</td>\n",
       "      <td>2</td>\n",
       "      <td>4</td>\n",
       "      <td>...</td>\n",
       "      <td>3</td>\n",
       "      <td>4</td>\n",
       "      <td>1</td>\n",
       "      <td>3</td>\n",
       "      <td>3</td>\n",
       "      <td>5</td>\n",
       "      <td>2</td>\n",
       "      <td>3</td>\n",
       "      <td>2</td>\n",
       "      <td>2</td>\n",
       "    </tr>\n",
       "    <tr>\n",
       "      <th>1</th>\n",
       "      <td>jllerenapa@unsa.edu.pe</td>\n",
       "      <td>4</td>\n",
       "      <td>5</td>\n",
       "      <td>5</td>\n",
       "      <td>5</td>\n",
       "      <td>5</td>\n",
       "      <td>5</td>\n",
       "      <td>5</td>\n",
       "      <td>5</td>\n",
       "      <td>5</td>\n",
       "      <td>...</td>\n",
       "      <td>5</td>\n",
       "      <td>5</td>\n",
       "      <td>5</td>\n",
       "      <td>5</td>\n",
       "      <td>5</td>\n",
       "      <td>5</td>\n",
       "      <td>5</td>\n",
       "      <td>4</td>\n",
       "      <td>4</td>\n",
       "      <td>5</td>\n",
       "    </tr>\n",
       "  </tbody>\n",
       "</table>\n",
       "<p>2 rows × 21 columns</p>\n",
       "</div>"
      ],
      "text/plain": [
       "                    EMAIL  SECO DE CABRITO  OCOPA AREQUIPEÑA  \\\n",
       "0   cchallcoa@unsa.edu.pe                4                 5   \n",
       "1  jllerenapa@unsa.edu.pe                4                 5   \n",
       "\n",
       "   CARAPULCRA CON SOPA SECA  CAUSA RELLENA  PAPA RELLENA  LOMO SALTADO  \\\n",
       "0                         2              3             5             5   \n",
       "1                         5              5             5             5   \n",
       "\n",
       "   ARROZ VERDE  JUANE  POLLO A LA BRASA  ...  ESTOFADO DE RES  ADOBO  \\\n",
       "0            5      2                 4  ...                3      4   \n",
       "1            5      5                 5  ...                5      5   \n",
       "\n",
       "   MONDONGUITO  ROCOTO RELLENO  LECHE DE TIGRE  ARROZ CON MARISCOS  \\\n",
       "0            1               3               3                   5   \n",
       "1            5               5               5                   5   \n",
       "\n",
       "   PACHAMANCA  COSTILAR DORADO  LENTEJAS  CALDO BLANCO  \n",
       "0           2                3         2             2  \n",
       "1           5                4         4             5  \n",
       "\n",
       "[2 rows x 21 columns]"
      ]
     },
     "execution_count": 7,
     "metadata": {},
     "output_type": "execute_result"
    }
   ],
   "source": [
    "data[0:2]"
   ]
  },
  {
   "cell_type": "markdown",
   "metadata": {},
   "source": [
    "$$\\sqrt{(4-4)^{2}+(5-5)^{2}+(2-5)^{2}+(3-5)^{2}+(5-5)^{2}+(5-5)^{2}+(5-5)^{2}+(2-5)^{2}(4-5)^{2}+(4-5)^{2}+(3-5)^{2}+(4-5)^{2}+(1-5)^{2}+(3-5)^{2}+(5-5)^{2}+(2-5)^{2}+(3-4)^{2}+(2-4)^{2}+(2-5)^{2}}$$\n",
    "\n",
    "\n",
    "$$\\sqrt{(0)^{2}+(0)^{2}+(-3)^{2}+(-2)^{2}+(0)^{2}+(0)^{2}+(0)^{2}+(-3)^{2}+(0)^{2}+(-1)^{2}+(-2)^{2}+(-1)^{2}+(-4)^{2}+(-2)^{2}+(0)^{2}+(-3)^{2}+(-1)^{2}+(-2)^{2}+(-3)^{2}}$$\n",
    "\n",
    "\n",
    "$$\\sqrt{9+4+9+1+4+1+16+4+9+1+4+9}$$\n",
    "\n",
    "$$\\sqrt{71}$$\n",
    "\n",
    "$$d_{E}(cchallcoa,jllerenapa)=8.71$$"
   ]
  },
  {
   "cell_type": "markdown",
   "metadata": {},
   "source": [
    "![linea 2](https://user-images.githubusercontent.com/19308295/115926262-2fb62980-a448-11eb-8189-c2f10e499944.png)"
   ]
  },
  {
   "cell_type": "markdown",
   "metadata": {},
   "source": [
    "## 3.- Correlación de Pearson  (Similitud)"
   ]
  },
  {
   "cell_type": "markdown",
   "metadata": {},
   "source": [
    "El __coeficiente de correlación de Pearson__ es una medida de __`dependencia lineal entre dos variables aleatorias cuantitativas`__. "
   ]
  },
  {
   "cell_type": "markdown",
   "metadata": {},
   "source": [
    "El coeficiente de correlación puede tomar un __rango de valores de +1 a -1__. Un valor de 0 indica que no hay asociación entre las dos variables. __`Un valor mayor que 0 indica una asociación positiva`__ y __`Un valor menor que 0 indica una asociación negativa`__."
   ]
  },
  {
   "cell_type": "markdown",
   "metadata": {},
   "source": [
    "$$s = \\frac{1}{1+d_{E}}$$\n",
    "\n",
    "\n",
    "$$s = \\frac{1}{1+8.42}$$\n",
    "\n",
    "$$s_{(cchallcoa,jllerenapa)} =0,10$$\n"
   ]
  },
  {
   "cell_type": "markdown",
   "metadata": {},
   "source": [
    "<center> <h4>Similitud entre cchallcoa y jllerenapa </h4> </center> "
   ]
  },
  {
   "cell_type": "markdown",
   "metadata": {},
   "source": [
    "<center> <h4>Similitud entre cchallcoa y jquempes </h4> </center> "
   ]
  },
  {
   "cell_type": "code",
   "execution_count": 8,
   "metadata": {},
   "outputs": [],
   "source": [
    "from scipy.spatial.distance import euclidean"
   ]
  },
  {
   "cell_type": "code",
   "execution_count": 9,
   "metadata": {
    "scrolled": true
   },
   "outputs": [
    {
     "name": "stdout",
     "output_type": "stream",
     "text": [
      "[[4 5 2 3 5 5 5 2 4 4 3 4 1 3 3 5 2 3 2 2]\n",
      " [4 5 5 5 5 5 5 5 5 5 5 5 5 5 5 5 5 4 4 5]\n",
      " [5 5 5 5 5 5 5 5 5 5 5 5 5 5 5 5 5 5 5 5]\n",
      " [3 4 4 3 3 5 5 5 5 5 5 4 5 5 4 3 4 4 3 5]\n",
      " [1 5 1 1 5 3 5 5 5 1 3 1 1 1 1 5 2 1 5 4]\n",
      " [3 4 1 5 3 3 4 2 5 4 3 3 1 2 1 2 1 4 2 2]\n",
      " [4 3 3 4 4 5 4 2 5 4 5 5 1 5 5 2 2 4 4 4]\n",
      " [3 4 2 5 5 5 4 3 5 4 4 1 4 5 5 5 5 5 3 4]\n",
      " [1 5 1 5 5 5 5 5 5 5 5 5 5 5 5 3 5 5 4 5]\n",
      " [2 3 2 3 3 5 4 2 5 5 4 5 4 4 3 4 4 4 3 4]\n",
      " [4 3 3 3 4 4 5 4 4 4 4 4 2 4 5 4 4 4 3 4]\n",
      " [3 5 4 5 5 4 4 4 3 4 4 5 3 3 5 4 3 3 5 4]\n",
      " [4 5 1 5 4 5 5 1 5 4 3 5 3 5 5 5 4 4 4 4]\n",
      " [2 2 5 5 5 5 5 4 5 5 5 5 5 5 5 5 5 5 5 5]\n",
      " [1 5 1 3 3 2 3 1 4 3 3 3 1 1 2 2 2 4 1 5]\n",
      " [5 4 5 3 5 5 5 3 5 5 5 5 2 4 3 5 5 5 5 5]\n",
      " [3 4 3 5 5 5 5 4 5 5 4 5 3 4 5 2 4 4 3 5]\n",
      " [4 5 4 5 5 1 5 3 4 5 3 5 1 2 5 2 2 5 2 3]\n",
      " [3 5 4 5 5 5 5 3 5 3 2 5 5 4 5 5 5 5 1 4]\n",
      " [4 5 4 5 3 5 5 5 5 5 3 3 1 5 5 2 5 5 3 5]\n",
      " [2 3 3 5 5 5 5 5 5 5 5 4 5 4 5 3 3 5 2 4]]\n",
      "['cchallcoa@unsa.edu.pe' 'jllerenapa@unsa.edu.pe' 'claricoy@unsa.edu.pe'\n",
      " 'chuaylla@unsa.edu.pe' 'jquempes@unsa.edu.pe' 'mloayzam@unsa.edu.pe'\n",
      " 'bbeltrand@unsa.edu.pe' 'ssoriaq@unsa.edu.pe' 'jquispebar@unsa.edu.pe'\n",
      " 'spaucav@unsa.edu.pe' 'harenaza@unsa.edu.pe' 'jvillenav@unsa.edu.pe'\n",
      " 'lessly25huacan@gmail.com' 'mfloreschav@unsa.edu.pe'\n",
      " 'ruizcruza9@gmail.com' 'jlagunam@unsa.edu.pe' 'jvaleroc@unsa.edu.pe'\n",
      " 'joselyn.qa.20@gmail.com' 'chemystry03@gmail.com' 'huamanidana@gmail.com'\n",
      " 'fmirandaa@unsa.edu.pe']\n"
     ]
    }
   ],
   "source": [
    "n = data[data.columns[1:]].to_numpy()\n",
    "m = data[data.columns[0]].to_numpy()\n",
    "print(n)\n",
    "print(m)"
   ]
  },
  {
   "cell_type": "code",
   "execution_count": 10,
   "metadata": {},
   "outputs": [
    {
     "data": {
      "text/plain": [
       "1"
      ]
     },
     "execution_count": 10,
     "metadata": {},
     "output_type": "execute_result"
    }
   ],
   "source": [
    "n[4,0]"
   ]
  },
  {
   "cell_type": "code",
   "execution_count": 11,
   "metadata": {},
   "outputs": [
    {
     "data": {
      "text/plain": [
       "'jllerenapa@unsa.edu.pe'"
      ]
     },
     "execution_count": 11,
     "metadata": {},
     "output_type": "execute_result"
    }
   ],
   "source": [
    "m[1]"
   ]
  },
  {
   "cell_type": "markdown",
   "metadata": {},
   "source": [
    "![linea 2](https://user-images.githubusercontent.com/19308295/115926262-2fb62980-a448-11eb-8189-c2f10e499944.png)"
   ]
  },
  {
   "cell_type": "markdown",
   "metadata": {},
   "source": [
    "## <center> Hallando  la Distancia y Similitud en los encuentados."
   ]
  },
  {
   "cell_type": "markdown",
   "metadata": {},
   "source": [
    "## cchallcoa@unsa.edu.pe con todos de abajo"
   ]
  },
  {
   "cell_type": "code",
   "execution_count": 12,
   "metadata": {},
   "outputs": [
    {
     "name": "stdout",
     "output_type": "stream",
     "text": [
      "Relación entre cchallcoa@unsa.edu.pe y jllerenapa@unsa.edu.pe \n",
      "\n",
      "\n",
      "\t\tDistancia =  8.717797887081348\n",
      "\t\tSimilitud =  0.10290397182775128\n"
     ]
    }
   ],
   "source": [
    "print('Relación entre',m[0],'y',m[1],'\\n\\n')\n",
    "dist = euclidean(n[0],n[1])\n",
    "\n",
    "print('\\t\\tDistancia = ', dist)\n",
    "\n",
    "simil = 1/(1+dist)\n",
    "\n",
    "print('\\t\\tSimilitud = ', simil)"
   ]
  },
  {
   "cell_type": "code",
   "execution_count": 16,
   "metadata": {},
   "outputs": [
    {
     "name": "stdout",
     "output_type": "stream",
     "text": [
      "Relación entre cchallcoa@unsa.edu.pe y claricoy@unsa.edu.pe \n",
      "\n",
      "\n",
      "\t\tDistancia =  9.219544457292887\n",
      "\t\tSimilitud =  0.09785171972967724\n"
     ]
    }
   ],
   "source": [
    "print('Relación entre',m[0],'y',m[2],'\\n\\n')\n",
    "dist = euclidean(n[0],n[2])\n",
    "\n",
    "print('\\t\\tDistancia = ', dist)\n",
    "\n",
    "simil = 1/(1+dist)\n",
    "\n",
    "print('\\t\\tSimilitud = ', simil)"
   ]
  },
  {
   "cell_type": "code",
   "execution_count": 17,
   "metadata": {},
   "outputs": [
    {
     "name": "stdout",
     "output_type": "stream",
     "text": [
      "Relación entre cchallcoa@unsa.edu.pe y chuaylla@unsa.edu.pe \n",
      "\n",
      "\n",
      "\t\tDistancia =  8.06225774829855\n",
      "\t\tSimilitud =  0.11034777731716484\n"
     ]
    }
   ],
   "source": [
    "print('Relación entre',m[0],'y',m[3],'\\n\\n')\n",
    "dist = euclidean(n[0],n[3])\n",
    "\n",
    "print('\\t\\tDistancia = ', dist)\n",
    "\n",
    "simil = 1/(1+dist)\n",
    "\n",
    "print('\\t\\tSimilitud = ', simil)"
   ]
  },
  {
   "cell_type": "code",
   "execution_count": 18,
   "metadata": {},
   "outputs": [
    {
     "name": "stdout",
     "output_type": "stream",
     "text": [
      "Relación entre cchallcoa@unsa.edu.pe y jquempes@unsa.edu.pe \n",
      "\n",
      "\n",
      "\t\tDistancia =  8.426149773176359\n",
      "\t\tSimilitud =  0.1060878539025194\n"
     ]
    }
   ],
   "source": [
    "print('Relación entre',m[0],'y',m[4],'\\n\\n')\n",
    "dist = euclidean(n[0],n[4])\n",
    "\n",
    "print('\\t\\tDistancia = ', dist)\n",
    "\n",
    "simil = 1/(1+dist)\n",
    "\n",
    "print('\\t\\tSimilitud = ', simil)"
   ]
  },
  {
   "cell_type": "code",
   "execution_count": 19,
   "metadata": {},
   "outputs": [
    {
     "name": "stdout",
     "output_type": "stream",
     "text": [
      "Relación entre cchallcoa@unsa.edu.pe y mloayzam@unsa.edu.pe \n",
      "\n",
      "\n",
      "\t\tDistancia =  5.830951894845301\n",
      "\t\tSimilitud =  0.1463924816619788\n"
     ]
    }
   ],
   "source": [
    "print('Relación entre',m[0],'y',m[5],'\\n\\n')\n",
    "dist = euclidean(n[0],n[5])\n",
    "\n",
    "print('\\t\\tDistancia = ', dist)\n",
    "\n",
    "simil = 1/(1+dist)\n",
    "\n",
    "print('\\t\\tSimilitud = ', simil)"
   ]
  },
  {
   "cell_type": "code",
   "execution_count": 20,
   "metadata": {},
   "outputs": [
    {
     "name": "stdout",
     "output_type": "stream",
     "text": [
      "Relación entre cchallcoa@unsa.edu.pe y bbeltrand@unsa.edu.pe \n",
      "\n",
      "\n",
      "\t\tDistancia =  6.324555320336759\n",
      "\t\tSimilitud =  0.1365270594958143\n"
     ]
    }
   ],
   "source": [
    "print('Relación entre',m[0],'y',m[6],'\\n\\n')\n",
    "dist = euclidean(n[0],n[6])\n",
    "\n",
    "print('\\t\\tDistancia = ', dist)\n",
    "\n",
    "simil = 1/(1+dist)\n",
    "\n",
    "print('\\t\\tSimilitud = ', simil)"
   ]
  },
  {
   "cell_type": "code",
   "execution_count": 22,
   "metadata": {},
   "outputs": [
    {
     "name": "stdout",
     "output_type": "stream",
     "text": [
      "Relación entre cchallcoa@unsa.edu.pe y ssoriaq@unsa.edu.pe \n",
      "\n",
      "\n",
      "\t\tDistancia =  7.3484692283495345\n",
      "\t\tSimilitud =  0.11978243827074593\n"
     ]
    }
   ],
   "source": [
    "print('Relación entre',m[0],'y',m[7],'\\n\\n')\n",
    "dist = euclidean(n[0],n[7])\n",
    "\n",
    "print('\\t\\tDistancia = ', dist)\n",
    "\n",
    "simil = 1/(1+dist)\n",
    "\n",
    "print('\\t\\tSimilitud = ', simil)"
   ]
  },
  {
   "cell_type": "code",
   "execution_count": 23,
   "metadata": {},
   "outputs": [
    {
     "name": "stdout",
     "output_type": "stream",
     "text": [
      "Relación entre cchallcoa@unsa.edu.pe y jquispebar@unsa.edu.pe \n",
      "\n",
      "\n",
      "\t\tDistancia =  9.16515138991168\n",
      "\t\tSimilitud =  0.09837531795074314\n"
     ]
    }
   ],
   "source": [
    "print('Relación entre',m[0],'y',m[8],'\\n\\n')\n",
    "dist = euclidean(n[0],n[8])\n",
    "\n",
    "print('\\t\\tDistancia = ', dist)\n",
    "\n",
    "simil = 1/(1+dist)\n",
    "\n",
    "print('\\t\\tSimilitud = ', simil)"
   ]
  },
  {
   "cell_type": "code",
   "execution_count": 24,
   "metadata": {},
   "outputs": [
    {
     "name": "stdout",
     "output_type": "stream",
     "text": [
      "Relación entre cchallcoa@unsa.edu.pe y spaucav@unsa.edu.pe \n",
      "\n",
      "\n",
      "\t\tDistancia =  6.164414002968976\n",
      "\t\tSimilitud =  0.13957875683699938\n"
     ]
    }
   ],
   "source": [
    "print('Relación entre',m[0],'y',m[9],'\\n\\n')\n",
    "dist = euclidean(n[0],n[9])\n",
    "\n",
    "print('\\t\\tDistancia = ', dist)\n",
    "\n",
    "simil = 1/(1+dist)\n",
    "\n",
    "print('\\t\\tSimilitud = ', simil)"
   ]
  },
  {
   "cell_type": "code",
   "execution_count": 25,
   "metadata": {},
   "outputs": [
    {
     "name": "stdout",
     "output_type": "stream",
     "text": [
      "Relación entre cchallcoa@unsa.edu.pe y harenaza@unsa.edu.pe \n",
      "\n",
      "\n",
      "\t\tDistancia =  5.385164807134504\n",
      "\t\tSimilitud =  0.1566130288262323\n"
     ]
    }
   ],
   "source": [
    "print('Relación entre',m[0],'y',m[10],'\\n\\n')\n",
    "dist = euclidean(n[0],n[10])\n",
    "\n",
    "print('\\t\\tDistancia = ', dist)\n",
    "\n",
    "simil = 1/(1+dist)\n",
    "\n",
    "print('\\t\\tSimilitud = ', simil)"
   ]
  },
  {
   "cell_type": "code",
   "execution_count": 26,
   "metadata": {},
   "outputs": [
    {
     "name": "stdout",
     "output_type": "stream",
     "text": [
      "Relación entre cchallcoa@unsa.edu.pe y jvillenav@unsa.edu.pe \n",
      "\n",
      "\n",
      "\t\tDistancia =  6.4031242374328485\n",
      "\t\tSimilitud =  0.13507810593582123\n"
     ]
    }
   ],
   "source": [
    "print('Relación entre',m[0],'y',m[11],'\\n\\n')\n",
    "dist = euclidean(n[0],n[11])\n",
    "\n",
    "print('\\t\\tDistancia = ', dist)\n",
    "\n",
    "simil = 1/(1+dist)\n",
    "\n",
    "print('\\t\\tSimilitud = ', simil)"
   ]
  },
  {
   "cell_type": "code",
   "execution_count": 27,
   "metadata": {},
   "outputs": [
    {
     "name": "stdout",
     "output_type": "stream",
     "text": [
      "Relación entre cchallcoa@unsa.edu.pe y lessly25huacan@gmail.com \n",
      "\n",
      "\n",
      "\t\tDistancia =  5.830951894845301\n",
      "\t\tSimilitud =  0.1463924816619788\n"
     ]
    }
   ],
   "source": [
    "print('Relación entre',m[0],'y',m[12],'\\n\\n')\n",
    "dist = euclidean(n[0],n[12])\n",
    "\n",
    "print('\\t\\tDistancia = ', dist)\n",
    "\n",
    "simil = 1/(1+dist)\n",
    "\n",
    "print('\\t\\tSimilitud = ', simil)"
   ]
  },
  {
   "cell_type": "code",
   "execution_count": 28,
   "metadata": {},
   "outputs": [
    {
     "name": "stdout",
     "output_type": "stream",
     "text": [
      "Relación entre cchallcoa@unsa.edu.pe y mfloreschav@unsa.edu.pe \n",
      "\n",
      "\n",
      "\t\tDistancia =  9.591663046625438\n",
      "\t\tSimilitud =  0.09441387963324659\n"
     ]
    }
   ],
   "source": [
    "print('Relación entre',m[0],'y',m[13],'\\n\\n')\n",
    "dist = euclidean(n[0],n[13])\n",
    "\n",
    "print('\\t\\tDistancia = ', dist)\n",
    "\n",
    "simil = 1/(1+dist)\n",
    "\n",
    "print('\\t\\tSimilitud = ', simil)"
   ]
  },
  {
   "cell_type": "code",
   "execution_count": 29,
   "metadata": {},
   "outputs": [
    {
     "name": "stdout",
     "output_type": "stream",
     "text": [
      "Relación entre cchallcoa@unsa.edu.pe y ruizcruza9@gmail.com \n",
      "\n",
      "\n",
      "\t\tDistancia =  7.416198487095663\n",
      "\t\tSimilitud =  0.11881849050177154\n"
     ]
    }
   ],
   "source": [
    "print('Relación entre',m[0],'y',m[14],'\\n\\n')\n",
    "dist = euclidean(n[0],n[14])\n",
    "\n",
    "print('\\t\\tDistancia = ', dist)\n",
    "\n",
    "simil = 1/(1+dist)\n",
    "\n",
    "print('\\t\\tSimilitud = ', simil)"
   ]
  },
  {
   "cell_type": "code",
   "execution_count": 30,
   "metadata": {},
   "outputs": [
    {
     "name": "stdout",
     "output_type": "stream",
     "text": [
      "Relación entre cchallcoa@unsa.edu.pe y jlagunam@unsa.edu.pe \n",
      "\n",
      "\n",
      "\t\tDistancia =  7.211102550927978\n",
      "\t\tSimilitud =  0.12178632452799958\n"
     ]
    }
   ],
   "source": [
    "print('Relación entre',m[0],'y',m[15],'\\n\\n')\n",
    "dist = euclidean(n[0],n[15])\n",
    "\n",
    "print('\\t\\tDistancia = ', dist)\n",
    "\n",
    "simil = 1/(1+dist)\n",
    "\n",
    "print('\\t\\tSimilitud = ', simil)"
   ]
  },
  {
   "cell_type": "code",
   "execution_count": 31,
   "metadata": {},
   "outputs": [
    {
     "name": "stdout",
     "output_type": "stream",
     "text": [
      "Relación entre cchallcoa@unsa.edu.pe y jvaleroc@unsa.edu.pe \n",
      "\n",
      "\n",
      "\t\tDistancia =  6.928203230275509\n",
      "\t\tSimilitud =  0.1261319836228832\n"
     ]
    }
   ],
   "source": [
    "print('Relación entre',m[0],'y',m[16],'\\n\\n')\n",
    "dist = euclidean(n[0],n[16])\n",
    "\n",
    "print('\\t\\tDistancia = ', dist)\n",
    "\n",
    "simil = 1/(1+dist)\n",
    "\n",
    "print('\\t\\tSimilitud = ', simil)"
   ]
  },
  {
   "cell_type": "code",
   "execution_count": 32,
   "metadata": {},
   "outputs": [
    {
     "name": "stdout",
     "output_type": "stream",
     "text": [
      "Relación entre cchallcoa@unsa.edu.pe y joselyn.qa.20@gmail.com \n",
      "\n",
      "\n",
      "\t\tDistancia =  6.782329983125268\n",
      "\t\tSimilitud =  0.12849622184722817\n"
     ]
    }
   ],
   "source": [
    "print('Relación entre',m[0],'y',m[17],'\\n\\n')\n",
    "dist = euclidean(n[0],n[17])\n",
    "\n",
    "print('\\t\\tDistancia = ', dist)\n",
    "\n",
    "simil = 1/(1+dist)\n",
    "\n",
    "print('\\t\\tSimilitud = ', simil)"
   ]
  },
  {
   "cell_type": "code",
   "execution_count": 33,
   "metadata": {},
   "outputs": [
    {
     "name": "stdout",
     "output_type": "stream",
     "text": [
      "Relación entre cchallcoa@unsa.edu.pe y chemystry03@gmail.com \n",
      "\n",
      "\n",
      "\t\tDistancia =  7.280109889280518\n",
      "\t\tSimilitud =  0.12077134402462537\n"
     ]
    }
   ],
   "source": [
    "print('Relación entre',m[0],'y',m[18],'\\n\\n')\n",
    "dist = euclidean(n[0],n[18])\n",
    "\n",
    "print('\\t\\tDistancia = ', dist)\n",
    "\n",
    "simil = 1/(1+dist)\n",
    "\n",
    "print('\\t\\tSimilitud = ', simil)"
   ]
  },
  {
   "cell_type": "code",
   "execution_count": 34,
   "metadata": {},
   "outputs": [
    {
     "name": "stdout",
     "output_type": "stream",
     "text": [
      "Relación entre cchallcoa@unsa.edu.pe y huamanidana@gmail.com \n",
      "\n",
      "\n",
      "\t\tDistancia =  8.0\n",
      "\t\tSimilitud =  0.1111111111111111\n"
     ]
    }
   ],
   "source": [
    "print('Relación entre',m[0],'y',m[19],'\\n\\n')\n",
    "dist = euclidean(n[0],n[19])\n",
    "\n",
    "print('\\t\\tDistancia = ', dist)\n",
    "\n",
    "simil = 1/(1+dist)\n",
    "\n",
    "print('\\t\\tSimilitud = ', simil)"
   ]
  },
  {
   "cell_type": "code",
   "execution_count": 35,
   "metadata": {},
   "outputs": [
    {
     "name": "stdout",
     "output_type": "stream",
     "text": [
      "Relación entre cchallcoa@unsa.edu.pe y fmirandaa@unsa.edu.pe \n",
      "\n",
      "\n",
      "\t\tDistancia =  7.874007874011811\n",
      "\t\tSimilitud =  0.11268865367232477\n"
     ]
    }
   ],
   "source": [
    "print('Relación entre',m[0],'y',m[20],'\\n\\n')\n",
    "dist = euclidean(n[0],n[20])\n",
    "\n",
    "print('\\t\\tDistancia = ', dist)\n",
    "\n",
    "simil = 1/(1+dist)\n",
    "\n",
    "print('\\t\\tSimilitud = ', simil)"
   ]
  },
  {
   "cell_type": "markdown",
   "metadata": {},
   "source": [
    "## jllerenapa@unsa.edu.pe con todos"
   ]
  },
  {
   "cell_type": "code",
   "execution_count": 37,
   "metadata": {},
   "outputs": [
    {
     "name": "stdout",
     "output_type": "stream",
     "text": [
      "Relación entre jllerenapa@unsa.edu.pe y claricoy@unsa.edu.pe \n",
      "\n",
      "\n",
      "\t\tDistancia =  1.7320508075688772\n",
      "\t\tSimilitud =  0.36602540378443865\n"
     ]
    }
   ],
   "source": [
    "print('Relación entre',m[1],'y',m[2],'\\n\\n')\n",
    "dist = euclidean(n[1],n[2])\n",
    "\n",
    "print('\\t\\tDistancia = ', dist)\n",
    "\n",
    "simil = 1/(1+dist)\n",
    "\n",
    "print('\\t\\tSimilitud = ', simil)"
   ]
  },
  {
   "cell_type": "code",
   "execution_count": 38,
   "metadata": {},
   "outputs": [
    {
     "name": "stdout",
     "output_type": "stream",
     "text": [
      "Relación entre jllerenapa@unsa.edu.pe y chuaylla@unsa.edu.pe \n",
      "\n",
      "\n",
      "\t\tDistancia =  4.358898943540674\n",
      "\t\tSimilitud =  0.18660549686337075\n"
     ]
    }
   ],
   "source": [
    "print('Relación entre',m[1],'y',m[3],'\\n\\n')\n",
    "dist = euclidean(n[1],n[3])\n",
    "\n",
    "print('\\t\\tDistancia = ', dist)\n",
    "\n",
    "simil = 1/(1+dist)\n",
    "\n",
    "print('\\t\\tSimilitud = ', simil)"
   ]
  },
  {
   "cell_type": "code",
   "execution_count": 39,
   "metadata": {},
   "outputs": [
    {
     "name": "stdout",
     "output_type": "stream",
     "text": [
      "Relación entre jllerenapa@unsa.edu.pe y jquempes@unsa.edu.pe \n",
      "\n",
      "\n",
      "\t\tDistancia =  12.206555615733702\n",
      "\t\tSimilitud =  0.07571997037657908\n"
     ]
    }
   ],
   "source": [
    "print('Relación entre',m[1],'y',m[4],'\\n\\n')\n",
    "dist = euclidean(n[1],n[4])\n",
    "\n",
    "print('\\t\\tDistancia = ', dist)\n",
    "\n",
    "simil = 1/(1+dist)\n",
    "\n",
    "print('\\t\\tSimilitud = ', simil)"
   ]
  },
  {
   "cell_type": "code",
   "execution_count": 40,
   "metadata": {},
   "outputs": [
    {
     "name": "stdout",
     "output_type": "stream",
     "text": [
      "Relación entre jllerenapa@unsa.edu.pe y mloayzam@unsa.edu.pe \n",
      "\n",
      "\n",
      "\t\tDistancia =  11.135528725660043\n",
      "\t\tSimilitud =  0.08240267256634183\n"
     ]
    }
   ],
   "source": [
    "print('Relación entre',m[1],'y',m[5],'\\n\\n')\n",
    "dist = euclidean(n[1],n[5])\n",
    "\n",
    "print('\\t\\tDistancia = ', dist)\n",
    "\n",
    "simil = 1/(1+dist)\n",
    "\n",
    "print('\\t\\tSimilitud = ', simil)"
   ]
  },
  {
   "cell_type": "code",
   "execution_count": 41,
   "metadata": {},
   "outputs": [
    {
     "name": "stdout",
     "output_type": "stream",
     "text": [
      "Relación entre jllerenapa@unsa.edu.pe y bbeltrand@unsa.edu.pe \n",
      "\n",
      "\n",
      "\t\tDistancia =  7.483314773547883\n",
      "\t\tSimilitud =  0.11787845042814334\n"
     ]
    }
   ],
   "source": [
    "print('Relación entre',m[1],'y',m[6],'\\n\\n')\n",
    "dist = euclidean(n[1],n[6])\n",
    "\n",
    "print('\\t\\tDistancia = ', dist)\n",
    "\n",
    "simil = 1/(1+dist)\n",
    "\n",
    "print('\\t\\tSimilitud = ', simil)"
   ]
  },
  {
   "cell_type": "code",
   "execution_count": 42,
   "metadata": {},
   "outputs": [
    {
     "name": "stdout",
     "output_type": "stream",
     "text": [
      "Relación entre jllerenapa@unsa.edu.pe y ssoriaq@unsa.edu.pe \n",
      "\n",
      "\n",
      "\t\tDistancia =  6.164414002968976\n",
      "\t\tSimilitud =  0.13957875683699938\n"
     ]
    }
   ],
   "source": [
    "print('Relación entre',m[1],'y',m[7],'\\n\\n')\n",
    "dist = euclidean(n[1],n[7])\n",
    "\n",
    "print('\\t\\tDistancia = ', dist)\n",
    "\n",
    "simil = 1/(1+dist)\n",
    "\n",
    "print('\\t\\tSimilitud = ', simil)"
   ]
  },
  {
   "cell_type": "code",
   "execution_count": 43,
   "metadata": {},
   "outputs": [
    {
     "name": "stdout",
     "output_type": "stream",
     "text": [
      "Relación entre jllerenapa@unsa.edu.pe y jquispebar@unsa.edu.pe \n",
      "\n",
      "\n",
      "\t\tDistancia =  5.477225575051661\n",
      "\t\tSimilitud =  0.15438708879488486\n"
     ]
    }
   ],
   "source": [
    "print('Relación entre',m[1],'y',m[8],'\\n\\n')\n",
    "dist = euclidean(n[1],n[8])\n",
    "\n",
    "print('\\t\\tDistancia = ', dist)\n",
    "\n",
    "simil = 1/(1+dist)\n",
    "\n",
    "print('\\t\\tSimilitud = ', simil)"
   ]
  },
  {
   "cell_type": "code",
   "execution_count": 44,
   "metadata": {},
   "outputs": [
    {
     "name": "stdout",
     "output_type": "stream",
     "text": [
      "Relación entre jllerenapa@unsa.edu.pe y spaucav@unsa.edu.pe \n",
      "\n",
      "\n",
      "\t\tDistancia =  6.782329983125268\n",
      "\t\tSimilitud =  0.12849622184722817\n"
     ]
    }
   ],
   "source": [
    "print('Relación entre',m[1],'y',m[9],'\\n\\n')\n",
    "dist = euclidean(n[1],n[9])\n",
    "\n",
    "print('\\t\\tDistancia = ', dist)\n",
    "\n",
    "simil = 1/(1+dist)\n",
    "\n",
    "print('\\t\\tSimilitud = ', simil)"
   ]
  },
  {
   "cell_type": "code",
   "execution_count": 45,
   "metadata": {},
   "outputs": [
    {
     "name": "stdout",
     "output_type": "stream",
     "text": [
      "Relación entre jllerenapa@unsa.edu.pe y harenaza@unsa.edu.pe \n",
      "\n",
      "\n",
      "\t\tDistancia =  5.744562646538029\n",
      "\t\tSimilitud =  0.1482675827043134\n"
     ]
    }
   ],
   "source": [
    "print('Relación entre',m[1],'y',m[10],'\\n\\n')\n",
    "dist = euclidean(n[1],n[10])\n",
    "\n",
    "print('\\t\\tDistancia = ', dist)\n",
    "\n",
    "simil = 1/(1+dist)\n",
    "\n",
    "print('\\t\\tSimilitud = ', simil)"
   ]
  },
  {
   "cell_type": "code",
   "execution_count": 46,
   "metadata": {},
   "outputs": [
    {
     "name": "stdout",
     "output_type": "stream",
     "text": [
      "Relación entre jllerenapa@unsa.edu.pe y jvillenav@unsa.edu.pe \n",
      "\n",
      "\n",
      "\t\tDistancia =  5.196152422706632\n",
      "\t\tSimilitud =  0.16139047779640892\n"
     ]
    }
   ],
   "source": [
    "print('Relación entre',m[1],'y',m[11],'\\n\\n')\n",
    "dist = euclidean(n[1],n[11])\n",
    "\n",
    "print('\\t\\tDistancia = ', dist)\n",
    "\n",
    "simil = 1/(1+dist)\n",
    "\n",
    "print('\\t\\tSimilitud = ', simil)"
   ]
  },
  {
   "cell_type": "code",
   "execution_count": 47,
   "metadata": {},
   "outputs": [
    {
     "name": "stdout",
     "output_type": "stream",
     "text": [
      "Relación entre jllerenapa@unsa.edu.pe y lessly25huacan@gmail.com \n",
      "\n",
      "\n",
      "\t\tDistancia =  6.6332495807108\n",
      "\t\tSimilitud =  0.13100580420257674\n"
     ]
    }
   ],
   "source": [
    "print('Relación entre',m[1],'y',m[12],'\\n\\n')\n",
    "dist = euclidean(n[1],n[12])\n",
    "\n",
    "print('\\t\\tDistancia = ', dist)\n",
    "\n",
    "simil = 1/(1+dist)\n",
    "\n",
    "print('\\t\\tSimilitud = ', simil)"
   ]
  },
  {
   "cell_type": "code",
   "execution_count": 48,
   "metadata": {},
   "outputs": [
    {
     "name": "stdout",
     "output_type": "stream",
     "text": [
      "Relación entre jllerenapa@unsa.edu.pe y mfloreschav@unsa.edu.pe \n",
      "\n",
      "\n",
      "\t\tDistancia =  4.0\n",
      "\t\tSimilitud =  0.2\n"
     ]
    }
   ],
   "source": [
    "print('Relación entre',m[1],'y',m[13],'\\n\\n')\n",
    "dist = euclidean(n[1],n[13])\n",
    "\n",
    "print('\\t\\tDistancia = ', dist)\n",
    "\n",
    "simil = 1/(1+dist)\n",
    "\n",
    "print('\\t\\tSimilitud = ', simil)"
   ]
  },
  {
   "cell_type": "code",
   "execution_count": 49,
   "metadata": {},
   "outputs": [
    {
     "name": "stdout",
     "output_type": "stream",
     "text": [
      "Relación entre jllerenapa@unsa.edu.pe y ruizcruza9@gmail.com \n",
      "\n",
      "\n",
      "\t\tDistancia =  11.958260743101398\n",
      "\t\tSimilitud =  0.07717085030353096\n"
     ]
    }
   ],
   "source": [
    "print('Relación entre',m[1],'y',m[14],'\\n\\n')\n",
    "dist = euclidean(n[1],n[14])\n",
    "\n",
    "print('\\t\\tDistancia = ', dist)\n",
    "\n",
    "simil = 1/(1+dist)\n",
    "\n",
    "print('\\t\\tSimilitud = ', simil)"
   ]
  },
  {
   "cell_type": "code",
   "execution_count": 50,
   "metadata": {},
   "outputs": [
    {
     "name": "stdout",
     "output_type": "stream",
     "text": [
      "Relación entre jllerenapa@unsa.edu.pe y jlagunam@unsa.edu.pe \n",
      "\n",
      "\n",
      "\t\tDistancia =  5.0990195135927845\n",
      "\t\tSimilitud =  0.1639607805437114\n"
     ]
    }
   ],
   "source": [
    "print('Relación entre',m[1],'y',m[15],'\\n\\n')\n",
    "dist = euclidean(n[1],n[15])\n",
    "\n",
    "print('\\t\\tDistancia = ', dist)\n",
    "\n",
    "simil = 1/(1+dist)\n",
    "\n",
    "print('\\t\\tSimilitud = ', simil)"
   ]
  },
  {
   "cell_type": "code",
   "execution_count": 51,
   "metadata": {},
   "outputs": [
    {
     "name": "stdout",
     "output_type": "stream",
     "text": [
      "Relación entre jllerenapa@unsa.edu.pe y jvaleroc@unsa.edu.pe \n",
      "\n",
      "\n",
      "\t\tDistancia =  4.898979485566356\n",
      "\t\tSimilitud =  0.16952084719853724\n"
     ]
    }
   ],
   "source": [
    "print('Relación entre',m[1],'y',m[16],'\\n\\n')\n",
    "dist = euclidean(n[1],n[16])\n",
    "\n",
    "print('\\t\\tDistancia = ', dist)\n",
    "\n",
    "simil = 1/(1+dist)\n",
    "\n",
    "print('\\t\\tSimilitud = ', simil)"
   ]
  },
  {
   "cell_type": "code",
   "execution_count": 52,
   "metadata": {},
   "outputs": [
    {
     "name": "stdout",
     "output_type": "stream",
     "text": [
      "Relación entre jllerenapa@unsa.edu.pe y joselyn.qa.20@gmail.com \n",
      "\n",
      "\n",
      "\t\tDistancia =  8.831760866327848\n",
      "\t\tSimilitud =  0.10171118008217982\n"
     ]
    }
   ],
   "source": [
    "print('Relación entre',m[1],'y',m[17],'\\n\\n')\n",
    "dist = euclidean(n[1],n[17])\n",
    "\n",
    "print('\\t\\tDistancia = ', dist)\n",
    "\n",
    "simil = 1/(1+dist)\n",
    "\n",
    "print('\\t\\tSimilitud = ', simil)"
   ]
  },
  {
   "cell_type": "code",
   "execution_count": 53,
   "metadata": {},
   "outputs": [
    {
     "name": "stdout",
     "output_type": "stream",
     "text": [
      "Relación entre jllerenapa@unsa.edu.pe y chemystry03@gmail.com \n",
      "\n",
      "\n",
      "\t\tDistancia =  5.5677643628300215\n",
      "\t\tSimilitud =  0.15225881209433406\n"
     ]
    }
   ],
   "source": [
    "print('Relación entre',m[1],'y',m[18],'\\n\\n')\n",
    "dist = euclidean(n[1],n[18])\n",
    "\n",
    "print('\\t\\tDistancia = ', dist)\n",
    "\n",
    "simil = 1/(1+dist)\n",
    "\n",
    "print('\\t\\tSimilitud = ', simil)"
   ]
  },
  {
   "cell_type": "code",
   "execution_count": 54,
   "metadata": {},
   "outputs": [
    {
     "name": "stdout",
     "output_type": "stream",
     "text": [
      "Relación entre jllerenapa@unsa.edu.pe y huamanidana@gmail.com \n",
      "\n",
      "\n",
      "\t\tDistancia =  6.324555320336759\n",
      "\t\tSimilitud =  0.1365270594958143\n"
     ]
    }
   ],
   "source": [
    "print('Relación entre',m[1],'y',m[19],'\\n\\n')\n",
    "dist = euclidean(n[1],n[19])\n",
    "\n",
    "print('\\t\\tDistancia = ', dist)\n",
    "\n",
    "simil = 1/(1+dist)\n",
    "\n",
    "print('\\t\\tSimilitud = ', simil)"
   ]
  },
  {
   "cell_type": "code",
   "execution_count": 55,
   "metadata": {},
   "outputs": [
    {
     "name": "stdout",
     "output_type": "stream",
     "text": [
      "Relación entre jllerenapa@unsa.edu.pe y fmirandaa@unsa.edu.pe \n",
      "\n",
      "\n",
      "\t\tDistancia =  5.291502622129181\n",
      "\t\tSimilitud =  0.15894454156034005\n"
     ]
    }
   ],
   "source": [
    "print('Relación entre',m[1],'y',m[20],'\\n\\n')\n",
    "dist = euclidean(n[1],n[20])\n",
    "\n",
    "print('\\t\\tDistancia = ', dist)\n",
    "\n",
    "simil = 1/(1+dist)\n",
    "\n",
    "print('\\t\\tSimilitud = ', simil)"
   ]
  },
  {
   "cell_type": "markdown",
   "metadata": {},
   "source": [
    "## claricoy@unsa.edu.pe con todos"
   ]
  },
  {
   "cell_type": "code",
   "execution_count": 58,
   "metadata": {},
   "outputs": [
    {
     "name": "stdout",
     "output_type": "stream",
     "text": [
      "Relación entre claricoy@unsa.edu.pe y chuaylla@unsa.edu.pe \n",
      "\n",
      "\n",
      "\t\tDistancia =  5.0990195135927845\n",
      "\t\tSimilitud =  0.1639607805437114\n"
     ]
    }
   ],
   "source": [
    "print('Relación entre',m[2],'y',m[3],'\\n\\n')\n",
    "dist = euclidean(n[2],n[3])\n",
    "\n",
    "print('\\t\\tDistancia = ', dist)\n",
    "\n",
    "simil = 1/(1+dist)\n",
    "\n",
    "print('\\t\\tSimilitud = ', simil)"
   ]
  },
  {
   "cell_type": "code",
   "execution_count": 59,
   "metadata": {},
   "outputs": [
    {
     "name": "stdout",
     "output_type": "stream",
     "text": [
      "Relación entre claricoy@unsa.edu.pe y jquempes@unsa.edu.pe \n",
      "\n",
      "\n",
      "\t\tDistancia =  12.727922061357855\n",
      "\t\tSimilitud =  0.07284423640594942\n"
     ]
    }
   ],
   "source": [
    "print('Relación entre',m[2],'y',m[4],'\\n\\n')\n",
    "dist = euclidean(n[2],n[4])\n",
    "\n",
    "print('\\t\\tDistancia = ', dist)\n",
    "\n",
    "simil = 1/(1+dist)\n",
    "\n",
    "print('\\t\\tSimilitud = ', simil)"
   ]
  },
  {
   "cell_type": "code",
   "execution_count": 60,
   "metadata": {},
   "outputs": [
    {
     "name": "stdout",
     "output_type": "stream",
     "text": [
      "Relación entre claricoy@unsa.edu.pe y mloayzam@unsa.edu.pe \n",
      "\n",
      "\n",
      "\t\tDistancia =  11.532562594670797\n",
      "\t\tSimilitud =  0.07979214086871815\n"
     ]
    }
   ],
   "source": [
    "print('Relación entre',m[2],'y',m[5],'\\n\\n')\n",
    "dist = euclidean(n[2],n[5])\n",
    "\n",
    "print('\\t\\tDistancia = ', dist)\n",
    "\n",
    "simil = 1/(1+dist)\n",
    "\n",
    "print('\\t\\tSimilitud = ', simil)"
   ]
  },
  {
   "cell_type": "code",
   "execution_count": 61,
   "metadata": {},
   "outputs": [
    {
     "name": "stdout",
     "output_type": "stream",
     "text": [
      "Relación entre claricoy@unsa.edu.pe y bbeltrand@unsa.edu.pe \n",
      "\n",
      "\n",
      "\t\tDistancia =  7.681145747868608\n",
      "\t\tSimilitud =  0.11519216806670013\n"
     ]
    }
   ],
   "source": [
    "print('Relación entre',m[2],'y',m[6],'\\n\\n')\n",
    "dist = euclidean(n[2],n[6])\n",
    "\n",
    "print('\\t\\tDistancia = ', dist)\n",
    "\n",
    "simil = 1/(1+dist)\n",
    "\n",
    "print('\\t\\tSimilitud = ', simil)"
   ]
  },
  {
   "cell_type": "code",
   "execution_count": 62,
   "metadata": {},
   "outputs": [
    {
     "name": "stdout",
     "output_type": "stream",
     "text": [
      "Relación entre claricoy@unsa.edu.pe y ssoriaq@unsa.edu.pe \n",
      "\n",
      "\n",
      "\t\tDistancia =  6.557438524302\n",
      "\t\tSimilitud =  0.13231996486433337\n"
     ]
    }
   ],
   "source": [
    "print('Relación entre',m[2],'y',m[7],'\\n\\n')\n",
    "dist = euclidean(n[2],n[7])\n",
    "\n",
    "print('\\t\\tDistancia = ', dist)\n",
    "\n",
    "simil = 1/(1+dist)\n",
    "\n",
    "print('\\t\\tSimilitud = ', simil)"
   ]
  },
  {
   "cell_type": "code",
   "execution_count": 63,
   "metadata": {},
   "outputs": [
    {
     "name": "stdout",
     "output_type": "stream",
     "text": [
      "Relación entre claricoy@unsa.edu.pe y jquispebar@unsa.edu.pe \n",
      "\n",
      "\n",
      "\t\tDistancia =  6.082762530298219\n",
      "\t\tSimilitud =  0.14118784806383944\n"
     ]
    }
   ],
   "source": [
    "print('Relación entre',m[2],'y',m[8],'\\n\\n')\n",
    "dist = euclidean(n[2],n[8])\n",
    "\n",
    "print('\\t\\tDistancia = ', dist)\n",
    "\n",
    "simil = 1/(1+dist)\n",
    "\n",
    "print('\\t\\tSimilitud = ', simil)"
   ]
  },
  {
   "cell_type": "code",
   "execution_count": 64,
   "metadata": {},
   "outputs": [
    {
     "name": "stdout",
     "output_type": "stream",
     "text": [
      "Relación entre claricoy@unsa.edu.pe y spaucav@unsa.edu.pe \n",
      "\n",
      "\n",
      "\t\tDistancia =  7.416198487095663\n",
      "\t\tSimilitud =  0.11881849050177154\n"
     ]
    }
   ],
   "source": [
    "print('Relación entre',m[2],'y',m[9],'\\n\\n')\n",
    "dist = euclidean(n[2],n[9])\n",
    "\n",
    "print('\\t\\tDistancia = ', dist)\n",
    "\n",
    "simil = 1/(1+dist)\n",
    "\n",
    "print('\\t\\tSimilitud = ', simil)"
   ]
  },
  {
   "cell_type": "code",
   "execution_count": 67,
   "metadata": {},
   "outputs": [
    {
     "name": "stdout",
     "output_type": "stream",
     "text": [
      "Relación entre claricoy@unsa.edu.pe y harenaza@unsa.edu.pe \n",
      "\n",
      "\n",
      "\t\tDistancia =  6.164414002968976\n",
      "\t\tSimilitud =  0.13957875683699938\n"
     ]
    }
   ],
   "source": [
    "print('Relación entre',m[2],'y',m[10],'\\n\\n')\n",
    "dist = euclidean(n[2],n[10])\n",
    "\n",
    "print('\\t\\tDistancia = ', dist)\n",
    "\n",
    "simil = 1/(1+dist)\n",
    "\n",
    "print('\\t\\tSimilitud = ', simil)"
   ]
  },
  {
   "cell_type": "code",
   "execution_count": 68,
   "metadata": {},
   "outputs": [
    {
     "name": "stdout",
     "output_type": "stream",
     "text": [
      "Relación entre claricoy@unsa.edu.pe y jvillenav@unsa.edu.pe \n",
      "\n",
      "\n",
      "\t\tDistancia =  5.656854249492381\n",
      "\t\tSimilitud =  0.15022110482233483\n"
     ]
    }
   ],
   "source": [
    "print('Relación entre',m[2],'y',m[11],'\\n\\n')\n",
    "dist = euclidean(n[2],n[11])\n",
    "\n",
    "print('\\t\\tDistancia = ', dist)\n",
    "\n",
    "simil = 1/(1+dist)\n",
    "\n",
    "print('\\t\\tSimilitud = ', simil)"
   ]
  },
  {
   "cell_type": "code",
   "execution_count": 69,
   "metadata": {},
   "outputs": [
    {
     "name": "stdout",
     "output_type": "stream",
     "text": [
      "Relación entre claricoy@unsa.edu.pe y lessly25huacan@gmail.com \n",
      "\n",
      "\n",
      "\t\tDistancia =  6.855654600401044\n",
      "\t\tSimilitud =  0.12729683913915313\n"
     ]
    }
   ],
   "source": [
    "print('Relación entre',m[2],'y',m[12],'\\n\\n')\n",
    "dist = euclidean(n[2],n[12])\n",
    "\n",
    "print('\\t\\tDistancia = ', dist)\n",
    "\n",
    "simil = 1/(1+dist)\n",
    "\n",
    "print('\\t\\tSimilitud = ', simil)"
   ]
  },
  {
   "cell_type": "code",
   "execution_count": 70,
   "metadata": {},
   "outputs": [
    {
     "name": "stdout",
     "output_type": "stream",
     "text": [
      "Relación entre claricoy@unsa.edu.pe y mfloreschav@unsa.edu.pe \n",
      "\n",
      "\n",
      "\t\tDistancia =  4.358898943540674\n",
      "\t\tSimilitud =  0.18660549686337075\n"
     ]
    }
   ],
   "source": [
    "print('Relación entre',m[2],'y',m[13],'\\n\\n')\n",
    "dist = euclidean(n[2],n[13])\n",
    "\n",
    "print('\\t\\tDistancia = ', dist)\n",
    "\n",
    "simil = 1/(1+dist)\n",
    "\n",
    "print('\\t\\tSimilitud = ', simil)"
   ]
  },
  {
   "cell_type": "code",
   "execution_count": 71,
   "metadata": {},
   "outputs": [
    {
     "name": "stdout",
     "output_type": "stream",
     "text": [
      "Relación entre claricoy@unsa.edu.pe y ruizcruza9@gmail.com \n",
      "\n",
      "\n",
      "\t\tDistancia =  12.569805089976535\n",
      "\t\tSimilitud =  0.07369302605080595\n"
     ]
    }
   ],
   "source": [
    "print('Relación entre',m[2],'y',m[14],'\\n\\n')\n",
    "dist = euclidean(n[2],n[14])\n",
    "\n",
    "print('\\t\\tDistancia = ', dist)\n",
    "\n",
    "simil = 1/(1+dist)\n",
    "\n",
    "print('\\t\\tSimilitud = ', simil)"
   ]
  },
  {
   "cell_type": "code",
   "execution_count": 73,
   "metadata": {},
   "outputs": [
    {
     "name": "stdout",
     "output_type": "stream",
     "text": [
      "Relación entre claricoy@unsa.edu.pe y jlagunam@unsa.edu.pe \n",
      "\n",
      "\n",
      "\t\tDistancia =  4.795831523312719\n",
      "\t\tSimilitud =  0.17253779651421453\n"
     ]
    }
   ],
   "source": [
    "print('Relación entre',m[2],'y',m[15],'\\n\\n')\n",
    "dist = euclidean(n[2],n[15])\n",
    "\n",
    "print('\\t\\tDistancia = ', dist)\n",
    "\n",
    "simil = 1/(1+dist)\n",
    "\n",
    "print('\\t\\tSimilitud = ', simil)"
   ]
  },
  {
   "cell_type": "code",
   "execution_count": 74,
   "metadata": {},
   "outputs": [
    {
     "name": "stdout",
     "output_type": "stream",
     "text": [
      "Relación entre claricoy@unsa.edu.pe y jvaleroc@unsa.edu.pe \n",
      "\n",
      "\n",
      "\t\tDistancia =  5.5677643628300215\n",
      "\t\tSimilitud =  0.15225881209433406\n"
     ]
    }
   ],
   "source": [
    "print('Relación entre',m[2],'y',m[16],'\\n\\n')\n",
    "dist = euclidean(n[2],n[16])\n",
    "\n",
    "print('\\t\\tDistancia = ', dist)\n",
    "\n",
    "simil = 1/(1+dist)\n",
    "\n",
    "print('\\t\\tSimilitud = ', simil)"
   ]
  },
  {
   "cell_type": "code",
   "execution_count": 75,
   "metadata": {},
   "outputs": [
    {
     "name": "stdout",
     "output_type": "stream",
     "text": [
      "Relación entre claricoy@unsa.edu.pe y joselyn.qa.20@gmail.com \n",
      "\n",
      "\n",
      "\t\tDistancia =  9.1104335791443\n",
      "\t\tSimilitud =  0.09890772657493047\n"
     ]
    }
   ],
   "source": [
    "print('Relación entre',m[2],'y',m[17],'\\n\\n')\n",
    "dist = euclidean(n[2],n[17])\n",
    "\n",
    "print('\\t\\tDistancia = ', dist)\n",
    "\n",
    "simil = 1/(1+dist)\n",
    "\n",
    "print('\\t\\tSimilitud = ', simil)"
   ]
  },
  {
   "cell_type": "code",
   "execution_count": 76,
   "metadata": {},
   "outputs": [
    {
     "name": "stdout",
     "output_type": "stream",
     "text": [
      "Relación entre claricoy@unsa.edu.pe y chemystry03@gmail.com \n",
      "\n",
      "\n",
      "\t\tDistancia =  6.324555320336759\n",
      "\t\tSimilitud =  0.1365270594958143\n"
     ]
    }
   ],
   "source": [
    "print('Relación entre',m[2],'y',m[18],'\\n\\n')\n",
    "dist = euclidean(n[2],n[18])\n",
    "\n",
    "print('\\t\\tDistancia = ', dist)\n",
    "\n",
    "simil = 1/(1+dist)\n",
    "\n",
    "print('\\t\\tSimilitud = ', simil)"
   ]
  },
  {
   "cell_type": "code",
   "execution_count": 77,
   "metadata": {},
   "outputs": [
    {
     "name": "stdout",
     "output_type": "stream",
     "text": [
      "Relación entre claricoy@unsa.edu.pe y huamanidana@gmail.com \n",
      "\n",
      "\n",
      "\t\tDistancia =  6.557438524302\n",
      "\t\tSimilitud =  0.13231996486433337\n"
     ]
    }
   ],
   "source": [
    "print('Relación entre',m[2],'y',m[19],'\\n\\n')\n",
    "dist = euclidean(n[2],n[19])\n",
    "\n",
    "print('\\t\\tDistancia = ', dist)\n",
    "\n",
    "simil = 1/(1+dist)\n",
    "\n",
    "print('\\t\\tSimilitud = ', simil)"
   ]
  },
  {
   "cell_type": "code",
   "execution_count": 78,
   "metadata": {},
   "outputs": [
    {
     "name": "stdout",
     "output_type": "stream",
     "text": [
      "Relación entre claricoy@unsa.edu.pe y fmirandaa@unsa.edu.pe \n",
      "\n",
      "\n",
      "\t\tDistancia =  6.082762530298219\n",
      "\t\tSimilitud =  0.14118784806383944\n"
     ]
    }
   ],
   "source": [
    "print('Relación entre',m[2],'y',m[20],'\\n\\n')\n",
    "dist = euclidean(n[2],n[20])\n",
    "\n",
    "print('\\t\\tDistancia = ', dist)\n",
    "\n",
    "simil = 1/(1+dist)\n",
    "\n",
    "print('\\t\\tSimilitud = ', simil)"
   ]
  },
  {
   "cell_type": "markdown",
   "metadata": {},
   "source": [
    "## chuaylla@unsa.edu.pe con todos"
   ]
  },
  {
   "cell_type": "code",
   "execution_count": 79,
   "metadata": {},
   "outputs": [
    {
     "name": "stdout",
     "output_type": "stream",
     "text": [
      "Relación entre chuaylla@unsa.edu.pe y jquempes@unsa.edu.pe \n",
      "\n",
      "\n",
      "\t\tDistancia =  10.862780491200215\n",
      "\t\tSimilitud =  0.0842972691555574\n"
     ]
    }
   ],
   "source": [
    "print('Relación entre',m[3],'y',m[4],'\\n\\n')\n",
    "dist = euclidean(n[3],n[4])\n",
    "\n",
    "print('\\t\\tDistancia = ', dist)\n",
    "\n",
    "simil = 1/(1+dist)\n",
    "\n",
    "print('\\t\\tSimilitud = ', simil)"
   ]
  },
  {
   "cell_type": "code",
   "execution_count": 80,
   "metadata": {},
   "outputs": [
    {
     "name": "stdout",
     "output_type": "stream",
     "text": [
      "Relación entre chuaylla@unsa.edu.pe y mloayzam@unsa.edu.pe \n",
      "\n",
      "\n",
      "\t\tDistancia =  9.327379053088816\n",
      "\t\tSimilitud =  0.09682998898940481\n"
     ]
    }
   ],
   "source": [
    "print('Relación entre',m[3],'y',m[5],'\\n\\n')\n",
    "dist = euclidean(n[3],n[5])\n",
    "\n",
    "print('\\t\\tDistancia = ', dist)\n",
    "\n",
    "simil = 1/(1+dist)\n",
    "\n",
    "print('\\t\\tSimilitud = ', simil)"
   ]
  },
  {
   "cell_type": "code",
   "execution_count": 81,
   "metadata": {},
   "outputs": [
    {
     "name": "stdout",
     "output_type": "stream",
     "text": [
      "Relación entre chuaylla@unsa.edu.pe y bbeltrand@unsa.edu.pe \n",
      "\n",
      "\n",
      "\t\tDistancia =  6.4031242374328485\n",
      "\t\tSimilitud =  0.13507810593582123\n"
     ]
    }
   ],
   "source": [
    "print('Relación entre',m[3],'y',m[6],'\\n\\n')\n",
    "dist = euclidean(n[3],n[6])\n",
    "\n",
    "print('\\t\\tDistancia = ', dist)\n",
    "\n",
    "simil = 1/(1+dist)\n",
    "\n",
    "print('\\t\\tSimilitud = ', simil)"
   ]
  },
  {
   "cell_type": "code",
   "execution_count": 82,
   "metadata": {},
   "outputs": [
    {
     "name": "stdout",
     "output_type": "stream",
     "text": [
      "Relación entre chuaylla@unsa.edu.pe y ssoriaq@unsa.edu.pe \n",
      "\n",
      "\n",
      "\t\tDistancia =  6.082762530298219\n",
      "\t\tSimilitud =  0.14118784806383944\n"
     ]
    }
   ],
   "source": [
    "print('Relación entre',m[3],'y',m[7],'\\n\\n')\n",
    "dist = euclidean(n[3],n[7])\n",
    "\n",
    "print('\\t\\tDistancia = ', dist)\n",
    "\n",
    "simil = 1/(1+dist)\n",
    "\n",
    "print('\\t\\tSimilitud = ', simil)"
   ]
  },
  {
   "cell_type": "code",
   "execution_count": 83,
   "metadata": {},
   "outputs": [
    {
     "name": "stdout",
     "output_type": "stream",
     "text": [
      "Relación entre chuaylla@unsa.edu.pe y jquispebar@unsa.edu.pe \n",
      "\n",
      "\n",
      "\t\tDistancia =  5.196152422706632\n",
      "\t\tSimilitud =  0.16139047779640892\n"
     ]
    }
   ],
   "source": [
    "print('Relación entre',m[3],'y',m[8],'\\n\\n')\n",
    "dist = euclidean(n[3],n[8])\n",
    "\n",
    "print('\\t\\tDistancia = ', dist)\n",
    "\n",
    "simil = 1/(1+dist)\n",
    "\n",
    "print('\\t\\tSimilitud = ', simil)"
   ]
  },
  {
   "cell_type": "code",
   "execution_count": 84,
   "metadata": {},
   "outputs": [
    {
     "name": "stdout",
     "output_type": "stream",
     "text": [
      "Relación entre chuaylla@unsa.edu.pe y spaucav@unsa.edu.pe \n",
      "\n",
      "\n",
      "\t\tDistancia =  4.795831523312719\n",
      "\t\tSimilitud =  0.17253779651421453\n"
     ]
    }
   ],
   "source": [
    "print('Relación entre',m[3],'y',m[9],'\\n\\n')\n",
    "dist = euclidean(n[3],n[9])\n",
    "\n",
    "print('\\t\\tDistancia = ', dist)\n",
    "\n",
    "simil = 1/(1+dist)\n",
    "\n",
    "print('\\t\\tSimilitud = ', simil)"
   ]
  },
  {
   "cell_type": "code",
   "execution_count": 85,
   "metadata": {},
   "outputs": [
    {
     "name": "stdout",
     "output_type": "stream",
     "text": [
      "Relación entre chuaylla@unsa.edu.pe y harenaza@unsa.edu.pe \n",
      "\n",
      "\n",
      "\t\tDistancia =  4.69041575982343\n",
      "\t\tSimilitud =  0.1757340838011157\n"
     ]
    }
   ],
   "source": [
    "print('Relación entre',m[3],'y',m[10],'\\n\\n')\n",
    "dist = euclidean(n[3],n[10])\n",
    "\n",
    "print('\\t\\tDistancia = ', dist)\n",
    "\n",
    "simil = 1/(1+dist)\n",
    "\n",
    "print('\\t\\tSimilitud = ', simil)"
   ]
  },
  {
   "cell_type": "code",
   "execution_count": 86,
   "metadata": {},
   "outputs": [
    {
     "name": "stdout",
     "output_type": "stream",
     "text": [
      "Relación entre chuaylla@unsa.edu.pe y jvillenav@unsa.edu.pe \n",
      "\n",
      "\n",
      "\t\tDistancia =  6.0\n",
      "\t\tSimilitud =  0.14285714285714285\n"
     ]
    }
   ],
   "source": [
    "print('Relación entre',m[3],'y',m[11],'\\n\\n')\n",
    "dist = euclidean(n[3],n[11])\n",
    "\n",
    "print('\\t\\tDistancia = ', dist)\n",
    "\n",
    "simil = 1/(1+dist)\n",
    "\n",
    "print('\\t\\tSimilitud = ', simil)"
   ]
  },
  {
   "cell_type": "code",
   "execution_count": 87,
   "metadata": {},
   "outputs": [
    {
     "name": "stdout",
     "output_type": "stream",
     "text": [
      "Relación entre chuaylla@unsa.edu.pe y lessly25huacan@gmail.com \n",
      "\n",
      "\n",
      "\t\tDistancia =  7.0\n",
      "\t\tSimilitud =  0.125\n"
     ]
    }
   ],
   "source": [
    "print('Relación entre',m[3],'y',m[12],'\\n\\n')\n",
    "dist = euclidean(n[3],n[12])\n",
    "\n",
    "print('\\t\\tDistancia = ', dist)\n",
    "\n",
    "simil = 1/(1+dist)\n",
    "\n",
    "print('\\t\\tSimilitud = ', simil)"
   ]
  },
  {
   "cell_type": "code",
   "execution_count": 88,
   "metadata": {},
   "outputs": [
    {
     "name": "stdout",
     "output_type": "stream",
     "text": [
      "Relación entre chuaylla@unsa.edu.pe y mfloreschav@unsa.edu.pe \n",
      "\n",
      "\n",
      "\t\tDistancia =  5.196152422706632\n",
      "\t\tSimilitud =  0.16139047779640892\n"
     ]
    }
   ],
   "source": [
    "print('Relación entre',m[3],'y',m[13],'\\n\\n')\n",
    "dist = euclidean(n[3],n[13])\n",
    "\n",
    "print('\\t\\tDistancia = ', dist)\n",
    "\n",
    "simil = 1/(1+dist)\n",
    "\n",
    "print('\\t\\tSimilitud = ', simil)"
   ]
  },
  {
   "cell_type": "code",
   "execution_count": 89,
   "metadata": {},
   "outputs": [
    {
     "name": "stdout",
     "output_type": "stream",
     "text": [
      "Relación entre chuaylla@unsa.edu.pe y ruizcruza9@gmail.com \n",
      "\n",
      "\n",
      "\t\tDistancia =  9.899494936611665\n",
      "\t\tSimilitud =  0.09174737048053264\n"
     ]
    }
   ],
   "source": [
    "print('Relación entre',m[3],'y',m[14],'\\n\\n')\n",
    "dist = euclidean(n[3],n[14])\n",
    "\n",
    "print('\\t\\tDistancia = ', dist)\n",
    "\n",
    "simil = 1/(1+dist)\n",
    "\n",
    "print('\\t\\tSimilitud = ', simil)"
   ]
  },
  {
   "cell_type": "code",
   "execution_count": 96,
   "metadata": {},
   "outputs": [
    {
     "name": "stdout",
     "output_type": "stream",
     "text": [
      "Relación entre chuaylla@unsa.edu.pe y jlagunam@unsa.edu.pe \n",
      "\n",
      "\n",
      "\t\tDistancia =  5.916079783099616\n",
      "\t\tSimilitud =  0.14459058185587106\n"
     ]
    }
   ],
   "source": [
    "print('Relación entre',m[3],'y',m[15],'\\n\\n')\n",
    "dist = euclidean(n[3],n[15])\n",
    "\n",
    "print('\\t\\tDistancia = ', dist)\n",
    "\n",
    "simil = 1/(1+dist)\n",
    "\n",
    "print('\\t\\tSimilitud = ', simil)"
   ]
  },
  {
   "cell_type": "code",
   "execution_count": 97,
   "metadata": {},
   "outputs": [
    {
     "name": "stdout",
     "output_type": "stream",
     "text": [
      "Relación entre chuaylla@unsa.edu.pe y jvaleroc@unsa.edu.pe \n",
      "\n",
      "\n",
      "\t\tDistancia =  4.358898943540674\n",
      "\t\tSimilitud =  0.18660549686337075\n"
     ]
    }
   ],
   "source": [
    "print('Relación entre',m[3],'y',m[16],'\\n\\n')\n",
    "dist = euclidean(n[3],n[16])\n",
    "\n",
    "print('\\t\\tDistancia = ', dist)\n",
    "\n",
    "simil = 1/(1+dist)\n",
    "\n",
    "print('\\t\\tSimilitud = ', simil)"
   ]
  },
  {
   "cell_type": "code",
   "execution_count": 92,
   "metadata": {},
   "outputs": [
    {
     "name": "stdout",
     "output_type": "stream",
     "text": [
      "Relación entre chuaylla@unsa.edu.pe y joselyn.qa.20@gmail.com \n",
      "\n",
      "\n",
      "\t\tDistancia =  8.54400374531753\n",
      "\t\tSimilitud =  0.10477782979607683\n"
     ]
    }
   ],
   "source": [
    "print('Relación entre',m[3],'y',m[17],'\\n\\n')\n",
    "dist = euclidean(n[3],n[17])\n",
    "\n",
    "print('\\t\\tDistancia = ', dist)\n",
    "\n",
    "simil = 1/(1+dist)\n",
    "\n",
    "print('\\t\\tSimilitud = ', simil)"
   ]
  },
  {
   "cell_type": "code",
   "execution_count": 93,
   "metadata": {},
   "outputs": [
    {
     "name": "stdout",
     "output_type": "stream",
     "text": [
      "Relación entre chuaylla@unsa.edu.pe y chemystry03@gmail.com \n",
      "\n",
      "\n",
      "\t\tDistancia =  6.324555320336759\n",
      "\t\tSimilitud =  0.1365270594958143\n"
     ]
    }
   ],
   "source": [
    "print('Relación entre',m[3],'y',m[18],'\\n\\n')\n",
    "dist = euclidean(n[3],n[18])\n",
    "\n",
    "print('\\t\\tDistancia = ', dist)\n",
    "\n",
    "simil = 1/(1+dist)\n",
    "\n",
    "print('\\t\\tSimilitud = ', simil)"
   ]
  },
  {
   "cell_type": "code",
   "execution_count": 94,
   "metadata": {},
   "outputs": [
    {
     "name": "stdout",
     "output_type": "stream",
     "text": [
      "Relación entre chuaylla@unsa.edu.pe y huamanidana@gmail.com \n",
      "\n",
      "\n",
      "\t\tDistancia =  5.5677643628300215\n",
      "\t\tSimilitud =  0.15225881209433406\n"
     ]
    }
   ],
   "source": [
    "print('Relación entre',m[3],'y',m[19],'\\n\\n')\n",
    "dist = euclidean(n[3],n[19])\n",
    "\n",
    "print('\\t\\tDistancia = ', dist)\n",
    "\n",
    "simil = 1/(1+dist)\n",
    "\n",
    "print('\\t\\tSimilitud = ', simil)"
   ]
  },
  {
   "cell_type": "code",
   "execution_count": 95,
   "metadata": {},
   "outputs": [
    {
     "name": "stdout",
     "output_type": "stream",
     "text": [
      "Relación entre chuaylla@unsa.edu.pe y fmirandaa@unsa.edu.pe \n",
      "\n",
      "\n",
      "\t\tDistancia =  4.123105625617661\n",
      "\t\tSimilitud =  0.1951941016011038\n"
     ]
    }
   ],
   "source": [
    "print('Relación entre',m[3],'y',m[20],'\\n\\n')\n",
    "dist = euclidean(n[3],n[20])\n",
    "\n",
    "print('\\t\\tDistancia = ', dist)\n",
    "\n",
    "simil = 1/(1+dist)\n",
    "\n",
    "print('\\t\\tSimilitud = ', simil)"
   ]
  },
  {
   "cell_type": "markdown",
   "metadata": {},
   "source": [
    "## jquempes@unsa.edu.pe\tcon todos"
   ]
  },
  {
   "cell_type": "code",
   "execution_count": 100,
   "metadata": {},
   "outputs": [
    {
     "name": "stdout",
     "output_type": "stream",
     "text": [
      "Relación entre jquempes@unsa.edu.pe y mloayzam@unsa.edu.pe \n",
      "\n",
      "\n",
      "\t\tDistancia =  9.0\n",
      "\t\tSimilitud =  0.1\n"
     ]
    }
   ],
   "source": [
    "print('Relación entre',m[4],'y',m[5],'\\n\\n')\n",
    "dist = euclidean(n[4],n[5])\n",
    "\n",
    "print('\\t\\tDistancia = ', dist)\n",
    "\n",
    "simil = 1/(1+dist)\n",
    "\n",
    "print('\\t\\tSimilitud = ', simil)"
   ]
  },
  {
   "cell_type": "code",
   "execution_count": 102,
   "metadata": {},
   "outputs": [
    {
     "name": "stdout",
     "output_type": "stream",
     "text": [
      "Relación entre jquempes@unsa.edu.pe y bbeltrand@unsa.edu.pe \n",
      "\n",
      "\n",
      "\t\tDistancia =  11.0\n",
      "\t\tSimilitud =  0.08333333333333333\n"
     ]
    }
   ],
   "source": [
    "print('Relación entre',m[4],'y',m[6],'\\n\\n')\n",
    "dist = euclidean(n[4],n[6])\n",
    "\n",
    "print('\\t\\tDistancia = ', dist)\n",
    "\n",
    "simil = 1/(1+dist)\n",
    "\n",
    "print('\\t\\tSimilitud = ', simil)"
   ]
  },
  {
   "cell_type": "code",
   "execution_count": 103,
   "metadata": {},
   "outputs": [
    {
     "name": "stdout",
     "output_type": "stream",
     "text": [
      "Relación entre jquempes@unsa.edu.pe y ssoriaq@unsa.edu.pe \n",
      "\n",
      "\n",
      "\t\tDistancia =  10.535653752852738\n",
      "\t\tSimilitud =  0.08668776138957036\n"
     ]
    }
   ],
   "source": [
    "print('Relación entre',m[4],'y',m[7],'\\n\\n')\n",
    "dist = euclidean(n[4],n[7])\n",
    "\n",
    "print('\\t\\tDistancia = ', dist)\n",
    "\n",
    "simil = 1/(1+dist)\n",
    "\n",
    "print('\\t\\tSimilitud = ', simil)"
   ]
  },
  {
   "cell_type": "code",
   "execution_count": 104,
   "metadata": {},
   "outputs": [
    {
     "name": "stdout",
     "output_type": "stream",
     "text": [
      "Relación entre jquempes@unsa.edu.pe y jquispebar@unsa.edu.pe \n",
      "\n",
      "\n",
      "\t\tDistancia =  11.61895003862225\n",
      "\t\tSimilitud =  0.07924589581061381\n"
     ]
    }
   ],
   "source": [
    "print('Relación entre',m[4],'y',m[8],'\\n\\n')\n",
    "dist = euclidean(n[4],n[8])\n",
    "\n",
    "print('\\t\\tDistancia = ', dist)\n",
    "\n",
    "simil = 1/(1+dist)\n",
    "\n",
    "print('\\t\\tSimilitud = ', simil)"
   ]
  },
  {
   "cell_type": "code",
   "execution_count": 105,
   "metadata": {},
   "outputs": [
    {
     "name": "stdout",
     "output_type": "stream",
     "text": [
      "Relación entre jquempes@unsa.edu.pe y spaucav@unsa.edu.pe \n",
      "\n",
      "\n",
      "\t\tDistancia =  10.04987562112089\n",
      "\t\tSimilitud =  0.09049875621120891\n"
     ]
    }
   ],
   "source": [
    "print('Relación entre',m[4],'y',m[9],'\\n\\n')\n",
    "dist = euclidean(n[4],n[9])\n",
    "\n",
    "print('\\t\\tDistancia = ', dist)\n",
    "\n",
    "simil = 1/(1+dist)\n",
    "\n",
    "print('\\t\\tSimilitud = ', simil)"
   ]
  },
  {
   "cell_type": "code",
   "execution_count": 106,
   "metadata": {},
   "outputs": [
    {
     "name": "stdout",
     "output_type": "stream",
     "text": [
      "Relación entre jquempes@unsa.edu.pe y harenaza@unsa.edu.pe \n",
      "\n",
      "\n",
      "\t\tDistancia =  9.38083151964686\n",
      "\t\tSimilitud =  0.09633139677755011\n"
     ]
    }
   ],
   "source": [
    "print('Relación entre',m[4],'y',m[10],'\\n\\n')\n",
    "dist = euclidean(n[4],n[10])\n",
    "\n",
    "print('\\t\\tDistancia = ', dist)\n",
    "\n",
    "simil = 1/(1+dist)\n",
    "\n",
    "print('\\t\\tSimilitud = ', simil)"
   ]
  },
  {
   "cell_type": "code",
   "execution_count": 110,
   "metadata": {},
   "outputs": [
    {
     "name": "stdout",
     "output_type": "stream",
     "text": [
      "Relación entre jquempes@unsa.edu.pe y jvillenav@unsa.edu.pe \n",
      "\n",
      "\n",
      "\t\tDistancia =  9.591663046625438\n",
      "\t\tSimilitud =  0.09441387963324659\n"
     ]
    }
   ],
   "source": [
    "print('Relación entre',m[4],'y',m[11],'\\n\\n')\n",
    "dist = euclidean(n[4],n[11])\n",
    "\n",
    "print('\\t\\tDistancia = ', dist)\n",
    "\n",
    "simil = 1/(1+dist)\n",
    "\n",
    "print('\\t\\tSimilitud = ', simil)"
   ]
  },
  {
   "cell_type": "code",
   "execution_count": 108,
   "metadata": {},
   "outputs": [
    {
     "name": "stdout",
     "output_type": "stream",
     "text": [
      "Relación entre jquempes@unsa.edu.pe y lessly25huacan@gmail.com \n",
      "\n",
      "\n",
      "\t\tDistancia =  11.0\n",
      "\t\tSimilitud =  0.08333333333333333\n"
     ]
    }
   ],
   "source": [
    "print('Relación entre',m[4],'y',m[12],'\\n\\n')\n",
    "dist = euclidean(n[4],n[12])\n",
    "\n",
    "print('\\t\\tDistancia = ', dist)\n",
    "\n",
    "simil = 1/(1+dist)\n",
    "\n",
    "print('\\t\\tSimilitud = ', simil)"
   ]
  },
  {
   "cell_type": "code",
   "execution_count": 109,
   "metadata": {},
   "outputs": [
    {
     "name": "stdout",
     "output_type": "stream",
     "text": [
      "Relación entre jquempes@unsa.edu.pe y mfloreschav@unsa.edu.pe \n",
      "\n",
      "\n",
      "\t\tDistancia =  12.529964086141668\n",
      "\t\tSimilitud =  0.07391002619321582\n"
     ]
    }
   ],
   "source": [
    "print('Relación entre',m[4],'y',m[13],'\\n\\n')\n",
    "dist = euclidean(n[4],n[13])\n",
    "\n",
    "print('\\t\\tDistancia = ', dist)\n",
    "\n",
    "simil = 1/(1+dist)\n",
    "\n",
    "print('\\t\\tSimilitud = ', simil)"
   ]
  },
  {
   "cell_type": "code",
   "execution_count": 111,
   "metadata": {},
   "outputs": [
    {
     "name": "stdout",
     "output_type": "stream",
     "text": [
      "Relación entre jquempes@unsa.edu.pe y ruizcruza9@gmail.com \n",
      "\n",
      "\n",
      "\t\tDistancia =  8.602325267042627\n",
      "\t\tSimilitud =  0.10414144201428256\n"
     ]
    }
   ],
   "source": [
    "print('Relación entre',m[4],'y',m[14],'\\n\\n')\n",
    "dist = euclidean(n[4],n[14])\n",
    "\n",
    "print('\\t\\tDistancia = ', dist)\n",
    "\n",
    "simil = 1/(1+dist)\n",
    "\n",
    "print('\\t\\tSimilitud = ', simil)"
   ]
  },
  {
   "cell_type": "code",
   "execution_count": 112,
   "metadata": {},
   "outputs": [
    {
     "name": "stdout",
     "output_type": "stream",
     "text": [
      "Relación entre jquempes@unsa.edu.pe y jlagunam@unsa.edu.pe \n",
      "\n",
      "\n",
      "\t\tDistancia =  11.0\n",
      "\t\tSimilitud =  0.08333333333333333\n"
     ]
    }
   ],
   "source": [
    "print('Relación entre',m[4],'y',m[15],'\\n\\n')\n",
    "dist = euclidean(n[4],n[15])\n",
    "\n",
    "print('\\t\\tDistancia = ', dist)\n",
    "\n",
    "simil = 1/(1+dist)\n",
    "\n",
    "print('\\t\\tSimilitud = ', simil)"
   ]
  },
  {
   "cell_type": "code",
   "execution_count": 115,
   "metadata": {},
   "outputs": [
    {
     "name": "stdout",
     "output_type": "stream",
     "text": [
      "Relación entre jquempes@unsa.edu.pe y jvaleroc@unsa.edu.pe \n",
      "\n",
      "\n",
      "\t\tDistancia =  10.908712114635714\n",
      "\t\tSimilitud =  0.08397213656470945\n"
     ]
    }
   ],
   "source": [
    "print('Relación entre',m[4],'y',m[16],'\\n\\n')\n",
    "dist = euclidean(n[4],n[16])\n",
    "\n",
    "print('\\t\\tDistancia = ', dist)\n",
    "\n",
    "simil = 1/(1+dist)\n",
    "\n",
    "print('\\t\\tSimilitud = ', simil)"
   ]
  },
  {
   "cell_type": "code",
   "execution_count": 116,
   "metadata": {},
   "outputs": [
    {
     "name": "stdout",
     "output_type": "stream",
     "text": [
      "Relación entre jquempes@unsa.edu.pe y joselyn.qa.20@gmail.com \n",
      "\n",
      "\n",
      "\t\tDistancia =  11.269427669584644\n",
      "\t\tSimilitud =  0.08150339420305275\n"
     ]
    }
   ],
   "source": [
    "print('Relación entre',m[4],'y',m[17],'\\n\\n')\n",
    "dist = euclidean(n[4],n[17])\n",
    "\n",
    "print('\\t\\tDistancia = ', dist)\n",
    "\n",
    "simil = 1/(1+dist)\n",
    "\n",
    "print('\\t\\tSimilitud = ', simil)"
   ]
  },
  {
   "cell_type": "code",
   "execution_count": 118,
   "metadata": {},
   "outputs": [
    {
     "name": "stdout",
     "output_type": "stream",
     "text": [
      "Relación entre jquempes@unsa.edu.pe y chemystry03@gmail.com \n",
      "\n",
      "\n",
      "\t\tDistancia =  11.832159566199232\n",
      "\t\tSimilitud =  0.0779292055122247\n"
     ]
    }
   ],
   "source": [
    "print('Relación entre',m[4],'y',m[18],'\\n\\n')\n",
    "dist = euclidean(n[4],n[18])\n",
    "\n",
    "print('\\t\\tDistancia = ', dist)\n",
    "\n",
    "simil = 1/(1+dist)\n",
    "\n",
    "print('\\t\\tSimilitud = ', simil)"
   ]
  },
  {
   "cell_type": "code",
   "execution_count": 119,
   "metadata": {},
   "outputs": [
    {
     "name": "stdout",
     "output_type": "stream",
     "text": [
      "Relación entre jquempes@unsa.edu.pe y huamanidana@gmail.com \n",
      "\n",
      "\n",
      "\t\tDistancia =  11.532562594670797\n",
      "\t\tSimilitud =  0.07979214086871815\n"
     ]
    }
   ],
   "source": [
    "print('Relación entre',m[4],'y',m[19],'\\n\\n')\n",
    "dist = euclidean(n[4],n[19])\n",
    "\n",
    "print('\\t\\tDistancia = ', dist)\n",
    "\n",
    "simil = 1/(1+dist)\n",
    "\n",
    "print('\\t\\tSimilitud = ', simil)"
   ]
  },
  {
   "cell_type": "code",
   "execution_count": 120,
   "metadata": {},
   "outputs": [
    {
     "name": "stdout",
     "output_type": "stream",
     "text": [
      "Relación entre jquempes@unsa.edu.pe y fmirandaa@unsa.edu.pe \n",
      "\n",
      "\n",
      "\t\tDistancia =  11.357816691600547\n",
      "\t\tSimilitud =  0.08092044290312927\n"
     ]
    }
   ],
   "source": [
    "print('Relación entre',m[4],'y',m[20],'\\n\\n')\n",
    "dist = euclidean(n[4],n[20])\n",
    "\n",
    "print('\\t\\tDistancia = ', dist)\n",
    "\n",
    "simil = 1/(1+dist)\n",
    "\n",
    "print('\\t\\tSimilitud = ', simil)"
   ]
  },
  {
   "cell_type": "markdown",
   "metadata": {},
   "source": [
    "## mloayzam@unsa.edu.pe con todos"
   ]
  },
  {
   "cell_type": "code",
   "execution_count": 124,
   "metadata": {},
   "outputs": [
    {
     "name": "stdout",
     "output_type": "stream",
     "text": [
      "Relación entre mloayzam@unsa.edu.pe y bbeltrand@unsa.edu.pe \n",
      "\n",
      "\n",
      "\t\tDistancia =  7.3484692283495345\n",
      "\t\tSimilitud =  0.11978243827074593\n"
     ]
    }
   ],
   "source": [
    "print('Relación entre',m[5],'y',m[6],'\\n\\n')\n",
    "dist = euclidean(n[5],n[6])\n",
    "\n",
    "print('\\t\\tDistancia = ', dist)\n",
    "\n",
    "simil = 1/(1+dist)\n",
    "\n",
    "print('\\t\\tSimilitud = ', simil)"
   ]
  },
  {
   "cell_type": "code",
   "execution_count": 125,
   "metadata": {},
   "outputs": [
    {
     "name": "stdout",
     "output_type": "stream",
     "text": [
      "Relación entre mloayzam@unsa.edu.pe y ssoriaq@unsa.edu.pe \n",
      "\n",
      "\n",
      "\t\tDistancia =  8.94427190999916\n",
      "\t\tSimilitud =  0.10056040392403998\n"
     ]
    }
   ],
   "source": [
    "print('Relación entre',m[5],'y',m[7],'\\n\\n')\n",
    "dist = euclidean(n[5],n[7])\n",
    "\n",
    "print('\\t\\tDistancia = ', dist)\n",
    "\n",
    "simil = 1/(1+dist)\n",
    "\n",
    "print('\\t\\tSimilitud = ', simil)"
   ]
  },
  {
   "cell_type": "code",
   "execution_count": 126,
   "metadata": {},
   "outputs": [
    {
     "name": "stdout",
     "output_type": "stream",
     "text": [
      "Relación entre mloayzam@unsa.edu.pe y jquispebar@unsa.edu.pe \n",
      "\n",
      "\n",
      "\t\tDistancia =  10.198039027185569\n",
      "\t\tSimilitud =  0.08930134977850068\n"
     ]
    }
   ],
   "source": [
    "print('Relación entre',m[5],'y',m[8],'\\n\\n')\n",
    "dist = euclidean(n[5],n[8])\n",
    "\n",
    "print('\\t\\tDistancia = ', dist)\n",
    "\n",
    "simil = 1/(1+dist)\n",
    "\n",
    "print('\\t\\tSimilitud = ', simil)"
   ]
  },
  {
   "cell_type": "code",
   "execution_count": 128,
   "metadata": {},
   "outputs": [
    {
     "name": "stdout",
     "output_type": "stream",
     "text": [
      "Relación entre mloayzam@unsa.edu.pe y spaucav@unsa.edu.pe \n",
      "\n",
      "\n",
      "\t\tDistancia =  7.211102550927978\n",
      "\t\tSimilitud =  0.12178632452799958\n"
     ]
    }
   ],
   "source": [
    "print('Relación entre',m[5],'y',m[9],'\\n\\n')\n",
    "dist = euclidean(n[5],n[9])\n",
    "\n",
    "print('\\t\\tDistancia = ', dist)\n",
    "\n",
    "simil = 1/(1+dist)\n",
    "\n",
    "print('\\t\\tSimilitud = ', simil)"
   ]
  },
  {
   "cell_type": "code",
   "execution_count": 129,
   "metadata": {},
   "outputs": [
    {
     "name": "stdout",
     "output_type": "stream",
     "text": [
      "Relación entre mloayzam@unsa.edu.pe y harenaza@unsa.edu.pe \n",
      "\n",
      "\n",
      "\t\tDistancia =  7.681145747868608\n",
      "\t\tSimilitud =  0.11519216806670013\n"
     ]
    }
   ],
   "source": [
    "print('Relación entre',m[5],'y',m[10],'\\n\\n')\n",
    "dist = euclidean(n[5],n[10])\n",
    "\n",
    "print('\\t\\tDistancia = ', dist)\n",
    "\n",
    "simil = 1/(1+dist)\n",
    "\n",
    "print('\\t\\tSimilitud = ', simil)"
   ]
  },
  {
   "cell_type": "code",
   "execution_count": 130,
   "metadata": {},
   "outputs": [
    {
     "name": "stdout",
     "output_type": "stream",
     "text": [
      "Relación entre mloayzam@unsa.edu.pe y jvillenav@unsa.edu.pe \n",
      "\n",
      "\n",
      "\t\tDistancia =  8.426149773176359\n",
      "\t\tSimilitud =  0.1060878539025194\n"
     ]
    }
   ],
   "source": [
    "print('Relación entre',m[5],'y',m[11],'\\n\\n')\n",
    "dist = euclidean(n[5],n[11])\n",
    "\n",
    "print('\\t\\tDistancia = ', dist)\n",
    "\n",
    "simil = 1/(1+dist)\n",
    "\n",
    "print('\\t\\tSimilitud = ', simil)"
   ]
  },
  {
   "cell_type": "code",
   "execution_count": 131,
   "metadata": {},
   "outputs": [
    {
     "name": "stdout",
     "output_type": "stream",
     "text": [
      "Relación entre mloayzam@unsa.edu.pe y lessly25huacan@gmail.com \n",
      "\n",
      "\n",
      "\t\tDistancia =  8.246211251235321\n",
      "\t\tSimilitud =  0.10815240673485554\n"
     ]
    }
   ],
   "source": [
    "print('Relación entre',m[5],'y',m[12],'\\n\\n')\n",
    "dist = euclidean(n[5],n[12])\n",
    "\n",
    "print('\\t\\tDistancia = ', dist)\n",
    "\n",
    "simil = 1/(1+dist)\n",
    "\n",
    "print('\\t\\tSimilitud = ', simil)"
   ]
  },
  {
   "cell_type": "code",
   "execution_count": 132,
   "metadata": {},
   "outputs": [
    {
     "name": "stdout",
     "output_type": "stream",
     "text": [
      "Relación entre mloayzam@unsa.edu.pe y mfloreschav@unsa.edu.pe \n",
      "\n",
      "\n",
      "\t\tDistancia =  11.313708498984761\n",
      "\t\tSimilitud =  0.08121030314161228\n"
     ]
    }
   ],
   "source": [
    "print('Relación entre',m[5],'y',m[13],'\\n\\n')\n",
    "dist = euclidean(n[5],n[13])\n",
    "\n",
    "print('\\t\\tDistancia = ', dist)\n",
    "\n",
    "simil = 1/(1+dist)\n",
    "\n",
    "print('\\t\\tSimilitud = ', simil)"
   ]
  },
  {
   "cell_type": "code",
   "execution_count": 133,
   "metadata": {},
   "outputs": [
    {
     "name": "stdout",
     "output_type": "stream",
     "text": [
      "Relación entre mloayzam@unsa.edu.pe y ruizcruza9@gmail.com \n",
      "\n",
      "\n",
      "\t\tDistancia =  5.196152422706632\n",
      "\t\tSimilitud =  0.16139047779640892\n"
     ]
    }
   ],
   "source": [
    "print('Relación entre',m[5],'y',m[14],'\\n\\n')\n",
    "dist = euclidean(n[5],n[14])\n",
    "\n",
    "print('\\t\\tDistancia = ', dist)\n",
    "\n",
    "simil = 1/(1+dist)\n",
    "\n",
    "print('\\t\\tSimilitud = ', simil)"
   ]
  },
  {
   "cell_type": "code",
   "execution_count": 134,
   "metadata": {},
   "outputs": [
    {
     "name": "stdout",
     "output_type": "stream",
     "text": [
      "Relación entre mloayzam@unsa.edu.pe y jlagunam@unsa.edu.pe \n",
      "\n",
      "\n",
      "\t\tDistancia =  9.797958971132712\n",
      "\t\tSimilitud =  0.09261009443297592\n"
     ]
    }
   ],
   "source": [
    "print('Relación entre',m[5],'y',m[15],'\\n\\n')\n",
    "dist = euclidean(n[5],n[15])\n",
    "\n",
    "print('\\t\\tDistancia = ', dist)\n",
    "\n",
    "simil = 1/(1+dist)\n",
    "\n",
    "print('\\t\\tSimilitud = ', simil)"
   ]
  },
  {
   "cell_type": "code",
   "execution_count": 135,
   "metadata": {},
   "outputs": [
    {
     "name": "stdout",
     "output_type": "stream",
     "text": [
      "Relación entre mloayzam@unsa.edu.pe y jvaleroc@unsa.edu.pe \n",
      "\n",
      "\n",
      "\t\tDistancia =  8.12403840463596\n",
      "\t\tSimilitud =  0.10960059084055324\n"
     ]
    }
   ],
   "source": [
    "print('Relación entre',m[5],'y',m[16],'\\n\\n')\n",
    "dist = euclidean(n[5],n[16])\n",
    "\n",
    "print('\\t\\tDistancia = ', dist)\n",
    "\n",
    "simil = 1/(1+dist)\n",
    "\n",
    "print('\\t\\tSimilitud = ', simil)"
   ]
  },
  {
   "cell_type": "code",
   "execution_count": 136,
   "metadata": {},
   "outputs": [
    {
     "name": "stdout",
     "output_type": "stream",
     "text": [
      "Relación entre mloayzam@unsa.edu.pe y joselyn.qa.20@gmail.com \n",
      "\n",
      "\n",
      "\t\tDistancia =  6.782329983125268\n",
      "\t\tSimilitud =  0.12849622184722817\n"
     ]
    }
   ],
   "source": [
    "print('Relación entre',m[5],'y',m[17],'\\n\\n')\n",
    "dist = euclidean(n[5],n[17])\n",
    "\n",
    "print('\\t\\tDistancia = ', dist)\n",
    "\n",
    "simil = 1/(1+dist)\n",
    "\n",
    "print('\\t\\tSimilitud = ', simil)"
   ]
  },
  {
   "cell_type": "code",
   "execution_count": 137,
   "metadata": {},
   "outputs": [
    {
     "name": "stdout",
     "output_type": "stream",
     "text": [
      "Relación entre mloayzam@unsa.edu.pe y chemystry03@gmail.com \n",
      "\n",
      "\n",
      "\t\tDistancia =  9.643650760992955\n",
      "\t\tSimilitud =  0.0939527256629669\n"
     ]
    }
   ],
   "source": [
    "print('Relación entre',m[5],'y',m[18],'\\n\\n')\n",
    "dist = euclidean(n[5],n[18])\n",
    "\n",
    "print('\\t\\tDistancia = ', dist)\n",
    "\n",
    "simil = 1/(1+dist)\n",
    "\n",
    "print('\\t\\tSimilitud = ', simil)"
   ]
  },
  {
   "cell_type": "code",
   "execution_count": 140,
   "metadata": {},
   "outputs": [
    {
     "name": "stdout",
     "output_type": "stream",
     "text": [
      "Relación entre mloayzam@unsa.edu.pe y huamanidana@gmail.com \n",
      "\n",
      "\n",
      "\t\tDistancia =  8.831760866327848\n",
      "\t\tSimilitud =  0.10171118008217982\n"
     ]
    }
   ],
   "source": [
    "print('Relación entre',m[5],'y',m[19],'\\n\\n')\n",
    "dist = euclidean(n[5],n[19])\n",
    "\n",
    "print('\\t\\tDistancia = ', dist)\n",
    "\n",
    "simil = 1/(1+dist)\n",
    "\n",
    "print('\\t\\tSimilitud = ', simil)"
   ]
  },
  {
   "cell_type": "code",
   "execution_count": 141,
   "metadata": {},
   "outputs": [
    {
     "name": "stdout",
     "output_type": "stream",
     "text": [
      "Relación entre mloayzam@unsa.edu.pe y fmirandaa@unsa.edu.pe \n",
      "\n",
      "\n",
      "\t\tDistancia =  8.717797887081348\n",
      "\t\tSimilitud =  0.10290397182775128\n"
     ]
    }
   ],
   "source": [
    "print('Relación entre',m[5],'y',m[20],'\\n\\n')\n",
    "dist = euclidean(n[5],n[20])\n",
    "\n",
    "print('\\t\\tDistancia = ', dist)\n",
    "\n",
    "simil = 1/(1+dist)\n",
    "\n",
    "print('\\t\\tSimilitud = ', simil)"
   ]
  },
  {
   "cell_type": "markdown",
   "metadata": {},
   "source": [
    "## bbeltrand@unsa.edu.pe con todos"
   ]
  },
  {
   "cell_type": "code",
   "execution_count": 142,
   "metadata": {},
   "outputs": [
    {
     "name": "stdout",
     "output_type": "stream",
     "text": [
      "Relación entre bbeltrand@unsa.edu.pe y ssoriaq@unsa.edu.pe \n",
      "\n",
      "\n",
      "\t\tDistancia =  7.211102550927978\n",
      "\t\tSimilitud =  0.12178632452799958\n"
     ]
    }
   ],
   "source": [
    "print('Relación entre',m[6],'y',m[7],'\\n\\n')\n",
    "dist = euclidean(n[6],n[7])\n",
    "\n",
    "print('\\t\\tDistancia = ', dist)\n",
    "\n",
    "simil = 1/(1+dist)\n",
    "\n",
    "print('\\t\\tSimilitud = ', simil)"
   ]
  },
  {
   "cell_type": "code",
   "execution_count": 147,
   "metadata": {},
   "outputs": [
    {
     "name": "stdout",
     "output_type": "stream",
     "text": [
      "Relación entre bbeltrand@unsa.edu.pe y jquispebar@unsa.edu.pe \n",
      "\n",
      "\n",
      "\t\tDistancia =  7.615773105863909\n",
      "\t\tSimilitud =  0.11606619483971768\n"
     ]
    }
   ],
   "source": [
    "print('Relación entre',m[6],'y',m[8],'\\n\\n')\n",
    "dist = euclidean(n[6],n[8])\n",
    "\n",
    "print('\\t\\tDistancia = ', dist)\n",
    "\n",
    "simil = 1/(1+dist)\n",
    "\n",
    "print('\\t\\tSimilitud = ', simil)"
   ]
  },
  {
   "cell_type": "code",
   "execution_count": 161,
   "metadata": {},
   "outputs": [
    {
     "name": "stdout",
     "output_type": "stream",
     "text": [
      "Relación entre bbeltrand@unsa.edu.pe y spaucav@unsa.edu.pe \n",
      "\n",
      "\n",
      "\t\tDistancia =  5.656854249492381\n",
      "\t\tSimilitud =  0.15022110482233483\n"
     ]
    }
   ],
   "source": [
    "print('Relación entre',m[6],'y',m[9],'\\n\\n')\n",
    "dist = euclidean(n[6],n[9])\n",
    "\n",
    "print('\\t\\tDistancia = ', dist)\n",
    "\n",
    "simil = 1/(1+dist)\n",
    "\n",
    "print('\\t\\tSimilitud = ', simil)"
   ]
  },
  {
   "cell_type": "code",
   "execution_count": 150,
   "metadata": {},
   "outputs": [
    {
     "name": "stdout",
     "output_type": "stream",
     "text": [
      "Relación entre bbeltrand@unsa.edu.pe y harenaza@unsa.edu.pe \n",
      "\n",
      "\n",
      "\t\tDistancia =  4.58257569495584\n",
      "\t\tSimilitud =  0.179128784747792\n"
     ]
    }
   ],
   "source": [
    "print('Relación entre',m[6],'y',m[10],'\\n\\n')\n",
    "dist = euclidean(n[6],n[10])\n",
    "\n",
    "print('\\t\\tDistancia = ', dist)\n",
    "\n",
    "simil = 1/(1+dist)\n",
    "\n",
    "print('\\t\\tSimilitud = ', simil)"
   ]
  },
  {
   "cell_type": "code",
   "execution_count": 151,
   "metadata": {},
   "outputs": [
    {
     "name": "stdout",
     "output_type": "stream",
     "text": [
      "Relación entre bbeltrand@unsa.edu.pe y jvillenav@unsa.edu.pe \n",
      "\n",
      "\n",
      "\t\tDistancia =  5.744562646538029\n",
      "\t\tSimilitud =  0.1482675827043134\n"
     ]
    }
   ],
   "source": [
    "print('Relación entre',m[6],'y',m[11],'\\n\\n')\n",
    "dist = euclidean(n[6],n[11])\n",
    "\n",
    "print('\\t\\tDistancia = ', dist)\n",
    "\n",
    "simil = 1/(1+dist)\n",
    "\n",
    "print('\\t\\tSimilitud = ', simil)"
   ]
  },
  {
   "cell_type": "code",
   "execution_count": 160,
   "metadata": {},
   "outputs": [
    {
     "name": "stdout",
     "output_type": "stream",
     "text": [
      "Relación entre bbeltrand@unsa.edu.pe y lessly25huacan@gmail.com \n",
      "\n",
      "\n",
      "\t\tDistancia =  5.656854249492381\n",
      "\t\tSimilitud =  0.15022110482233483\n"
     ]
    }
   ],
   "source": [
    "print('Relación entre',m[6],'y',m[12],'\\n\\n')\n",
    "dist = euclidean(n[6],n[12])\n",
    "\n",
    "print('\\t\\tDistancia = ', dist)\n",
    "\n",
    "simil = 1/(1+dist)\n",
    "\n",
    "print('\\t\\tSimilitud = ', simil)"
   ]
  },
  {
   "cell_type": "code",
   "execution_count": 159,
   "metadata": {},
   "outputs": [
    {
     "name": "stdout",
     "output_type": "stream",
     "text": [
      "Relación entre bbeltrand@unsa.edu.pe y mfloreschav@unsa.edu.pe \n",
      "\n",
      "\n",
      "\t\tDistancia =  7.3484692283495345\n",
      "\t\tSimilitud =  0.11978243827074593\n"
     ]
    }
   ],
   "source": [
    "print('Relación entre',m[6],'y',m[13],'\\n\\n')\n",
    "dist = euclidean(n[6],n[13])\n",
    "\n",
    "print('\\t\\tDistancia = ', dist)\n",
    "\n",
    "simil = 1/(1+dist)\n",
    "\n",
    "print('\\t\\tSimilitud = ', simil)"
   ]
  },
  {
   "cell_type": "code",
   "execution_count": 158,
   "metadata": {},
   "outputs": [
    {
     "name": "stdout",
     "output_type": "stream",
     "text": [
      "Relación entre bbeltrand@unsa.edu.pe y ruizcruza9@gmail.com \n",
      "\n",
      "\n",
      "\t\tDistancia =  8.660254037844387\n",
      "\t\tSimilitud =  0.10351694645735657\n"
     ]
    }
   ],
   "source": [
    "print('Relación entre',m[6],'y',m[14],'\\n\\n')\n",
    "dist = euclidean(n[6],n[14])\n",
    "\n",
    "print('\\t\\tDistancia = ', dist)\n",
    "\n",
    "simil = 1/(1+dist)\n",
    "\n",
    "print('\\t\\tSimilitud = ', simil)"
   ]
  },
  {
   "cell_type": "code",
   "execution_count": 157,
   "metadata": {},
   "outputs": [
    {
     "name": "stdout",
     "output_type": "stream",
     "text": [
      "Relación entre bbeltrand@unsa.edu.pe y jlagunam@unsa.edu.pe \n",
      "\n",
      "\n",
      "\t\tDistancia =  6.164414002968976\n",
      "\t\tSimilitud =  0.13957875683699938\n"
     ]
    }
   ],
   "source": [
    "print('Relación entre',m[6],'y',m[15],'\\n\\n')\n",
    "dist = euclidean(n[6],n[15])\n",
    "\n",
    "print('\\t\\tDistancia = ', dist)\n",
    "\n",
    "simil = 1/(1+dist)\n",
    "\n",
    "print('\\t\\tSimilitud = ', simil)"
   ]
  },
  {
   "cell_type": "code",
   "execution_count": 156,
   "metadata": {},
   "outputs": [
    {
     "name": "stdout",
     "output_type": "stream",
     "text": [
      "Relación entre bbeltrand@unsa.edu.pe y jvaleroc@unsa.edu.pe \n",
      "\n",
      "\n",
      "\t\tDistancia =  4.69041575982343\n",
      "\t\tSimilitud =  0.1757340838011157\n"
     ]
    }
   ],
   "source": [
    "print('Relación entre',m[6],'y',m[16],'\\n\\n')\n",
    "dist = euclidean(n[6],n[16])\n",
    "\n",
    "print('\\t\\tDistancia = ', dist)\n",
    "\n",
    "simil = 1/(1+dist)\n",
    "\n",
    "print('\\t\\tSimilitud = ', simil)"
   ]
  },
  {
   "cell_type": "code",
   "execution_count": 162,
   "metadata": {},
   "outputs": [
    {
     "name": "stdout",
     "output_type": "stream",
     "text": [
      "Relación entre bbeltrand@unsa.edu.pe y joselyn.qa.20@gmail.com \n",
      "\n",
      "\n",
      "\t\tDistancia =  6.782329983125268\n",
      "\t\tSimilitud =  0.12849622184722817\n"
     ]
    }
   ],
   "source": [
    "print('Relación entre',m[6],'y',m[17],'\\n\\n')\n",
    "dist = euclidean(n[6],n[17])\n",
    "\n",
    "print('\\t\\tDistancia = ', dist)\n",
    "\n",
    "simil = 1/(1+dist)\n",
    "\n",
    "print('\\t\\tSimilitud = ', simil)"
   ]
  },
  {
   "cell_type": "code",
   "execution_count": 163,
   "metadata": {},
   "outputs": [
    {
     "name": "stdout",
     "output_type": "stream",
     "text": [
      "Relación entre bbeltrand@unsa.edu.pe y chemystry03@gmail.com \n",
      "\n",
      "\n",
      "\t\tDistancia =  8.06225774829855\n",
      "\t\tSimilitud =  0.11034777731716484\n"
     ]
    }
   ],
   "source": [
    "print('Relación entre',m[6],'y',m[18],'\\n\\n')\n",
    "dist = euclidean(n[6],n[18])\n",
    "\n",
    "print('\\t\\tDistancia = ', dist)\n",
    "\n",
    "simil = 1/(1+dist)\n",
    "\n",
    "print('\\t\\tSimilitud = ', simil)"
   ]
  },
  {
   "cell_type": "code",
   "execution_count": 164,
   "metadata": {},
   "outputs": [
    {
     "name": "stdout",
     "output_type": "stream",
     "text": [
      "Relación entre bbeltrand@unsa.edu.pe y huamanidana@gmail.com \n",
      "\n",
      "\n",
      "\t\tDistancia =  6.164414002968976\n",
      "\t\tSimilitud =  0.13957875683699938\n"
     ]
    }
   ],
   "source": [
    "print('Relación entre',m[6],'y',m[19],'\\n\\n')\n",
    "dist = euclidean(n[6],n[19])\n",
    "\n",
    "print('\\t\\tDistancia = ', dist)\n",
    "\n",
    "simil = 1/(1+dist)\n",
    "\n",
    "print('\\t\\tSimilitud = ', simil)"
   ]
  },
  {
   "cell_type": "code",
   "execution_count": 165,
   "metadata": {},
   "outputs": [
    {
     "name": "stdout",
     "output_type": "stream",
     "text": [
      "Relación entre bbeltrand@unsa.edu.pe y fmirandaa@unsa.edu.pe \n",
      "\n",
      "\n",
      "\t\tDistancia =  6.48074069840786\n",
      "\t\tSimilitud =  0.13367660240019172\n"
     ]
    }
   ],
   "source": [
    "print('Relación entre',m[6],'y',m[20],'\\n\\n')\n",
    "dist = euclidean(n[6],n[20])\n",
    "\n",
    "print('\\t\\tDistancia = ', dist)\n",
    "\n",
    "simil = 1/(1+dist)\n",
    "\n",
    "print('\\t\\tSimilitud = ', simil)"
   ]
  },
  {
   "cell_type": "markdown",
   "metadata": {},
   "source": [
    "## ssoriaq@unsa.edu.pe con todos"
   ]
  },
  {
   "cell_type": "code",
   "execution_count": 169,
   "metadata": {},
   "outputs": [
    {
     "name": "stdout",
     "output_type": "stream",
     "text": [
      "Relación entre ssoriaq@unsa.edu.pe y jquispebar@unsa.edu.pe \n",
      "\n",
      "\n",
      "\t\tDistancia =  6.0\n",
      "\t\tSimilitud =  0.14285714285714285\n"
     ]
    }
   ],
   "source": [
    "print('Relación entre',m[7],'y',m[8],'\\n\\n')\n",
    "dist = euclidean(n[7],n[8])\n",
    "\n",
    "print('\\t\\tDistancia = ', dist)\n",
    "\n",
    "simil = 1/(1+dist)\n",
    "\n",
    "print('\\t\\tSimilitud = ', simil)"
   ]
  },
  {
   "cell_type": "code",
   "execution_count": 170,
   "metadata": {},
   "outputs": [
    {
     "name": "stdout",
     "output_type": "stream",
     "text": [
      "Relación entre ssoriaq@unsa.edu.pe y spaucav@unsa.edu.pe \n",
      "\n",
      "\n",
      "\t\tDistancia =  6.0\n",
      "\t\tSimilitud =  0.14285714285714285\n"
     ]
    }
   ],
   "source": [
    "print('Relación entre',m[7],'y',m[9],'\\n\\n')\n",
    "dist = euclidean(n[7],n[9])\n",
    "\n",
    "print('\\t\\tDistancia = ', dist)\n",
    "\n",
    "simil = 1/(1+dist)\n",
    "\n",
    "print('\\t\\tSimilitud = ', simil)"
   ]
  },
  {
   "cell_type": "code",
   "execution_count": 171,
   "metadata": {},
   "outputs": [
    {
     "name": "stdout",
     "output_type": "stream",
     "text": [
      "Relación entre ssoriaq@unsa.edu.pe y harenaza@unsa.edu.pe \n",
      "\n",
      "\n",
      "\t\tDistancia =  5.385164807134504\n",
      "\t\tSimilitud =  0.1566130288262323\n"
     ]
    }
   ],
   "source": [
    "print('Relación entre',m[7],'y',m[10],'\\n\\n')\n",
    "dist = euclidean(n[7],n[10])\n",
    "\n",
    "print('\\t\\tDistancia = ', dist)\n",
    "\n",
    "simil = 1/(1+dist)\n",
    "\n",
    "print('\\t\\tSimilitud = ', simil)"
   ]
  },
  {
   "cell_type": "code",
   "execution_count": 172,
   "metadata": {},
   "outputs": [
    {
     "name": "stdout",
     "output_type": "stream",
     "text": [
      "Relación entre ssoriaq@unsa.edu.pe y jvillenav@unsa.edu.pe \n",
      "\n",
      "\n",
      "\t\tDistancia =  6.708203932499369\n",
      "\t\tSimilitud =  0.12973190755680383\n"
     ]
    }
   ],
   "source": [
    "print('Relación entre',m[7],'y',m[11],'\\n\\n')\n",
    "dist = euclidean(n[7],n[11])\n",
    "\n",
    "print('\\t\\tDistancia = ', dist)\n",
    "\n",
    "simil = 1/(1+dist)\n",
    "\n",
    "print('\\t\\tSimilitud = ', simil)"
   ]
  },
  {
   "cell_type": "code",
   "execution_count": 173,
   "metadata": {},
   "outputs": [
    {
     "name": "stdout",
     "output_type": "stream",
     "text": [
      "Relación entre ssoriaq@unsa.edu.pe y lessly25huacan@gmail.com \n",
      "\n",
      "\n",
      "\t\tDistancia =  5.477225575051661\n",
      "\t\tSimilitud =  0.15438708879488486\n"
     ]
    }
   ],
   "source": [
    "print('Relación entre',m[7],'y',m[12],'\\n\\n')\n",
    "dist = euclidean(n[7],n[12])\n",
    "\n",
    "print('\\t\\tDistancia = ', dist)\n",
    "\n",
    "simil = 1/(1+dist)\n",
    "\n",
    "print('\\t\\tSimilitud = ', simil)"
   ]
  },
  {
   "cell_type": "code",
   "execution_count": 174,
   "metadata": {},
   "outputs": [
    {
     "name": "stdout",
     "output_type": "stream",
     "text": [
      "Relación entre ssoriaq@unsa.edu.pe y mfloreschav@unsa.edu.pe \n",
      "\n",
      "\n",
      "\t\tDistancia =  6.324555320336759\n",
      "\t\tSimilitud =  0.1365270594958143\n"
     ]
    }
   ],
   "source": [
    "print('Relación entre',m[7],'y',m[13],'\\n\\n')\n",
    "dist = euclidean(n[7],n[13])\n",
    "\n",
    "print('\\t\\tDistancia = ', dist)\n",
    "\n",
    "simil = 1/(1+dist)\n",
    "\n",
    "print('\\t\\tSimilitud = ', simil)"
   ]
  },
  {
   "cell_type": "code",
   "execution_count": 175,
   "metadata": {},
   "outputs": [
    {
     "name": "stdout",
     "output_type": "stream",
     "text": [
      "Relación entre ssoriaq@unsa.edu.pe y ruizcruza9@gmail.com \n",
      "\n",
      "\n",
      "\t\tDistancia =  9.643650760992955\n",
      "\t\tSimilitud =  0.0939527256629669\n"
     ]
    }
   ],
   "source": [
    "print('Relación entre',m[7],'y',m[14],'\\n\\n')\n",
    "dist = euclidean(n[7],n[14])\n",
    "\n",
    "print('\\t\\tDistancia = ', dist)\n",
    "\n",
    "simil = 1/(1+dist)\n",
    "\n",
    "print('\\t\\tSimilitud = ', simil)"
   ]
  },
  {
   "cell_type": "code",
   "execution_count": 176,
   "metadata": {},
   "outputs": [
    {
     "name": "stdout",
     "output_type": "stream",
     "text": [
      "Relación entre ssoriaq@unsa.edu.pe y jlagunam@unsa.edu.pe \n",
      "\n",
      "\n",
      "\t\tDistancia =  7.0710678118654755\n",
      "\t\tSimilitud =  0.12389934309929541\n"
     ]
    }
   ],
   "source": [
    "print('Relación entre',m[7],'y',m[15],'\\n\\n')\n",
    "dist = euclidean(n[7],n[15])\n",
    "\n",
    "print('\\t\\tDistancia = ', dist)\n",
    "\n",
    "simil = 1/(1+dist)\n",
    "\n",
    "print('\\t\\tSimilitud = ', simil)"
   ]
  },
  {
   "cell_type": "code",
   "execution_count": 178,
   "metadata": {},
   "outputs": [
    {
     "name": "stdout",
     "output_type": "stream",
     "text": [
      "Relación entre ssoriaq@unsa.edu.pe y jvaleroc@unsa.edu.pe \n",
      "\n",
      "\n",
      "\t\tDistancia =  5.830951894845301\n",
      "\t\tSimilitud =  0.1463924816619788\n"
     ]
    }
   ],
   "source": [
    "print('Relación entre',m[7],'y',m[16],'\\n\\n')\n",
    "dist = euclidean(n[7],n[16])\n",
    "\n",
    "print('\\t\\tDistancia = ', dist)\n",
    "\n",
    "simil = 1/(1+dist)\n",
    "\n",
    "print('\\t\\tSimilitud = ', simil)"
   ]
  },
  {
   "cell_type": "code",
   "execution_count": 179,
   "metadata": {},
   "outputs": [
    {
     "name": "stdout",
     "output_type": "stream",
     "text": [
      "Relación entre ssoriaq@unsa.edu.pe y joselyn.qa.20@gmail.com \n",
      "\n",
      "\n",
      "\t\tDistancia =  8.94427190999916\n",
      "\t\tSimilitud =  0.10056040392403998\n"
     ]
    }
   ],
   "source": [
    "print('Relación entre',m[7],'y',m[17],'\\n\\n')\n",
    "dist = euclidean(n[7],n[17])\n",
    "\n",
    "print('\\t\\tDistancia = ', dist)\n",
    "\n",
    "simil = 1/(1+dist)\n",
    "\n",
    "print('\\t\\tSimilitud = ', simil)"
   ]
  },
  {
   "cell_type": "code",
   "execution_count": 180,
   "metadata": {},
   "outputs": [
    {
     "name": "stdout",
     "output_type": "stream",
     "text": [
      "Relación entre ssoriaq@unsa.edu.pe y chemystry03@gmail.com \n",
      "\n",
      "\n",
      "\t\tDistancia =  5.744562646538029\n",
      "\t\tSimilitud =  0.1482675827043134\n"
     ]
    }
   ],
   "source": [
    "print('Relación entre',m[7],'y',m[18],'\\n\\n')\n",
    "dist = euclidean(n[7],n[18])\n",
    "\n",
    "print('\\t\\tDistancia = ', dist)\n",
    "\n",
    "simil = 1/(1+dist)\n",
    "\n",
    "print('\\t\\tSimilitud = ', simil)"
   ]
  },
  {
   "cell_type": "code",
   "execution_count": 181,
   "metadata": {},
   "outputs": [
    {
     "name": "stdout",
     "output_type": "stream",
     "text": [
      "Relación entre ssoriaq@unsa.edu.pe y huamanidana@gmail.com \n",
      "\n",
      "\n",
      "\t\tDistancia =  6.324555320336759\n",
      "\t\tSimilitud =  0.1365270594958143\n"
     ]
    }
   ],
   "source": [
    "print('Relación entre',m[7],'y',m[19],'\\n\\n')\n",
    "dist = euclidean(n[7],n[19])\n",
    "\n",
    "print('\\t\\tDistancia = ', dist)\n",
    "\n",
    "simil = 1/(1+dist)\n",
    "\n",
    "print('\\t\\tSimilitud = ', simil)"
   ]
  },
  {
   "cell_type": "code",
   "execution_count": 182,
   "metadata": {},
   "outputs": [
    {
     "name": "stdout",
     "output_type": "stream",
     "text": [
      "Relación entre ssoriaq@unsa.edu.pe y fmirandaa@unsa.edu.pe \n",
      "\n",
      "\n",
      "\t\tDistancia =  5.477225575051661\n",
      "\t\tSimilitud =  0.15438708879488486\n"
     ]
    }
   ],
   "source": [
    "print('Relación entre',m[7],'y',m[20],'\\n\\n')\n",
    "dist = euclidean(n[7],n[20])\n",
    "\n",
    "print('\\t\\tDistancia = ', dist)\n",
    "\n",
    "simil = 1/(1+dist)\n",
    "\n",
    "print('\\t\\tSimilitud = ', simil)"
   ]
  },
  {
   "cell_type": "markdown",
   "metadata": {},
   "source": [
    "## jquispebar@unsa.edu.pe con todos"
   ]
  },
  {
   "cell_type": "code",
   "execution_count": 183,
   "metadata": {},
   "outputs": [
    {
     "name": "stdout",
     "output_type": "stream",
     "text": [
      "Relación entre jquispebar@unsa.edu.pe y spaucav@unsa.edu.pe \n",
      "\n",
      "\n",
      "\t\tDistancia =  6.0\n",
      "\t\tSimilitud =  0.14285714285714285\n"
     ]
    }
   ],
   "source": [
    "print('Relación entre',m[8],'y',m[9],'\\n\\n')\n",
    "dist = euclidean(n[8],n[9])\n",
    "\n",
    "print('\\t\\tDistancia = ', dist)\n",
    "\n",
    "simil = 1/(1+dist)\n",
    "\n",
    "print('\\t\\tSimilitud = ', simil)"
   ]
  },
  {
   "cell_type": "code",
   "execution_count": 184,
   "metadata": {},
   "outputs": [
    {
     "name": "stdout",
     "output_type": "stream",
     "text": [
      "Relación entre jquispebar@unsa.edu.pe y harenaza@unsa.edu.pe \n",
      "\n",
      "\n",
      "\t\tDistancia =  6.557438524302\n",
      "\t\tSimilitud =  0.13231996486433337\n"
     ]
    }
   ],
   "source": [
    "print('Relación entre',m[8],'y',m[10],'\\n\\n')\n",
    "dist = euclidean(n[8],n[10])\n",
    "\n",
    "print('\\t\\tDistancia = ', dist)\n",
    "\n",
    "simil = 1/(1+dist)\n",
    "\n",
    "print('\\t\\tSimilitud = ', simil)"
   ]
  },
  {
   "cell_type": "code",
   "execution_count": 185,
   "metadata": {},
   "outputs": [
    {
     "name": "stdout",
     "output_type": "stream",
     "text": [
      "Relación entre jquispebar@unsa.edu.pe y jvillenav@unsa.edu.pe \n",
      "\n",
      "\n",
      "\t\tDistancia =  6.4031242374328485\n",
      "\t\tSimilitud =  0.13507810593582123\n"
     ]
    }
   ],
   "source": [
    "print('Relación entre',m[8],'y',m[11],'\\n\\n')\n",
    "dist = euclidean(n[8],n[11])\n",
    "\n",
    "print('\\t\\tDistancia = ', dist)\n",
    "\n",
    "simil = 1/(1+dist)\n",
    "\n",
    "print('\\t\\tSimilitud = ', simil)"
   ]
  },
  {
   "cell_type": "code",
   "execution_count": 186,
   "metadata": {},
   "outputs": [
    {
     "name": "stdout",
     "output_type": "stream",
     "text": [
      "Relación entre jquispebar@unsa.edu.pe y lessly25huacan@gmail.com \n",
      "\n",
      "\n",
      "\t\tDistancia =  6.48074069840786\n",
      "\t\tSimilitud =  0.13367660240019172\n"
     ]
    }
   ],
   "source": [
    "print('Relación entre',m[8],'y',m[12],'\\n\\n')\n",
    "dist = euclidean(n[8],n[12])\n",
    "\n",
    "print('\\t\\tDistancia = ', dist)\n",
    "\n",
    "simil = 1/(1+dist)\n",
    "\n",
    "print('\\t\\tSimilitud = ', simil)"
   ]
  },
  {
   "cell_type": "code",
   "execution_count": 187,
   "metadata": {},
   "outputs": [
    {
     "name": "stdout",
     "output_type": "stream",
     "text": [
      "Relación entre jquispebar@unsa.edu.pe y mfloreschav@unsa.edu.pe \n",
      "\n",
      "\n",
      "\t\tDistancia =  5.656854249492381\n",
      "\t\tSimilitud =  0.15022110482233483\n"
     ]
    }
   ],
   "source": [
    "print('Relación entre',m[8],'y',m[13],'\\n\\n')\n",
    "dist = euclidean(n[8],n[13])\n",
    "\n",
    "print('\\t\\tDistancia = ', dist)\n",
    "\n",
    "simil = 1/(1+dist)\n",
    "\n",
    "print('\\t\\tSimilitud = ', simil)"
   ]
  },
  {
   "cell_type": "code",
   "execution_count": 188,
   "metadata": {},
   "outputs": [
    {
     "name": "stdout",
     "output_type": "stream",
     "text": [
      "Relación entre jquispebar@unsa.edu.pe y ruizcruza9@gmail.com \n",
      "\n",
      "\n",
      "\t\tDistancia =  10.535653752852738\n",
      "\t\tSimilitud =  0.08668776138957036\n"
     ]
    }
   ],
   "source": [
    "print('Relación entre',m[8],'y',m[14],'\\n\\n')\n",
    "dist = euclidean(n[8],n[14])\n",
    "\n",
    "print('\\t\\tDistancia = ', dist)\n",
    "\n",
    "simil = 1/(1+dist)\n",
    "\n",
    "print('\\t\\tSimilitud = ', simil)"
   ]
  },
  {
   "cell_type": "code",
   "execution_count": 189,
   "metadata": {},
   "outputs": [
    {
     "name": "stdout",
     "output_type": "stream",
     "text": [
      "Relación entre jquispebar@unsa.edu.pe y jlagunam@unsa.edu.pe \n",
      "\n",
      "\n",
      "\t\tDistancia =  7.745966692414834\n",
      "\t\tSimilitud =  0.11433841851550565\n"
     ]
    }
   ],
   "source": [
    "print('Relación entre',m[8],'y',m[15],'\\n\\n')\n",
    "dist = euclidean(n[8],n[15])\n",
    "\n",
    "print('\\t\\tDistancia = ', dist)\n",
    "\n",
    "simil = 1/(1+dist)\n",
    "\n",
    "print('\\t\\tSimilitud = ', simil)"
   ]
  },
  {
   "cell_type": "code",
   "execution_count": 190,
   "metadata": {},
   "outputs": [
    {
     "name": "stdout",
     "output_type": "stream",
     "text": [
      "Relación entre jquispebar@unsa.edu.pe y jvaleroc@unsa.edu.pe \n",
      "\n",
      "\n",
      "\t\tDistancia =  4.47213595499958\n",
      "\t\tSimilitud =  0.1827439976315568\n"
     ]
    }
   ],
   "source": [
    "print('Relación entre',m[8],'y',m[16],'\\n\\n')\n",
    "dist = euclidean(n[8],n[16])\n",
    "\n",
    "print('\\t\\tDistancia = ', dist)\n",
    "\n",
    "simil = 1/(1+dist)\n",
    "\n",
    "print('\\t\\tSimilitud = ', simil)"
   ]
  },
  {
   "cell_type": "code",
   "execution_count": 191,
   "metadata": {},
   "outputs": [
    {
     "name": "stdout",
     "output_type": "stream",
     "text": [
      "Relación entre jquispebar@unsa.edu.pe y joselyn.qa.20@gmail.com \n",
      "\n",
      "\n",
      "\t\tDistancia =  9.273618495495704\n",
      "\t\tSimilitud =  0.0973366881823024\n"
     ]
    }
   ],
   "source": [
    "print('Relación entre',m[8],'y',m[17],'\\n\\n')\n",
    "dist = euclidean(n[8],n[17])\n",
    "\n",
    "print('\\t\\tDistancia = ', dist)\n",
    "\n",
    "simil = 1/(1+dist)\n",
    "\n",
    "print('\\t\\tSimilitud = ', simil)"
   ]
  },
  {
   "cell_type": "code",
   "execution_count": 197,
   "metadata": {},
   "outputs": [
    {
     "name": "stdout",
     "output_type": "stream",
     "text": [
      "Relación entre jquispebar@unsa.edu.pe y chemystry03@gmail.com \n",
      "\n",
      "\n",
      "\t\tDistancia =  6.708203932499369\n",
      "\t\tSimilitud =  0.12973190755680383\n"
     ]
    }
   ],
   "source": [
    "print('Relación entre',m[8],'y',m[18],'\\n\\n')\n",
    "dist = euclidean(n[8],n[18])\n",
    "\n",
    "print('\\t\\tDistancia = ', dist)\n",
    "\n",
    "simil = 1/(1+dist)\n",
    "\n",
    "print('\\t\\tSimilitud = ', simil)"
   ]
  },
  {
   "cell_type": "code",
   "execution_count": 198,
   "metadata": {},
   "outputs": [
    {
     "name": "stdout",
     "output_type": "stream",
     "text": [
      "Relación entre jquispebar@unsa.edu.pe y huamanidana@gmail.com \n",
      "\n",
      "\n",
      "\t\tDistancia =  6.928203230275509\n",
      "\t\tSimilitud =  0.1261319836228832\n"
     ]
    }
   ],
   "source": [
    "print('Relación entre',m[8],'y',m[19],'\\n\\n')\n",
    "dist = euclidean(n[8],n[19])\n",
    "\n",
    "print('\\t\\tDistancia = ', dist)\n",
    "\n",
    "simil = 1/(1+dist)\n",
    "\n",
    "print('\\t\\tSimilitud = ', simil)"
   ]
  },
  {
   "cell_type": "code",
   "execution_count": 199,
   "metadata": {},
   "outputs": [
    {
     "name": "stdout",
     "output_type": "stream",
     "text": [
      "Relación entre jquispebar@unsa.edu.pe y fmirandaa@unsa.edu.pe \n",
      "\n",
      "\n",
      "\t\tDistancia =  4.47213595499958\n",
      "\t\tSimilitud =  0.1827439976315568\n"
     ]
    }
   ],
   "source": [
    "print('Relación entre',m[8],'y',m[20],'\\n\\n')\n",
    "dist = euclidean(n[8],n[20])\n",
    "\n",
    "print('\\t\\tDistancia = ', dist)\n",
    "\n",
    "simil = 1/(1+dist)\n",
    "\n",
    "print('\\t\\tSimilitud = ', simil)"
   ]
  },
  {
   "cell_type": "markdown",
   "metadata": {},
   "source": [
    "## spaucav@unsa.edu.pe con todos"
   ]
  },
  {
   "cell_type": "code",
   "execution_count": 200,
   "metadata": {},
   "outputs": [
    {
     "name": "stdout",
     "output_type": "stream",
     "text": [
      "Relación entre spaucav@unsa.edu.pe y harenaza@unsa.edu.pe \n",
      "\n",
      "\n",
      "\t\tDistancia =  4.795831523312719\n",
      "\t\tSimilitud =  0.17253779651421453\n"
     ]
    }
   ],
   "source": [
    "print('Relación entre',m[9],'y',m[10],'\\n\\n')\n",
    "dist = euclidean(n[9],n[10])\n",
    "\n",
    "print('\\t\\tDistancia = ', dist)\n",
    "\n",
    "simil = 1/(1+dist)\n",
    "\n",
    "print('\\t\\tSimilitud = ', simil)"
   ]
  },
  {
   "cell_type": "code",
   "execution_count": 201,
   "metadata": {},
   "outputs": [
    {
     "name": "stdout",
     "output_type": "stream",
     "text": [
      "Relación entre spaucav@unsa.edu.pe y jvillenav@unsa.edu.pe \n",
      "\n",
      "\n",
      "\t\tDistancia =  6.244997998398398\n",
      "\t\tSimilitud =  0.1380262631157473\n"
     ]
    }
   ],
   "source": [
    "print('Relación entre',m[9],'y',m[11],'\\n\\n')\n",
    "dist = euclidean(n[9],n[11])\n",
    "\n",
    "print('\\t\\tDistancia = ', dist)\n",
    "\n",
    "simil = 1/(1+dist)\n",
    "\n",
    "print('\\t\\tSimilitud = ', simil)"
   ]
  },
  {
   "cell_type": "code",
   "execution_count": 202,
   "metadata": {},
   "outputs": [
    {
     "name": "stdout",
     "output_type": "stream",
     "text": [
      "Relación entre spaucav@unsa.edu.pe y lessly25huacan@gmail.com \n",
      "\n",
      "\n",
      "\t\tDistancia =  5.0990195135927845\n",
      "\t\tSimilitud =  0.1639607805437114\n"
     ]
    }
   ],
   "source": [
    "print('Relación entre',m[9],'y',m[12],'\\n\\n')\n",
    "dist = euclidean(n[9],n[12])\n",
    "\n",
    "print('\\t\\tDistancia = ', dist)\n",
    "\n",
    "simil = 1/(1+dist)\n",
    "\n",
    "print('\\t\\tSimilitud = ', simil)"
   ]
  },
  {
   "cell_type": "code",
   "execution_count": 203,
   "metadata": {},
   "outputs": [
    {
     "name": "stdout",
     "output_type": "stream",
     "text": [
      "Relación entre spaucav@unsa.edu.pe y mfloreschav@unsa.edu.pe \n",
      "\n",
      "\n",
      "\t\tDistancia =  6.164414002968976\n",
      "\t\tSimilitud =  0.13957875683699938\n"
     ]
    }
   ],
   "source": [
    "print('Relación entre',m[9],'y',m[13],'\\n\\n')\n",
    "dist = euclidean(n[9],n[13])\n",
    "\n",
    "print('\\t\\tDistancia = ', dist)\n",
    "\n",
    "simil = 1/(1+dist)\n",
    "\n",
    "print('\\t\\tSimilitud = ', simil)"
   ]
  },
  {
   "cell_type": "code",
   "execution_count": 204,
   "metadata": {},
   "outputs": [
    {
     "name": "stdout",
     "output_type": "stream",
     "text": [
      "Relación entre spaucav@unsa.edu.pe y ruizcruza9@gmail.com \n",
      "\n",
      "\n",
      "\t\tDistancia =  7.681145747868608\n",
      "\t\tSimilitud =  0.11519216806670013\n"
     ]
    }
   ],
   "source": [
    "print('Relación entre',m[9],'y',m[14],'\\n\\n')\n",
    "dist = euclidean(n[9],n[14])\n",
    "\n",
    "print('\\t\\tDistancia = ', dist)\n",
    "\n",
    "simil = 1/(1+dist)\n",
    "\n",
    "print('\\t\\tSimilitud = ', simil)"
   ]
  },
  {
   "cell_type": "code",
   "execution_count": 205,
   "metadata": {},
   "outputs": [
    {
     "name": "stdout",
     "output_type": "stream",
     "text": [
      "Relación entre spaucav@unsa.edu.pe y jlagunam@unsa.edu.pe \n",
      "\n",
      "\n",
      "\t\tDistancia =  6.164414002968976\n",
      "\t\tSimilitud =  0.13957875683699938\n"
     ]
    }
   ],
   "source": [
    "print('Relación entre',m[9],'y',m[15],'\\n\\n')\n",
    "dist = euclidean(n[9],n[15])\n",
    "\n",
    "print('\\t\\tDistancia = ', dist)\n",
    "\n",
    "simil = 1/(1+dist)\n",
    "\n",
    "print('\\t\\tSimilitud = ', simil)"
   ]
  },
  {
   "cell_type": "code",
   "execution_count": 206,
   "metadata": {},
   "outputs": [
    {
     "name": "stdout",
     "output_type": "stream",
     "text": [
      "Relación entre spaucav@unsa.edu.pe y jvaleroc@unsa.edu.pe \n",
      "\n",
      "\n",
      "\t\tDistancia =  5.0990195135927845\n",
      "\t\tSimilitud =  0.1639607805437114\n"
     ]
    }
   ],
   "source": [
    "print('Relación entre',m[9],'y',m[16],'\\n\\n')\n",
    "dist = euclidean(n[9],n[16])\n",
    "\n",
    "print('\\t\\tDistancia = ', dist)\n",
    "\n",
    "simil = 1/(1+dist)\n",
    "\n",
    "print('\\t\\tSimilitud = ', simil)"
   ]
  },
  {
   "cell_type": "code",
   "execution_count": 207,
   "metadata": {},
   "outputs": [
    {
     "name": "stdout",
     "output_type": "stream",
     "text": [
      "Relación entre spaucav@unsa.edu.pe y joselyn.qa.20@gmail.com \n",
      "\n",
      "\n",
      "\t\tDistancia =  8.246211251235321\n",
      "\t\tSimilitud =  0.10815240673485554\n"
     ]
    }
   ],
   "source": [
    "print('Relación entre',m[9],'y',m[17],'\\n\\n')\n",
    "dist = euclidean(n[9],n[17])\n",
    "\n",
    "print('\\t\\tDistancia = ', dist)\n",
    "\n",
    "simil = 1/(1+dist)\n",
    "\n",
    "print('\\t\\tSimilitud = ', simil)"
   ]
  },
  {
   "cell_type": "code",
   "execution_count": 208,
   "metadata": {},
   "outputs": [
    {
     "name": "stdout",
     "output_type": "stream",
     "text": [
      "Relación entre spaucav@unsa.edu.pe y chemystry03@gmail.com \n",
      "\n",
      "\n",
      "\t\tDistancia =  6.244997998398398\n",
      "\t\tSimilitud =  0.1380262631157473\n"
     ]
    }
   ],
   "source": [
    "print('Relación entre',m[9],'y',m[18],'\\n\\n')\n",
    "dist = euclidean(n[9],n[18])\n",
    "\n",
    "print('\\t\\tDistancia = ', dist)\n",
    "\n",
    "simil = 1/(1+dist)\n",
    "\n",
    "print('\\t\\tSimilitud = ', simil)"
   ]
  },
  {
   "cell_type": "code",
   "execution_count": 209,
   "metadata": {},
   "outputs": [
    {
     "name": "stdout",
     "output_type": "stream",
     "text": [
      "Relación entre spaucav@unsa.edu.pe y huamanidana@gmail.com \n",
      "\n",
      "\n",
      "\t\tDistancia =  7.211102550927978\n",
      "\t\tSimilitud =  0.12178632452799958\n"
     ]
    }
   ],
   "source": [
    "print('Relación entre',m[9],'y',m[19],'\\n\\n')\n",
    "dist = euclidean(n[9],n[19])\n",
    "\n",
    "print('\\t\\tDistancia = ', dist)\n",
    "\n",
    "simil = 1/(1+dist)\n",
    "\n",
    "print('\\t\\tSimilitud = ', simil)"
   ]
  },
  {
   "cell_type": "code",
   "execution_count": 14,
   "metadata": {},
   "outputs": [
    {
     "name": "stdout",
     "output_type": "stream",
     "text": [
      "Relación entre spaucav@unsa.edu.pe y fmirandaa@unsa.edu.pe \n",
      "\n",
      "\n",
      "\t\tDistancia =  5.477225575051661\n",
      "\t\tSimilitud =  0.15438708879488486\n"
     ]
    }
   ],
   "source": [
    "print('Relación entre',m[9],'y',m[20],'\\n\\n')\n",
    "dist = euclidean(n[9],n[20])\n",
    "\n",
    "print('\\t\\tDistancia = ', dist)\n",
    "\n",
    "simil = 1/(1+dist)\n",
    "\n",
    "print('\\t\\tSimilitud = ', simil)"
   ]
  },
  {
   "cell_type": "markdown",
   "metadata": {},
   "source": [
    "## harenaza@unsa.edu.pe con todos"
   ]
  },
  {
   "cell_type": "code",
   "execution_count": 13,
   "metadata": {},
   "outputs": [
    {
     "name": "stdout",
     "output_type": "stream",
     "text": [
      "Relación entre harenaza@unsa.edu.pe y jvillenav@unsa.edu.pe \n",
      "\n",
      "\n",
      "\t\tDistancia =  4.69041575982343\n",
      "\t\tSimilitud =  0.1757340838011157\n"
     ]
    }
   ],
   "source": [
    "print('Relación entre',m[10],'y',m[11],'\\n\\n')\n",
    "dist = euclidean(n[10],n[11])\n",
    "\n",
    "print('\\t\\tDistancia = ', dist)\n",
    "\n",
    "simil = 1/(1+dist)\n",
    "\n",
    "print('\\t\\tSimilitud = ', simil)"
   ]
  },
  {
   "cell_type": "code",
   "execution_count": 15,
   "metadata": {},
   "outputs": [
    {
     "name": "stdout",
     "output_type": "stream",
     "text": [
      "Relación entre harenaza@unsa.edu.pe y lessly25huacan@gmail.com \n",
      "\n",
      "\n",
      "\t\tDistancia =  5.385164807134504\n",
      "\t\tSimilitud =  0.1566130288262323\n"
     ]
    }
   ],
   "source": [
    "print('Relación entre',m[10],'y',m[12],'\\n\\n')\n",
    "dist = euclidean(n[10],n[12])\n",
    "\n",
    "print('\\t\\tDistancia = ', dist)\n",
    "\n",
    "simil = 1/(1+dist)\n",
    "\n",
    "print('\\t\\tSimilitud = ', simil)"
   ]
  },
  {
   "cell_type": "code",
   "execution_count": 16,
   "metadata": {},
   "outputs": [
    {
     "name": "stdout",
     "output_type": "stream",
     "text": [
      "Relación entre harenaza@unsa.edu.pe y mfloreschav@unsa.edu.pe \n",
      "\n",
      "\n",
      "\t\tDistancia =  6.082762530298219\n",
      "\t\tSimilitud =  0.14118784806383944\n"
     ]
    }
   ],
   "source": [
    "print('Relación entre',m[10],'y',m[13],'\\n\\n')\n",
    "dist = euclidean(n[10],n[13])\n",
    "\n",
    "print('\\t\\tDistancia = ', dist)\n",
    "\n",
    "simil = 1/(1+dist)\n",
    "\n",
    "print('\\t\\tSimilitud = ', simil)"
   ]
  },
  {
   "cell_type": "code",
   "execution_count": 17,
   "metadata": {},
   "outputs": [
    {
     "name": "stdout",
     "output_type": "stream",
     "text": [
      "Relación entre harenaza@unsa.edu.pe y ruizcruza9@gmail.com \n",
      "\n",
      "\n",
      "\t\tDistancia =  8.366600265340756\n",
      "\t\tSimilitud =  0.10676232268609791\n"
     ]
    }
   ],
   "source": [
    "print('Relación entre',m[10],'y',m[14],'\\n\\n')\n",
    "dist = euclidean(n[10],n[14])\n",
    "\n",
    "print('\\t\\tDistancia = ', dist)\n",
    "\n",
    "simil = 1/(1+dist)\n",
    "\n",
    "print('\\t\\tSimilitud = ', simil)"
   ]
  },
  {
   "cell_type": "code",
   "execution_count": 18,
   "metadata": {},
   "outputs": [
    {
     "name": "stdout",
     "output_type": "stream",
     "text": [
      "Relación entre harenaza@unsa.edu.pe y jlagunam@unsa.edu.pe \n",
      "\n",
      "\n",
      "\t\tDistancia =  5.0\n",
      "\t\tSimilitud =  0.16666666666666666\n"
     ]
    }
   ],
   "source": [
    "print('Relación entre',m[10],'y',m[15],'\\n\\n')\n",
    "dist = euclidean(n[10],n[15])\n",
    "\n",
    "print('\\t\\tDistancia = ', dist)\n",
    "\n",
    "simil = 1/(1+dist)\n",
    "\n",
    "print('\\t\\tSimilitud = ', simil)"
   ]
  },
  {
   "cell_type": "code",
   "execution_count": 19,
   "metadata": {},
   "outputs": [
    {
     "name": "stdout",
     "output_type": "stream",
     "text": [
      "Relación entre harenaza@unsa.edu.pe y jvaleroc@unsa.edu.pe \n",
      "\n",
      "\n",
      "\t\tDistancia =  4.123105625617661\n",
      "\t\tSimilitud =  0.1951941016011038\n"
     ]
    }
   ],
   "source": [
    "print('Relación entre',m[10],'y',m[16],'\\n\\n')\n",
    "dist = euclidean(n[10],n[16])\n",
    "\n",
    "print('\\t\\tDistancia = ', dist)\n",
    "\n",
    "simil = 1/(1+dist)\n",
    "\n",
    "print('\\t\\tSimilitud = ', simil)"
   ]
  },
  {
   "cell_type": "code",
   "execution_count": 20,
   "metadata": {},
   "outputs": [
    {
     "name": "stdout",
     "output_type": "stream",
     "text": [
      "Relación entre harenaza@unsa.edu.pe y joselyn.qa.20@gmail.com \n",
      "\n",
      "\n",
      "\t\tDistancia =  6.244997998398398\n",
      "\t\tSimilitud =  0.1380262631157473\n"
     ]
    }
   ],
   "source": [
    "print('Relación entre',m[10],'y',m[17],'\\n\\n')\n",
    "dist = euclidean(n[10],n[17])\n",
    "\n",
    "print('\\t\\tDistancia = ', dist)\n",
    "\n",
    "simil = 1/(1+dist)\n",
    "\n",
    "print('\\t\\tSimilitud = ', simil)"
   ]
  },
  {
   "cell_type": "code",
   "execution_count": 23,
   "metadata": {},
   "outputs": [
    {
     "name": "stdout",
     "output_type": "stream",
     "text": [
      "Relación entre harenaza@unsa.edu.pe y chemystry03@gmail.com \n",
      "\n",
      "\n",
      "\t\tDistancia =  6.0\n",
      "\t\tSimilitud =  0.14285714285714285\n"
     ]
    }
   ],
   "source": [
    "print('Relación entre',m[10],'y',m[18],'\\n\\n')\n",
    "dist = euclidean(n[10],n[18])\n",
    "\n",
    "print('\\t\\tDistancia = ', dist)\n",
    "\n",
    "simil = 1/(1+dist)\n",
    "\n",
    "print('\\t\\tSimilitud = ', simil)"
   ]
  },
  {
   "cell_type": "code",
   "execution_count": 24,
   "metadata": {},
   "outputs": [
    {
     "name": "stdout",
     "output_type": "stream",
     "text": [
      "Relación entre harenaza@unsa.edu.pe y huamanidana@gmail.com \n",
      "\n",
      "\n",
      "\t\tDistancia =  5.0\n",
      "\t\tSimilitud =  0.16666666666666666\n"
     ]
    }
   ],
   "source": [
    "print('Relación entre',m[10],'y',m[19],'\\n\\n')\n",
    "dist = euclidean(n[10],n[19])\n",
    "\n",
    "print('\\t\\tDistancia = ', dist)\n",
    "\n",
    "simil = 1/(1+dist)\n",
    "\n",
    "print('\\t\\tSimilitud = ', simil)"
   ]
  },
  {
   "cell_type": "code",
   "execution_count": 25,
   "metadata": {},
   "outputs": [
    {
     "name": "stdout",
     "output_type": "stream",
     "text": [
      "Relación entre harenaza@unsa.edu.pe y fmirandaa@unsa.edu.pe \n",
      "\n",
      "\n",
      "\t\tDistancia =  5.196152422706632\n",
      "\t\tSimilitud =  0.16139047779640892\n"
     ]
    }
   ],
   "source": [
    "print('Relación entre',m[10],'y',m[20],'\\n\\n')\n",
    "dist = euclidean(n[10],n[20])\n",
    "\n",
    "print('\\t\\tDistancia = ', dist)\n",
    "\n",
    "simil = 1/(1+dist)\n",
    "\n",
    "print('\\t\\tSimilitud = ', simil)"
   ]
  },
  {
   "cell_type": "markdown",
   "metadata": {},
   "source": [
    "## jvillenav@unsa.edu.pe con todos"
   ]
  },
  {
   "cell_type": "code",
   "execution_count": 26,
   "metadata": {},
   "outputs": [
    {
     "name": "stdout",
     "output_type": "stream",
     "text": [
      "Relación entre jvillenav@unsa.edu.pe y lessly25huacan@gmail.com \n",
      "\n",
      "\n",
      "\t\tDistancia =  5.916079783099616\n",
      "\t\tSimilitud =  0.14459058185587106\n"
     ]
    }
   ],
   "source": [
    "print('Relación entre',m[11],'y',m[12],'\\n\\n')\n",
    "dist = euclidean(n[11],n[12])\n",
    "\n",
    "print('\\t\\tDistancia = ', dist)\n",
    "\n",
    "simil = 1/(1+dist)\n",
    "\n",
    "print('\\t\\tSimilitud = ', simil)"
   ]
  },
  {
   "cell_type": "code",
   "execution_count": 27,
   "metadata": {},
   "outputs": [
    {
     "name": "stdout",
     "output_type": "stream",
     "text": [
      "Relación entre jvillenav@unsa.edu.pe y mfloreschav@unsa.edu.pe \n",
      "\n",
      "\n",
      "\t\tDistancia =  6.082762530298219\n",
      "\t\tSimilitud =  0.14118784806383944\n"
     ]
    }
   ],
   "source": [
    "print('Relación entre',m[11],'y',m[13],'\\n\\n')\n",
    "dist = euclidean(n[11],n[13])\n",
    "\n",
    "print('\\t\\tDistancia = ', dist)\n",
    "\n",
    "simil = 1/(1+dist)\n",
    "\n",
    "print('\\t\\tSimilitud = ', simil)"
   ]
  },
  {
   "cell_type": "code",
   "execution_count": 28,
   "metadata": {},
   "outputs": [
    {
     "name": "stdout",
     "output_type": "stream",
     "text": [
      "Relación entre jvillenav@unsa.edu.pe y ruizcruza9@gmail.com \n",
      "\n",
      "\n",
      "\t\tDistancia =  9.055385138137417\n",
      "\t\tSimilitud =  0.0994491992362644\n"
     ]
    }
   ],
   "source": [
    "print('Relación entre',m[11],'y',m[14],'\\n\\n')\n",
    "dist = euclidean(n[11],n[14])\n",
    "\n",
    "print('\\t\\tDistancia = ', dist)\n",
    "\n",
    "simil = 1/(1+dist)\n",
    "\n",
    "print('\\t\\tSimilitud = ', simil)"
   ]
  },
  {
   "cell_type": "code",
   "execution_count": 29,
   "metadata": {},
   "outputs": [
    {
     "name": "stdout",
     "output_type": "stream",
     "text": [
      "Relación entre jvillenav@unsa.edu.pe y jlagunam@unsa.edu.pe \n",
      "\n",
      "\n",
      "\t\tDistancia =  5.916079783099616\n",
      "\t\tSimilitud =  0.14459058185587106\n"
     ]
    }
   ],
   "source": [
    "print('Relación entre',m[11],'y',m[15],'\\n\\n')\n",
    "dist = euclidean(n[11],n[15])\n",
    "\n",
    "print('\\t\\tDistancia = ', dist)\n",
    "\n",
    "simil = 1/(1+dist)\n",
    "\n",
    "print('\\t\\tSimilitud = ', simil)"
   ]
  },
  {
   "cell_type": "code",
   "execution_count": 30,
   "metadata": {},
   "outputs": [
    {
     "name": "stdout",
     "output_type": "stream",
     "text": [
      "Relación entre jvillenav@unsa.edu.pe y jvaleroc@unsa.edu.pe \n",
      "\n",
      "\n",
      "\t\tDistancia =  4.58257569495584\n",
      "\t\tSimilitud =  0.179128784747792\n"
     ]
    }
   ],
   "source": [
    "print('Relación entre',m[11],'y',m[16],'\\n\\n')\n",
    "dist = euclidean(n[11],n[16])\n",
    "\n",
    "print('\\t\\tDistancia = ', dist)\n",
    "\n",
    "simil = 1/(1+dist)\n",
    "\n",
    "print('\\t\\tSimilitud = ', simil)"
   ]
  },
  {
   "cell_type": "code",
   "execution_count": 31,
   "metadata": {},
   "outputs": [
    {
     "name": "stdout",
     "output_type": "stream",
     "text": [
      "Relación entre jvillenav@unsa.edu.pe y joselyn.qa.20@gmail.com \n",
      "\n",
      "\n",
      "\t\tDistancia =  6.244997998398398\n",
      "\t\tSimilitud =  0.1380262631157473\n"
     ]
    }
   ],
   "source": [
    "print('Relación entre',m[11],'y',m[17],'\\n\\n')\n",
    "dist = euclidean(n[11],n[17])\n",
    "\n",
    "print('\\t\\tDistancia = ', dist)\n",
    "\n",
    "simil = 1/(1+dist)\n",
    "\n",
    "print('\\t\\tSimilitud = ', simil)"
   ]
  },
  {
   "cell_type": "code",
   "execution_count": 32,
   "metadata": {},
   "outputs": [
    {
     "name": "stdout",
     "output_type": "stream",
     "text": [
      "Relación entre jvillenav@unsa.edu.pe y chemystry03@gmail.com \n",
      "\n",
      "\n",
      "\t\tDistancia =  6.48074069840786\n",
      "\t\tSimilitud =  0.13367660240019172\n"
     ]
    }
   ],
   "source": [
    "print('Relación entre',m[11],'y',m[18],'\\n\\n')\n",
    "dist = euclidean(n[11],n[18])\n",
    "\n",
    "print('\\t\\tDistancia = ', dist)\n",
    "\n",
    "simil = 1/(1+dist)\n",
    "\n",
    "print('\\t\\tSimilitud = ', simil)"
   ]
  },
  {
   "cell_type": "code",
   "execution_count": 33,
   "metadata": {},
   "outputs": [
    {
     "name": "stdout",
     "output_type": "stream",
     "text": [
      "Relación entre jvillenav@unsa.edu.pe y huamanidana@gmail.com \n",
      "\n",
      "\n",
      "\t\tDistancia =  6.557438524302\n",
      "\t\tSimilitud =  0.13231996486433337\n"
     ]
    }
   ],
   "source": [
    "print('Relación entre',m[11],'y',m[19],'\\n\\n')\n",
    "dist = euclidean(n[11],n[19])\n",
    "\n",
    "print('\\t\\tDistancia = ', dist)\n",
    "\n",
    "simil = 1/(1+dist)\n",
    "\n",
    "print('\\t\\tSimilitud = ', simil)"
   ]
  },
  {
   "cell_type": "code",
   "execution_count": 34,
   "metadata": {},
   "outputs": [
    {
     "name": "stdout",
     "output_type": "stream",
     "text": [
      "Relación entre jvillenav@unsa.edu.pe y fmirandaa@unsa.edu.pe \n",
      "\n",
      "\n",
      "\t\tDistancia =  5.916079783099616\n",
      "\t\tSimilitud =  0.14459058185587106\n"
     ]
    }
   ],
   "source": [
    "print('Relación entre',m[11],'y',m[20],'\\n\\n')\n",
    "dist = euclidean(n[11],n[20])\n",
    "\n",
    "print('\\t\\tDistancia = ', dist)\n",
    "\n",
    "simil = 1/(1+dist)\n",
    "\n",
    "print('\\t\\tSimilitud = ', simil)"
   ]
  },
  {
   "cell_type": "markdown",
   "metadata": {},
   "source": [
    "## lessly25huacan@gmail.com con todos"
   ]
  },
  {
   "cell_type": "code",
   "execution_count": 35,
   "metadata": {},
   "outputs": [
    {
     "name": "stdout",
     "output_type": "stream",
     "text": [
      "Relación entre lessly25huacan@gmail.com y mfloreschav@unsa.edu.pe \n",
      "\n",
      "\n",
      "\t\tDistancia =  7.211102550927978\n",
      "\t\tSimilitud =  0.12178632452799958\n"
     ]
    }
   ],
   "source": [
    "print('Relación entre',m[12],'y',m[13],'\\n\\n')\n",
    "dist = euclidean(n[12],n[13])\n",
    "\n",
    "print('\\t\\tDistancia = ', dist)\n",
    "\n",
    "simil = 1/(1+dist)\n",
    "\n",
    "print('\\t\\tSimilitud = ', simil)"
   ]
  },
  {
   "cell_type": "code",
   "execution_count": 36,
   "metadata": {},
   "outputs": [
    {
     "name": "stdout",
     "output_type": "stream",
     "text": [
      "Relación entre lessly25huacan@gmail.com y ruizcruza9@gmail.com \n",
      "\n",
      "\n",
      "\t\tDistancia =  9.219544457292887\n",
      "\t\tSimilitud =  0.09785171972967724\n"
     ]
    }
   ],
   "source": [
    "print('Relación entre',m[12],'y',m[14],'\\n\\n')\n",
    "dist = euclidean(n[12],n[14])\n",
    "\n",
    "print('\\t\\tDistancia = ', dist)\n",
    "\n",
    "simil = 1/(1+dist)\n",
    "\n",
    "print('\\t\\tSimilitud = ', simil)"
   ]
  },
  {
   "cell_type": "code",
   "execution_count": 37,
   "metadata": {},
   "outputs": [
    {
     "name": "stdout",
     "output_type": "stream",
     "text": [
      "Relación entre lessly25huacan@gmail.com y jlagunam@unsa.edu.pe \n",
      "\n",
      "\n",
      "\t\tDistancia =  6.48074069840786\n",
      "\t\tSimilitud =  0.13367660240019172\n"
     ]
    }
   ],
   "source": [
    "print('Relación entre',m[12],'y',m[15],'\\n\\n')\n",
    "dist = euclidean(n[12],n[15])\n",
    "\n",
    "print('\\t\\tDistancia = ', dist)\n",
    "\n",
    "simil = 1/(1+dist)\n",
    "\n",
    "print('\\t\\tSimilitud = ', simil)"
   ]
  },
  {
   "cell_type": "code",
   "execution_count": 38,
   "metadata": {},
   "outputs": [
    {
     "name": "stdout",
     "output_type": "stream",
     "text": [
      "Relación entre lessly25huacan@gmail.com y jvaleroc@unsa.edu.pe \n",
      "\n",
      "\n",
      "\t\tDistancia =  5.477225575051661\n",
      "\t\tSimilitud =  0.15438708879488486\n"
     ]
    }
   ],
   "source": [
    "print('Relación entre',m[12],'y',m[16],'\\n\\n')\n",
    "dist = euclidean(n[12],n[16])\n",
    "\n",
    "print('\\t\\tDistancia = ', dist)\n",
    "\n",
    "simil = 1/(1+dist)\n",
    "\n",
    "print('\\t\\tSimilitud = ', simil)"
   ]
  },
  {
   "cell_type": "code",
   "execution_count": 39,
   "metadata": {},
   "outputs": [
    {
     "name": "stdout",
     "output_type": "stream",
     "text": [
      "Relación entre lessly25huacan@gmail.com y joselyn.qa.20@gmail.com \n",
      "\n",
      "\n",
      "\t\tDistancia =  8.0\n",
      "\t\tSimilitud =  0.1111111111111111\n"
     ]
    }
   ],
   "source": [
    "print('Relación entre',m[12],'y',m[17],'\\n\\n')\n",
    "dist = euclidean(n[12],n[17])\n",
    "\n",
    "print('\\t\\tDistancia = ', dist)\n",
    "\n",
    "simil = 1/(1+dist)\n",
    "\n",
    "print('\\t\\tSimilitud = ', simil)"
   ]
  },
  {
   "cell_type": "code",
   "execution_count": 40,
   "metadata": {},
   "outputs": [
    {
     "name": "stdout",
     "output_type": "stream",
     "text": [
      "Relación entre lessly25huacan@gmail.com y chemystry03@gmail.com \n",
      "\n",
      "\n",
      "\t\tDistancia =  5.744562646538029\n",
      "\t\tSimilitud =  0.1482675827043134\n"
     ]
    }
   ],
   "source": [
    "print('Relación entre',m[12],'y',m[18],'\\n\\n')\n",
    "dist = euclidean(n[12],n[18])\n",
    "\n",
    "print('\\t\\tDistancia = ', dist)\n",
    "\n",
    "simil = 1/(1+dist)\n",
    "\n",
    "print('\\t\\tSimilitud = ', simil)"
   ]
  },
  {
   "cell_type": "code",
   "execution_count": 41,
   "metadata": {},
   "outputs": [
    {
     "name": "stdout",
     "output_type": "stream",
     "text": [
      "Relación entre lessly25huacan@gmail.com y huamanidana@gmail.com \n",
      "\n",
      "\n",
      "\t\tDistancia =  6.928203230275509\n",
      "\t\tSimilitud =  0.1261319836228832\n"
     ]
    }
   ],
   "source": [
    "print('Relación entre',m[12],'y',m[19],'\\n\\n')\n",
    "dist = euclidean(n[12],n[19])\n",
    "\n",
    "print('\\t\\tDistancia = ', dist)\n",
    "\n",
    "simil = 1/(1+dist)\n",
    "\n",
    "print('\\t\\tSimilitud = ', simil)"
   ]
  },
  {
   "cell_type": "code",
   "execution_count": 42,
   "metadata": {},
   "outputs": [
    {
     "name": "stdout",
     "output_type": "stream",
     "text": [
      "Relación entre lessly25huacan@gmail.com y fmirandaa@unsa.edu.pe \n",
      "\n",
      "\n",
      "\t\tDistancia =  7.0710678118654755\n",
      "\t\tSimilitud =  0.12389934309929541\n"
     ]
    }
   ],
   "source": [
    "print('Relación entre',m[12],'y',m[20],'\\n\\n')\n",
    "dist = euclidean(n[12],n[20])\n",
    "\n",
    "print('\\t\\tDistancia = ', dist)\n",
    "\n",
    "simil = 1/(1+dist)\n",
    "\n",
    "print('\\t\\tSimilitud = ', simil)"
   ]
  },
  {
   "cell_type": "markdown",
   "metadata": {},
   "source": [
    "## mfloreschav@unsa.edu.pe con todos"
   ]
  },
  {
   "cell_type": "code",
   "execution_count": 43,
   "metadata": {},
   "outputs": [
    {
     "name": "stdout",
     "output_type": "stream",
     "text": [
      "Relación entre mfloreschav@unsa.edu.pe y ruizcruza9@gmail.com \n",
      "\n",
      "\n",
      "\t\tDistancia =  12.041594578792296\n",
      "\t\tSimilitud =  0.07667774013050205\n"
     ]
    }
   ],
   "source": [
    "print('Relación entre',m[13],'y',m[14],'\\n\\n')\n",
    "dist = euclidean(n[13],n[14])\n",
    "\n",
    "print('\\t\\tDistancia = ', dist)\n",
    "\n",
    "simil = 1/(1+dist)\n",
    "\n",
    "print('\\t\\tSimilitud = ', simil)"
   ]
  },
  {
   "cell_type": "code",
   "execution_count": 45,
   "metadata": {},
   "outputs": [
    {
     "name": "stdout",
     "output_type": "stream",
     "text": [
      "Relación entre mfloreschav@unsa.edu.pe y jlagunam@unsa.edu.pe \n",
      "\n",
      "\n",
      "\t\tDistancia =  5.656854249492381\n",
      "\t\tSimilitud =  0.15022110482233483\n"
     ]
    }
   ],
   "source": [
    "print('Relación entre',m[13],'y',m[15],'\\n\\n')\n",
    "dist = euclidean(n[13],n[15])\n",
    "\n",
    "print('\\t\\tDistancia = ', dist)\n",
    "\n",
    "simil = 1/(1+dist)\n",
    "\n",
    "print('\\t\\tSimilitud = ', simil)"
   ]
  },
  {
   "cell_type": "code",
   "execution_count": 46,
   "metadata": {},
   "outputs": [
    {
     "name": "stdout",
     "output_type": "stream",
     "text": [
      "Relación entre mfloreschav@unsa.edu.pe y jvaleroc@unsa.edu.pe \n",
      "\n",
      "\n",
      "\t\tDistancia =  5.477225575051661\n",
      "\t\tSimilitud =  0.15438708879488486\n"
     ]
    }
   ],
   "source": [
    "print('Relación entre',m[13],'y',m[16],'\\n\\n')\n",
    "dist = euclidean(n[13],n[16])\n",
    "\n",
    "print('\\t\\tDistancia = ', dist)\n",
    "\n",
    "simil = 1/(1+dist)\n",
    "\n",
    "print('\\t\\tSimilitud = ', simil)"
   ]
  },
  {
   "cell_type": "code",
   "execution_count": 47,
   "metadata": {},
   "outputs": [
    {
     "name": "stdout",
     "output_type": "stream",
     "text": [
      "Relación entre mfloreschav@unsa.edu.pe y joselyn.qa.20@gmail.com \n",
      "\n",
      "\n",
      "\t\tDistancia =  9.591663046625438\n",
      "\t\tSimilitud =  0.09441387963324659\n"
     ]
    }
   ],
   "source": [
    "print('Relación entre',m[13],'y',m[17],'\\n\\n')\n",
    "dist = euclidean(n[13],n[17])\n",
    "\n",
    "print('\\t\\tDistancia = ', dist)\n",
    "\n",
    "simil = 1/(1+dist)\n",
    "\n",
    "print('\\t\\tSimilitud = ', simil)"
   ]
  },
  {
   "cell_type": "code",
   "execution_count": 48,
   "metadata": {},
   "outputs": [
    {
     "name": "stdout",
     "output_type": "stream",
     "text": [
      "Relación entre mfloreschav@unsa.edu.pe y chemystry03@gmail.com \n",
      "\n",
      "\n",
      "\t\tDistancia =  6.557438524302\n",
      "\t\tSimilitud =  0.13231996486433337\n"
     ]
    }
   ],
   "source": [
    "print('Relación entre',m[13],'y',m[18],'\\n\\n')\n",
    "dist = euclidean(n[13],n[18])\n",
    "\n",
    "print('\\t\\tDistancia = ', dist)\n",
    "\n",
    "simil = 1/(1+dist)\n",
    "\n",
    "print('\\t\\tSimilitud = ', simil)"
   ]
  },
  {
   "cell_type": "code",
   "execution_count": 49,
   "metadata": {},
   "outputs": [
    {
     "name": "stdout",
     "output_type": "stream",
     "text": [
      "Relación entre mfloreschav@unsa.edu.pe y huamanidana@gmail.com \n",
      "\n",
      "\n",
      "\t\tDistancia =  7.483314773547883\n",
      "\t\tSimilitud =  0.11787845042814334\n"
     ]
    }
   ],
   "source": [
    "print('Relación entre',m[13],'y',m[19],'\\n\\n')\n",
    "dist = euclidean(n[13],n[19])\n",
    "\n",
    "print('\\t\\tDistancia = ', dist)\n",
    "\n",
    "simil = 1/(1+dist)\n",
    "\n",
    "print('\\t\\tSimilitud = ', simil)"
   ]
  },
  {
   "cell_type": "code",
   "execution_count": 50,
   "metadata": {},
   "outputs": [
    {
     "name": "stdout",
     "output_type": "stream",
     "text": [
      "Relación entre mfloreschav@unsa.edu.pe y fmirandaa@unsa.edu.pe \n",
      "\n",
      "\n",
      "\t\tDistancia =  5.0990195135927845\n",
      "\t\tSimilitud =  0.1639607805437114\n"
     ]
    }
   ],
   "source": [
    "print('Relación entre',m[13],'y',m[20],'\\n\\n')\n",
    "dist = euclidean(n[13],n[20])\n",
    "\n",
    "print('\\t\\tDistancia = ', dist)\n",
    "\n",
    "simil = 1/(1+dist)\n",
    "\n",
    "print('\\t\\tSimilitud = ', simil)"
   ]
  },
  {
   "cell_type": "markdown",
   "metadata": {},
   "source": [
    "## ruizcruza9@gmail.com  con todos"
   ]
  },
  {
   "cell_type": "code",
   "execution_count": 51,
   "metadata": {},
   "outputs": [
    {
     "name": "stdout",
     "output_type": "stream",
     "text": [
      "Relación entre ruizcruza9@gmail.com y jlagunam@unsa.edu.pe \n",
      "\n",
      "\n",
      "\t\tDistancia =  10.63014581273465\n",
      "\t\tSimilitud =  0.08598344475655936\n"
     ]
    }
   ],
   "source": [
    "print('Relación entre',m[14],'y',m[15],'\\n\\n')\n",
    "dist = euclidean(n[14],n[15])\n",
    "\n",
    "print('\\t\\tDistancia = ', dist)\n",
    "\n",
    "simil = 1/(1+dist)\n",
    "\n",
    "print('\\t\\tSimilitud = ', simil)"
   ]
  },
  {
   "cell_type": "code",
   "execution_count": 52,
   "metadata": {},
   "outputs": [
    {
     "name": "stdout",
     "output_type": "stream",
     "text": [
      "Relación entre ruizcruza9@gmail.com y jvaleroc@unsa.edu.pe \n",
      "\n",
      "\n",
      "\t\tDistancia =  8.888194417315589\n",
      "\t\tSimilitud =  0.10113069765789216\n"
     ]
    }
   ],
   "source": [
    "print('Relación entre',m[14],'y',m[16],'\\n\\n')\n",
    "dist = euclidean(n[14],n[16])\n",
    "\n",
    "print('\\t\\tDistancia = ', dist)\n",
    "\n",
    "simil = 1/(1+dist)\n",
    "\n",
    "print('\\t\\tSimilitud = ', simil)"
   ]
  },
  {
   "cell_type": "code",
   "execution_count": 53,
   "metadata": {},
   "outputs": [
    {
     "name": "stdout",
     "output_type": "stream",
     "text": [
      "Relación entre ruizcruza9@gmail.com y joselyn.qa.20@gmail.com \n",
      "\n",
      "\n",
      "\t\tDistancia =  7.681145747868608\n",
      "\t\tSimilitud =  0.11519216806670013\n"
     ]
    }
   ],
   "source": [
    "print('Relación entre',m[14],'y',m[17],'\\n\\n')\n",
    "dist = euclidean(n[14],n[17])\n",
    "\n",
    "print('\\t\\tDistancia = ', dist)\n",
    "\n",
    "simil = 1/(1+dist)\n",
    "\n",
    "print('\\t\\tSimilitud = ', simil)"
   ]
  },
  {
   "cell_type": "code",
   "execution_count": 54,
   "metadata": {},
   "outputs": [
    {
     "name": "stdout",
     "output_type": "stream",
     "text": [
      "Relación entre ruizcruza9@gmail.com y chemystry03@gmail.com \n",
      "\n",
      "\n",
      "\t\tDistancia =  9.899494936611665\n",
      "\t\tSimilitud =  0.09174737048053264\n"
     ]
    }
   ],
   "source": [
    "print('Relación entre',m[14],'y',m[18],'\\n\\n')\n",
    "dist = euclidean(n[14],n[18])\n",
    "\n",
    "print('\\t\\tDistancia = ', dist)\n",
    "\n",
    "simil = 1/(1+dist)\n",
    "\n",
    "print('\\t\\tSimilitud = ', simil)"
   ]
  },
  {
   "cell_type": "code",
   "execution_count": 55,
   "metadata": {},
   "outputs": [
    {
     "name": "stdout",
     "output_type": "stream",
     "text": [
      "Relación entre ruizcruza9@gmail.com y huamanidana@gmail.com \n",
      "\n",
      "\n",
      "\t\tDistancia =  9.746794344808963\n",
      "\t\tSimilitud =  0.09305100366818048\n"
     ]
    }
   ],
   "source": [
    "print('Relación entre',m[14],'y',m[19],'\\n\\n')\n",
    "dist = euclidean(n[14],n[19])\n",
    "\n",
    "print('\\t\\tDistancia = ', dist)\n",
    "\n",
    "simil = 1/(1+dist)\n",
    "\n",
    "print('\\t\\tSimilitud = ', simil)"
   ]
  },
  {
   "cell_type": "code",
   "execution_count": 56,
   "metadata": {},
   "outputs": [
    {
     "name": "stdout",
     "output_type": "stream",
     "text": [
      "Relación entre ruizcruza9@gmail.com y fmirandaa@unsa.edu.pe \n",
      "\n",
      "\n",
      "\t\tDistancia =  9.746794344808963\n",
      "\t\tSimilitud =  0.09305100366818048\n"
     ]
    }
   ],
   "source": [
    "print('Relación entre',m[14],'y',m[20],'\\n\\n')\n",
    "dist = euclidean(n[14],n[20])\n",
    "\n",
    "print('\\t\\tDistancia = ', dist)\n",
    "\n",
    "simil = 1/(1+dist)\n",
    "\n",
    "print('\\t\\tSimilitud = ', simil)"
   ]
  },
  {
   "cell_type": "markdown",
   "metadata": {},
   "source": [
    "## jlagunam@unsa.edu.pe  con todos"
   ]
  },
  {
   "cell_type": "code",
   "execution_count": 57,
   "metadata": {},
   "outputs": [
    {
     "name": "stdout",
     "output_type": "stream",
     "text": [
      "Relación entre jlagunam@unsa.edu.pe y jvaleroc@unsa.edu.pe \n",
      "\n",
      "\n",
      "\t\tDistancia =  5.830951894845301\n",
      "\t\tSimilitud =  0.1463924816619788\n"
     ]
    }
   ],
   "source": [
    "print('Relación entre',m[15],'y',m[16],'\\n\\n')\n",
    "dist = euclidean(n[15],n[16])\n",
    "\n",
    "print('\\t\\tDistancia = ', dist)\n",
    "\n",
    "simil = 1/(1+dist)\n",
    "\n",
    "print('\\t\\tSimilitud = ', simil)"
   ]
  },
  {
   "cell_type": "code",
   "execution_count": 58,
   "metadata": {},
   "outputs": [
    {
     "name": "stdout",
     "output_type": "stream",
     "text": [
      "Relación entre jlagunam@unsa.edu.pe y joselyn.qa.20@gmail.com \n",
      "\n",
      "\n",
      "\t\tDistancia =  8.246211251235321\n",
      "\t\tSimilitud =  0.10815240673485554\n"
     ]
    }
   ],
   "source": [
    "print('Relación entre',m[15],'y',m[17],'\\n\\n')\n",
    "dist = euclidean(n[15],n[17])\n",
    "\n",
    "print('\\t\\tDistancia = ', dist)\n",
    "\n",
    "simil = 1/(1+dist)\n",
    "\n",
    "print('\\t\\tSimilitud = ', simil)"
   ]
  },
  {
   "cell_type": "code",
   "execution_count": 59,
   "metadata": {},
   "outputs": [
    {
     "name": "stdout",
     "output_type": "stream",
     "text": [
      "Relación entre jlagunam@unsa.edu.pe y chemystry03@gmail.com \n",
      "\n",
      "\n",
      "\t\tDistancia =  7.280109889280518\n",
      "\t\tSimilitud =  0.12077134402462537\n"
     ]
    }
   ],
   "source": [
    "print('Relación entre',m[15],'y',m[18],'\\n\\n')\n",
    "dist = euclidean(n[15],n[18])\n",
    "\n",
    "print('\\t\\tDistancia = ', dist)\n",
    "\n",
    "simil = 1/(1+dist)\n",
    "\n",
    "print('\\t\\tSimilitud = ', simil)"
   ]
  },
  {
   "cell_type": "code",
   "execution_count": 60,
   "metadata": {},
   "outputs": [
    {
     "name": "stdout",
     "output_type": "stream",
     "text": [
      "Relación entre jlagunam@unsa.edu.pe y huamanidana@gmail.com \n",
      "\n",
      "\n",
      "\t\tDistancia =  6.48074069840786\n",
      "\t\tSimilitud =  0.13367660240019172\n"
     ]
    }
   ],
   "source": [
    "print('Relación entre',m[15],'y',m[19],'\\n\\n')\n",
    "dist = euclidean(n[15],n[19])\n",
    "\n",
    "print('\\t\\tDistancia = ', dist)\n",
    "\n",
    "simil = 1/(1+dist)\n",
    "\n",
    "print('\\t\\tSimilitud = ', simil)"
   ]
  },
  {
   "cell_type": "code",
   "execution_count": 61,
   "metadata": {},
   "outputs": [
    {
     "name": "stdout",
     "output_type": "stream",
     "text": [
      "Relación entre jlagunam@unsa.edu.pe y fmirandaa@unsa.edu.pe \n",
      "\n",
      "\n",
      "\t\tDistancia =  7.3484692283495345\n",
      "\t\tSimilitud =  0.11978243827074593\n"
     ]
    }
   ],
   "source": [
    "print('Relación entre',m[15],'y',m[20],'\\n\\n')\n",
    "dist = euclidean(n[15],n[20])\n",
    "\n",
    "print('\\t\\tDistancia = ', dist)\n",
    "\n",
    "simil = 1/(1+dist)\n",
    "\n",
    "print('\\t\\tSimilitud = ', simil)"
   ]
  },
  {
   "cell_type": "markdown",
   "metadata": {},
   "source": [
    "## jvaleroc@unsa.edu.pe con todos"
   ]
  },
  {
   "cell_type": "code",
   "execution_count": 62,
   "metadata": {},
   "outputs": [
    {
     "name": "stdout",
     "output_type": "stream",
     "text": [
      "Relación entre jvaleroc@unsa.edu.pe y joselyn.qa.20@gmail.com \n",
      "\n",
      "\n",
      "\t\tDistancia =  6.324555320336759\n",
      "\t\tSimilitud =  0.1365270594958143\n"
     ]
    }
   ],
   "source": [
    "print('Relación entre',m[16],'y',m[17],'\\n\\n')\n",
    "dist = euclidean(n[16],n[17])\n",
    "\n",
    "print('\\t\\tDistancia = ', dist)\n",
    "\n",
    "simil = 1/(1+dist)\n",
    "\n",
    "print('\\t\\tSimilitud = ', simil)"
   ]
  },
  {
   "cell_type": "code",
   "execution_count": 63,
   "metadata": {},
   "outputs": [
    {
     "name": "stdout",
     "output_type": "stream",
     "text": [
      "Relación entre jvaleroc@unsa.edu.pe y chemystry03@gmail.com \n",
      "\n",
      "\n",
      "\t\tDistancia =  5.5677643628300215\n",
      "\t\tSimilitud =  0.15225881209433406\n"
     ]
    }
   ],
   "source": [
    "print('Relación entre',m[16],'y',m[18],'\\n\\n')\n",
    "dist = euclidean(n[16],n[18])\n",
    "\n",
    "print('\\t\\tDistancia = ', dist)\n",
    "\n",
    "simil = 1/(1+dist)\n",
    "\n",
    "print('\\t\\tSimilitud = ', simil)"
   ]
  },
  {
   "cell_type": "code",
   "execution_count": 64,
   "metadata": {},
   "outputs": [
    {
     "name": "stdout",
     "output_type": "stream",
     "text": [
      "Relación entre jvaleroc@unsa.edu.pe y huamanidana@gmail.com \n",
      "\n",
      "\n",
      "\t\tDistancia =  4.47213595499958\n",
      "\t\tSimilitud =  0.1827439976315568\n"
     ]
    }
   ],
   "source": [
    "print('Relación entre',m[16],'y',m[19],'\\n\\n')\n",
    "dist = euclidean(n[16],n[19])\n",
    "\n",
    "print('\\t\\tDistancia = ', dist)\n",
    "\n",
    "simil = 1/(1+dist)\n",
    "\n",
    "print('\\t\\tSimilitud = ', simil)"
   ]
  },
  {
   "cell_type": "code",
   "execution_count": 65,
   "metadata": {},
   "outputs": [
    {
     "name": "stdout",
     "output_type": "stream",
     "text": [
      "Relación entre jvaleroc@unsa.edu.pe y fmirandaa@unsa.edu.pe \n",
      "\n",
      "\n",
      "\t\tDistancia =  3.7416573867739413\n",
      "\t\tSimilitud =  0.21089672205953397\n"
     ]
    }
   ],
   "source": [
    "print('Relación entre',m[16],'y',m[20],'\\n\\n')\n",
    "dist = euclidean(n[16],n[20])\n",
    "\n",
    "print('\\t\\tDistancia = ', dist)\n",
    "\n",
    "simil = 1/(1+dist)\n",
    "\n",
    "print('\\t\\tSimilitud = ', simil)"
   ]
  },
  {
   "cell_type": "markdown",
   "metadata": {},
   "source": [
    "## joselyn.qa.20@gmail.com con todos"
   ]
  },
  {
   "cell_type": "code",
   "execution_count": 66,
   "metadata": {},
   "outputs": [
    {
     "name": "stdout",
     "output_type": "stream",
     "text": [
      "Relación entre joselyn.qa.20@gmail.com y chemystry03@gmail.com \n",
      "\n",
      "\n",
      "\t\tDistancia =  7.937253933193772\n",
      "\t\tSimilitud =  0.11189119247086728\n"
     ]
    }
   ],
   "source": [
    "print('Relación entre',m[17],'y',m[18],'\\n\\n')\n",
    "dist = euclidean(n[17],n[18])\n",
    "\n",
    "print('\\t\\tDistancia = ', dist)\n",
    "\n",
    "simil = 1/(1+dist)\n",
    "\n",
    "print('\\t\\tSimilitud = ', simil)"
   ]
  },
  {
   "cell_type": "code",
   "execution_count": 67,
   "metadata": {},
   "outputs": [
    {
     "name": "stdout",
     "output_type": "stream",
     "text": [
      "Relación entre joselyn.qa.20@gmail.com y huamanidana@gmail.com \n",
      "\n",
      "\n",
      "\t\tDistancia =  7.211102550927978\n",
      "\t\tSimilitud =  0.12178632452799958\n"
     ]
    }
   ],
   "source": [
    "print('Relación entre',m[17],'y',m[19],'\\n\\n')\n",
    "dist = euclidean(n[17],n[19])\n",
    "\n",
    "print('\\t\\tDistancia = ', dist)\n",
    "\n",
    "simil = 1/(1+dist)\n",
    "\n",
    "print('\\t\\tSimilitud = ', simil)"
   ]
  },
  {
   "cell_type": "code",
   "execution_count": 68,
   "metadata": {},
   "outputs": [
    {
     "name": "stdout",
     "output_type": "stream",
     "text": [
      "Relación entre joselyn.qa.20@gmail.com y fmirandaa@unsa.edu.pe \n",
      "\n",
      "\n",
      "\t\tDistancia =  7.615773105863909\n",
      "\t\tSimilitud =  0.11606619483971768\n"
     ]
    }
   ],
   "source": [
    "print('Relación entre',m[17],'y',m[20],'\\n\\n')\n",
    "dist = euclidean(n[17],n[20])\n",
    "\n",
    "print('\\t\\tDistancia = ', dist)\n",
    "\n",
    "simil = 1/(1+dist)\n",
    "\n",
    "print('\\t\\tSimilitud = ', simil)"
   ]
  },
  {
   "cell_type": "markdown",
   "metadata": {},
   "source": [
    "## chemystry03@gmail.com con todos"
   ]
  },
  {
   "cell_type": "code",
   "execution_count": 73,
   "metadata": {},
   "outputs": [
    {
     "name": "stdout",
     "output_type": "stream",
     "text": [
      "Relación entre chemystry03@gmail.com y huamanidana@gmail.com \n",
      "\n",
      "\n",
      "\t\tDistancia =  7.0\n",
      "\t\tSimilitud =  0.125\n"
     ]
    }
   ],
   "source": [
    "print('Relación entre',m[18],'y',m[19],'\\n\\n')\n",
    "dist = euclidean(n[18],n[19])\n",
    "\n",
    "print('\\t\\tDistancia = ', dist)\n",
    "\n",
    "simil = 1/(1+dist)\n",
    "\n",
    "print('\\t\\tSimilitud = ', simil)"
   ]
  },
  {
   "cell_type": "code",
   "execution_count": 74,
   "metadata": {},
   "outputs": [
    {
     "name": "stdout",
     "output_type": "stream",
     "text": [
      "Relación entre chemystry03@gmail.com y fmirandaa@unsa.edu.pe \n",
      "\n",
      "\n",
      "\t\tDistancia =  5.744562646538029\n",
      "\t\tSimilitud =  0.1482675827043134\n"
     ]
    }
   ],
   "source": [
    "print('Relación entre',m[18],'y',m[20],'\\n\\n')\n",
    "dist = euclidean(n[18],n[20])\n",
    "\n",
    "print('\\t\\tDistancia = ', dist)\n",
    "\n",
    "simil = 1/(1+dist)\n",
    "\n",
    "print('\\t\\tSimilitud = ', simil)"
   ]
  },
  {
   "cell_type": "markdown",
   "metadata": {},
   "source": [
    "## huamanidana@gmail.com con todos"
   ]
  },
  {
   "cell_type": "code",
   "execution_count": 75,
   "metadata": {},
   "outputs": [
    {
     "name": "stdout",
     "output_type": "stream",
     "text": [
      "Relación entre huamanidana@gmail.com y fmirandaa@unsa.edu.pe \n",
      "\n",
      "\n",
      "\t\tDistancia =  6.48074069840786\n",
      "\t\tSimilitud =  0.13367660240019172\n"
     ]
    }
   ],
   "source": [
    "print('Relación entre',m[19],'y',m[20],'\\n\\n')\n",
    "dist = euclidean(n[19],n[20])\n",
    "\n",
    "print('\\t\\tDistancia = ', dist)\n",
    "\n",
    "simil = 1/(1+dist)\n",
    "\n",
    "print('\\t\\tSimilitud = ', simil)"
   ]
  },
  {
   "cell_type": "markdown",
   "metadata": {},
   "source": [
    "![linea 2](https://user-images.githubusercontent.com/19308295/115926262-2fb62980-a448-11eb-8189-c2f10e499944.png)"
   ]
  },
  {
   "cell_type": "markdown",
   "metadata": {},
   "source": [
    "## 4.- Matrix de Correlación"
   ]
  },
  {
   "cell_type": "markdown",
   "metadata": {},
   "source": [
    "Se debe llenar la tabla de __Matriz de Correlación__ con los valores de `Similitud` obtenidos:"
   ]
  },
  {
   "cell_type": "markdown",
   "metadata": {},
   "source": [
    "|    |cchallcoa@unsa.edu.pe|jllerenapa@unsa.edu.pe|claricoy@unsa.edu.pe|chuaylla@unsa.edu.pe|jquempes@unsa.edu.pe|mloayzam@unsa.edu.pe|bbeltrand@unsa.edu.pe|ssoriaq@unsa.edu.pe|jquispebar@unsa.edu.pe|spaucav@unsa.edu.pe|harenaza@unsa.edu.pe|jvillenav@unsa.edu.pe|lessly25huacan@gmail.com|mfloreschav@unsa.edu.pe|ruizcruza9@gmail.com|jlagunam@unsa.edu.pe|jvaleroc@unsa.edu.pe|joselyn.qa.20@gmail.com|chemystry03@gmail.com|huamanidana@gmail.com|fmirandaa@unsa.edu.pe|\n",
    "|:-----------:|:-------------:|:-------------:|:-------------:|:-------------:|:-------------:|:-------------:|:-----------:|:-----------:|:-----------:|:-----------:|:-----------:|:-----------:|:-----------:|:-----------:|:-----------:|:-----------:|:-----------:|:-----------:|:-----------:|:-----------:|:-----------:|\n",
    "|cchallcoa@unsa.edu.pe       |   1   |   0,10   |   0,09   |   0,11   |   0,10   |   0,14   |   0,13   |   0,11   |    0,09   |   0,13   |   0,15   |   0,13   |   0,14   |   0,09   |   0,11   |   0,12   |   0,12   |   0,12   |   0,12   |   0,11   |   0,11   |\n",
    "|jllerenapa@unsa.edu.pe      | 0,10  |    1     |   __0,36__   |    0,18  |   0,07   |   0,08   |   0,11    | 0,13      |    0,15       |     0,12     |           0,14  |       0,16    | 0,13     |    __0,20__       |     0,07      |         0,16 |  0,16    | 0,10     |    0,15    |     0,13  |   0,15   |\n",
    "|claricoy@unsa.edu.pe        |   0,09   |       __0,36__    |  1            |   0,16        |   0,07    |   0,07           |       0,11   |    0,13   |    0,14    |  0,11        |  0,13           |      0,15     |    0,12   |      0,18     |     0,07     |   0,17         |      0,15     |  0,09     |       0,13    |   0,13       |      0,14       |\n",
    "|chuaylla@unsa.edu.pe        |   0,11        |       0,18    |     0,16      |         1       |   0,08        |       0,09      |    0,13      |  0,14   |   0,16       |   0,17      |     0,17       |  0,14       |    0,12   |   0,16      |       0,09   |       0,14     |     0,18    |  0,10   |   0,13     |    0,15     |        0,19      |\n",
    "|jquempes@unsa.edu.pe        |    0,10  |       0,07    |      0,07        |     0,08        |     1  |  0,10           |    0,08      |  0,08    |      0,07    | 0,09        |    0,09         | 0,09         |    0,08  |     0,07    |    0,10      |      0,08      |    0,08     |   0,08   |   0,07        |    0,07       |  0,08            |\n",
    "|mloayzam@unsa.edu.pe        |   0,14       |    0,08      |  0,07   |       0,09  | 0,10   |     1         | 0,11        |   0,10    |    0,08       |        0,12   |    0,11          |  0,10       |   0,10  |   0,08       |     0,16      |     0,09         |  0,10        |     0,12 |     0,09     |   0,10        |       0,10      |\n",
    "|bbeltrand@unsa.edu.pe       |       0,13   |     0,11     |    0,11   |       0,13   |       0,08     |      0,11       |    1      | 0,12     |   0,11      |   0,15      |   0,17           |   0,14      |  0,15    |    0,11      |    0,10     |    0,13         |   0,17       |   0,12 |      0,11    |     0,13     |   0,13       |\n",
    "|ssoriaq@unsa.edu.pe         |     0,11     |     0,13    |    0,13   |      0,14   |       0,08       |     0,10        |     0,12     |  1  |       0,14    |     0,14    |     0,15        |     0,12      |    0,15  |   0,13       |   0,09      |      0,12        |      0,14   |   0,10  |     0,14     |         0,13 |       0,15       |\n",
    "|jquispebar@unsa.edu.pe      |     0.09      |   0,15       |  0,14     |     0,16     |      0,07        |    0,08         |     0,11    |    0,14   |       1    |     0,14    |     0,13         |  0,13       |    0,13  |    0,15     |      0,08     |      0,11       |      0,18    |   0.09  |      0,12    |      0,12    |       0,18      |\n",
    "|spaucav@unsa.edu.pe          |   0,13      |    0,12       |    0,11   |     0,17      |       0,09      |    0,12         |    0,15     |    0,14   |   0,14    |    1      |      0,17        |      0,13     |   0,16   |      0,13     |      0,11    |      0,13       |  0,16       |    0,10  |     0,13     |     0,12    |     0,15        |\n",
    "|harenaza@unsa.edu.pe       |     0,15     |     0,14     |   0,13    |     0,17     |       0,09       |      0,11        |      0,17    |   0,15    |    0,13      |    0,17     |   1           |   0,17       | 0,15     |   0,14      |        0,10  |      0,16      |    0,19      |  0,13    |      0,14     |    0,16      |    0,16          |\n",
    "|jvillenav@unsa.edu.pe        |    0,13       |     0,16      |    0,15   |      0,14     |       0,09       |        0,10     |     0,14     |    0,12   |      0,13    |  0,13        |       0,17       |   1       |  0,14    |    0,14      |    0,09      |      0,14       |      0,17    |   0,13   |    0,13       |      0,13     |       0,14      |\n",
    "|lessly25huacan@gmail.com       |     0,14      |0,13 |    0,12   |    0,12      |      0,08       |    0,10        |      0,15     |    0,15   |     0,13     |      0,16     |       0,15      |      0,14    |    1  |    0,12       |    0,09      |        0,13      |     0,15     |    0,11   |      0,14     |     0,12      |        0,12      |\n",
    "|mfloreschav@unsa.edu.pe      |     0,09      |     __0,20__     |  0,18   |     0,16      |       0,07       |      0,08       |     0,11     |   0,13    |       0,15    |      0,13     |       0,14      |      0,14    |   0,12    |   1        |        0,07  |       0,15       |      0,15    |   0,09    |     0,13     |     0,11      |      0,16       |\n",
    "|ruizcruza9@gmail.com         |     0,11     |      0,07     |   0,07   |     0,09     |       0,10       |     0,16         |    0,10     |    0,09   |     0,08    |    0,11      |     0,10         |     0,09     |   0,09    |       0,07    |    1      |        0,08      |      0,10    |   0,11    |     0,09      |     0,09     |     0,09        |\n",
    "|jlagunam@unsa.edu.pe        |     0,12      |     0,16      |   0,17   |      0,14    |     0,08       |     0,09         |     0,13     |   0,12   |    0,11      |      0,13     |        0,16      |      0,14     |    0,13   |       0,15    |      0,08    |     1         |      0,14    |    0,10   |     0,12     |     0,13      |     0,11         |\n",
    "|jvaleroc@unsa.edu.pe         |     0,12      |     0,16      |  0,15    |     0,18     |       0,08     |      0,10        |     0,17     |   0,14   |    0,18      |     0,16      |      0,19        |     0,17      |   0,15    |      0,15     |     0,10     |       0,14       |   1       |    0,13   |      0,15    |      0,18     |       __0,21__       |\n",
    "|joselyn.qa.20@gmail.com         |      0,12     |    0,10       |  0,09    |     0,10     |      0,08      |   0,12           |     0,12     |   0,10   |      0.09    |     0,10      |        0,13      |      0,13     |     0,11  |      0,09     |      0,11    |       0,10       |     0,13     |     1  |      0,11    |      0,12     |          0,11    |\n",
    "|chemystry03@gmail.com         |     0,12      |    0,15       |    0,13  |     0,13     |      0,07      |    0,09          |       0,11   |   0,14   |     0,12     |      0,13     |       0,14       |     0,13      |    0,14   |      0,13     |    0,09      |      0,12        |    0,15      |    0,11   |      1    |      0,12     |        0,14      |\n",
    "|huamanidana@gmail.com        |      0,11     |     0,13      |  0,13    |   0,15       |     0,07       |      0,10        |     0,13     |    0,13  |     0,12     |     0,12      |       0,16       |      0,13     |   0,12    |      0,11     |    0,09      |         0,13     |     0,18     |   0,12    |    0,12      |      1     |         0,13     |\n",
    "|fmirandaa@unsa.edu.pe         |    0,11       |    0,15       |   0,14   |     0,19     |      0,08      |   0,10          |   0,13      |  0,15    |     0,18     |    0,15       |    0,16          |     0,14      |   0,12    |      0,16     |    0,09      |         0,11     |     __0,21__     |  0,11     |      0,14    |      0,13     |        1      |"
   ]
  },
  {
   "cell_type": "code",
   "execution_count": null,
   "metadata": {},
   "outputs": [],
   "source": [
    "### Validación - Matrix de Correlación"
   ]
  },
  {
   "cell_type": "markdown",
   "metadata": {},
   "source": [
    "Se realiza la validación de los resultados obtenidos con la   `Matriz de Correlación` en `Numpy` "
   ]
  },
  {
   "cell_type": "code",
   "execution_count": 88,
   "metadata": {},
   "outputs": [
    {
     "data": {
      "text/plain": [
       "array([[ 1.        ,  0.109535  ,  0.55223781,  0.23228952,  0.10600976,\n",
       "         0.22007764,  0.33103575, -0.05708646, -0.03130894,  0.38341864,\n",
       "         0.08815034,  0.34384863, -0.14187246,  0.37209337,  0.3454661 ,\n",
       "         0.17427394,  0.20164874,  0.27639931,  0.16980538, -0.10503367],\n",
       "       [ 0.109535  ,  1.        , -0.14289186,  0.04756515,  0.12839616,\n",
       "        -0.26951173,  0.06118264,  0.02341768, -0.24303622, -0.28560398,\n",
       "        -0.47691446, -0.11269665, -0.18354792, -0.28547956, -0.10356107,\n",
       "         0.05781216, -0.05217673, -0.21352642, -0.09828067, -0.05435505],\n",
       "       [ 0.55223781, -0.14289186,  1.        ,  0.2888586 ,  0.31189504,\n",
       "         0.26134705,  0.40871195,  0.45727063,  0.        ,  0.50207635,\n",
       "         0.41554974,  0.47547508,  0.35032452,  0.42379089,  0.50975336,\n",
       "         0.20597146,  0.4979296 ,  0.41245244,  0.30895719,  0.39941255],\n",
       "       [ 0.23228952,  0.04756515,  0.2888586 ,  1.        ,  0.22180177,\n",
       "         0.20211177,  0.09894549,  0.09467858,  0.08734263,  0.54696678,\n",
       "         0.09640916,  0.38369415,  0.39578196,  0.46168185,  0.66110736,\n",
       "        -0.15894099,  0.32697636,  0.66567352, -0.07012102,  0.05713748],\n",
       "       [ 0.10600976,  0.12839616,  0.31189504,  0.22180177,  1.        ,\n",
       "         0.14706816,  0.46740918,  0.3381427 , -0.07367828, -0.0164052 ,\n",
       "         0.20084082,  0.17478016,  0.30047733,  0.0916362 ,  0.36881248,\n",
       "         0.49844503,  0.24201193,  0.0280766 ,  0.34070926,  0.02966067],\n",
       "       [ 0.22007764, -0.26951173,  0.26134705,  0.20211177,  0.14706816,\n",
       "         1.        ,  0.34813993,  0.25185851,  0.48292396,  0.37268171,\n",
       "         0.45931089,  0.26518422,  0.57194418,  0.83269033,  0.4297761 ,\n",
       "         0.40415247,  0.65740977,  0.24049106,  0.31956242,  0.34684637],\n",
       "       [ 0.33103575,  0.06118264,  0.40871195,  0.09894549,  0.46740918,\n",
       "         0.34813993,  1.        ,  0.57706993,  0.30895719,  0.2579715 ,\n",
       "         0.14827314,  0.27144836,  0.3       ,  0.38426065,  0.37416574,\n",
       "         0.33071891,  0.42640143,  0.11773439,  0.26457513,  0.1243769 ],\n",
       "       [-0.05708646,  0.02341768,  0.45727063,  0.09467858,  0.3381427 ,\n",
       "         0.25185851,  0.57706993,  1.        ,  0.18192847,  0.21773152,\n",
       "         0.45750532, -0.03996038,  0.45341209,  0.30169425,  0.32314528,\n",
       "         0.07789712,  0.43061103,  0.03986333,  0.38559074,  0.46506732],\n",
       "       [-0.03130894, -0.24303622,  0.        ,  0.08734263, -0.07367828,\n",
       "         0.48292396,  0.30895719,  0.18192847,  1.        ,  0.15181362,\n",
       "         0.24868315, -0.07987231,  0.36045006,  0.47111148, -0.0091747 ,\n",
       "         0.08758113,  0.39521937,  0.28580267,  0.11677484,  0.30192751],\n",
       "       [ 0.38341864, -0.28560398,  0.50207635,  0.54696678, -0.0164052 ,\n",
       "         0.37268171,  0.2579715 ,  0.21773152,  0.15181362,  1.        ,\n",
       "         0.57557512,  0.58910712,  0.401289  ,  0.61889625,  0.54135208,\n",
       "        -0.20042502,  0.43999767,  0.70145127,  0.08667028,  0.25974135],\n",
       "       [ 0.08815034, -0.47691446,  0.41554974,  0.09640916,  0.20084082,\n",
       "         0.45931089,  0.14827314,  0.45750532,  0.24868315,  0.57557512,\n",
       "         1.        ,  0.32773779,  0.50412868,  0.5643291 ,  0.33815607,\n",
       "         0.06725038,  0.3666985 ,  0.27182806,  0.5604198 ,  0.5084655 ],\n",
       "       [ 0.34384863, -0.11269665,  0.47547508,  0.38369415,  0.17478016,\n",
       "         0.26518422,  0.27144836, -0.03996038, -0.07987231,  0.58910712,\n",
       "         0.32773779,  1.        ,  0.33931045,  0.38908138,  0.4957421 ,\n",
       "        -0.00427491,  0.26042843,  0.37665736,  0.15389675,  0.18689626],\n",
       "       [-0.14187246, -0.18354792,  0.35032452,  0.39578196,  0.30047733,\n",
       "         0.57194418,  0.3       ,  0.45341209,  0.36045006,  0.401289  ,\n",
       "         0.50412868,  0.33931045,  1.        ,  0.61908661,  0.49888765,\n",
       "         0.3968627 ,  0.68224229,  0.41207036,  0.17638342,  0.46641338],\n",
       "       [ 0.37209337, -0.28547956,  0.42379089,  0.46168185,  0.0916362 ,\n",
       "         0.83269033,  0.38426065,  0.30169425,  0.47111148,  0.61889625,\n",
       "         0.5643291 ,  0.38908138,  0.61908661,  1.        ,  0.73029674,\n",
       "         0.22995839,  0.76463004,  0.54935127,  0.33485169,  0.46086251],\n",
       "       [ 0.3454661 , -0.10356107,  0.50975336,  0.66110736,  0.36881248,\n",
       "         0.4297761 ,  0.37416574,  0.32314528, -0.0091747 ,  0.54135208,\n",
       "         0.33815607,  0.4957421 ,  0.49888765,  0.73029674,  1.        ,\n",
       "         0.05106882,  0.58499763,  0.5663851 ,  0.14142136,  0.36565237],\n",
       "       [ 0.17427394,  0.05781216,  0.20597146, -0.15894099,  0.49844503,\n",
       "         0.40415247,  0.33071891,  0.07789712,  0.08758113, -0.20042502,\n",
       "         0.06725038, -0.00427491,  0.3968627 ,  0.22995839,  0.05106882,\n",
       "         1.        ,  0.45126086, -0.15018553,  0.42916667,  0.04701005],\n",
       "       [ 0.20164874, -0.05217673,  0.4979296 ,  0.32697636,  0.24201193,\n",
       "         0.65740977,  0.42640143,  0.43061103,  0.39521937,  0.43999767,\n",
       "         0.3666985 ,  0.26042843,  0.68224229,  0.76463004,  0.58499763,\n",
       "         0.45126086,  1.        ,  0.5396727 ,  0.33844564,  0.68944835],\n",
       "       [ 0.27639931, -0.21352642,  0.41245244,  0.66567352,  0.0280766 ,\n",
       "         0.24049106,  0.11773439,  0.03986333,  0.28580267,  0.70145127,\n",
       "         0.27182806,  0.37665736,  0.41207036,  0.54935127,  0.5663851 ,\n",
       "        -0.15018553,  0.5396727 ,  1.        , -0.20024737,  0.28763896],\n",
       "       [ 0.16980538, -0.09828067,  0.30895719, -0.07012102,  0.34070926,\n",
       "         0.31956242,  0.26457513,  0.38559074,  0.11677484,  0.08667028,\n",
       "         0.5604198 ,  0.15389675,  0.17638342,  0.33485169,  0.14142136,\n",
       "         0.42916667,  0.33844564, -0.20024737,  1.        ,  0.40546168],\n",
       "       [-0.10503367, -0.05435505,  0.39941255,  0.05713748,  0.02966067,\n",
       "         0.34684637,  0.1243769 ,  0.46506732,  0.30192751,  0.25974135,\n",
       "         0.5084655 ,  0.18689626,  0.46641338,  0.46086251,  0.36565237,\n",
       "         0.04701005,  0.68944835,  0.28763896,  0.40546168,  1.        ]])"
      ]
     },
     "execution_count": 88,
     "metadata": {},
     "output_type": "execute_result"
    }
   ],
   "source": [
    "j= np.corrcoef(n,rowvar=False)\n",
    "j"
   ]
  },
  {
   "cell_type": "markdown",
   "metadata": {},
   "source": [
    "https://numpy.org/devdocs/reference/generated/numpy.corrcoef.html"
   ]
  },
  {
   "cell_type": "markdown",
   "metadata": {},
   "source": [
    "#### La función `np.corrcoef(n)` confirma los mismo resultados obtenidos anteriormente con nuestro algoritmo inicial."
   ]
  },
  {
   "cell_type": "markdown",
   "metadata": {},
   "source": [
    "![linea 2](https://user-images.githubusercontent.com/19308295/115926262-2fb62980-a448-11eb-8189-c2f10e499944.png)"
   ]
  },
  {
   "cell_type": "markdown",
   "metadata": {},
   "source": [
    "## 5.- RESULTADOS "
   ]
  },
  {
   "cell_type": "markdown",
   "metadata": {},
   "source": [
    "Los resultados de similitud obtenidos en **Dibujos Animados** según la tabla de **Correlación** con los siguientes encuestados:\n",
    "\n",
    "*se realizo el trabajo colaborativo en grupo creando una encuesta sobre comidas y recopilando datos, obteniendo que:\n",
    " 1. _jllerenapa@unsa.edu.pe_ y _claricoy@unsa.edu.pe_  obtienen el **PRIMER** indice mas alto de similitud \n",
    " \n",
    " 2. _fmirandaa@unsa.edu.pe_ y _jvaleroc@unsa.edu.pe_ obtienen el **SEGUNDO** indice mas alto de similitud \n",
    "\n",
    "*Para este proyecto el grupo se dividio el trabajo para hallar la distancia y similitud entre cada uno de los encuestados(de forma manual)\n"
   ]
  },
  {
   "cell_type": "markdown",
   "metadata": {},
   "source": [
    "![linea 2](https://user-images.githubusercontent.com/19308295/115926262-2fb62980-a448-11eb-8189-c2f10e499944.png)"
   ]
  },
  {
   "cell_type": "markdown",
   "metadata": {},
   "source": [
    "## RESUMEN - Investigación Formativa - Proyecto Final"
   ]
  },
  {
   "cell_type": "markdown",
   "metadata": {},
   "source": [
    "### Temas"
   ]
  },
  {
   "cell_type": "markdown",
   "metadata": {},
   "source": [
    " 1. Musica\n",
    " 2. Peliculas\n",
    " 3. Comida\n",
    " 4. Lugares que deseo conocer\n",
    " 5. Obras de Arte\n",
    " 6. Aficiones Hobbies"
   ]
  },
  {
   "cell_type": "markdown",
   "metadata": {},
   "source": [
    "### Procedimiento"
   ]
  },
  {
   "cell_type": "markdown",
   "metadata": {},
   "source": [
    "#### 1.- `Realizar Encuesta`\n",
    "#### 2.- `Editar archivo plantilla - Jupyter Notebook con los resultados obtenidos` (Avance 1 - Validación Matrix de Correlación)\n",
    "#### 3.- `Programar con Python pagina web Flask donde presenta el procedimiento y resultados ` (Avance 2 - Investigación Flask)\n",
    "#### 5.- `Sustentación de Resultados`( Investigación Formativa)\n",
    "#### 4.- `Caso Netflix en Jupyter Notebook`( Investigación 20)\n"
   ]
  },
  {
   "cell_type": "markdown",
   "metadata": {},
   "source": [
    "## CASO Netflix"
   ]
  },
  {
   "cell_type": "markdown",
   "metadata": {},
   "source": [
    "|Estudiante   |\tPelicula 1\t  |    Pelicula 2 |     Pelicula 3|   Pelicula 4  |\n",
    "|:-----------:|:-------------:|:-------------:|:-------------:|:-------------:|\n",
    "|Oscar        |          4    |               |        5      |               |\n",
    "|Andrea       |        2      |       1       |               |      5        |\n",
    "|Juan         |    5          |               |   3           |       2       |\n"
   ]
  },
  {
   "cell_type": "markdown",
   "metadata": {},
   "source": [
    "|             |\tOscar\t      |    Andrea     |     Juan     |\n",
    "|:-----------:|:-------------:|:-------------:|:------------:|\n",
    "|Oscar        |           1   |    __0,33__   |  0,30        |\n",
    "|Andrea       |    __0,33__   |       1       |   0,19       | \n",
    "|Juan         |    0,30       |       0,19    |  1           | \n"
   ]
  },
  {
   "cell_type": "markdown",
   "metadata": {},
   "source": [
    "Podemos observar que es mas probable recomendar a __`Oscar`__ la __`Pelicula 4`__ por los gusto de __`Andrea`__ "
   ]
  },
  {
   "cell_type": "markdown",
   "metadata": {},
   "source": [
    "![linea 1](https://user-images.githubusercontent.com/19308295/115926252-2b8a0c00-a448-11eb-9d9c-b43beaf0ff68.png)"
   ]
  },
  {
   "cell_type": "markdown",
   "metadata": {},
   "source": [
    "## Referencia"
   ]
  },
  {
   "cell_type": "markdown",
   "metadata": {},
   "source": [
    "- __Profesor de Matematicas__: `John Gabriel Muñoz Cruz`\n",
    "https://www.linkedin.com/in/jgmc"
   ]
  },
  {
   "cell_type": "markdown",
   "metadata": {},
   "source": [
    "![linea 1](https://user-images.githubusercontent.com/19308295/115926252-2b8a0c00-a448-11eb-9d9c-b43beaf0ff68.png)"
   ]
  }
 ],
 "metadata": {
  "kernelspec": {
   "display_name": "Python 3 (ipykernel)",
   "language": "python",
   "name": "python3"
  },
  "language_info": {
   "codemirror_mode": {
    "name": "ipython",
    "version": 3
   },
   "file_extension": ".py",
   "mimetype": "text/x-python",
   "name": "python",
   "nbconvert_exporter": "python",
   "pygments_lexer": "ipython3",
   "version": "3.8.11"
  }
 },
 "nbformat": 4,
 "nbformat_minor": 4
}
