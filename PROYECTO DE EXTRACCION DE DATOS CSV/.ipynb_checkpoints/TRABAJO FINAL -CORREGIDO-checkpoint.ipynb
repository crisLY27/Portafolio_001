{
 "cells": [
  {
   "cell_type": "markdown",
   "id": "eb1be099",
   "metadata": {},
   "source": [
    "<center> <h1>Universidad Nacional de San Agustín de Arequipa</h1> </center> \n",
    "<center> <h1>Escuela Profesional de Ingeniería de Telecomunicaciones</h1> </center> \n",
    "\n",
    "<center> <h1> </h1> </center> \n",
    "\n",
    "<center><img src=\"https://www.unsa.edu.pe/wp-content/uploads/sites/3/2018/05/Logo-UNSA.png\" width=\"380\" height=\"4200\"></center>\n"
   ]
  },
  {
   "cell_type": "markdown",
   "id": "06541af1",
   "metadata": {},
   "source": [
    "<center> <h1>Curso : Computación 1</h1> </center> "
   ]
  },
  {
   "cell_type": "markdown",
   "id": "e2d0607f",
   "metadata": {},
   "source": [
    "![linea 1](https://user-images.githubusercontent.com/19308295/115926252-2b8a0c00-a448-11eb-9d9c-b43beaf0ff68.png)"
   ]
  },
  {
   "cell_type": "markdown",
   "id": "cc7d81a1",
   "metadata": {},
   "source": [
    "<center> <h2>GRUPO \"C\" - Nº2</h2> </center> "
   ]
  },
  {
   "cell_type": "markdown",
   "id": "d9b78886",
   "metadata": {},
   "source": [
    "<center> <h2>Ingeniero Renzo Bolivar - Docente DAIE</h2> </center>"
   ]
  },
  {
   "cell_type": "markdown",
   "id": "7ddc8689",
   "metadata": {},
   "source": [
    "<h2>Intengrantes:  </h2>\n",
    "<h2>    \n",
    "\n",
    "    - LARICO YUCRA, CRISTHIAN DENIS. \n",
    "    - CHALLCO ANCCASI, CESAR AUGUSTO. \n",
    "    - MAMANI ALVAREZ, RUDY.\n",
    "    - PRIETO TITO, MANUEL ISMAEL.\n",
    "    - LLERENA PASTOR, JHORDAN ALEXANDER.\n",
    "\n",
    "</h2>"
   ]
  },
  {
   "cell_type": "markdown",
   "id": "af587707",
   "metadata": {},
   "source": [
    "![linea 1](https://user-images.githubusercontent.com/19308295/115926252-2b8a0c00-a448-11eb-9d9c-b43beaf0ff68.png)"
   ]
  },
  {
   "cell_type": "markdown",
   "id": "550207c5",
   "metadata": {},
   "source": [
    "<center> <h1>INVESTIGACIÓN FORMATIVA</h1> </center> \n",
    "<center> <h1>PROYECTO FINAL</h1> </center> \n",
    "<center> <h1>PYTHON - Inteligencia Artificial</h1> </center> "
   ]
  },
  {
   "cell_type": "markdown",
   "id": "71d1293d",
   "metadata": {},
   "source": [
    "![linea 1](https://user-images.githubusercontent.com/19308295/115926252-2b8a0c00-a448-11eb-9d9c-b43beaf0ff68.png)"
   ]
  },
  {
   "cell_type": "markdown",
   "id": "5557561c",
   "metadata": {},
   "source": [
    "## OBJETIVOS"
   ]
  },
  {
   "cell_type": "markdown",
   "id": "d2b542f6",
   "metadata": {},
   "source": [
    "Los Objetivos de la investigación formativa son:\n",
    "\n",
    "- **Competencia Comunicativa** Presentación de sus resultados con lenguaje de programación Python utilizando los archivos Jupyter Notebook.\n",
    "- **Competencia Aprendizaje**: con las aptitudes en **Descomposición** (desarticular el problema en pequeñas series de soluciones), **Reconocimiento de Patrones** (encontrar simulitud al momento de resolver problemas), **Abstracción** (omitir información relevante), **Algoritmos** (pasos para resolución de un problema).\n",
    "- **Competencia de Trabajo en Equipo**: exige habilidades individuales y grupales orientadas a la cooperación, planificación, coordinación, asignación de tareas, cumplimiento de tareas y solución de conflictos en pro de un trabajo colectivo, utilizando los archivos Jupyter Notebook los cuales se sincronizan en el servidor Gitlab con comandos Git."
   ]
  },
  {
   "cell_type": "markdown",
   "id": "3eeb9026",
   "metadata": {},
   "source": [
    "![linea 1](https://user-images.githubusercontent.com/19308295/115926252-2b8a0c00-a448-11eb-9d9c-b43beaf0ff68.png)"
   ]
  },
  {
   "cell_type": "markdown",
   "id": "b958c2cd",
   "metadata": {},
   "source": [
    "<center> <h1>Aplicación en IA</h1> </center> \n",
    "<center> <h1>Sistema Recomendador</h1> </center> "
   ]
  },
  {
   "cell_type": "markdown",
   "id": "1addd17b",
   "metadata": {},
   "source": [
    "<div class=\"alert alert-info\">\n",
    "El Sistema recomendador deberá encontrar la <strong>compatibilidad o similitud</strong> entre un grupo de personas encuestadas, en las áreas de:\n",
    "\n",
    "</div>"
   ]
  },
  {
   "cell_type": "markdown",
   "id": "8457f7da",
   "metadata": {},
   "source": [
    "<div class=\"alert alert-info\">\n",
    "    \n",
    "   -Musica\n",
    "   \n",
    "   -Peliculas\n",
    "    \n",
    "   -Comida\n",
    "</div>"
   ]
  },
  {
   "cell_type": "markdown",
   "id": "6af16c57",
   "metadata": {},
   "source": [
    "<div class=\"alert alert-info\">\n",
    "\n",
    "    \n",
    "   La <strong>compatibilidad o similitud</strong> será encontrada con el algoritmo de <strong>Correlación de Pearson</strong> y será verificada con la <strong>La Matrix de Correlación de Pearson de la librería Numpy</strong>\n",
    "    \n",
    "</div>"
   ]
  },
  {
   "cell_type": "markdown",
   "id": "fd799035",
   "metadata": {},
   "source": [
    "![linea 2](https://user-images.githubusercontent.com/19308295/115926262-2fb62980-a448-11eb-8189-c2f10e499944.png)"
   ]
  },
  {
   "cell_type": "markdown",
   "id": "fea47c52",
   "metadata": {},
   "source": [
    "![linea 2](https://user-images.githubusercontent.com/19308295/115926262-2fb62980-a448-11eb-8189-c2f10e499944.png)"
   ]
  },
  {
   "cell_type": "markdown",
   "id": "a06d4f5e",
   "metadata": {},
   "source": [
    "<center> <h1> TEMA ===> COMIDAS PERUANAS</h1> </center>"
   ]
  },
  {
   "cell_type": "markdown",
   "id": "dcdd55dd",
   "metadata": {},
   "source": [
    "![linea 2](https://user-images.githubusercontent.com/19308295/115926262-2fb62980-a448-11eb-8189-c2f10e499944.png)"
   ]
  },
  {
   "cell_type": "markdown",
   "id": "69b88279",
   "metadata": {},
   "source": [
    "![linea 2](https://user-images.githubusercontent.com/19308295/115926262-2fb62980-a448-11eb-8189-c2f10e499944.png)"
   ]
  },
  {
   "cell_type": "markdown",
   "id": "9a661628",
   "metadata": {},
   "source": [
    "## 1.- Dataset"
   ]
  },
  {
   "cell_type": "markdown",
   "id": "ba27b196",
   "metadata": {},
   "source": [
    "<div class=\"alert alert-info\">\n",
    "\n",
    "    \n",
    "   Para poder tener el  <strong>Datset</strong> hay que recolectar información a travez de encuentas.\n",
    "    \n",
    "</div>"
   ]
  },
  {
   "cell_type": "markdown",
   "id": "b12ee28c",
   "metadata": {},
   "source": [
    "#### -Encuesta "
   ]
  },
  {
   "cell_type": "markdown",
   "id": "d693ad2b",
   "metadata": {},
   "source": [
    "La encuesta la realizamos en Google-Form donde la persona a encuestar nos dara una opinion acerca de los gustos que tiene sobre la **COMIDA PERUANA** .\n",
    "Este respondera en una escala de 1 a 5 donde  :\n",
    "- Si escoge 1, no le  gusta la comida propuesta..\n",
    "- Si escoge 5, si el encanta la comida propuesta.  \n",
    "\n",
    "Todo esto estara dado en la **Escala de liker**."
   ]
  },
  {
   "cell_type": "markdown",
   "id": "a7b0fbb3",
   "metadata": {},
   "source": [
    "## Captura de Nuestro Formulario de Google"
   ]
  },
  {
   "cell_type": "code",
   "execution_count": null,
   "id": "e2d385ee",
   "metadata": {},
   "outputs": [],
   "source": []
  },
  {
   "cell_type": "code",
   "execution_count": 6,
   "id": "9d143087",
   "metadata": {},
   "outputs": [],
   "source": [
    "import numpy as np\n",
    "import pandas as pd"
   ]
  },
  {
   "cell_type": "code",
   "execution_count": 7,
   "id": "64d959e5",
   "metadata": {},
   "outputs": [
    {
     "data": {
      "text/html": [
       "<div>\n",
       "<style scoped>\n",
       "    .dataframe tbody tr th:only-of-type {\n",
       "        vertical-align: middle;\n",
       "    }\n",
       "\n",
       "    .dataframe tbody tr th {\n",
       "        vertical-align: top;\n",
       "    }\n",
       "\n",
       "    .dataframe thead th {\n",
       "        text-align: right;\n",
       "    }\n",
       "</style>\n",
       "<table border=\"1\" class=\"dataframe\">\n",
       "  <thead>\n",
       "    <tr style=\"text-align: right;\">\n",
       "      <th></th>\n",
       "      <th>EMAIL</th>\n",
       "      <th>SECO DE CABRITO</th>\n",
       "      <th>OCOPA AREQUIPEÑA</th>\n",
       "      <th>CARAPULCRA CON SOPA SECA</th>\n",
       "      <th>CAUSA RELLENA</th>\n",
       "      <th>PAPA RELLENA</th>\n",
       "      <th>LOMO SALTADO</th>\n",
       "      <th>ARROZ VERDE</th>\n",
       "      <th>JUANE</th>\n",
       "      <th>POLLO A LA BRASA</th>\n",
       "      <th>...</th>\n",
       "      <th>ESTOFADO DE RES</th>\n",
       "      <th>ADOBO</th>\n",
       "      <th>MONDONGUITO</th>\n",
       "      <th>ROCOTO RELLENO</th>\n",
       "      <th>LECHE DE TIGRE</th>\n",
       "      <th>ARROZ CON MARISCOS</th>\n",
       "      <th>PACHAMANCA</th>\n",
       "      <th>COSTILAR DORADO</th>\n",
       "      <th>LENTEJAS</th>\n",
       "      <th>CALDO BLANCO</th>\n",
       "    </tr>\n",
       "  </thead>\n",
       "  <tbody>\n",
       "    <tr>\n",
       "      <th>0</th>\n",
       "      <td>cchallcoa@unsa.edu.pe</td>\n",
       "      <td>4</td>\n",
       "      <td>5</td>\n",
       "      <td>2</td>\n",
       "      <td>3</td>\n",
       "      <td>5</td>\n",
       "      <td>5</td>\n",
       "      <td>5</td>\n",
       "      <td>2</td>\n",
       "      <td>4</td>\n",
       "      <td>...</td>\n",
       "      <td>3</td>\n",
       "      <td>4</td>\n",
       "      <td>1</td>\n",
       "      <td>3</td>\n",
       "      <td>3</td>\n",
       "      <td>5</td>\n",
       "      <td>2</td>\n",
       "      <td>3</td>\n",
       "      <td>2</td>\n",
       "      <td>2</td>\n",
       "    </tr>\n",
       "    <tr>\n",
       "      <th>1</th>\n",
       "      <td>jllerenapa@unsa.edu.pe</td>\n",
       "      <td>4</td>\n",
       "      <td>5</td>\n",
       "      <td>5</td>\n",
       "      <td>5</td>\n",
       "      <td>5</td>\n",
       "      <td>5</td>\n",
       "      <td>5</td>\n",
       "      <td>5</td>\n",
       "      <td>5</td>\n",
       "      <td>...</td>\n",
       "      <td>5</td>\n",
       "      <td>5</td>\n",
       "      <td>5</td>\n",
       "      <td>5</td>\n",
       "      <td>5</td>\n",
       "      <td>5</td>\n",
       "      <td>5</td>\n",
       "      <td>4</td>\n",
       "      <td>4</td>\n",
       "      <td>5</td>\n",
       "    </tr>\n",
       "    <tr>\n",
       "      <th>2</th>\n",
       "      <td>claricoy@unsa.edu.pe</td>\n",
       "      <td>5</td>\n",
       "      <td>5</td>\n",
       "      <td>5</td>\n",
       "      <td>5</td>\n",
       "      <td>5</td>\n",
       "      <td>5</td>\n",
       "      <td>5</td>\n",
       "      <td>5</td>\n",
       "      <td>5</td>\n",
       "      <td>...</td>\n",
       "      <td>5</td>\n",
       "      <td>5</td>\n",
       "      <td>5</td>\n",
       "      <td>5</td>\n",
       "      <td>5</td>\n",
       "      <td>5</td>\n",
       "      <td>5</td>\n",
       "      <td>5</td>\n",
       "      <td>5</td>\n",
       "      <td>5</td>\n",
       "    </tr>\n",
       "    <tr>\n",
       "      <th>3</th>\n",
       "      <td>chuaylla@unsa.edu.pe</td>\n",
       "      <td>3</td>\n",
       "      <td>4</td>\n",
       "      <td>4</td>\n",
       "      <td>3</td>\n",
       "      <td>3</td>\n",
       "      <td>5</td>\n",
       "      <td>5</td>\n",
       "      <td>5</td>\n",
       "      <td>5</td>\n",
       "      <td>...</td>\n",
       "      <td>5</td>\n",
       "      <td>4</td>\n",
       "      <td>5</td>\n",
       "      <td>5</td>\n",
       "      <td>4</td>\n",
       "      <td>3</td>\n",
       "      <td>4</td>\n",
       "      <td>4</td>\n",
       "      <td>3</td>\n",
       "      <td>5</td>\n",
       "    </tr>\n",
       "    <tr>\n",
       "      <th>4</th>\n",
       "      <td>jquempes@unsa.edu.pe</td>\n",
       "      <td>1</td>\n",
       "      <td>5</td>\n",
       "      <td>1</td>\n",
       "      <td>1</td>\n",
       "      <td>5</td>\n",
       "      <td>3</td>\n",
       "      <td>5</td>\n",
       "      <td>5</td>\n",
       "      <td>5</td>\n",
       "      <td>...</td>\n",
       "      <td>3</td>\n",
       "      <td>1</td>\n",
       "      <td>1</td>\n",
       "      <td>1</td>\n",
       "      <td>1</td>\n",
       "      <td>5</td>\n",
       "      <td>2</td>\n",
       "      <td>1</td>\n",
       "      <td>5</td>\n",
       "      <td>4</td>\n",
       "    </tr>\n",
       "    <tr>\n",
       "      <th>5</th>\n",
       "      <td>mloayzam@unsa.edu.pe</td>\n",
       "      <td>3</td>\n",
       "      <td>4</td>\n",
       "      <td>1</td>\n",
       "      <td>5</td>\n",
       "      <td>3</td>\n",
       "      <td>3</td>\n",
       "      <td>4</td>\n",
       "      <td>2</td>\n",
       "      <td>5</td>\n",
       "      <td>...</td>\n",
       "      <td>3</td>\n",
       "      <td>3</td>\n",
       "      <td>1</td>\n",
       "      <td>2</td>\n",
       "      <td>1</td>\n",
       "      <td>2</td>\n",
       "      <td>1</td>\n",
       "      <td>4</td>\n",
       "      <td>2</td>\n",
       "      <td>2</td>\n",
       "    </tr>\n",
       "    <tr>\n",
       "      <th>6</th>\n",
       "      <td>bbeltrand@unsa.edu.pe</td>\n",
       "      <td>4</td>\n",
       "      <td>3</td>\n",
       "      <td>3</td>\n",
       "      <td>4</td>\n",
       "      <td>4</td>\n",
       "      <td>5</td>\n",
       "      <td>4</td>\n",
       "      <td>2</td>\n",
       "      <td>5</td>\n",
       "      <td>...</td>\n",
       "      <td>5</td>\n",
       "      <td>5</td>\n",
       "      <td>1</td>\n",
       "      <td>5</td>\n",
       "      <td>5</td>\n",
       "      <td>2</td>\n",
       "      <td>2</td>\n",
       "      <td>4</td>\n",
       "      <td>4</td>\n",
       "      <td>4</td>\n",
       "    </tr>\n",
       "    <tr>\n",
       "      <th>7</th>\n",
       "      <td>ssoriaq@unsa.edu.pe</td>\n",
       "      <td>3</td>\n",
       "      <td>4</td>\n",
       "      <td>2</td>\n",
       "      <td>5</td>\n",
       "      <td>5</td>\n",
       "      <td>5</td>\n",
       "      <td>4</td>\n",
       "      <td>3</td>\n",
       "      <td>5</td>\n",
       "      <td>...</td>\n",
       "      <td>4</td>\n",
       "      <td>1</td>\n",
       "      <td>4</td>\n",
       "      <td>5</td>\n",
       "      <td>5</td>\n",
       "      <td>5</td>\n",
       "      <td>5</td>\n",
       "      <td>5</td>\n",
       "      <td>3</td>\n",
       "      <td>4</td>\n",
       "    </tr>\n",
       "    <tr>\n",
       "      <th>8</th>\n",
       "      <td>jquispebar@unsa.edu.pe</td>\n",
       "      <td>1</td>\n",
       "      <td>5</td>\n",
       "      <td>1</td>\n",
       "      <td>5</td>\n",
       "      <td>5</td>\n",
       "      <td>5</td>\n",
       "      <td>5</td>\n",
       "      <td>5</td>\n",
       "      <td>5</td>\n",
       "      <td>...</td>\n",
       "      <td>5</td>\n",
       "      <td>5</td>\n",
       "      <td>5</td>\n",
       "      <td>5</td>\n",
       "      <td>5</td>\n",
       "      <td>3</td>\n",
       "      <td>5</td>\n",
       "      <td>5</td>\n",
       "      <td>4</td>\n",
       "      <td>5</td>\n",
       "    </tr>\n",
       "    <tr>\n",
       "      <th>9</th>\n",
       "      <td>spaucav@unsa.edu.pe</td>\n",
       "      <td>2</td>\n",
       "      <td>3</td>\n",
       "      <td>2</td>\n",
       "      <td>3</td>\n",
       "      <td>3</td>\n",
       "      <td>5</td>\n",
       "      <td>4</td>\n",
       "      <td>2</td>\n",
       "      <td>5</td>\n",
       "      <td>...</td>\n",
       "      <td>4</td>\n",
       "      <td>5</td>\n",
       "      <td>4</td>\n",
       "      <td>4</td>\n",
       "      <td>3</td>\n",
       "      <td>4</td>\n",
       "      <td>4</td>\n",
       "      <td>4</td>\n",
       "      <td>3</td>\n",
       "      <td>4</td>\n",
       "    </tr>\n",
       "    <tr>\n",
       "      <th>10</th>\n",
       "      <td>harenaza@unsa.edu.pe</td>\n",
       "      <td>4</td>\n",
       "      <td>3</td>\n",
       "      <td>3</td>\n",
       "      <td>3</td>\n",
       "      <td>4</td>\n",
       "      <td>4</td>\n",
       "      <td>5</td>\n",
       "      <td>4</td>\n",
       "      <td>4</td>\n",
       "      <td>...</td>\n",
       "      <td>4</td>\n",
       "      <td>4</td>\n",
       "      <td>2</td>\n",
       "      <td>4</td>\n",
       "      <td>5</td>\n",
       "      <td>4</td>\n",
       "      <td>4</td>\n",
       "      <td>4</td>\n",
       "      <td>3</td>\n",
       "      <td>4</td>\n",
       "    </tr>\n",
       "    <tr>\n",
       "      <th>11</th>\n",
       "      <td>jvillenav@unsa.edu.pe</td>\n",
       "      <td>3</td>\n",
       "      <td>5</td>\n",
       "      <td>4</td>\n",
       "      <td>5</td>\n",
       "      <td>5</td>\n",
       "      <td>4</td>\n",
       "      <td>4</td>\n",
       "      <td>4</td>\n",
       "      <td>3</td>\n",
       "      <td>...</td>\n",
       "      <td>4</td>\n",
       "      <td>5</td>\n",
       "      <td>3</td>\n",
       "      <td>3</td>\n",
       "      <td>5</td>\n",
       "      <td>4</td>\n",
       "      <td>3</td>\n",
       "      <td>3</td>\n",
       "      <td>5</td>\n",
       "      <td>4</td>\n",
       "    </tr>\n",
       "    <tr>\n",
       "      <th>12</th>\n",
       "      <td>lessly25huacan@gmail.com</td>\n",
       "      <td>4</td>\n",
       "      <td>5</td>\n",
       "      <td>1</td>\n",
       "      <td>5</td>\n",
       "      <td>4</td>\n",
       "      <td>5</td>\n",
       "      <td>5</td>\n",
       "      <td>1</td>\n",
       "      <td>5</td>\n",
       "      <td>...</td>\n",
       "      <td>3</td>\n",
       "      <td>5</td>\n",
       "      <td>3</td>\n",
       "      <td>5</td>\n",
       "      <td>5</td>\n",
       "      <td>5</td>\n",
       "      <td>4</td>\n",
       "      <td>4</td>\n",
       "      <td>4</td>\n",
       "      <td>4</td>\n",
       "    </tr>\n",
       "    <tr>\n",
       "      <th>13</th>\n",
       "      <td>mfloreschav@unsa.edu.pe</td>\n",
       "      <td>2</td>\n",
       "      <td>2</td>\n",
       "      <td>5</td>\n",
       "      <td>5</td>\n",
       "      <td>5</td>\n",
       "      <td>5</td>\n",
       "      <td>5</td>\n",
       "      <td>4</td>\n",
       "      <td>5</td>\n",
       "      <td>...</td>\n",
       "      <td>5</td>\n",
       "      <td>5</td>\n",
       "      <td>5</td>\n",
       "      <td>5</td>\n",
       "      <td>5</td>\n",
       "      <td>5</td>\n",
       "      <td>5</td>\n",
       "      <td>5</td>\n",
       "      <td>5</td>\n",
       "      <td>5</td>\n",
       "    </tr>\n",
       "    <tr>\n",
       "      <th>14</th>\n",
       "      <td>ruizcruza9@gmail.com</td>\n",
       "      <td>1</td>\n",
       "      <td>5</td>\n",
       "      <td>1</td>\n",
       "      <td>3</td>\n",
       "      <td>3</td>\n",
       "      <td>2</td>\n",
       "      <td>3</td>\n",
       "      <td>1</td>\n",
       "      <td>4</td>\n",
       "      <td>...</td>\n",
       "      <td>3</td>\n",
       "      <td>3</td>\n",
       "      <td>1</td>\n",
       "      <td>1</td>\n",
       "      <td>2</td>\n",
       "      <td>2</td>\n",
       "      <td>2</td>\n",
       "      <td>4</td>\n",
       "      <td>1</td>\n",
       "      <td>5</td>\n",
       "    </tr>\n",
       "    <tr>\n",
       "      <th>15</th>\n",
       "      <td>jlagunam@unsa.edu.pe</td>\n",
       "      <td>5</td>\n",
       "      <td>4</td>\n",
       "      <td>5</td>\n",
       "      <td>3</td>\n",
       "      <td>5</td>\n",
       "      <td>5</td>\n",
       "      <td>5</td>\n",
       "      <td>3</td>\n",
       "      <td>5</td>\n",
       "      <td>...</td>\n",
       "      <td>5</td>\n",
       "      <td>5</td>\n",
       "      <td>2</td>\n",
       "      <td>4</td>\n",
       "      <td>3</td>\n",
       "      <td>5</td>\n",
       "      <td>5</td>\n",
       "      <td>5</td>\n",
       "      <td>5</td>\n",
       "      <td>5</td>\n",
       "    </tr>\n",
       "    <tr>\n",
       "      <th>16</th>\n",
       "      <td>jvaleroc@unsa.edu.pe</td>\n",
       "      <td>3</td>\n",
       "      <td>4</td>\n",
       "      <td>3</td>\n",
       "      <td>5</td>\n",
       "      <td>5</td>\n",
       "      <td>5</td>\n",
       "      <td>5</td>\n",
       "      <td>4</td>\n",
       "      <td>5</td>\n",
       "      <td>...</td>\n",
       "      <td>4</td>\n",
       "      <td>5</td>\n",
       "      <td>3</td>\n",
       "      <td>4</td>\n",
       "      <td>5</td>\n",
       "      <td>2</td>\n",
       "      <td>4</td>\n",
       "      <td>4</td>\n",
       "      <td>3</td>\n",
       "      <td>5</td>\n",
       "    </tr>\n",
       "    <tr>\n",
       "      <th>17</th>\n",
       "      <td>joselyn.qa.20@gmail.com</td>\n",
       "      <td>4</td>\n",
       "      <td>5</td>\n",
       "      <td>4</td>\n",
       "      <td>5</td>\n",
       "      <td>5</td>\n",
       "      <td>1</td>\n",
       "      <td>5</td>\n",
       "      <td>3</td>\n",
       "      <td>4</td>\n",
       "      <td>...</td>\n",
       "      <td>3</td>\n",
       "      <td>5</td>\n",
       "      <td>1</td>\n",
       "      <td>2</td>\n",
       "      <td>5</td>\n",
       "      <td>2</td>\n",
       "      <td>2</td>\n",
       "      <td>5</td>\n",
       "      <td>2</td>\n",
       "      <td>3</td>\n",
       "    </tr>\n",
       "    <tr>\n",
       "      <th>18</th>\n",
       "      <td>chemystry03@gmail.com</td>\n",
       "      <td>3</td>\n",
       "      <td>5</td>\n",
       "      <td>4</td>\n",
       "      <td>5</td>\n",
       "      <td>5</td>\n",
       "      <td>5</td>\n",
       "      <td>5</td>\n",
       "      <td>3</td>\n",
       "      <td>5</td>\n",
       "      <td>...</td>\n",
       "      <td>2</td>\n",
       "      <td>5</td>\n",
       "      <td>5</td>\n",
       "      <td>4</td>\n",
       "      <td>5</td>\n",
       "      <td>5</td>\n",
       "      <td>5</td>\n",
       "      <td>5</td>\n",
       "      <td>1</td>\n",
       "      <td>4</td>\n",
       "    </tr>\n",
       "    <tr>\n",
       "      <th>19</th>\n",
       "      <td>huamanidana@gmail.com</td>\n",
       "      <td>4</td>\n",
       "      <td>5</td>\n",
       "      <td>4</td>\n",
       "      <td>5</td>\n",
       "      <td>3</td>\n",
       "      <td>5</td>\n",
       "      <td>5</td>\n",
       "      <td>5</td>\n",
       "      <td>5</td>\n",
       "      <td>...</td>\n",
       "      <td>3</td>\n",
       "      <td>3</td>\n",
       "      <td>1</td>\n",
       "      <td>5</td>\n",
       "      <td>5</td>\n",
       "      <td>2</td>\n",
       "      <td>5</td>\n",
       "      <td>5</td>\n",
       "      <td>3</td>\n",
       "      <td>5</td>\n",
       "    </tr>\n",
       "    <tr>\n",
       "      <th>20</th>\n",
       "      <td>fmirandaa@unsa.edu.pe</td>\n",
       "      <td>2</td>\n",
       "      <td>3</td>\n",
       "      <td>3</td>\n",
       "      <td>5</td>\n",
       "      <td>5</td>\n",
       "      <td>5</td>\n",
       "      <td>5</td>\n",
       "      <td>5</td>\n",
       "      <td>5</td>\n",
       "      <td>...</td>\n",
       "      <td>5</td>\n",
       "      <td>4</td>\n",
       "      <td>5</td>\n",
       "      <td>4</td>\n",
       "      <td>5</td>\n",
       "      <td>3</td>\n",
       "      <td>3</td>\n",
       "      <td>5</td>\n",
       "      <td>2</td>\n",
       "      <td>4</td>\n",
       "    </tr>\n",
       "  </tbody>\n",
       "</table>\n",
       "<p>21 rows × 21 columns</p>\n",
       "</div>"
      ],
      "text/plain": [
       "                       EMAIL  SECO DE CABRITO  OCOPA AREQUIPEÑA  \\\n",
       "0      cchallcoa@unsa.edu.pe                4                 5   \n",
       "1     jllerenapa@unsa.edu.pe                4                 5   \n",
       "2       claricoy@unsa.edu.pe                5                 5   \n",
       "3       chuaylla@unsa.edu.pe                3                 4   \n",
       "4       jquempes@unsa.edu.pe                1                 5   \n",
       "5       mloayzam@unsa.edu.pe                3                 4   \n",
       "6      bbeltrand@unsa.edu.pe                4                 3   \n",
       "7        ssoriaq@unsa.edu.pe                3                 4   \n",
       "8     jquispebar@unsa.edu.pe                1                 5   \n",
       "9        spaucav@unsa.edu.pe                2                 3   \n",
       "10      harenaza@unsa.edu.pe                4                 3   \n",
       "11     jvillenav@unsa.edu.pe                3                 5   \n",
       "12  lessly25huacan@gmail.com                4                 5   \n",
       "13   mfloreschav@unsa.edu.pe                2                 2   \n",
       "14      ruizcruza9@gmail.com                1                 5   \n",
       "15      jlagunam@unsa.edu.pe                5                 4   \n",
       "16      jvaleroc@unsa.edu.pe                3                 4   \n",
       "17   joselyn.qa.20@gmail.com                4                 5   \n",
       "18     chemystry03@gmail.com                3                 5   \n",
       "19     huamanidana@gmail.com                4                 5   \n",
       "20     fmirandaa@unsa.edu.pe                2                 3   \n",
       "\n",
       "    CARAPULCRA CON SOPA SECA  CAUSA RELLENA  PAPA RELLENA  LOMO SALTADO  \\\n",
       "0                          2              3             5             5   \n",
       "1                          5              5             5             5   \n",
       "2                          5              5             5             5   \n",
       "3                          4              3             3             5   \n",
       "4                          1              1             5             3   \n",
       "5                          1              5             3             3   \n",
       "6                          3              4             4             5   \n",
       "7                          2              5             5             5   \n",
       "8                          1              5             5             5   \n",
       "9                          2              3             3             5   \n",
       "10                         3              3             4             4   \n",
       "11                         4              5             5             4   \n",
       "12                         1              5             4             5   \n",
       "13                         5              5             5             5   \n",
       "14                         1              3             3             2   \n",
       "15                         5              3             5             5   \n",
       "16                         3              5             5             5   \n",
       "17                         4              5             5             1   \n",
       "18                         4              5             5             5   \n",
       "19                         4              5             3             5   \n",
       "20                         3              5             5             5   \n",
       "\n",
       "    ARROZ VERDE  JUANE  POLLO A LA BRASA  ...  ESTOFADO DE RES  ADOBO  \\\n",
       "0             5      2                 4  ...                3      4   \n",
       "1             5      5                 5  ...                5      5   \n",
       "2             5      5                 5  ...                5      5   \n",
       "3             5      5                 5  ...                5      4   \n",
       "4             5      5                 5  ...                3      1   \n",
       "5             4      2                 5  ...                3      3   \n",
       "6             4      2                 5  ...                5      5   \n",
       "7             4      3                 5  ...                4      1   \n",
       "8             5      5                 5  ...                5      5   \n",
       "9             4      2                 5  ...                4      5   \n",
       "10            5      4                 4  ...                4      4   \n",
       "11            4      4                 3  ...                4      5   \n",
       "12            5      1                 5  ...                3      5   \n",
       "13            5      4                 5  ...                5      5   \n",
       "14            3      1                 4  ...                3      3   \n",
       "15            5      3                 5  ...                5      5   \n",
       "16            5      4                 5  ...                4      5   \n",
       "17            5      3                 4  ...                3      5   \n",
       "18            5      3                 5  ...                2      5   \n",
       "19            5      5                 5  ...                3      3   \n",
       "20            5      5                 5  ...                5      4   \n",
       "\n",
       "    MONDONGUITO  ROCOTO RELLENO  LECHE DE TIGRE  ARROZ CON MARISCOS  \\\n",
       "0             1               3               3                   5   \n",
       "1             5               5               5                   5   \n",
       "2             5               5               5                   5   \n",
       "3             5               5               4                   3   \n",
       "4             1               1               1                   5   \n",
       "5             1               2               1                   2   \n",
       "6             1               5               5                   2   \n",
       "7             4               5               5                   5   \n",
       "8             5               5               5                   3   \n",
       "9             4               4               3                   4   \n",
       "10            2               4               5                   4   \n",
       "11            3               3               5                   4   \n",
       "12            3               5               5                   5   \n",
       "13            5               5               5                   5   \n",
       "14            1               1               2                   2   \n",
       "15            2               4               3                   5   \n",
       "16            3               4               5                   2   \n",
       "17            1               2               5                   2   \n",
       "18            5               4               5                   5   \n",
       "19            1               5               5                   2   \n",
       "20            5               4               5                   3   \n",
       "\n",
       "    PACHAMANCA  COSTILAR DORADO  LENTEJAS  CALDO BLANCO  \n",
       "0            2                3         2             2  \n",
       "1            5                4         4             5  \n",
       "2            5                5         5             5  \n",
       "3            4                4         3             5  \n",
       "4            2                1         5             4  \n",
       "5            1                4         2             2  \n",
       "6            2                4         4             4  \n",
       "7            5                5         3             4  \n",
       "8            5                5         4             5  \n",
       "9            4                4         3             4  \n",
       "10           4                4         3             4  \n",
       "11           3                3         5             4  \n",
       "12           4                4         4             4  \n",
       "13           5                5         5             5  \n",
       "14           2                4         1             5  \n",
       "15           5                5         5             5  \n",
       "16           4                4         3             5  \n",
       "17           2                5         2             3  \n",
       "18           5                5         1             4  \n",
       "19           5                5         3             5  \n",
       "20           3                5         2             4  \n",
       "\n",
       "[21 rows x 21 columns]"
      ]
     },
     "execution_count": 7,
     "metadata": {},
     "output_type": "execute_result"
    }
   ],
   "source": [
    "data = pd.read_csv ('TRABAJO FINAL.csv')\n",
    "data"
   ]
  },
  {
   "cell_type": "code",
   "execution_count": 8,
   "id": "90e3418b",
   "metadata": {},
   "outputs": [
    {
     "data": {
      "text/plain": [
       "EMAIL                       object\n",
       "SECO DE CABRITO              int64\n",
       "OCOPA AREQUIPEÑA             int64\n",
       "CARAPULCRA CON SOPA SECA     int64\n",
       "CAUSA RELLENA                int64\n",
       "PAPA RELLENA                 int64\n",
       "LOMO SALTADO                 int64\n",
       "ARROZ VERDE                  int64\n",
       "JUANE                        int64\n",
       "POLLO A LA BRASA             int64\n",
       "POLLO A LA OLLA              int64\n",
       "ESTOFADO DE RES              int64\n",
       "ADOBO                        int64\n",
       "MONDONGUITO                  int64\n",
       "ROCOTO RELLENO               int64\n",
       "LECHE DE TIGRE               int64\n",
       "ARROZ CON MARISCOS           int64\n",
       "PACHAMANCA                   int64\n",
       "COSTILAR DORADO              int64\n",
       "LENTEJAS                     int64\n",
       "CALDO BLANCO                 int64\n",
       "dtype: object"
      ]
     },
     "execution_count": 8,
     "metadata": {},
     "output_type": "execute_result"
    }
   ],
   "source": [
    "data.dtypes"
   ]
  },
  {
   "cell_type": "markdown",
   "id": "a49235d9",
   "metadata": {},
   "source": [
    "![linea 2](https://user-images.githubusercontent.com/19308295/115926262-2fb62980-a448-11eb-8189-c2f10e499944.png)"
   ]
  },
  {
   "cell_type": "markdown",
   "id": "e3ccde8a",
   "metadata": {},
   "source": [
    "## 2.-  Distancia Euclidiana"
   ]
  },
  {
   "cell_type": "markdown",
   "id": "c55d5d0c",
   "metadata": {},
   "source": [
    "__La distancia euclidiana__ es la generalización del __`teorema de Pitágoras`__."
   ]
  },
  {
   "cell_type": "markdown",
   "id": "d3eeb1fc",
   "metadata": {},
   "source": [
    "$$d_{E}(P,Q)=\\sqrt{(p_{1}-q_{1})^{2}+(p_{2}-q_{2})^{2}+...+(p_{n}-q_{n})^{2}}=\\sqrt{\\sum_{i=1}^{n}}(p_{i}-q_{i})^{2})$$"
   ]
  },
  {
   "cell_type": "code",
   "execution_count": 10,
   "id": "a072cbb0",
   "metadata": {},
   "outputs": [
    {
     "data": {
      "text/html": [
       "<div>\n",
       "<style scoped>\n",
       "    .dataframe tbody tr th:only-of-type {\n",
       "        vertical-align: middle;\n",
       "    }\n",
       "\n",
       "    .dataframe tbody tr th {\n",
       "        vertical-align: top;\n",
       "    }\n",
       "\n",
       "    .dataframe thead th {\n",
       "        text-align: right;\n",
       "    }\n",
       "</style>\n",
       "<table border=\"1\" class=\"dataframe\">\n",
       "  <thead>\n",
       "    <tr style=\"text-align: right;\">\n",
       "      <th></th>\n",
       "      <th>EMAIL</th>\n",
       "      <th>SECO DE CABRITO</th>\n",
       "      <th>OCOPA AREQUIPEÑA</th>\n",
       "      <th>CARAPULCRA CON SOPA SECA</th>\n",
       "      <th>CAUSA RELLENA</th>\n",
       "      <th>PAPA RELLENA</th>\n",
       "      <th>LOMO SALTADO</th>\n",
       "      <th>ARROZ VERDE</th>\n",
       "      <th>JUANE</th>\n",
       "      <th>POLLO A LA BRASA</th>\n",
       "      <th>...</th>\n",
       "      <th>ESTOFADO DE RES</th>\n",
       "      <th>ADOBO</th>\n",
       "      <th>MONDONGUITO</th>\n",
       "      <th>ROCOTO RELLENO</th>\n",
       "      <th>LECHE DE TIGRE</th>\n",
       "      <th>ARROZ CON MARISCOS</th>\n",
       "      <th>PACHAMANCA</th>\n",
       "      <th>COSTILAR DORADO</th>\n",
       "      <th>LENTEJAS</th>\n",
       "      <th>CALDO BLANCO</th>\n",
       "    </tr>\n",
       "  </thead>\n",
       "  <tbody>\n",
       "    <tr>\n",
       "      <th>0</th>\n",
       "      <td>cchallcoa@unsa.edu.pe</td>\n",
       "      <td>4</td>\n",
       "      <td>5</td>\n",
       "      <td>2</td>\n",
       "      <td>3</td>\n",
       "      <td>5</td>\n",
       "      <td>5</td>\n",
       "      <td>5</td>\n",
       "      <td>2</td>\n",
       "      <td>4</td>\n",
       "      <td>...</td>\n",
       "      <td>3</td>\n",
       "      <td>4</td>\n",
       "      <td>1</td>\n",
       "      <td>3</td>\n",
       "      <td>3</td>\n",
       "      <td>5</td>\n",
       "      <td>2</td>\n",
       "      <td>3</td>\n",
       "      <td>2</td>\n",
       "      <td>2</td>\n",
       "    </tr>\n",
       "    <tr>\n",
       "      <th>1</th>\n",
       "      <td>jllerenapa@unsa.edu.pe</td>\n",
       "      <td>4</td>\n",
       "      <td>5</td>\n",
       "      <td>5</td>\n",
       "      <td>5</td>\n",
       "      <td>5</td>\n",
       "      <td>5</td>\n",
       "      <td>5</td>\n",
       "      <td>5</td>\n",
       "      <td>5</td>\n",
       "      <td>...</td>\n",
       "      <td>5</td>\n",
       "      <td>5</td>\n",
       "      <td>5</td>\n",
       "      <td>5</td>\n",
       "      <td>5</td>\n",
       "      <td>5</td>\n",
       "      <td>5</td>\n",
       "      <td>4</td>\n",
       "      <td>4</td>\n",
       "      <td>5</td>\n",
       "    </tr>\n",
       "  </tbody>\n",
       "</table>\n",
       "<p>2 rows × 21 columns</p>\n",
       "</div>"
      ],
      "text/plain": [
       "                    EMAIL  SECO DE CABRITO  OCOPA AREQUIPEÑA  \\\n",
       "0   cchallcoa@unsa.edu.pe                4                 5   \n",
       "1  jllerenapa@unsa.edu.pe                4                 5   \n",
       "\n",
       "   CARAPULCRA CON SOPA SECA  CAUSA RELLENA  PAPA RELLENA  LOMO SALTADO  \\\n",
       "0                         2              3             5             5   \n",
       "1                         5              5             5             5   \n",
       "\n",
       "   ARROZ VERDE  JUANE  POLLO A LA BRASA  ...  ESTOFADO DE RES  ADOBO  \\\n",
       "0            5      2                 4  ...                3      4   \n",
       "1            5      5                 5  ...                5      5   \n",
       "\n",
       "   MONDONGUITO  ROCOTO RELLENO  LECHE DE TIGRE  ARROZ CON MARISCOS  \\\n",
       "0            1               3               3                   5   \n",
       "1            5               5               5                   5   \n",
       "\n",
       "   PACHAMANCA  COSTILAR DORADO  LENTEJAS  CALDO BLANCO  \n",
       "0           2                3         2             2  \n",
       "1           5                4         4             5  \n",
       "\n",
       "[2 rows x 21 columns]"
      ]
     },
     "execution_count": 10,
     "metadata": {},
     "output_type": "execute_result"
    }
   ],
   "source": [
    "data[0:2]"
   ]
  },
  {
   "cell_type": "code",
   "execution_count": null,
   "id": "2315d100",
   "metadata": {},
   "outputs": [],
   "source": []
  },
  {
   "cell_type": "markdown",
   "id": "6d1dadcf",
   "metadata": {},
   "source": [
    "![linea 2](https://user-images.githubusercontent.com/19308295/115926262-2fb62980-a448-11eb-8189-c2f10e499944.png)"
   ]
  },
  {
   "cell_type": "markdown",
   "id": "ef2f418d",
   "metadata": {},
   "source": [
    "## 3.- Correlación de Pearson  (Similitud)"
   ]
  },
  {
   "cell_type": "markdown",
   "id": "dd567498",
   "metadata": {},
   "source": [
    "El __coeficiente de correlación de Pearson__ es una medida de __`dependencia lineal entre dos variables aleatorias cuantitativas`__. "
   ]
  },
  {
   "cell_type": "markdown",
   "id": "ae073739",
   "metadata": {},
   "source": [
    "El coeficiente de correlación puede tomar un __rango de valores de +1 a -1__. Un valor de 0 indica que no hay asociación entre las dos variables. __`Un valor mayor que 0 indica una asociación positiva`__ y __`Un valor menor que 0 indica una asociación negativa`__."
   ]
  },
  {
   "cell_type": "markdown",
   "id": "5ac3f1e6",
   "metadata": {},
   "source": [
    "$$s = \\frac{1}{1+d_{E}}$$\n",
    "\n",
    "\n",
    "$$s = \\frac{1}{1+8.66}$$\n",
    "\n",
    "$$s_{(cchallcoa,jllerenapa)} =0,10$$"
   ]
  },
  {
   "cell_type": "markdown",
   "id": "ef17d17c",
   "metadata": {},
   "source": [
    "<center> <h4>Similitud entre cchallcoa y jllerenapa </h1> </center> "
   ]
  },
  {
   "cell_type": "markdown",
   "id": "6e969582",
   "metadata": {},
   "source": [
    "-Como nos damos cuenta estas dos personas no tiene una misma similitud , mientras esta mas se acerque a 1 hay mas similitud entre ambos y mientras mas se aleje menos similitud."
   ]
  },
  {
   "cell_type": "markdown",
   "id": "8b60c767",
   "metadata": {},
   "source": [
    "![linea 2](https://user-images.githubusercontent.com/19308295/115926262-2fb62980-a448-11eb-8189-c2f10e499944.png)"
   ]
  },
  {
   "cell_type": "code",
   "execution_count": 11,
   "id": "00974eee",
   "metadata": {},
   "outputs": [],
   "source": [
    "from scipy.spatial.distance import euclidean"
   ]
  },
  {
   "cell_type": "code",
   "execution_count": 12,
   "id": "bd71d60d",
   "metadata": {},
   "outputs": [
    {
     "name": "stdout",
     "output_type": "stream",
     "text": [
      "[[4 5 2 3 5 5 5 2 4 4 3 4 1 3 3 5 2 3 2 2]\n",
      " [4 5 5 5 5 5 5 5 5 5 5 5 5 5 5 5 5 4 4 5]\n",
      " [5 5 5 5 5 5 5 5 5 5 5 5 5 5 5 5 5 5 5 5]\n",
      " [3 4 4 3 3 5 5 5 5 5 5 4 5 5 4 3 4 4 3 5]\n",
      " [1 5 1 1 5 3 5 5 5 1 3 1 1 1 1 5 2 1 5 4]\n",
      " [3 4 1 5 3 3 4 2 5 4 3 3 1 2 1 2 1 4 2 2]\n",
      " [4 3 3 4 4 5 4 2 5 4 5 5 1 5 5 2 2 4 4 4]\n",
      " [3 4 2 5 5 5 4 3 5 4 4 1 4 5 5 5 5 5 3 4]\n",
      " [1 5 1 5 5 5 5 5 5 5 5 5 5 5 5 3 5 5 4 5]\n",
      " [2 3 2 3 3 5 4 2 5 5 4 5 4 4 3 4 4 4 3 4]\n",
      " [4 3 3 3 4 4 5 4 4 4 4 4 2 4 5 4 4 4 3 4]\n",
      " [3 5 4 5 5 4 4 4 3 4 4 5 3 3 5 4 3 3 5 4]\n",
      " [4 5 1 5 4 5 5 1 5 4 3 5 3 5 5 5 4 4 4 4]\n",
      " [2 2 5 5 5 5 5 4 5 5 5 5 5 5 5 5 5 5 5 5]\n",
      " [1 5 1 3 3 2 3 1 4 3 3 3 1 1 2 2 2 4 1 5]\n",
      " [5 4 5 3 5 5 5 3 5 5 5 5 2 4 3 5 5 5 5 5]\n",
      " [3 4 3 5 5 5 5 4 5 5 4 5 3 4 5 2 4 4 3 5]\n",
      " [4 5 4 5 5 1 5 3 4 5 3 5 1 2 5 2 2 5 2 3]\n",
      " [3 5 4 5 5 5 5 3 5 3 2 5 5 4 5 5 5 5 1 4]\n",
      " [4 5 4 5 3 5 5 5 5 5 3 3 1 5 5 2 5 5 3 5]\n",
      " [2 3 3 5 5 5 5 5 5 5 5 4 5 4 5 3 3 5 2 4]]\n",
      "['cchallcoa@unsa.edu.pe' 'jllerenapa@unsa.edu.pe' 'claricoy@unsa.edu.pe'\n",
      " 'chuaylla@unsa.edu.pe' 'jquempes@unsa.edu.pe' 'mloayzam@unsa.edu.pe'\n",
      " 'bbeltrand@unsa.edu.pe' 'ssoriaq@unsa.edu.pe' 'jquispebar@unsa.edu.pe'\n",
      " 'spaucav@unsa.edu.pe' 'harenaza@unsa.edu.pe' 'jvillenav@unsa.edu.pe'\n",
      " 'lessly25huacan@gmail.com' 'mfloreschav@unsa.edu.pe'\n",
      " 'ruizcruza9@gmail.com' 'jlagunam@unsa.edu.pe' 'jvaleroc@unsa.edu.pe'\n",
      " 'joselyn.qa.20@gmail.com' 'chemystry03@gmail.com' 'huamanidana@gmail.com'\n",
      " 'fmirandaa@unsa.edu.pe']\n"
     ]
    }
   ],
   "source": [
    "n = data[data.columns[1:]].to_numpy()\n",
    "m = data[data.columns[0]].to_numpy()\n",
    "print(n)\n",
    "print(m)"
   ]
  },
  {
   "cell_type": "markdown",
   "id": "f5f95b7f",
   "metadata": {},
   "source": [
    "![linea 2](https://user-images.githubusercontent.com/19308295/115926262-2fb62980-a448-11eb-8189-c2f10e499944.png)"
   ]
  },
  {
   "cell_type": "markdown",
   "id": "a05c7c97",
   "metadata": {},
   "source": [
    "## -Hallando la distancia y similitud  de los encuestados."
   ]
  },
  {
   "cell_type": "code",
   "execution_count": 13,
   "id": "4aef1e70",
   "metadata": {},
   "outputs": [
    {
     "name": "stdout",
     "output_type": "stream",
     "text": [
      "Relación entre cchallcoa@unsa.edu.pe y jllerenapa@unsa.edu.pe \n",
      "\n",
      "\n",
      "\t\tDistancia =  8.717797887081348\n",
      "\t\tSimilitud =  0.10290397182775128\n"
     ]
    }
   ],
   "source": [
    "print('Relación entre',m[0],'y',m[1],'\\n\\n')\n",
    "dist = euclidean(n[0],n[1])\n",
    "\n",
    "print('\\t\\tDistancia = ', dist)\n",
    "\n",
    "simil = 1/(1+dist)\n",
    "\n",
    "print('\\t\\tSimilitud = ', simil)"
   ]
  },
  {
   "cell_type": "code",
   "execution_count": null,
   "id": "84a4aa34",
   "metadata": {},
   "outputs": [],
   "source": []
  },
  {
   "cell_type": "code",
   "execution_count": null,
   "id": "45d2b019",
   "metadata": {},
   "outputs": [],
   "source": []
  },
  {
   "cell_type": "markdown",
   "id": "dbf18782",
   "metadata": {},
   "source": [
    "![linea 2](https://user-images.githubusercontent.com/19308295/115926262-2fb62980-a448-11eb-8189-c2f10e499944.png)"
   ]
  },
  {
   "cell_type": "markdown",
   "id": "ebdec843",
   "metadata": {},
   "source": [
    "Llenando la tabla de __Matriz de Correlación__ con los valores de `Similitud` obtenidos:"
   ]
  },
  {
   "cell_type": "code",
   "execution_count": null,
   "id": "f7c846fb",
   "metadata": {},
   "outputs": [],
   "source": []
  },
  {
   "cell_type": "code",
   "execution_count": null,
   "id": "61d36442",
   "metadata": {},
   "outputs": [],
   "source": []
  },
  {
   "cell_type": "markdown",
   "id": "8c6025bb",
   "metadata": {},
   "source": [
    "### Validación - Matrix de Correlación"
   ]
  },
  {
   "cell_type": "markdown",
   "id": "28af9358",
   "metadata": {},
   "source": [
    "Se realiza la validación de los resultados obtenidos con la   `Matriz de Correlación` en `Numpy` "
   ]
  },
  {
   "cell_type": "code",
   "execution_count": 14,
   "id": "c2f15ddd",
   "metadata": {},
   "outputs": [
    {
     "name": "stderr",
     "output_type": "stream",
     "text": [
      "/home/agus/anaconda3/envs/computacion/lib/python3.8/site-packages/numpy/lib/function_base.py:2691: RuntimeWarning: invalid value encountered in true_divide\n",
      "  c /= stddev[:, None]\n",
      "/home/agus/anaconda3/envs/computacion/lib/python3.8/site-packages/numpy/lib/function_base.py:2692: RuntimeWarning: invalid value encountered in true_divide\n",
      "  c /= stddev[None, :]\n"
     ]
    },
    {
     "data": {
      "text/plain": [
       "array([[ 1.00000000e+00,  1.18963464e-01,             nan,\n",
       "        -1.69311456e-01,  3.45057376e-01,  5.69929170e-01,\n",
       "         3.69208221e-01,  2.04648029e-01,  2.76428611e-02,\n",
       "         2.70945630e-01,  4.41399868e-01,  2.61140225e-01,\n",
       "         5.93491931e-01, -2.46824563e-01,  3.62189006e-01,\n",
       "         4.32858322e-01,  2.64613721e-01,  3.71786137e-01,\n",
       "         3.33028326e-01,  1.33748350e-01,  7.42943403e-02],\n",
       "       [ 1.18963464e-01,  1.00000000e+00,             nan,\n",
       "         4.48142665e-01,  1.08576077e-01, -8.33526302e-02,\n",
       "        -8.91578690e-02,  1.44175835e-01,  3.77089457e-01,\n",
       "         2.83525787e-01,  8.25840139e-02,  1.80775382e-01,\n",
       "         1.74580963e-02,  3.00168781e-01,  1.63517485e-01,\n",
       "        -2.50974156e-01,  3.77135136e-01, -3.42508222e-02,\n",
       "         4.32262896e-01,  5.27399079e-02,  4.54962636e-01],\n",
       "       [            nan,             nan,             nan,\n",
       "                    nan,             nan,             nan,\n",
       "                    nan,             nan,             nan,\n",
       "                    nan,             nan,             nan,\n",
       "                    nan,             nan,             nan,\n",
       "                    nan,             nan,             nan,\n",
       "                    nan,             nan,             nan],\n",
       "       [-1.69311456e-01,  4.48142665e-01,             nan,\n",
       "         1.00000000e+00, -6.81740716e-03,  4.33851783e-17,\n",
       "         1.04498856e-01,  4.40826553e-02,  4.55166756e-01,\n",
       "         4.72903793e-01,  1.63339652e-01, -3.97276079e-01,\n",
       "        -1.63696249e-01,  2.30034488e-01,  1.43739894e-01,\n",
       "        -1.20337418e-01,  3.65348892e-01, -2.23660569e-01,\n",
       "         1.05550083e-02,  2.78165803e-01,  5.44838282e-01],\n",
       "       [ 3.45057376e-01,  1.08576077e-01,             nan,\n",
       "        -6.81740716e-03,  1.00000000e+00,  1.75830546e-01,\n",
       "        -1.17547856e-01,  1.28927117e-01,  1.73636282e-01,\n",
       "        -4.02561540e-02,  1.30656875e-01,  2.50255493e-01,\n",
       "         5.06377732e-02, -1.03503758e-01,  2.80260947e-01,\n",
       "         2.34631304e-01, -1.21769128e-02, -9.28946037e-02,\n",
       "        -9.97334955e-02, -3.24489898e-02, -6.25913287e-02],\n",
       "       [ 5.69929170e-01, -8.33526302e-02,             nan,\n",
       "         4.33851783e-17,  1.75830546e-01,  1.00000000e+00,\n",
       "         4.29543178e-01,  1.86531492e-01,  2.63179318e-01,\n",
       "         2.98740556e-01,  1.17021111e-01,  1.02463104e-01,\n",
       "         4.37038533e-01, -1.63591375e-01,  6.02428871e-01,\n",
       "         2.26309397e-01,  4.68961943e-01,  5.47732212e-01,\n",
       "         1.36114275e-01,  3.57053704e-01,  3.27011417e-01],\n",
       "       [ 3.69208221e-01, -8.91578690e-02,             nan,\n",
       "         1.04498856e-01, -1.17547856e-01,  4.29543178e-01,\n",
       "         1.00000000e+00,  4.75054290e-02,  1.79142027e-01,\n",
       "         3.19546861e-01,  5.00684999e-01,  2.19198650e-01,\n",
       "         4.67476841e-01,  1.51653650e-01,  2.80886238e-01,\n",
       "         3.80397456e-01,  5.94948936e-01,  3.48561503e-01,\n",
       "        -1.09195643e-01,  3.81921330e-01,  2.29859828e-01],\n",
       "       [ 2.04648029e-01,  1.44175835e-01,             nan,\n",
       "         4.40826553e-02,  1.28927117e-01,  1.86531492e-01,\n",
       "         4.75054290e-02,  1.00000000e+00,  4.15639087e-01,\n",
       "         2.48683259e-01,  2.11213070e-01, -2.31171395e-01,\n",
       "         4.44639812e-01,  2.14069593e-01,  2.26527594e-01,\n",
       "        -1.19136807e-01,  1.89463892e-01, -1.42347279e-01,\n",
       "         3.76189222e-01,  2.56656484e-01,  3.73108139e-01],\n",
       "       [ 2.76428611e-02,  3.77089457e-01,             nan,\n",
       "         4.55166756e-01,  1.73636282e-01,  2.63179318e-01,\n",
       "         1.79142027e-01,  4.15639087e-01,  1.00000000e+00,\n",
       "         5.48811836e-01,  1.65933392e-01,  1.55668344e-01,\n",
       "         3.52450271e-01,  3.60104280e-01,  4.53712459e-01,\n",
       "        -2.64143663e-01,  6.47304012e-01,  2.94938875e-02,\n",
       "         2.48151965e-01,  2.23711476e-01,  6.68099443e-01],\n",
       "       [ 2.70945630e-01,  2.83525787e-01,             nan,\n",
       "         4.72903793e-01, -4.02561540e-02,  2.98740556e-01,\n",
       "         3.19546861e-01,  2.48683259e-01,  5.48811836e-01,\n",
       "         1.00000000e+00,  1.99024929e-01, -2.01075277e-01,\n",
       "         5.32930673e-01,  4.87972288e-01,  3.83967688e-01,\n",
       "         2.90435983e-01,  4.02363114e-01, -1.50573722e-01,\n",
       "         2.84920413e-01,  2.17267612e-03,  3.93595977e-01],\n",
       "       [ 4.41399868e-01,  8.25840139e-02,             nan,\n",
       "         1.63339652e-01,  1.30656875e-01,  1.17021111e-01,\n",
       "         5.00684999e-01,  2.11213070e-01,  1.65933392e-01,\n",
       "         1.99024929e-01,  1.00000000e+00,  0.00000000e+00,\n",
       "         3.18628887e-01,  1.29666285e-01,  1.72175111e-01,\n",
       "         3.84381496e-01,  4.53831999e-01,  3.19426412e-01,\n",
       "         1.13787391e-01,  4.68939291e-01,  2.49939740e-01],\n",
       "       [ 2.61140225e-01,  1.80775382e-01,             nan,\n",
       "        -3.97276079e-01,  2.50255493e-01,  1.02463104e-01,\n",
       "         2.19198650e-01, -2.31171395e-01,  1.55668344e-01,\n",
       "        -2.01075277e-01,  0.00000000e+00,  1.00000000e+00,\n",
       "         1.60955695e-01,  0.00000000e+00,  2.01007563e-01,\n",
       "        -7.01171937e-02,  2.83837890e-01,  4.05998971e-01,\n",
       "        -5.53509303e-02, -5.40264362e-02,  0.00000000e+00],\n",
       "       [ 5.93491931e-01,  1.74580963e-02,             nan,\n",
       "        -1.63696249e-01,  5.06377732e-02,  4.37038533e-01,\n",
       "         4.67476841e-01,  4.44639812e-01,  3.52450271e-01,\n",
       "         5.32930673e-01,  3.18628887e-01,  1.60955695e-01,\n",
       "         1.00000000e+00,  1.59898637e-02,  4.04416400e-01,\n",
       "         1.60257815e-01,  3.58629800e-01,  1.58287006e-01,\n",
       "         4.20507040e-01,  1.68699734e-01,  3.32675922e-02],\n",
       "       [-2.46824563e-01,  3.00168781e-01,             nan,\n",
       "         2.30034488e-01, -1.03503758e-01, -1.63591375e-01,\n",
       "         1.51653650e-01,  2.14069593e-01,  3.60104280e-01,\n",
       "         4.87972288e-01,  1.29666285e-01,  0.00000000e+00,\n",
       "         1.59898637e-02,  1.00000000e+00, -6.41852578e-02,\n",
       "         6.86616112e-02,  2.44712991e-01, -1.97825047e-01,\n",
       "         1.13116977e-01, -1.35712534e-01,  4.68464091e-01],\n",
       "       [ 3.62189006e-01,  1.63517485e-01,             nan,\n",
       "         1.43739894e-01,  2.80260947e-01,  6.02428871e-01,\n",
       "         2.80886238e-01,  2.26527594e-01,  4.53712459e-01,\n",
       "         3.83967688e-01,  1.72175111e-01,  2.01007563e-01,\n",
       "         4.04416400e-01, -6.41852578e-02,  1.00000000e+00,\n",
       "         2.74834681e-01,  5.34877149e-01,  5.03254660e-01,\n",
       "         3.33778669e-01,  3.42081252e-01,  2.74935627e-01],\n",
       "       [ 4.32858322e-01, -2.50974156e-01,             nan,\n",
       "        -1.20337418e-01,  2.34631304e-01,  2.26309397e-01,\n",
       "         3.80397456e-01, -1.19136807e-01, -2.64143663e-01,\n",
       "         2.90435983e-01,  3.84381496e-01, -7.01171937e-02,\n",
       "         1.60257815e-01,  6.86616112e-02,  2.74834681e-01,\n",
       "         1.00000000e+00,  3.88087367e-02,  1.15767868e-01,\n",
       "        -1.76975967e-01,  1.20464190e-01, -3.24799686e-01],\n",
       "       [ 2.64613721e-01,  3.77135136e-01,             nan,\n",
       "         3.65348892e-01, -1.21769128e-02,  4.68961943e-01,\n",
       "         5.94948936e-01,  1.89463892e-01,  6.47304012e-01,\n",
       "         4.02363114e-01,  4.53831999e-01,  2.83837890e-01,\n",
       "         3.58629800e-01,  2.44712991e-01,  5.34877149e-01,\n",
       "         3.88087367e-02,  1.00000000e+00,  4.74395986e-01,\n",
       "         3.01645272e-01,  5.77353324e-01,  6.49638049e-01],\n",
       "       [ 3.71786137e-01, -3.42508222e-02,             nan,\n",
       "        -2.23660569e-01, -9.28946037e-02,  5.47732212e-01,\n",
       "         3.48561503e-01, -1.42347279e-01,  2.94938875e-02,\n",
       "        -1.50573722e-01,  3.19426412e-01,  4.05998971e-01,\n",
       "         1.58287006e-01, -1.97825047e-01,  5.03254660e-01,\n",
       "         1.15767868e-01,  4.74395986e-01,  1.00000000e+00,\n",
       "         2.03749949e-01,  3.61191023e-01,  2.08964975e-01],\n",
       "       [ 3.33028326e-01,  4.32262896e-01,             nan,\n",
       "         1.05550083e-02, -9.97334955e-02,  1.36114275e-01,\n",
       "        -1.09195643e-01,  3.76189222e-01,  2.48151965e-01,\n",
       "         2.84920413e-01,  1.13787391e-01, -5.53509303e-02,\n",
       "         4.20507040e-01,  1.13116977e-01,  3.33778669e-01,\n",
       "        -1.76975967e-01,  3.01645272e-01,  2.03749949e-01,\n",
       "         1.00000000e+00,  1.22008871e-01,  3.39173225e-01],\n",
       "       [ 1.33748350e-01,  5.27399079e-02,             nan,\n",
       "         2.78165803e-01, -3.24489898e-02,  3.57053704e-01,\n",
       "         3.81921330e-01,  2.56656484e-01,  2.23711476e-01,\n",
       "         2.17267612e-03,  4.68939291e-01, -5.40264362e-02,\n",
       "         1.68699734e-01, -1.35712534e-01,  3.42081252e-01,\n",
       "         1.20464190e-01,  5.77353324e-01,  3.61191023e-01,\n",
       "         1.22008871e-01,  1.00000000e+00,  1.79322617e-01],\n",
       "       [ 7.42943403e-02,  4.54962636e-01,             nan,\n",
       "         5.44838282e-01, -6.25913287e-02,  3.27011417e-01,\n",
       "         2.29859828e-01,  3.73108139e-01,  6.68099443e-01,\n",
       "         3.93595977e-01,  2.49939740e-01,  0.00000000e+00,\n",
       "         3.32675922e-02,  4.68464091e-01,  2.74935627e-01,\n",
       "        -3.24799686e-01,  6.49638049e-01,  2.08964975e-01,\n",
       "         3.39173225e-01,  1.79322617e-01,  1.00000000e+00]])"
      ]
     },
     "execution_count": 14,
     "metadata": {},
     "output_type": "execute_result"
    }
   ],
   "source": [
    "np.corrcoef(n)"
   ]
  },
  {
   "cell_type": "markdown",
   "id": "81e7db46",
   "metadata": {},
   "source": [
    "#### La función `np.corrcoef(n)` confirma los mismo resultados obtenidos anteriormente con nuestro algoritmo inicial."
   ]
  },
  {
   "cell_type": "markdown",
   "id": "de552282",
   "metadata": {},
   "source": [
    "![linea 2](https://user-images.githubusercontent.com/19308295/115926262-2fb62980-a448-11eb-8189-c2f10e499944.png)"
   ]
  },
  {
   "cell_type": "code",
   "execution_count": null,
   "id": "4fec113d",
   "metadata": {},
   "outputs": [],
   "source": []
  },
  {
   "cell_type": "markdown",
   "id": "dc83ea3d",
   "metadata": {},
   "source": [
    "![linea 2](https://user-images.githubusercontent.com/19308295/115926262-2fb62980-a448-11eb-8189-c2f10e499944.png)"
   ]
  },
  {
   "cell_type": "markdown",
   "id": "e1c326dd",
   "metadata": {},
   "source": [
    "## 5.- RESULTADOS "
   ]
  },
  {
   "cell_type": "markdown",
   "id": "da3c0e9c",
   "metadata": {},
   "source": [
    "Los resultados de similitud obtenidos en **Dibujos Animados** según la tabla de **Correlación** con los siguientes encuestados:\n",
    "\n",
    " 1. _dmejiagu@unsa.edu.pe_ y _diquiapazam@unsa.edu.pe_  obtienen el **PRIMER** indice mas alto de similitud \n",
    " \n",
    " 2. _diquiapazam@unsa.edu.pe_ y _dmejiagu@unsa.edu.pe_ obtienen el **SEGUNDO** indice mas alto de similitud "
   ]
  },
  {
   "cell_type": "code",
   "execution_count": null,
   "id": "2845db41",
   "metadata": {},
   "outputs": [],
   "source": []
  },
  {
   "cell_type": "markdown",
   "id": "18ca382e",
   "metadata": {},
   "source": [
    "![linea 2](https://user-images.githubusercontent.com/19308295/115926262-2fb62980-a448-11eb-8189-c2f10e499944.png)"
   ]
  },
  {
   "cell_type": "markdown",
   "id": "7cab5781",
   "metadata": {},
   "source": [
    "### Temas"
   ]
  },
  {
   "cell_type": "markdown",
   "id": "acc15019",
   "metadata": {},
   "source": [
    " 1. Musica\n",
    " 2. Peliculas\n",
    " 3. Comida"
   ]
  },
  {
   "cell_type": "markdown",
   "id": "b90ed2d2",
   "metadata": {},
   "source": [
    "### Procedimiento"
   ]
  },
  {
   "cell_type": "markdown",
   "id": "e9aa800a",
   "metadata": {},
   "source": [
    "#### 1.- `Realizar Encuesta`\n",
    "#### 2.- `Editar archivo plantilla - Jupyter Notebook con los resultados obtenidos` (Avance 1 - Validación Matrix de Correlación)\n",
    "#### 3.- `Programar con Python pagina web Flask donde presenta el procedimiento y resultados ` (Avance 2 - Investigación Flask)\n",
    "#### 5.- `Sustentación de Resultados`( Investigación Formativa)\n",
    "#### 4.- `Caso Netflix en Jupyter Notebook`( Investigación 20)"
   ]
  },
  {
   "cell_type": "code",
   "execution_count": null,
   "id": "4ff818bb",
   "metadata": {},
   "outputs": [],
   "source": []
  },
  {
   "cell_type": "markdown",
   "id": "54fa5d80",
   "metadata": {},
   "source": [
    "## CASO Netflix"
   ]
  },
  {
   "cell_type": "markdown",
   "id": "88902c8d",
   "metadata": {},
   "source": [
    "|Estudiante   |\tPelicula 1\t  |    Pelicula 2 |     Pelicula 3|   Pelicula 4  |\n",
    "|:-----------:|:-------------:|:-------------:|:-------------:|:-------------:|\n",
    "|Oscar        |          4    |               |        5      |               |\n",
    "|Andrea       |        2      |       1       |               |      5        |\n",
    "|Juan         |    5          |               |   3           |       2       |"
   ]
  },
  {
   "cell_type": "markdown",
   "id": "cb65b8f0",
   "metadata": {},
   "source": [
    "|             |\tOscar\t      |    Andrea     |     Juan     |\n",
    "|:-----------:|:-------------:|:-------------:|:------------:|\n",
    "|Oscar        |           1   |    __0,33__   |  0,30        |\n",
    "|Andrea       |    __0,33__   |       1       |   0,19       | \n",
    "|Juan         |    0,30       |       0,19    |  1           | "
   ]
  },
  {
   "cell_type": "markdown",
   "id": "8f96e951",
   "metadata": {},
   "source": [
    "Podemos observar que es mas probable recomendar a __`Oscar`__ la __`Pelicula 4`__ por los gusto de __`Andrea`__ "
   ]
  },
  {
   "cell_type": "markdown",
   "id": "86228620",
   "metadata": {},
   "source": [
    "![linea 1](https://user-images.githubusercontent.com/19308295/115926252-2b8a0c00-a448-11eb-9d9c-b43beaf0ff68.png)"
   ]
  },
  {
   "cell_type": "markdown",
   "id": "92298892",
   "metadata": {},
   "source": [
    "- __Profesor de Matematicas__: `John Gabriel Muñoz Cruz`\n",
    "https://www.linkedin.com/in/jgmc"
   ]
  },
  {
   "cell_type": "markdown",
   "id": "7b199087",
   "metadata": {},
   "source": [
    "![linea 1](https://user-images.githubusercontent.com/19308295/115926252-2b8a0c00-a448-11eb-9d9c-b43beaf0ff68.png)"
   ]
  },
  {
   "cell_type": "markdown",
   "id": "d664f0cd",
   "metadata": {},
   "source": [
    "![linea 1](https://user-images.githubusercontent.com/19308295/115926252-2b8a0c00-a448-11eb-9d9c-b43beaf0ff68.png)"
   ]
  }
 ],
 "metadata": {
  "kernelspec": {
   "display_name": "Python 3 (ipykernel)",
   "language": "python",
   "name": "python3"
  },
  "language_info": {
   "codemirror_mode": {
    "name": "ipython",
    "version": 3
   },
   "file_extension": ".py",
   "mimetype": "text/x-python",
   "name": "python",
   "nbconvert_exporter": "python",
   "pygments_lexer": "ipython3",
   "version": "3.8.12"
  }
 },
 "nbformat": 4,
 "nbformat_minor": 5
}
