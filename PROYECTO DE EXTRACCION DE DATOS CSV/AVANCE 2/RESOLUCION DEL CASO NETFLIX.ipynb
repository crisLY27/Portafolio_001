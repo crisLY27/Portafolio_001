{
 "cells": [
  {
   "cell_type": "markdown",
   "id": "09e58b39",
   "metadata": {},
   "source": [
    "#       CASO NETFLIX"
   ]
  },
  {
   "cell_type": "code",
   "execution_count": 1,
   "id": "87d26a8b",
   "metadata": {},
   "outputs": [],
   "source": [
    "import numpy as np\n",
    "import pandas as pd\n",
    "from pandas import DataFrame"
   ]
  },
  {
   "cell_type": "code",
   "execution_count": 2,
   "id": "d1606b0b",
   "metadata": {},
   "outputs": [
    {
     "data": {
      "text/html": [
       "<div>\n",
       "<style scoped>\n",
       "    .dataframe tbody tr th:only-of-type {\n",
       "        vertical-align: middle;\n",
       "    }\n",
       "\n",
       "    .dataframe tbody tr th {\n",
       "        vertical-align: top;\n",
       "    }\n",
       "\n",
       "    .dataframe thead th {\n",
       "        text-align: right;\n",
       "    }\n",
       "</style>\n",
       "<table border=\"1\" class=\"dataframe\">\n",
       "  <thead>\n",
       "    <tr style=\"text-align: right;\">\n",
       "      <th></th>\n",
       "      <th>EMAIL</th>\n",
       "      <th>SECO DE CABRITO</th>\n",
       "      <th>OCOPA AREQUIPEÑA</th>\n",
       "      <th>CARAPULCRA CON SOPASECA</th>\n",
       "      <th>CAUSA RELLENA</th>\n",
       "      <th>PAPA RELLENA</th>\n",
       "    </tr>\n",
       "  </thead>\n",
       "  <tbody>\n",
       "    <tr>\n",
       "      <th>0</th>\n",
       "      <td>kmamanica@unsa.edu.pe</td>\n",
       "      <td>3.0</td>\n",
       "      <td>NaN</td>\n",
       "      <td>3.0</td>\n",
       "      <td>5.0</td>\n",
       "      <td>5.0</td>\n",
       "    </tr>\n",
       "    <tr>\n",
       "      <th>1</th>\n",
       "      <td>esther.o.sara@gmail.com</td>\n",
       "      <td>5.0</td>\n",
       "      <td>3.0</td>\n",
       "      <td>2.0</td>\n",
       "      <td>NaN</td>\n",
       "      <td>5.0</td>\n",
       "    </tr>\n",
       "    <tr>\n",
       "      <th>2</th>\n",
       "      <td>mprietot@unsa.edu.pe</td>\n",
       "      <td>3.0</td>\n",
       "      <td>2.0</td>\n",
       "      <td>NaN</td>\n",
       "      <td>5.0</td>\n",
       "      <td>2.0</td>\n",
       "    </tr>\n",
       "    <tr>\n",
       "      <th>3</th>\n",
       "      <td>nalufreyja13@gmail.com</td>\n",
       "      <td>NaN</td>\n",
       "      <td>5.0</td>\n",
       "      <td>1.0</td>\n",
       "      <td>5.0</td>\n",
       "      <td>NaN</td>\n",
       "    </tr>\n",
       "    <tr>\n",
       "      <th>4</th>\n",
       "      <td>mrodriguezlau@unsa.edu.pe</td>\n",
       "      <td>1.0</td>\n",
       "      <td>4.0</td>\n",
       "      <td>1.0</td>\n",
       "      <td>5.0</td>\n",
       "      <td>5.0</td>\n",
       "    </tr>\n",
       "  </tbody>\n",
       "</table>\n",
       "</div>"
      ],
      "text/plain": [
       "                       EMAIL  SECO DE CABRITO  OCOPA AREQUIPEÑA  \\\n",
       "0      kmamanica@unsa.edu.pe              3.0               NaN   \n",
       "1    esther.o.sara@gmail.com              5.0               3.0   \n",
       "2       mprietot@unsa.edu.pe              3.0               2.0   \n",
       "3     nalufreyja13@gmail.com              NaN               5.0   \n",
       "4  mrodriguezlau@unsa.edu.pe              1.0               4.0   \n",
       "\n",
       "   CARAPULCRA CON SOPASECA   CAUSA RELLENA  PAPA RELLENA  \n",
       "0                       3.0            5.0           5.0  \n",
       "1                       2.0            NaN           5.0  \n",
       "2                       NaN            5.0           2.0  \n",
       "3                       1.0            5.0           NaN  \n",
       "4                       1.0            5.0           5.0  "
      ]
     },
     "execution_count": 2,
     "metadata": {},
     "output_type": "execute_result"
    }
   ],
   "source": [
    "#archivo csv separado por comas\n",
    "x=data = pd.read_csv('hipotetico - Respuestas de formulario 1.csv')\n",
    "\n",
    "#leer lineas\n",
    "data"
   ]
  },
  {
   "cell_type": "code",
   "execution_count": 3,
   "id": "78b281ae",
   "metadata": {},
   "outputs": [
    {
     "data": {
      "text/plain": [
       "EMAIL                        object\n",
       "SECO DE CABRITO             float64\n",
       "OCOPA AREQUIPEÑA            float64\n",
       "CARAPULCRA CON SOPASECA     float64\n",
       "CAUSA RELLENA               float64\n",
       "PAPA RELLENA                float64\n",
       "dtype: object"
      ]
     },
     "execution_count": 3,
     "metadata": {},
     "output_type": "execute_result"
    }
   ],
   "source": [
    "data.dtypes"
   ]
  },
  {
   "cell_type": "code",
   "execution_count": 4,
   "id": "66163109",
   "metadata": {},
   "outputs": [],
   "source": [
    "from scipy.spatial.distance import euclidean"
   ]
  },
  {
   "cell_type": "code",
   "execution_count": 5,
   "id": "ac30f904",
   "metadata": {},
   "outputs": [
    {
     "data": {
      "text/html": [
       "<div>\n",
       "<style scoped>\n",
       "    .dataframe tbody tr th:only-of-type {\n",
       "        vertical-align: middle;\n",
       "    }\n",
       "\n",
       "    .dataframe tbody tr th {\n",
       "        vertical-align: top;\n",
       "    }\n",
       "\n",
       "    .dataframe thead th {\n",
       "        text-align: right;\n",
       "    }\n",
       "</style>\n",
       "<table border=\"1\" class=\"dataframe\">\n",
       "  <thead>\n",
       "    <tr style=\"text-align: right;\">\n",
       "      <th></th>\n",
       "      <th>EMAIL</th>\n",
       "      <th>SECO DE CABRITO</th>\n",
       "      <th>OCOPA AREQUIPEÑA</th>\n",
       "      <th>CARAPULCRA CON SOPASECA</th>\n",
       "      <th>CAUSA RELLENA</th>\n",
       "      <th>PAPA RELLENA</th>\n",
       "    </tr>\n",
       "  </thead>\n",
       "  <tbody>\n",
       "    <tr>\n",
       "      <th>0</th>\n",
       "      <td>True</td>\n",
       "      <td>True</td>\n",
       "      <td>False</td>\n",
       "      <td>True</td>\n",
       "      <td>True</td>\n",
       "      <td>True</td>\n",
       "    </tr>\n",
       "    <tr>\n",
       "      <th>1</th>\n",
       "      <td>True</td>\n",
       "      <td>True</td>\n",
       "      <td>True</td>\n",
       "      <td>True</td>\n",
       "      <td>False</td>\n",
       "      <td>True</td>\n",
       "    </tr>\n",
       "    <tr>\n",
       "      <th>2</th>\n",
       "      <td>True</td>\n",
       "      <td>True</td>\n",
       "      <td>True</td>\n",
       "      <td>False</td>\n",
       "      <td>True</td>\n",
       "      <td>True</td>\n",
       "    </tr>\n",
       "    <tr>\n",
       "      <th>3</th>\n",
       "      <td>True</td>\n",
       "      <td>False</td>\n",
       "      <td>True</td>\n",
       "      <td>True</td>\n",
       "      <td>True</td>\n",
       "      <td>False</td>\n",
       "    </tr>\n",
       "    <tr>\n",
       "      <th>4</th>\n",
       "      <td>True</td>\n",
       "      <td>True</td>\n",
       "      <td>True</td>\n",
       "      <td>True</td>\n",
       "      <td>True</td>\n",
       "      <td>True</td>\n",
       "    </tr>\n",
       "  </tbody>\n",
       "</table>\n",
       "</div>"
      ],
      "text/plain": [
       "   EMAIL  SECO DE CABRITO  OCOPA AREQUIPEÑA  CARAPULCRA CON SOPASECA   \\\n",
       "0   True             True             False                      True   \n",
       "1   True             True              True                      True   \n",
       "2   True             True              True                     False   \n",
       "3   True            False              True                      True   \n",
       "4   True             True              True                      True   \n",
       "\n",
       "   CAUSA RELLENA  PAPA RELLENA  \n",
       "0           True          True  \n",
       "1          False          True  \n",
       "2           True          True  \n",
       "3           True         False  \n",
       "4           True          True  "
      ]
     },
     "execution_count": 5,
     "metadata": {},
     "output_type": "execute_result"
    }
   ],
   "source": [
    "data.notnull().tail()"
   ]
  },
  {
   "cell_type": "code",
   "execution_count": 7,
   "id": "437c3443",
   "metadata": {},
   "outputs": [
    {
     "name": "stdout",
     "output_type": "stream",
     "text": [
      "[[ 3. nan  3.  5.  5.]\n",
      " [ 5.  3.  2. nan  5.]\n",
      " [ 3.  2. nan  5.  2.]\n",
      " [nan  5.  1.  5. nan]\n",
      " [ 1.  4.  1.  5.  5.]]\n",
      "['kmamanica@unsa.edu.pe' 'esther.o.sara@gmail.com' 'mprietot@unsa.edu.pe'\n",
      " 'nalufreyja13@gmail.com' 'mrodriguezlau@unsa.edu.pe']\n"
     ]
    }
   ],
   "source": [
    "u = x[x.columns[1:]].to_numpy()\n",
    "v = x[x.columns[0]].to_numpy()\n",
    "\n",
    "print(u)\n",
    "print(v)"
   ]
  },
  {
   "cell_type": "code",
   "execution_count": 35,
   "id": "d27cd542",
   "metadata": {
    "scrolled": true
   },
   "outputs": [
    {
     "data": {
      "text/html": [
       "<div>\n",
       "<style scoped>\n",
       "    .dataframe tbody tr th:only-of-type {\n",
       "        vertical-align: middle;\n",
       "    }\n",
       "\n",
       "    .dataframe tbody tr th {\n",
       "        vertical-align: top;\n",
       "    }\n",
       "\n",
       "    .dataframe thead th {\n",
       "        text-align: right;\n",
       "    }\n",
       "</style>\n",
       "<table border=\"1\" class=\"dataframe\">\n",
       "  <thead>\n",
       "    <tr style=\"text-align: right;\">\n",
       "      <th></th>\n",
       "      <th>kmamanica@unsa.edu.pe</th>\n",
       "      <th>esther.o.sara@gmail.com</th>\n",
       "      <th>mprietot@unsa.edu.pe</th>\n",
       "      <th>nalufreyja13@gmail.com</th>\n",
       "      <th>mrodriguezlau@unsa.edu.pe</th>\n",
       "    </tr>\n",
       "  </thead>\n",
       "  <tbody>\n",
       "    <tr>\n",
       "      <th>kmamanica@unsa.edu.pe</th>\n",
       "      <td>1.0000</td>\n",
       "      <td>0.3090</td>\n",
       "      <td>0.2500</td>\n",
       "      <td>0.3333</td>\n",
       "      <td>0.2612</td>\n",
       "    </tr>\n",
       "    <tr>\n",
       "      <th>esther.o.sara@gmail.com</th>\n",
       "      <td>0.3090</td>\n",
       "      <td>1.0000</td>\n",
       "      <td>0.2109</td>\n",
       "      <td>0.3090</td>\n",
       "      <td>0.1907</td>\n",
       "    </tr>\n",
       "    <tr>\n",
       "      <th>mprietot@unsa.edu.pe</th>\n",
       "      <td>0.2500</td>\n",
       "      <td>0.2109</td>\n",
       "      <td>1.0000</td>\n",
       "      <td>0.2500</td>\n",
       "      <td>0.1952</td>\n",
       "    </tr>\n",
       "    <tr>\n",
       "      <th>nalufreyja13@gmail.com</th>\n",
       "      <td>0.3333</td>\n",
       "      <td>0.3090</td>\n",
       "      <td>0.2500</td>\n",
       "      <td>1.0000</td>\n",
       "      <td>0.5000</td>\n",
       "    </tr>\n",
       "    <tr>\n",
       "      <th>mrodriguezlau@unsa.edu.pe</th>\n",
       "      <td>0.2612</td>\n",
       "      <td>0.1907</td>\n",
       "      <td>0.1952</td>\n",
       "      <td>0.5000</td>\n",
       "      <td>1.0000</td>\n",
       "    </tr>\n",
       "  </tbody>\n",
       "</table>\n",
       "</div>"
      ],
      "text/plain": [
       "                           kmamanica@unsa.edu.pe  esther.o.sara@gmail.com  \\\n",
       "kmamanica@unsa.edu.pe                     1.0000                   0.3090   \n",
       "esther.o.sara@gmail.com                   0.3090                   1.0000   \n",
       "mprietot@unsa.edu.pe                      0.2500                   0.2109   \n",
       "nalufreyja13@gmail.com                    0.3333                   0.3090   \n",
       "mrodriguezlau@unsa.edu.pe                 0.2612                   0.1907   \n",
       "\n",
       "                           mprietot@unsa.edu.pe  nalufreyja13@gmail.com  \\\n",
       "kmamanica@unsa.edu.pe                    0.2500                  0.3333   \n",
       "esther.o.sara@gmail.com                  0.2109                  0.3090   \n",
       "mprietot@unsa.edu.pe                     1.0000                  0.2500   \n",
       "nalufreyja13@gmail.com                   0.2500                  1.0000   \n",
       "mrodriguezlau@unsa.edu.pe                0.1952                  0.5000   \n",
       "\n",
       "                           mrodriguezlau@unsa.edu.pe  \n",
       "kmamanica@unsa.edu.pe                         0.2612  \n",
       "esther.o.sara@gmail.com                       0.1907  \n",
       "mprietot@unsa.edu.pe                          0.1952  \n",
       "nalufreyja13@gmail.com                        0.5000  \n",
       "mrodriguezlau@unsa.edu.pe                     1.0000  "
      ]
     },
     "execution_count": 35,
     "metadata": {},
     "output_type": "execute_result"
    }
   ],
   "source": [
    "from pandas import DataFrame\n",
    "vector=len(u)\n",
    "matriz= np.zeros((vector,vector))\n",
    "\n",
    "for i in range(vector):\n",
    "    for j in range(vector):\n",
    "        if j and i== np.NaN:\n",
    "            continue\n",
    "        else:\n",
    "            dist=np.sqrt(np.nansum((u[i]-u[j])**2))\n",
    "            simil=(1/(1+dist))\n",
    "            matriz[i][j] = simil\n",
    "\n",
    "\n",
    "da = pd.DataFrame(matriz,columns=v,index=v)\n",
    "da.round(decimals=4)"
   ]
  },
  {
   "cell_type": "code",
   "execution_count": 37,
   "id": "4c498364",
   "metadata": {},
   "outputs": [
    {
     "data": {
      "text/plain": [
       "kmamanica@unsa.edu.pe      kmamanica@unsa.edu.pe        1.000000\n",
       "nalufreyja13@gmail.com     mrodriguezlau@unsa.edu.pe    0.500000\n",
       "mrodriguezlau@unsa.edu.pe  nalufreyja13@gmail.com       0.500000\n",
       "kmamanica@unsa.edu.pe      nalufreyja13@gmail.com       0.333333\n",
       "nalufreyja13@gmail.com     kmamanica@unsa.edu.pe        0.333333\n",
       "dtype: float64"
      ]
     },
     "execution_count": 37,
     "metadata": {},
     "output_type": "execute_result"
    }
   ],
   "source": [
    "cl=da.abs().unstack()\n",
    "cl.sort_values(ascending=False)[range(4,9)]"
   ]
  },
  {
   "cell_type": "code",
   "execution_count": 19,
   "id": "97af16a1",
   "metadata": {},
   "outputs": [],
   "source": [
    "n = da[da.columns[1:]].to_numpy()\n",
    "m = da[da.columns[0]].to_numpy()"
   ]
  },
  {
   "cell_type": "code",
   "execution_count": 16,
   "id": "74943353",
   "metadata": {},
   "outputs": [
    {
     "data": {
      "text/plain": [
       "array([[ 1.        ,  0.46654364, -0.60759835,  0.69855636, -0.18367189],\n",
       "       [ 0.46654364,  1.        , -0.38043994, -0.29083803, -0.52132918],\n",
       "       [-0.60759835, -0.38043994,  1.        , -0.47439067, -0.50359756],\n",
       "       [ 0.69855636, -0.29083803, -0.47439067,  1.        ,  0.35180932],\n",
       "       [-0.18367189, -0.52132918, -0.50359756,  0.35180932,  1.        ]])"
      ]
     },
     "execution_count": 16,
     "metadata": {},
     "output_type": "execute_result"
    }
   ],
   "source": [
    "nampa_matriz=np.corrcoef(n)\n",
    "nampa_matriz"
   ]
  },
  {
   "cell_type": "code",
   "execution_count": 18,
   "id": "adb9252a",
   "metadata": {},
   "outputs": [
    {
     "data": {
      "text/html": [
       "<div>\n",
       "<style scoped>\n",
       "    .dataframe tbody tr th:only-of-type {\n",
       "        vertical-align: middle;\n",
       "    }\n",
       "\n",
       "    .dataframe tbody tr th {\n",
       "        vertical-align: top;\n",
       "    }\n",
       "\n",
       "    .dataframe thead th {\n",
       "        text-align: right;\n",
       "    }\n",
       "</style>\n",
       "<table border=\"1\" class=\"dataframe\">\n",
       "  <thead>\n",
       "    <tr style=\"text-align: right;\">\n",
       "      <th></th>\n",
       "      <th>kmamanica@unsa.edu.pe</th>\n",
       "      <th>esther.o.sara@gmail.com</th>\n",
       "      <th>mprietot@unsa.edu.pe</th>\n",
       "      <th>nalufreyja13@gmail.com</th>\n",
       "      <th>mrodriguezlau@unsa.edu.pe</th>\n",
       "    </tr>\n",
       "  </thead>\n",
       "  <tbody>\n",
       "    <tr>\n",
       "      <th>kmamanica@unsa.edu.pe</th>\n",
       "      <td>1.0000</td>\n",
       "      <td>0.4665</td>\n",
       "      <td>-0.6076</td>\n",
       "      <td>0.6986</td>\n",
       "      <td>-0.1837</td>\n",
       "    </tr>\n",
       "    <tr>\n",
       "      <th>esther.o.sara@gmail.com</th>\n",
       "      <td>0.4665</td>\n",
       "      <td>1.0000</td>\n",
       "      <td>-0.3804</td>\n",
       "      <td>-0.2908</td>\n",
       "      <td>-0.5213</td>\n",
       "    </tr>\n",
       "    <tr>\n",
       "      <th>mprietot@unsa.edu.pe</th>\n",
       "      <td>-0.6076</td>\n",
       "      <td>-0.3804</td>\n",
       "      <td>1.0000</td>\n",
       "      <td>-0.4744</td>\n",
       "      <td>-0.5036</td>\n",
       "    </tr>\n",
       "    <tr>\n",
       "      <th>nalufreyja13@gmail.com</th>\n",
       "      <td>0.6986</td>\n",
       "      <td>-0.2908</td>\n",
       "      <td>-0.4744</td>\n",
       "      <td>1.0000</td>\n",
       "      <td>0.3518</td>\n",
       "    </tr>\n",
       "    <tr>\n",
       "      <th>mrodriguezlau@unsa.edu.pe</th>\n",
       "      <td>-0.1837</td>\n",
       "      <td>-0.5213</td>\n",
       "      <td>-0.5036</td>\n",
       "      <td>0.3518</td>\n",
       "      <td>1.0000</td>\n",
       "    </tr>\n",
       "  </tbody>\n",
       "</table>\n",
       "</div>"
      ],
      "text/plain": [
       "                           kmamanica@unsa.edu.pe  esther.o.sara@gmail.com  \\\n",
       "kmamanica@unsa.edu.pe                     1.0000                   0.4665   \n",
       "esther.o.sara@gmail.com                   0.4665                   1.0000   \n",
       "mprietot@unsa.edu.pe                     -0.6076                  -0.3804   \n",
       "nalufreyja13@gmail.com                    0.6986                  -0.2908   \n",
       "mrodriguezlau@unsa.edu.pe                -0.1837                  -0.5213   \n",
       "\n",
       "                           mprietot@unsa.edu.pe  nalufreyja13@gmail.com  \\\n",
       "kmamanica@unsa.edu.pe                   -0.6076                  0.6986   \n",
       "esther.o.sara@gmail.com                 -0.3804                 -0.2908   \n",
       "mprietot@unsa.edu.pe                     1.0000                 -0.4744   \n",
       "nalufreyja13@gmail.com                  -0.4744                  1.0000   \n",
       "mrodriguezlau@unsa.edu.pe               -0.5036                  0.3518   \n",
       "\n",
       "                           mrodriguezlau@unsa.edu.pe  \n",
       "kmamanica@unsa.edu.pe                        -0.1837  \n",
       "esther.o.sara@gmail.com                      -0.5213  \n",
       "mprietot@unsa.edu.pe                         -0.5036  \n",
       "nalufreyja13@gmail.com                        0.3518  \n",
       "mrodriguezlau@unsa.edu.pe                     1.0000  "
      ]
     },
     "execution_count": 18,
     "metadata": {},
     "output_type": "execute_result"
    }
   ],
   "source": [
    "manu=DataFrame(nampa_matriz,columns=v,index=v)\n",
    "manu.round(decimals=4)"
   ]
  },
  {
   "cell_type": "code",
   "execution_count": 30,
   "id": "5dbe85b3",
   "metadata": {},
   "outputs": [
    {
     "data": {
      "text/plain": [
       "kmamanica@unsa.edu.pe   kmamanica@unsa.edu.pe     1.000000\n",
       "nalufreyja13@gmail.com  kmamanica@unsa.edu.pe     0.698556\n",
       "kmamanica@unsa.edu.pe   nalufreyja13@gmail.com    0.698556\n",
       "                        mprietot@unsa.edu.pe      0.607598\n",
       "mprietot@unsa.edu.pe    kmamanica@unsa.edu.pe     0.607598\n",
       "dtype: float64"
      ]
     },
     "execution_count": 30,
     "metadata": {},
     "output_type": "execute_result"
    }
   ],
   "source": [
    "cl=manu.abs().unstack()\n",
    "cl.sort_values(ascending=False)[range(4,9)]"
   ]
  },
  {
   "cell_type": "code",
   "execution_count": null,
   "id": "00542818",
   "metadata": {},
   "outputs": [],
   "source": []
  }
 ],
 "metadata": {
  "kernelspec": {
   "display_name": "Python 3 (ipykernel)",
   "language": "python",
   "name": "python3"
  },
  "language_info": {
   "codemirror_mode": {
    "name": "ipython",
    "version": 3
   },
   "file_extension": ".py",
   "mimetype": "text/x-python",
   "name": "python",
   "nbconvert_exporter": "python",
   "pygments_lexer": "ipython3",
   "version": "3.8.11"
  }
 },
 "nbformat": 4,
 "nbformat_minor": 5
}
