{
 "cells": [
  {
   "cell_type": "markdown",
   "id": "891fdb5e",
   "metadata": {},
   "source": [
    "# <center> UNIVERSIDAD NACIONAL DE SAN AGUSTIN DE AREQUIPA "
   ]
  },
  {
   "cell_type": "markdown",
   "id": "957d74b7",
   "metadata": {},
   "source": [
    "<img src= \"https://universidadesgratuitas.com/wp-content/uploads/2020/06/logo-unsa-facultad-de-ingenieria-unsa-unsa-salud-universidad-unsa-unsa-matriculas-unsa-carreras-a-distancia-aula-virtual-unsa.png\" width=\"300\" height=\"250\">"
   ]
  },
  {
   "cell_type": "markdown",
   "id": "e2d1ebf6",
   "metadata": {},
   "source": [
    "## <center> FACULTAD DE PRODUCCION Y SERVICIOS"
   ]
  },
  {
   "cell_type": "markdown",
   "id": "a27c8d5a",
   "metadata": {},
   "source": [
    "### <center> ESCUELA DE TELECOMUNICACIONES "
   ]
  },
  {
   "cell_type": "markdown",
   "id": "9988e016",
   "metadata": {},
   "source": [
    "# Alumno: Larico Yucra,Cristhian Denis \n",
    "\n",
    "# CURSO : Computacion 1\n",
    "\n",
    "# Profesor: ING. Renzo Bolivar"
   ]
  },
  {
   "cell_type": "markdown",
   "id": "6405bc53",
   "metadata": {},
   "source": [
    "# <center> ESTRUCTURA ITERATIVAS"
   ]
  },
  {
   "cell_type": "markdown",
   "id": "9f37ee90",
   "metadata": {},
   "source": [
    "# ESTRUCTURA ITERATIVAS - bucle FOR"
   ]
  },
  {
   "cell_type": "markdown",
   "id": "f89f5f4e",
   "metadata": {},
   "source": [
    "# FOR"
   ]
  },
  {
   "cell_type": "code",
   "execution_count": 4,
   "id": "64aa4cfa",
   "metadata": {},
   "outputs": [
    {
     "name": "stdout",
     "output_type": "stream",
     "text": [
      "200\n",
      "8\n",
      "1500\n",
      "10\n"
     ]
    }
   ],
   "source": [
    "#for integrando una linea\n",
    "num=[200,8,1500,10]\n",
    "for o in num:\n",
    "    print(o)\n",
    "    "
   ]
  },
  {
   "cell_type": "code",
   "execution_count": 11,
   "id": "555920ec",
   "metadata": {
    "scrolled": true
   },
   "outputs": [
    {
     "name": "stdout",
     "output_type": "stream",
     "text": [
      "el\n",
      "amor\n",
      "de\n",
      "mi\n",
      "vida\n",
      "cumple\n",
      "años\n",
      "hoy\n"
     ]
    }
   ],
   "source": [
    "# for integrando un string\n",
    "amor=\"el\", \"amor\", \"de\", \"mi\", \"vida\", \"cumple\", \"años\", \"hoy\"\n",
    "for r in amor:\n",
    "    print(r)\n",
    "    "
   ]
  },
  {
   "cell_type": "code",
   "execution_count": 13,
   "id": "79b37c21",
   "metadata": {},
   "outputs": [
    {
     "name": "stdout",
     "output_type": "stream",
     "text": [
      "C\n",
      "R\n",
      "I\n",
      "S\n",
      "T\n",
      "H\n",
      "I\n",
      "A\n",
      "N\n",
      "L\n",
      "A\n",
      "R\n",
      "I\n",
      "C\n",
      "O\n",
      "Y\n",
      "U\n",
      "C\n",
      "R\n",
      "A\n"
     ]
    }
   ],
   "source": [
    "yo=\"CRISTHIANLARICOYUCRA\"\n",
    "for r in yo:\n",
    "    print(r)"
   ]
  },
  {
   "cell_type": "code",
   "execution_count": 17,
   "id": "4ca677cc",
   "metadata": {
    "scrolled": true
   },
   "outputs": [
    {
     "name": "stdout",
     "output_type": "stream",
     "text": [
      "hola cristhiancito la longitud de tu nombre es de : 13 caracteres. \n",
      "hola cesitar la longitud de tu nombre es de : 7 caracteres. \n",
      "hola jhordancito la longitud de tu nombre es de : 11 caracteres. \n",
      "hola rudycito la longitud de tu nombre es de : 8 caracteres. \n",
      "hola manucito la longitud de tu nombre es de : 8 caracteres. \n"
     ]
    }
   ],
   "source": [
    "#\"for \" Hallando la longitud de los elementos de una linea\n",
    "for nombre in [\"cristhiancito\",\"cesitar\",\"jhordancito\",\"rudycito\",\"manucito\"]:\n",
    "    print(\"hola {0} la longitud de tu nombre es de : {1} caracteres. \" .format(nombre,len(nombre)))"
   ]
  },
  {
   "cell_type": "markdown",
   "id": "66b688bf",
   "metadata": {},
   "source": [
    "# Hacer un programa que integre a lo largo de una lista que contenga colores y añada (appends) todos los colores que contengan la letra r a una  nueva lista "
   ]
  },
  {
   "cell_type": "code",
   "execution_count": 21,
   "id": "86f76f4a",
   "metadata": {},
   "outputs": [
    {
     "name": "stdout",
     "output_type": "stream",
     "text": [
      "['green', 'purple']\n"
     ]
    }
   ],
   "source": [
    "#lista de colores \n",
    "colo=[\"pink\",\"blue\",\"green\",\"purple\",\"yellow\",\"black\"]\n",
    "#nueva lista \n",
    "colo_con_r = []\n",
    "\n",
    "for m in colo:\n",
    "    if \"r\" in m:\n",
    "        colo_con_r.append(m)\n",
    "print(colo_con_r)"
   ]
  },
  {
   "cell_type": "markdown",
   "id": "eb0a3f48",
   "metadata": {},
   "source": [
    "# <center> FUNCION RANGE( )"
   ]
  },
  {
   "cell_type": "code",
   "execution_count": 25,
   "id": "b59d830c",
   "metadata": {},
   "outputs": [
    {
     "name": "stdout",
     "output_type": "stream",
     "text": [
      "0\n",
      "1\n",
      "2\n",
      "3\n",
      "4\n",
      "5\n",
      "6\n",
      "7\n",
      "8\n",
      "9\n",
      "10\n",
      "11\n",
      "12\n",
      "13\n",
      "14\n",
      "15\n",
      "16\n",
      "17\n",
      "18\n",
      "19\n",
      "20\n",
      "21\n",
      "mi edad #estoy_viejo\n"
     ]
    }
   ],
   "source": [
    "#\"for\" utilizando la funcion range con 1 parametro \n",
    "for i in range(22):\n",
    "    print(i)\n",
    "print(\"mi edad #estoy_viejo\")"
   ]
  },
  {
   "cell_type": "markdown",
   "id": "1dc96d98",
   "metadata": {},
   "source": [
    "# hacer un programa que imprima del numero 1 al 10"
   ]
  },
  {
   "cell_type": "code",
   "execution_count": 26,
   "id": "b984ae41",
   "metadata": {},
   "outputs": [
    {
     "name": "stdout",
     "output_type": "stream",
     "text": [
      "1 2 3 4 5 6 7 8 9 10 11 12 13 14 15 16 17 18 19 20 21 22 "
     ]
    }
   ],
   "source": [
    "#******************podemos usar un argumento*************************\n",
    "#añadiremos el parametro end=\"\" para que por defecto no genere una nueva linea\n",
    "for u in range(22):\n",
    "    print(u +  1,\"\",end=\"\")"
   ]
  },
  {
   "cell_type": "code",
   "execution_count": 30,
   "id": "f61cf3dc",
   "metadata": {},
   "outputs": [
    {
     "name": "stdout",
     "output_type": "stream",
     "text": [
      "1   2   3   4   5   6   7   8   9   10   11   12   13   14   15   16   17   18   19   20   21   "
     ]
    }
   ],
   "source": [
    "#hacemos lo mismo \n",
    "for u in range(1,22):\n",
    "    print(u,  \"  \",end=\"\")\n",
    "# no agarra el 22 c:"
   ]
  },
  {
   "cell_type": "code",
   "execution_count": 27,
   "id": "7b9a5aa4",
   "metadata": {},
   "outputs": [
    {
     "name": "stdout",
     "output_type": "stream",
     "text": [
      "2     4     6     8     "
     ]
    }
   ],
   "source": [
    "for u in range(2,10,2):\n",
    "    print(u,\"  \",end=   \"  \")"
   ]
  },
  {
   "cell_type": "code",
   "execution_count": 32,
   "id": "4e936df7",
   "metadata": {},
   "outputs": [
    {
     "name": "stdout",
     "output_type": "stream",
     "text": [
      "20 18 16 14 12 10 8 6 4 2 "
     ]
    }
   ],
   "source": [
    "#inicio=20 , un final =0 y una longitud de paso -2\n",
    "for u in range(20,0,-2):\n",
    "    print(u,\"\",end=\"\")"
   ]
  },
  {
   "cell_type": "code",
   "execution_count": 33,
   "id": "8f505b90",
   "metadata": {},
   "outputs": [
    {
     "name": "stdout",
     "output_type": "stream",
     "text": [
      "40 35 30 25 20 15 10 5 0 "
     ]
    }
   ],
   "source": [
    "#inicio en \"40\", un final =-5 y una longitud de paso -5\n",
    "for u in range(40,-5,-5):\n",
    "    print(u,\"\",end=\"\")"
   ]
  },
  {
   "cell_type": "code",
   "execution_count": 36,
   "id": "a68ac6ab",
   "metadata": {},
   "outputs": [
    {
     "name": "stdout",
     "output_type": "stream",
     "text": [
      "50 45 40 35 30 25 20 15 10 5 0 "
     ]
    }
   ],
   "source": [
    "#inicio en 50, un final =-1 y una longitud de -5\n",
    "for u in range(50,-1,-5):\n",
    "    print(u,\"\",end=\"\")"
   ]
  },
  {
   "cell_type": "markdown",
   "id": "27322f84",
   "metadata": {},
   "source": [
    "# <center> MODIFICANDO LA INTEGRACION DE BUVLE FOR: BREAK Y CONTINUE"
   ]
  },
  {
   "cell_type": "markdown",
   "id": "30035394",
   "metadata": {},
   "source": [
    "### <CENTER> Uso de break "
   ]
  },
  {
   "cell_type": "code",
   "execution_count": 37,
   "id": "7dd775d4",
   "metadata": {},
   "outputs": [
    {
     "name": "stdout",
     "output_type": "stream",
     "text": [
      "6\n"
     ]
    }
   ],
   "source": [
    "#LISTA DE NUMERO\n",
    "lista1=[2,4,5,7,8,9,3,4]\n",
    "\n",
    "#utilizamos un contador iniciamos en 0 o en -1\n",
    "conta= 0\n",
    "\n",
    "for m in lista1:\n",
    "    conta = conta + 1\n",
    "    if m == 9 :\n",
    "        break\n",
    "        \n",
    "print(conta)"
   ]
  },
  {
   "cell_type": "markdown",
   "id": "397becbc",
   "metadata": {},
   "source": [
    "###  <center> Asignacion Abreviada "
   ]
  },
  {
   "cell_type": "code",
   "execution_count": 41,
   "id": "334d01ef",
   "metadata": {},
   "outputs": [
    {
     "name": "stdout",
     "output_type": "stream",
     "text": [
      "2\n"
     ]
    }
   ],
   "source": [
    "contador = 1\n",
    "#contador = contador +1\n",
    "contador /= 5                         #Hay abreviaturas similares para -=, *=, //= y #=\n",
    "c=1 \n",
    "c+=1\n",
    "print(c)"
   ]
  },
  {
   "cell_type": "code",
   "execution_count": 45,
   "id": "7778d2f1",
   "metadata": {},
   "outputs": [
    {
     "name": "stdout",
     "output_type": "stream",
     "text": [
      "no se encontro el numero 9 \n"
     ]
    }
   ],
   "source": [
    "#lista de numeros sin el numero\"9\"\n",
    "lista1 = [2,4,5,7,8,19,3]\n",
    "\n",
    "#utilizamos un contador reducido\n",
    "\n",
    "cont= -1\n",
    "\n",
    "for m in lista1:\n",
    "    cont +=  1\n",
    "    if m == 9 :\n",
    "        break\n",
    "\n",
    "else:\n",
    "## usamos \"for\" conjugamos con \"else\"\n",
    "    cont = -1\n",
    "    print(\"no se encontro el numero 9 \")\n",
    "    \n",
    "if cont >= 0:\n",
    "    print(cont)"
   ]
  },
  {
   "cell_type": "markdown",
   "id": "b594be00",
   "metadata": {},
   "source": [
    "### <center> Uso de continue:"
   ]
  },
  {
   "cell_type": "code",
   "execution_count": 46,
   "id": "7ea8024f",
   "metadata": {
    "scrolled": true
   },
   "outputs": [
    {
     "name": "stdout",
     "output_type": "stream",
     "text": [
      "22\n",
      "28\n",
      "34\n",
      "36\n",
      "100\n"
     ]
    }
   ],
   "source": [
    "numero=[15,17,19,22,28,29,34,36,45,57,95,100]\n",
    "\n",
    "for p in numero:\n",
    "    if p % 2 !=0:\n",
    "        continue\n",
    "    print(p)"
   ]
  },
  {
   "cell_type": "markdown",
   "id": "ed81cb9e",
   "metadata": {},
   "source": [
    "## <center > fin de la practica numero 4 "
   ]
  },
  {
   "cell_type": "markdown",
   "id": "9421bbc9",
   "metadata": {},
   "source": [
    "<img src= \"data:image/jpeg;base64,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\" width=\"300\" height=\"250\">"
   ]
  },
  {
   "cell_type": "markdown",
   "id": "51e4e09f",
   "metadata": {},
   "source": [
    "# <center> EJEMPLO"
   ]
  },
  {
   "cell_type": "markdown",
   "id": "1bf70c7b",
   "metadata": {},
   "source": [
    "### ESTRUCTURA INTERACTIVA \" For\" "
   ]
  },
  {
   "cell_type": "markdown",
   "id": "1c060011",
   "metadata": {},
   "source": [
    "# 1) HACER UN PROGRAMA MOSTRANDO POR LA PANTALLA LOS NUMEROS PARES DEL 0 AL 10:"
   ]
  },
  {
   "cell_type": "code",
   "execution_count": 37,
   "id": "e1587f57",
   "metadata": {
    "scrolled": false
   },
   "outputs": [
    {
     "name": "stdout",
     "output_type": "stream",
     "text": [
      "0\n",
      "2\n",
      "4\n",
      "6\n",
      "8\n",
      "10\n"
     ]
    }
   ],
   "source": [
    "for num in range(0,11,2):\n",
    "    print(num)"
   ]
  },
  {
   "cell_type": "markdown",
   "id": "d24208eb",
   "metadata": {},
   "source": [
    "# 2) Hacer unprograma que permita nombres a  una lista, utilizando funciones "
   ]
  },
  {
   "cell_type": "code",
   "execution_count": 51,
   "id": "95318d66",
   "metadata": {},
   "outputs": [
    {
     "name": "stdout",
     "output_type": "stream",
     "text": [
      "de cuantos elementos crearemos la lista de nombres:5\n",
      "ingresar nombre de la posicion 0:cristhian\n",
      "ingresar nombre de la posicion 1:cesar\n",
      "ingresar nombre de la posicion 2:jhordan\n",
      "ingresar nombre de la posicion 3:rudy\n",
      "ingresar nombre de la posicion 4:manuel\n",
      "\n",
      " la lista completa de nombres es: \n",
      " ['cristhian', 'cesar', 'jhordan', 'rudy', 'manuel']\n"
     ]
    }
   ],
   "source": [
    "# inicializamos la lista vacia \n",
    "nombres =[]\n",
    "\n",
    "#funcion ingreso nombre\n",
    "\n",
    "\n",
    "def ingreso(ele):\n",
    "    for i in range(0,ele):\n",
    "        m=input(\"ingresar nombre de la posicion {0}:\".format(i))\n",
    "        nombres.append(m)\n",
    "T=int(input(\"de cuantos elementos crearemos la lista de nombres:\"))\n",
    "\n",
    "ingreso(T)\n",
    "\n",
    "print(\"\\n la lista completa de nombres es: \\n\",nombres)\n",
    "        "
   ]
  },
  {
   "cell_type": "markdown",
   "id": "dc3b84c1",
   "metadata": {},
   "source": [
    "# METODO 2 HACER UN PROGRAMA QUE DE UNA LISTA DE NUMEROS QUE IMPRIMA LA PISICION DEL NUMERO 9, UTILIZANDO FUNCION ENUMERATE"
   ]
  },
  {
   "cell_type": "code",
   "execution_count": 55,
   "id": "3f70115c",
   "metadata": {},
   "outputs": [
    {
     "name": "stdout",
     "output_type": "stream",
     "text": [
      "no se encontro el numero 9 eso quiere decir que no hay en tu lista no hay 9  pues, tu puedes no te desanimes xd\n"
     ]
    }
   ],
   "source": [
    "#LISTA DE NUEMRO\n",
    "lista = [2,12,13,15,16,22,25,28]\n",
    "\n",
    "#UTILIZO LA FUNCION \"ENUMERATE\" QUE DEVUELVE UNA TUPLA (ES IGUAL A LISTA PERO ES INMUTABLE)\n",
    "\n",
    "# TUPLA DE 2 ELEMENTOS DE UNA LISTA (POSICION, CONTENIDO)\n",
    "for i,m in enumerate(lista):\n",
    "    if m == 9:\n",
    "        break\n",
    "        \n",
    "else:\n",
    "\n",
    "#USAMOS \"FOR\" CONJUNTAMENTE CON \"ELSE\"\n",
    "    #PODEMOS NEGATIVA LA PÒSICION\n",
    "    i= -1\n",
    "    print(\"no se encontro el numero 9 eso quiere decir que no hay en tu lista no hay 9  pues, tu puedes no te desanimes xd\")\n",
    "    \n",
    "if i >= 0:\n",
    "    print(i)"
   ]
  },
  {
   "cell_type": "markdown",
   "id": "1a011f62",
   "metadata": {},
   "source": [
    "# Hacer un programa que le a la lista de libro de Mario Vargas Llosa e indique el orden de los libros"
   ]
  },
  {
   "cell_type": "code",
   "execution_count": 61,
   "id": "a741fc35",
   "metadata": {},
   "outputs": [
    {
     "name": "stdout",
     "output_type": "stream",
     "text": [
      "\n",
      " El primer libro de Mario Llosa es:La ciudad de los perros\n",
      "\n",
      " El segundo libro de Mario Llosa es:La casa verde\n",
      "\n",
      " El tercer libro de Mario Llosa es:Pantaleon y las visitadoras\n"
     ]
    }
   ],
   "source": [
    "#lista de libros de Mario Vargas Llosa NUESTRO PREMIO NOBEL  DE LA LITERATURA :,)\n",
    "libros_de_mvll=[\"La ciudad de los perros\",\"La casa verde\",\"Pantaleon y las visitadoras\"]\n",
    "#lista Orden de los libros\n",
    "orden=[\"primer\",\"segundo\",\"tercer\"]\n",
    "\n",
    "for i, libros in enumerate(libros_de_mvll):\n",
    "    print(\"\\n El \" + orden[i] +\" libro de Mario Llosa es:\"+ libros)"
   ]
  },
  {
   "cell_type": "markdown",
   "id": "95ed844e",
   "metadata": {},
   "source": [
    "# Hacer un programa que realice invitaciones de una lista de nombres ."
   ]
  },
  {
   "cell_type": "code",
   "execution_count": 66,
   "id": "5ccac6dd",
   "metadata": {},
   "outputs": [
    {
     "name": "stdout",
     "output_type": "stream",
     "text": [
      "Hola CESAR ¡estas invitado a una super fiesta el 30 de diciembre !\n",
      "traes comida :3 menos el PROFESOR c:\n",
      "Hola JHORDAN ¡estas invitado a una super fiesta el 30 de diciembre !\n",
      "traes comida :3 menos el PROFESOR c:\n",
      "Hola CRISTHIAN ¡estas invitado a una super fiesta el 30 de diciembre !\n",
      "traes comida :3 menos el PROFESOR c:\n",
      "Hola RUDY ¡estas invitado a una super fiesta el 30 de diciembre !\n",
      "traes comida :3 menos el PROFESOR c:\n",
      "Hola MANUEL ¡estas invitado a una super fiesta el 30 de diciembre !\n",
      "traes comida :3 menos el PROFESOR c:\n",
      "Hola PROFESOR ¡estas invitado a una super fiesta el 30 de diciembre !\n",
      "traes comida :3 menos el PROFESOR c:\n"
     ]
    }
   ],
   "source": [
    "for f in [\"CESAR\",\"JHORDAN\",\"CRISTHIAN\",\"RUDY\",\"MANUEL\",\"PROFESOR\"]:\n",
    "    invitacion= \"Hola \"+ f + \" ¡estas invitado a una super fiesta el 30 de diciembre !\"\n",
    "    print(invitacion)\n",
    "    print(\"traes comida :3 menos el PROFESOR c:\")"
   ]
  },
  {
   "cell_type": "markdown",
   "id": "f95cf16f",
   "metadata": {},
   "source": [
    "# Hacer un programa que sume los elementos de una lista , USAR funciones y listas "
   ]
  },
  {
   "cell_type": "code",
   "execution_count": 71,
   "id": "bc45c177",
   "metadata": {},
   "outputs": [
    {
     "name": "stdout",
     "output_type": "stream",
     "text": [
      "10\n",
      "5.5\n",
      "2\n",
      "10\n",
      "55\n",
      "0\n"
     ]
    }
   ],
   "source": [
    "#SOLICITA USAR FOR Y FUNCIONES, NO SE PDE USAR FUNCION \"SUM\"\n",
    "def mysum(xs):\n",
    "    runnig_total=0\n",
    "    for x in xs:\n",
    "        runnig_total=runnig_total+x\n",
    "    return runnig_total\n",
    "\n",
    "# ADD TESTS  LIKE THESE TO YOUR TEST SUITE\n",
    "\n",
    "print(mysum([1 ,2 ,3 , 4]))                    # ==>> 10\n",
    "print(mysum([1.25 ,2.5 ,1.75]))               #==>> 5.5\n",
    "print(mysum([1, -2,  3]))                       # ==>> 2\n",
    "print(mysum([1, 2, 3,4  ]))                      # ==>>  10 \n",
    "print(mysum(range(11)))                      # ==>>   55\n",
    "print(mysum([]))                             # ==>> 0"
   ]
  },
  {
   "cell_type": "markdown",
   "id": "4b5c1231",
   "metadata": {},
   "source": [
    "# Hacer un programa que sume los elementos de una lista usando una funcion sum"
   ]
  },
  {
   "cell_type": "code",
   "execution_count": 67,
   "id": "3c39fa1a",
   "metadata": {},
   "outputs": [
    {
     "data": {
      "text/plain": [
       "10"
      ]
     },
     "execution_count": 67,
     "metadata": {},
     "output_type": "execute_result"
    }
   ],
   "source": [
    "\n",
    "m=[1 ,2 ,3 ,4]\n",
    "sum(m)\n"
   ]
  },
  {
   "cell_type": "markdown",
   "id": "92dcfc68",
   "metadata": {},
   "source": [
    "# Hacer un programa que imprima los multiplos hasta el 10 de cualquier numero "
   ]
  },
  {
   "cell_type": "code",
   "execution_count": 68,
   "id": "b879aeb2",
   "metadata": {},
   "outputs": [
    {
     "name": "stdout",
     "output_type": "stream",
     "text": [
      "Ingrese un numero: 3\n",
      "\n",
      " Los multiplos de  3  son: \n",
      "3  6  9  12  15  18  21  24  27  30  \n"
     ]
    }
   ],
   "source": [
    "#CREAMOS LA FUNCION MULTIPLOS\n",
    "def multiplos (n):\n",
    "    for i in range(1, 11):\n",
    "        print(n * i, end=\"  \")\n",
    "    print()\n",
    "#LLAMAMOS A LA FUNCION CON EL NUMERO DE MULTIPLO DESEADO \n",
    "\n",
    "\n",
    "m=int(input(\"Ingrese un numero: \"))\n",
    "print (\"\\n Los multiplos de \", m ,\" son: \")\n",
    "multiplos(m)"
   ]
  },
  {
   "cell_type": "markdown",
   "id": "e3113399",
   "metadata": {},
   "source": [
    "# <CENTER>Ejemplo de FOR animado : creacion de tablas"
   ]
  },
  {
   "cell_type": "code",
   "execution_count": 70,
   "id": "7ec940b6",
   "metadata": {},
   "outputs": [
    {
     "name": "stdout",
     "output_type": "stream",
     "text": [
      "0 0 0\n",
      "0 0 1\n",
      "0 1 0\n",
      "0 1 1\n",
      "0 2 0\n",
      "0 2 1\n",
      "0 3 0\n",
      "0 3 1\n",
      "1 0 0\n",
      "1 0 1\n",
      "1 1 0\n",
      "1 1 1\n",
      "1 2 0\n",
      "1 2 1\n",
      "1 3 0\n",
      "1 3 1\n",
      "2 0 0\n",
      "2 0 1\n",
      "2 1 0\n",
      "2 1 1\n",
      "2 2 0\n",
      "2 2 1\n",
      "2 3 0\n",
      "2 3 1\n",
      "3 0 0\n",
      "3 0 1\n",
      "3 1 0\n",
      "3 1 1\n",
      "3 2 0\n",
      "3 2 1\n",
      "3 3 0\n",
      "3 3 1\n"
     ]
    }
   ],
   "source": [
    "for A in range(0,4):\n",
    "    for C in range(0,4):\n",
    "        for M in range(0,2):\n",
    "            print(A,C,M)\n",
    "            "
   ]
  },
  {
   "cell_type": "markdown",
   "id": "27408aec",
   "metadata": {},
   "source": [
    "# Hacer un programa que permita hallar la raiz enesima de un numero que se ingresara por teclado"
   ]
  },
  {
   "cell_type": "code",
   "execution_count": 72,
   "id": "79acee76",
   "metadata": {},
   "outputs": [
    {
     "name": "stdout",
     "output_type": "stream",
     "text": [
      "Ingrese un numero: 6\n",
      "la raiz 2 - enesima de 6.0 es 2.449489742783178 \n",
      "la raiz 3 - enesima de 6.0 es 1.8171205928321397 \n",
      "la raiz 4 - enesima de 6.0 es 1.5650845800732873 \n",
      "la raiz 5 - enesima de 6.0 es 1.4309690811052556 \n",
      "la raiz 6 - enesima de 6.0 es 1.3480061545972777 \n",
      "la raiz 7 - enesima de 6.0 es 1.2917083420907467 \n",
      "la raiz 8 - enesima de 6.0 es 1.2510334048590739 \n",
      "la raiz 9 - enesima de 6.0 es 1.2202849358728105 \n",
      "la raiz 10 - enesima de 6.0 es 1.1962311988513155 \n",
      "la raiz 11 - enesima de 6.0 es 1.1769039562428527 \n",
      "la raiz 12 - enesima de 6.0 es 1.1610366723739942 \n",
      "la raiz 13 - enesima de 6.0 es 1.1477777154347986 \n",
      "la raiz 14 - enesima de 6.0 es 1.1365334760097243 \n",
      "la raiz 15 - enesima de 6.0 es 1.1268776101908264 \n",
      "la raiz 16 - enesima de 6.0 es 1.1184960459738218 \n",
      "la raiz 17 - enesima de 6.0 es 1.1111523342970424 \n",
      "la raiz 18 - enesima de 6.0 es 1.1046650785974952 \n",
      "la raiz 19 - enesima de 6.0 es 1.0988928027655247 \n",
      "la raiz 20 - enesima de 6.0 es 1.0937235477264424 \n",
      "la raiz 21 - enesima de 6.0 es 1.0890675587944523 \n",
      "la raiz 22 - enesima de 6.0 es 1.0848520434800557 \n",
      "la raiz 23 - enesima de 6.0 es 1.0810173469046067 \n",
      "la raiz 24 - enesima de 6.0 es 1.0775141170184241 \n",
      "la raiz 25 - enesima de 6.0 es 1.0743011732208552 \n",
      "la raiz 26 - enesima de 6.0 es 1.0713438829035236 \n",
      "la raiz 27 - enesima de 6.0 es 1.0686129101356392 \n",
      "la raiz 28 - enesima de 6.0 es 1.0660832406569969 \n",
      "la raiz 29 - enesima de 6.0 es 1.063733414541692 \n",
      "la raiz 30 - enesima de 6.0 es 1.0615449167090512 \n",
      "la raiz 31 - enesima de 6.0 es 1.0595016886637296 \n",
      "la raiz 32 - enesima de 6.0 es 1.0575897342418854 \n",
      "la raiz 33 - enesima de 6.0 es 1.0557967989083417 \n",
      "la raiz 34 - enesima de 6.0 es 1.0541121070820896 \n",
      "la raiz 35 - enesima de 6.0 es 1.0525261456012585 \n",
      "la raiz 36 - enesima de 6.0 es 1.0510304841428222 \n",
      "la raiz 37 - enesima de 6.0 es 1.0496176254437533 \n",
      "la raiz 38 - enesima de 6.0 es 1.0482808797099776 \n",
      "la raiz 39 - enesima de 6.0 es 1.0470142587761369 \n",
      "la raiz 40 - enesima de 6.0 es 1.045812386485474 \n",
      "la raiz 41 - enesima de 6.0 es 1.0446704224624213 \n",
      "la raiz 42 - enesima de 6.0 es 1.0435839969999792 \n",
      "la raiz 43 - enesima de 6.0 es 1.042549155216214 \n",
      "la raiz 44 - enesima de 6.0 es 1.0415623089763069 \n",
      "la raiz 45 - enesima de 6.0 es 1.0406201953489853 \n",
      "la raiz 46 - enesima de 6.0 es 1.039719840584283 \n",
      "la raiz 47 - enesima de 6.0 es 1.038858528775155 \n",
      "la raiz 48 - enesima de 6.0 es 1.0380337745075658 \n",
      "la raiz 49 - enesima de 6.0 es 1.0372432989191824 \n",
      "la raiz 50 - enesima de 6.0 es 1.0364850086811943 \n",
      "la raiz 51 - enesima de 6.0 es 1.0357569774952138 \n",
      "la raiz 52 - enesima de 6.0 es 1.0350574297610367 \n",
      "la raiz 53 - enesima de 6.0 es 1.0343847261238408 \n",
      "la raiz 54 - enesima de 6.0 es 1.0337373506532688 \n",
      "la raiz 55 - enesima de 6.0 es 1.0331138994434157 \n",
      "la raiz 56 - enesima de 6.0 es 1.0325130704533463 \n",
      "la raiz 57 - enesima de 6.0 es 1.0319336544334674 \n",
      "la raiz 58 - enesima de 6.0 es 1.0313745268047354 \n",
      "la raiz 59 - enesima de 6.0 es 1.0308346403759792 \n",
      "la raiz 60 - enesima de 6.0 es 1.0303130188001368 \n",
      "la raiz 61 - enesima de 6.0 es 1.0298087506834 \n",
      "la raiz 62 - enesima de 6.0 es 1.0293209842725104 \n",
      "la raiz 63 - enesima de 6.0 es 1.0288489226550819 \n",
      "la raiz 64 - enesima de 6.0 es 1.0283918194160655 \n",
      "la raiz 65 - enesima de 6.0 es 1.0279489747005777 \n",
      "la raiz 66 - enesima de 6.0 es 1.027519731639418 \n",
      "la raiz 67 - enesima de 6.0 es 1.0271034730988913 \n",
      "la raiz 68 - enesima de 6.0 es 1.0266996187211181 \n",
      "la raiz 69 - enesima de 6.0 es 1.0263076222249912 \n",
      "la raiz 70 - enesima de 6.0 es 1.0259269689413855 \n",
      "la raiz 71 - enesima de 6.0 es 1.0255571735592441 \n",
      "la raiz 72 - enesima de 6.0 es 1.0251977780617856 \n",
      "la raiz 73 - enesima de 6.0 es 1.0248483498343846 \n",
      "la raiz 74 - enesima de 6.0 es 1.0245084799276936 \n",
      "la raiz 75 - enesima de 6.0 es 1.0241777814613477 \n",
      "la raiz 76 - enesima de 6.0 es 1.0238558881551532 \n",
      "la raiz 77 - enesima de 6.0 es 1.0235424529760397 \n",
      "la raiz 78 - enesima de 6.0 es 1.0232371468902683 \n",
      "la raiz 79 - enesima de 6.0 es 1.0229396577114687 \n",
      "la raiz 80 - enesima de 6.0 es 1.0226496890360228 \n",
      "la raiz 81 - enesima de 6.0 es 1.0223669592581706 \n",
      "la raiz 82 - enesima de 6.0 es 1.0220912006579554 \n",
      "la raiz 83 - enesima de 6.0 es 1.021822158555803 \n",
      "la raiz 84 - enesima de 6.0 es 1.0215595905281194 \n",
      "la raiz 85 - enesima de 6.0 es 1.0213032656788383 \n",
      "la raiz 86 - enesima de 6.0 es 1.0210529639623078 \n",
      "la raiz 87 - enesima de 6.0 es 1.0208084755533517 \n",
      "la raiz 88 - enesima de 6.0 es 1.0205696002607108 \n",
      "la raiz 89 - enesima de 6.0 es 1.0203361469804202 \n",
      "la raiz 90 - enesima de 6.0 es 1.0201079331859866 \n",
      "la raiz 91 - enesima de 6.0 es 1.0198847844525065 \n",
      "la raiz 92 - enesima de 6.0 es 1.0196665340121167 \n",
      "la raiz 93 - enesima de 6.0 es 1.0194530223384006 \n",
      "la raiz 94 - enesima de 6.0 es 1.0192440967575702 \n",
      "la raiz 95 - enesima de 6.0 es 1.019039611084432 \n",
      "la raiz 96 - enesima de 6.0 es 1.0188394252813178 \n",
      "la raiz 97 - enesima de 6.0 es 1.0186434051383018 \n",
      "la raiz 98 - enesima de 6.0 es 1.018451421973175 \n",
      "la raiz 99 - enesima de 6.0 es 1.0182633523497657 \n",
      "la raiz 100 - enesima de 6.0 es 1.0180790778133073 \n"
     ]
    }
   ],
   "source": [
    "numero = float(input(\"Ingrese un numero: \"))\n",
    "\n",
    "for n in range (2,101):\n",
    "    print(\"la raiz {0} - enesima de {1} es {2} \".format(n,numero,numero**(1/n)))"
   ]
  },
  {
   "cell_type": "code",
   "execution_count": 75,
   "id": "35601086",
   "metadata": {},
   "outputs": [
    {
     "name": "stdout",
     "output_type": "stream",
     "text": [
      "Ingrese su nombre: Cristhian\n",
      "Nombre valido\n",
      "Nombre valido\n",
      "Nombre valido\n",
      "Nombre valido\n",
      "Nombre valido\n",
      "Nombre valido\n",
      "Nombre valido\n",
      "Nombre valido\n",
      "Nombre valido\n",
      "Ingrese su apellido: Larico\n",
      "Nombre valido\n",
      "Nombre valido\n",
      "Nombre valido\n",
      "Nombre valido\n",
      "Nombre valido\n",
      "Nombre valido\n"
     ]
    }
   ],
   "source": [
    "# Creo la lista de validacion\n",
    "\n",
    "num=[\"1\",\"2\",\"3\",\"4\",\"5\",\"6\",\"7\",\"8\",\"9\",\"0\"]\n",
    "sim=[\"?\",\"!\",\"$\",\"%\",\"&\",\"/\",\"°\",\"~\"]\n",
    "\n",
    "def validar(nomap):\n",
    "    for x in nomap:\n",
    "        if x in num:\n",
    "            print(\"Nombre no valido!!!\")\n",
    "        elif x in sim:\n",
    "            print(\"Nombre no valido!!!\")\n",
    "        else:\n",
    "            print(\"Nombre valido\")\n",
    "\n",
    "#ingresar nombre\n",
    "            \n",
    "            \n",
    "nom=input(\"Ingrese su nombre: \")\n",
    " #llaman a la funcion\n",
    "validar(nom)\n",
    "\n",
    "#ingresar nombre\n",
    "apell=input(\"Ingrese su apellido: \")\n",
    "\n",
    "\n",
    "#llamar a la funcion\n",
    "\n",
    "validar(apell)"
   ]
  },
  {
   "cell_type": "markdown",
   "id": "f928da82",
   "metadata": {},
   "source": [
    "# <center> FINALIZANDO LA PRACTICA NUMERO 4 "
   ]
  },
  {
   "cell_type": "markdown",
   "id": "49c57b1f",
   "metadata": {},
   "source": [
    "<img src= \"data:image/jpeg;base64,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\" width=\"300\" height=\"250\">"
   ]
  },
  {
   "cell_type": "markdown",
   "id": "bd4acdf1",
   "metadata": {},
   "source": [
    "# PORFA NO COPIEN MI REPOSITORIO, EL PROFE ME VA A JALAR Y NOS BOTARA DEL CURSO  YO YA TENGO MIEDO."
   ]
  },
  {
   "cell_type": "markdown",
   "id": "0d97458a",
   "metadata": {},
   "source": [
    "# 01010000 01010010 01001111 01000110 01000101 01010011 01001111 01010010 00100000 01001100 01001111 00100000 01010001 01010101 01001001 01000101 01010010 01001111 00100000 01001101 01010101 01000011 01001000 01001111 00100000 01001110 01001111 00100000 01001101 01000101 00100000 01001010 01000001 01001100 01000101 00100000 00100000 01000100 01000101 01001100 00100000 01000011 01010101 01010010 01010011 01001111 00100000 00111010 00101100 00101001"
   ]
  },
  {
   "cell_type": "code",
   "execution_count": 51,
   "id": "f52f92ef",
   "metadata": {},
   "outputs": [
    {
     "name": "stdout",
     "output_type": "stream",
     "text": [
      "ingresa tu numero : 8\n",
      "Tabla del numero 8.0 \n",
      "\n",
      "la multiplicacion de: 8.0 x 1 = es igual a 8.0\n",
      "la multiplicacion de: 8.0 x 2 = es igual a 16.0\n",
      "la multiplicacion de: 8.0 x 3 = es igual a 24.0\n",
      "la multiplicacion de: 8.0 x 4 = es igual a 32.0\n",
      "la multiplicacion de: 8.0 x 5 = es igual a 40.0\n",
      "la multiplicacion de: 8.0 x 6 = es igual a 48.0\n",
      "la multiplicacion de: 8.0 x 7 = es igual a 56.0\n",
      "la multiplicacion de: 8.0 x 8 = es igual a 64.0\n",
      "la multiplicacion de: 8.0 x 9 = es igual a 72.0\n",
      "la multiplicacion de: 8.0 x 10 = es igual a 80.0\n",
      "Amo las matematicas\n"
     ]
    }
   ],
   "source": []
  },
  {
   "cell_type": "code",
   "execution_count": null,
   "id": "e8e96f5d",
   "metadata": {},
   "outputs": [],
   "source": []
  },
  {
   "cell_type": "code",
   "execution_count": 9,
   "id": "3a3f5ff1",
   "metadata": {},
   "outputs": [
    {
     "name": "stdout",
     "output_type": "stream",
     "text": [
      "Ingrese su comentario porfavor :bueno\n",
      "como te llamas ¿?: crishtian\n",
      "crishtian\n",
      "cuantos años tienes: 12\n",
      "12\n",
      "el comentario que se introdujo es positivo ['bueno']\n"
     ]
    }
   ],
   "source": []
  },
  {
   "cell_type": "code",
   "execution_count": null,
   "id": "c3434e7f",
   "metadata": {},
   "outputs": [],
   "source": [
    "print(\"capicua\")\n",
    "def capicua(m,n):\n",
    "    for 1 in rango(m,n):\n",
    "        j =str(i)\n",
    "        x=i(::+1)\n",
    "        if i==x:\n",
    "            print(1,\"es un numero capicua\")\n",
    "\n",
    "ini = int(input(\"ingrese numero de 3 cifras, ese sera el numero inicial del rango:\"))\n",
    "end = int(input(\"ingrese numero de 3 cifras, ese sera el numero final del rango:\"))"
   ]
  }
 ],
 "metadata": {
  "kernelspec": {
   "display_name": "Python 3 (ipykernel)",
   "language": "python",
   "name": "python3"
  },
  "language_info": {
   "codemirror_mode": {
    "name": "ipython",
    "version": 3
   },
   "file_extension": ".py",
   "mimetype": "text/x-python",
   "name": "python",
   "nbconvert_exporter": "python",
   "pygments_lexer": "ipython3",
   "version": "3.8.11"
  }
 },
 "nbformat": 4,
 "nbformat_minor": 5
}
