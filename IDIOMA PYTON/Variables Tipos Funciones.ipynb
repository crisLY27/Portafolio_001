{
 "cells": [
  {
   "cell_type": "markdown",
   "id": "0c018ce2",
   "metadata": {},
   "source": [
    "# <CENTER> UNIVERSIDAD NACIONAL DE SAN AGUSTIN"
   ]
  },
  {
   "cell_type": "markdown",
   "id": "7ef1948f",
   "metadata": {},
   "source": [
    "<img src= \"https://universidadesgratuitas.com/wp-content/uploads/2020/06/logo-unsa-facultad-de-ingenieria-unsa-unsa-salud-universidad-unsa-unsa-matriculas-unsa-carreras-a-distancia-aula-virtual-unsa.png\" width=\"300\" height=\"250\">"
   ]
  },
  {
   "cell_type": "markdown",
   "id": "4b51cc13",
   "metadata": {},
   "source": [
    "# <CENTER> ESCUELA PROFECIONAL DE INGENIERÌA EN TELECOMUNICACIONES"
   ]
  },
  {
   "cell_type": "markdown",
   "id": "9b24dcec",
   "metadata": {},
   "source": [
    "# <CENTER> ALUMNO: LARICO YUCRA, CRISTHIAN DENIS"
   ]
  },
  {
   "cell_type": "markdown",
   "id": "8e787e64",
   "metadata": {},
   "source": [
    "### <CENTER>PRACTICA 2"
   ]
  },
  {
   "cell_type": "markdown",
   "id": "c7fb7f69",
   "metadata": {},
   "source": [
    "<CENTER> \"VARIABLES Y TIPOS DE DATOS\""
   ]
  },
  {
   "cell_type": "code",
   "execution_count": 7,
   "id": "9e85324b",
   "metadata": {},
   "outputs": [],
   "source": [
    "x= 5             #Numero Entero\n",
    "y= 5.5           #Numero Flotante\n",
    "j=\"q\"            #Caracter string\n",
    "k=\"Buenos Dias\"  #Cadena de Caracteres string\n",
    "m=True           #Logico"
   ]
  },
  {
   "cell_type": "code",
   "execution_count": 4,
   "id": "68648e66",
   "metadata": {},
   "outputs": [
    {
     "data": {
      "text/plain": [
       "int"
      ]
     },
     "execution_count": 4,
     "metadata": {},
     "output_type": "execute_result"
    }
   ],
   "source": [
    "type(x)#numero entero"
   ]
  },
  {
   "cell_type": "code",
   "execution_count": 8,
   "id": "125dcdd0",
   "metadata": {},
   "outputs": [
    {
     "data": {
      "text/plain": [
       "float"
      ]
     },
     "execution_count": 8,
     "metadata": {},
     "output_type": "execute_result"
    }
   ],
   "source": [
    "type(y)            #numero flotante "
   ]
  },
  {
   "cell_type": "code",
   "execution_count": 9,
   "id": "368b5185",
   "metadata": {},
   "outputs": [
    {
     "data": {
      "text/plain": [
       "str"
      ]
     },
     "execution_count": 9,
     "metadata": {},
     "output_type": "execute_result"
    }
   ],
   "source": [
    "type(j)                #caracter string"
   ]
  },
  {
   "cell_type": "code",
   "execution_count": 10,
   "id": "a11d0964",
   "metadata": {},
   "outputs": [
    {
     "data": {
      "text/plain": [
       "bool"
      ]
     },
     "execution_count": 10,
     "metadata": {},
     "output_type": "execute_result"
    }
   ],
   "source": [
    "type(m)            #logico"
   ]
  },
  {
   "cell_type": "code",
   "execution_count": 11,
   "id": "65089ee9",
   "metadata": {},
   "outputs": [
    {
     "name": "stdout",
     "output_type": "stream",
     "text": [
      "<class 'int'>\n"
     ]
    }
   ],
   "source": [
    "print(type(x))"
   ]
  },
  {
   "cell_type": "markdown",
   "id": "30941212",
   "metadata": {},
   "source": [
    "# <center> OPERADORES ARITMETICOS"
   ]
  },
  {
   "cell_type": "code",
   "execution_count": 12,
   "id": "81653eda",
   "metadata": {},
   "outputs": [
    {
     "data": {
      "text/plain": [
       "2.5"
      ]
     },
     "execution_count": 12,
     "metadata": {},
     "output_type": "execute_result"
    }
   ],
   "source": [
    "15 / 6"
   ]
  },
  {
   "cell_type": "code",
   "execution_count": 13,
   "id": "9e59aeed",
   "metadata": {},
   "outputs": [
    {
     "data": {
      "text/plain": [
       "2"
      ]
     },
     "execution_count": 13,
     "metadata": {},
     "output_type": "execute_result"
    }
   ],
   "source": [
    "15 // 6"
   ]
  },
  {
   "cell_type": "code",
   "execution_count": 14,
   "id": "36ed4b8d",
   "metadata": {},
   "outputs": [
    {
     "data": {
      "text/plain": [
       "3"
      ]
     },
     "execution_count": 14,
     "metadata": {},
     "output_type": "execute_result"
    }
   ],
   "source": [
    "15%6"
   ]
  },
  {
   "cell_type": "code",
   "execution_count": 16,
   "id": "960a8bc8",
   "metadata": {
    "scrolled": true
   },
   "outputs": [
    {
     "name": "stdout",
     "output_type": "stream",
     "text": [
      "4.5\n",
      "4\n",
      "3\n"
     ]
    }
   ],
   "source": [
    "a=27\n",
    "b=6\n",
    "\n",
    "print (a/b)\n",
    "print(a//b)\n",
    "print(a%b)\n"
   ]
  },
  {
   "cell_type": "markdown",
   "id": "9b5f8da0",
   "metadata": {},
   "source": [
    "## <CENTER> ORDEN DE OPERADORES"
   ]
  },
  {
   "cell_type": "code",
   "execution_count": 17,
   "id": "31e164e0",
   "metadata": {},
   "outputs": [
    {
     "data": {
      "text/plain": [
       "29.0"
      ]
     },
     "execution_count": 17,
     "metadata": {},
     "output_type": "execute_result"
    }
   ],
   "source": [
    "-3 + 4 ** 2 * 10/5 "
   ]
  },
  {
   "cell_type": "code",
   "execution_count": 18,
   "id": "a335bc1f",
   "metadata": {},
   "outputs": [
    {
     "data": {
      "text/plain": [
       "2.0"
      ]
     },
     "execution_count": 18,
     "metadata": {},
     "output_type": "execute_result"
    }
   ],
   "source": [
    "(-3 + 4) ** 2 * 10/5 "
   ]
  },
  {
   "cell_type": "code",
   "execution_count": 19,
   "id": "a9d28fb8",
   "metadata": {
    "scrolled": false
   },
   "outputs": [
    {
     "name": "stdout",
     "output_type": "stream",
     "text": [
      "28.0\n",
      "<class 'float'>\n"
     ]
    }
   ],
   "source": [
    "a = 6\n",
    "b=9.5\n",
    "resultado = (a*b)//2\n",
    "print(resultado)\n",
    "print(type(resultado))"
   ]
  },
  {
   "cell_type": "markdown",
   "id": "1c6edf0d",
   "metadata": {},
   "source": [
    "# <CENTER> OPERACIONALES RELACIONALES"
   ]
  },
  {
   "cell_type": "code",
   "execution_count": 20,
   "id": "c86e25bc",
   "metadata": {},
   "outputs": [
    {
     "data": {
      "text/plain": [
       "False"
      ]
     },
     "execution_count": 20,
     "metadata": {},
     "output_type": "execute_result"
    }
   ],
   "source": [
    "10 > 50"
   ]
  },
  {
   "cell_type": "code",
   "execution_count": 21,
   "id": "ef40746e",
   "metadata": {},
   "outputs": [
    {
     "data": {
      "text/plain": [
       "False"
      ]
     },
     "execution_count": 21,
     "metadata": {},
     "output_type": "execute_result"
    }
   ],
   "source": [
    "x = 100\n",
    "y = 14\n",
    "\n",
    "x==y"
   ]
  },
  {
   "cell_type": "code",
   "execution_count": 22,
   "id": "ba9b779c",
   "metadata": {},
   "outputs": [
    {
     "name": "stdout",
     "output_type": "stream",
     "text": [
      "False\n"
     ]
    }
   ],
   "source": [
    "print(x==y)"
   ]
  },
  {
   "cell_type": "markdown",
   "id": "5b9aadf2",
   "metadata": {},
   "source": [
    "# <CENTER> OPERADORES LOGICOS"
   ]
  },
  {
   "cell_type": "code",
   "execution_count": 23,
   "id": "823c37da",
   "metadata": {},
   "outputs": [
    {
     "data": {
      "text/plain": [
       "9.5"
      ]
     },
     "execution_count": 23,
     "metadata": {},
     "output_type": "execute_result"
    }
   ],
   "source": [
    "A =True\n",
    "B = False\n",
    "\n",
    "A and b"
   ]
  },
  {
   "cell_type": "code",
   "execution_count": 24,
   "id": "fd715434",
   "metadata": {},
   "outputs": [
    {
     "name": "stdout",
     "output_type": "stream",
     "text": [
      "False\n"
     ]
    }
   ],
   "source": [
    "print (A  and B)"
   ]
  },
  {
   "cell_type": "markdown",
   "id": "71951a7c",
   "metadata": {},
   "source": [
    "# <center> FUNCIONES SIMPLES"
   ]
  },
  {
   "cell_type": "code",
   "execution_count": 1,
   "id": "2ac638ec",
   "metadata": {},
   "outputs": [
    {
     "name": "stdout",
     "output_type": "stream",
     "text": [
      "Buenos Dias\n",
      "Buenos Dias\n",
      "Buenos Dias\n"
     ]
    }
   ],
   "source": [
    "# definimos una funcion simples\n",
    "# impresion repetida\n",
    "\n",
    "def imprime_3():\n",
    "    print(\"Buenos Dias\")\n",
    "    print(\"Buenos Dias\")\n",
    "    print(\"Buenos Dias\")\n",
    "    \n",
    "imprime_3()"
   ]
  },
  {
   "cell_type": "code",
   "execution_count": 5,
   "id": "a454c5b8",
   "metadata": {},
   "outputs": [
    {
     "name": "stdout",
     "output_type": "stream",
     "text": [
      " Buenos Dias \n",
      " Buenos Dias \n",
      " Buenos Dias \n",
      "\n"
     ]
    }
   ],
   "source": [
    "# definimos una funcion simples\n",
    "# impresion repetida\n",
    "\n",
    "def imprime_3():\n",
    "    print(\" Buenos Dias \\n\" *3 )\n",
    "    \n",
    "imprime_3()"
   ]
  },
  {
   "cell_type": "code",
   "execution_count": 10,
   "id": "b3a96eb7",
   "metadata": {},
   "outputs": [
    {
     "name": "stdout",
     "output_type": "stream",
     "text": [
      "Hola mundo \n",
      "Hola mundo \n",
      "Hola mundo \n",
      "Hola mundo \n",
      "Hola mundo \n",
      "Hola mundo \n",
      "Hola mundo \n",
      "Hola mundo \n",
      "Hola mundo \n",
      "Hola mundo \n",
      "\n"
     ]
    }
   ],
   "source": [
    "# definimos una funcion simples\n",
    "# impresion repetida\n",
    "\n",
    "def imprime_3 (a):\n",
    "    print(a*10)\n",
    "x = \"Hola mundo \\n\"\n",
    "imprime_3(x)"
   ]
  },
  {
   "cell_type": "code",
   "execution_count": 13,
   "id": "1ea5a96f",
   "metadata": {},
   "outputs": [
    {
     "name": "stdout",
     "output_type": "stream",
     "text": [
      "36\n"
     ]
    }
   ],
   "source": [
    "# definimos una funcion simple\n",
    "# area del cuadrado\n",
    "def area_cuadrado(lado):\n",
    "    area = lado **2\n",
    "    return(area)\n",
    "print (area_cuadrado(6))"
   ]
  },
  {
   "cell_type": "code",
   "execution_count": 15,
   "id": "ee08a2bc",
   "metadata": {},
   "outputs": [
    {
     "name": "stdout",
     "output_type": "stream",
     "text": [
      "3.141592653589793\n"
     ]
    }
   ],
   "source": [
    "# Utilizamos funcion matematicas conocidas\n",
    "\n",
    "import math\n",
    "\n",
    "pi = math.pi\n",
    "print(pi)"
   ]
  },
  {
   "cell_type": "markdown",
   "id": "6ed0aa76",
   "metadata": {},
   "source": [
    "# <CENTER> EJEMPLOS EN JUPYTER NOTEBOOK"
   ]
  },
  {
   "cell_type": "markdown",
   "id": "7f11c4d3",
   "metadata": {},
   "source": [
    "# variables"
   ]
  },
  {
   "cell_type": "code",
   "execution_count": 18,
   "id": "8569e158",
   "metadata": {},
   "outputs": [
    {
     "name": "stdout",
     "output_type": "stream",
     "text": [
      "\n",
      " bienvenidos a phyton\n",
      "\n",
      " BIENVENIDOS A PHYTON\n",
      "\n",
      " En Minusculas\n"
     ]
    }
   ],
   "source": [
    " #Cambiado el resultado de la impresion en pantalla \n",
    "x = \"Bienvenidos a Phyton\"\n",
    "y = 'en minusculas'\n",
    "\n",
    "\n",
    "lowcase = x.lower()         #cadena de caracteres en minusculas\n",
    "uppcase = x.upper()         #cadena de caracteres en mayusculas\n",
    "titcase = y.title()         #cadena de caracteres como titulo\n",
    "\n",
    "print('\\n',lowcase)\n",
    "print('\\n',uppcase)\n",
    "print('\\n',titcase)"
   ]
  },
  {
   "cell_type": "code",
   "execution_count": 19,
   "id": "6669db31",
   "metadata": {},
   "outputs": [
    {
     "name": "stdout",
     "output_type": "stream",
     "text": [
      "\t bienvenidos a phyton \t BIENVENIDOS A PHYTON \t En Minusculas\n"
     ]
    }
   ],
   "source": [
    " #Cambiado el resultado de la impresion en pantalla tabulando\n",
    "x = \"Bienvenidos a Phyton\"\n",
    "y = 'en minusculas'\n",
    "\n",
    "\n",
    "lowcase = x.lower()         #cadena de caracteres en minusculas\n",
    "uppcase = x.upper()         #cadena de caracteres en mayusculas\n",
    "titcase = y.title()         #cadena de caracteres como titulo\n",
    "\n",
    "print('\\t',lowcase,'\\t',uppcase,'\\t',titcase)   #\\t ingresa \"tabulado\""
   ]
  },
  {
   "cell_type": "code",
   "execution_count": 20,
   "id": "6d01a573",
   "metadata": {},
   "outputs": [
    {
     "name": "stdout",
     "output_type": "stream",
     "text": [
      "Hola,\n",
      " Me llamo:  milo \n",
      " y tengo:  25 años\n"
     ]
    }
   ],
   "source": [
    "#cambiando el resultado de la impresion en pantalla mezcla con variables\n",
    "\n",
    "nom =\"milo\"\n",
    "age =25\n",
    "print(\"Hola,\\n Me llamo: \", nom, \"\\n y tengo: \",age, \"años\")  #\\n ingresa \"enter\""
   ]
  },
  {
   "cell_type": "code",
   "execution_count": 21,
   "id": "c382a15a",
   "metadata": {},
   "outputs": [
    {
     "name": "stdout",
     "output_type": "stream",
     "text": [
      "el valor de \"x\" es : 32.5, y el valor de \"y\" es40000...\n",
      "el valor de \"x\" es:  32.5 , y el valor de \"y\" es  40000  ... \n"
     ]
    }
   ],
   "source": [
    "#imprimiendo en una  variable\n",
    "\n",
    "x= 10 *3.25\n",
    "y=200 * 200\n",
    "#repr(obj) : Retorna una cadena que contiene una representacion imprimible de \"obj\"\n",
    "z= 'el valor de \"x\" es : ' +   repr (x) + ', y el valor de \"y\" es' + repr (y) +'...'\n",
    "\n",
    "print(z)\n",
    "print ('el valor de \"x\" es: ',x,', y el valor de \"y\" es ',y,' ... ')"
   ]
  },
  {
   "cell_type": "markdown",
   "id": "ab263c57",
   "metadata": {},
   "source": [
    "# FORMATEAR CADENAS"
   ]
  },
  {
   "cell_type": "code",
   "execution_count": 25,
   "id": "41acce72",
   "metadata": {},
   "outputs": [
    {
     "name": "stdout",
     "output_type": "stream",
     "text": [
      "el valor de \"pi\" es proximadamente: 3.141593\n"
     ]
    }
   ],
   "source": [
    "#Formatear cadenas con f-strings\n",
    "#Importamos libreria \"math\" para utilizar funciones adicionales de matematicas\n",
    "\n",
    "import math\n",
    "\n",
    "print (f'el valor de \"pi\" es proximadamente: {math.pi:3f}')#\".3f\" permite una precision de 3 decimales"
   ]
  },
  {
   "cell_type": "code",
   "execution_count": 27,
   "id": "59a47ad2",
   "metadata": {},
   "outputs": [
    {
     "name": "stdout",
     "output_type": "stream",
     "text": [
      "hola,\n",
      " Me llamo: Milo \n",
      " y tengo: 25 años. \n"
     ]
    }
   ],
   "source": [
    "#reimprimiendo ejemploi anterior con variables \n",
    "nom = \"Milo\"\n",
    "age = 25\n",
    "\n",
    "print(f\"hola,\\n Me llamo: {nom} \\n y tengo: {age} años. \")"
   ]
  },
  {
   "cell_type": "code",
   "execution_count": 32,
   "id": "d59a3f28",
   "metadata": {},
   "outputs": [
    {
     "name": "stdout",
     "output_type": "stream",
     "text": [
      "Hola,\n",
      " Me llamo: Milo \n",
      " y tengo 25 años.\n"
     ]
    }
   ],
   "source": [
    "# Formatear cadenas con str.format()\n",
    "# un numero en las llaves se refiere a la posicion del objeto pasado en el metodo str.format().\n",
    "# remprimiendo ejemplo anterior con variables \n",
    "nom= \"Milo\"\n",
    "age = 25\n",
    "\n",
    "print(\"Hola,\\n Me llamo: {0} \\n y tengo {1} años.\".format(nom,age))"
   ]
  },
  {
   "cell_type": "markdown",
   "id": "22ad5a2a",
   "metadata": {},
   "source": [
    "# <center>Funcion Input(        )\n"
   ]
  },
  {
   "cell_type": "code",
   "execution_count": 39,
   "id": "28b7452c",
   "metadata": {},
   "outputs": [
    {
     "name": "stdout",
     "output_type": "stream",
     "text": [
      "Ingrese su Nombre\n",
      "LARICO YUCRA, CRISTHIAN DENIS\n",
      "un gusto conocerte , LARICO YUCRA, CRISTHIAN DENIS\n"
     ]
    }
   ],
   "source": [
    "# ingreso por teclado\n",
    "print (\"Ingrese su Nombre\")\n",
    "nom = input()\n",
    "\n",
    "print(f\"un gusto conocerte , {nom}\")"
   ]
  },
  {
   "cell_type": "code",
   "execution_count": 40,
   "id": "f630f4d1",
   "metadata": {},
   "outputs": [
    {
     "name": "stdout",
     "output_type": "stream",
     "text": [
      "ingrese su nombre: CRISTHIAN DENIS LARICO YUCRA\n",
      "Un gusto conocerte , CRISTHIAN DENIS LARICO YUCRA\n"
     ]
    }
   ],
   "source": [
    "# INGRESO POR TECLADO EN UNA SOLA LINEA\n",
    "\n",
    "nom = input(\"ingrese su nombre: \")\n",
    "\n",
    "print(f\"Un gusto conocerte , {nom}\")"
   ]
  },
  {
   "cell_type": "markdown",
   "id": "fa7dbe5e",
   "metadata": {},
   "source": [
    "# <CENTER>FUNCIONES "
   ]
  },
  {
   "cell_type": "code",
   "execution_count": 42,
   "id": "a66781bb",
   "metadata": {},
   "outputs": [
    {
     "name": "stdout",
     "output_type": "stream",
     "text": [
      "ingrese nombre del producto: mi corazon\n",
      "ingrese el precio del producto: 18\n"
     ]
    },
    {
     "ename": "TypeError",
     "evalue": "can't multiply sequence by non-int of type 'float'",
     "output_type": "error",
     "traceback": [
      "\u001b[0;31m---------------------------------------------------------------------------\u001b[0m",
      "\u001b[0;31mTypeError\u001b[0m                                 Traceback (most recent call last)",
      "\u001b[0;32m/tmp/ipykernel_3061/3416514461.py\u001b[0m in \u001b[0;36m<module>\u001b[0;34m\u001b[0m\n\u001b[1;32m     10\u001b[0m \u001b[0;34m\u001b[0m\u001b[0m\n\u001b[1;32m     11\u001b[0m \u001b[0;34m\u001b[0m\u001b[0m\n\u001b[0;32m---> 12\u001b[0;31m \u001b[0mprint\u001b[0m\u001b[0;34m(\u001b[0m\u001b[0;34m'el importe total de {0}, es : {1}'\u001b[0m\u001b[0;34m.\u001b[0m\u001b[0mformat\u001b[0m\u001b[0;34m(\u001b[0m\u001b[0mproducto\u001b[0m\u001b[0;34m,\u001b[0m\u001b[0mvalor\u001b[0m\u001b[0;34m(\u001b[0m\u001b[0mimporte\u001b[0m\u001b[0;34m)\u001b[0m\u001b[0;34m)\u001b[0m\u001b[0;34m)\u001b[0m\u001b[0;34m\u001b[0m\u001b[0;34m\u001b[0m\u001b[0m\n\u001b[0m",
      "\u001b[0;32m/tmp/ipykernel_3061/3416514461.py\u001b[0m in \u001b[0;36mvalor\u001b[0;34m(precio)\u001b[0m\n\u001b[1;32m      3\u001b[0m \u001b[0;34m\u001b[0m\u001b[0m\n\u001b[1;32m      4\u001b[0m \u001b[0;32mdef\u001b[0m \u001b[0mvalor\u001b[0m\u001b[0;34m(\u001b[0m\u001b[0mprecio\u001b[0m\u001b[0;34m)\u001b[0m\u001b[0;34m:\u001b[0m\u001b[0;34m\u001b[0m\u001b[0;34m\u001b[0m\u001b[0m\n\u001b[0;32m----> 5\u001b[0;31m     \u001b[0migv\u001b[0m \u001b[0;34m=\u001b[0m \u001b[0mprecio\u001b[0m \u001b[0;34m*\u001b[0m \u001b[0;36m0.18\u001b[0m\u001b[0;34m\u001b[0m\u001b[0;34m\u001b[0m\u001b[0m\n\u001b[0m\u001b[1;32m      6\u001b[0m     \u001b[0mimporte\u001b[0m\u001b[0;34m=\u001b[0m\u001b[0mprecio\u001b[0m \u001b[0;34m+\u001b[0m \u001b[0migv\u001b[0m\u001b[0;34m\u001b[0m\u001b[0;34m\u001b[0m\u001b[0m\n\u001b[1;32m      7\u001b[0m     \u001b[0;32mreturn\u001b[0m\u001b[0;34m(\u001b[0m\u001b[0mimporte\u001b[0m\u001b[0;34m)\u001b[0m\u001b[0;34m\u001b[0m\u001b[0;34m\u001b[0m\u001b[0m\n",
      "\u001b[0;31mTypeError\u001b[0m: can't multiply sequence by non-int of type 'float'"
     ]
    }
   ],
   "source": [
    "# HACER UN POGRAMA QUE UTILICE UNA FUNCION QUE CALCULE EL IMPORTE TOTAL DE UN PRIDUCTO (PRECIO +IGV),\n",
    "#SE INGRESA POR TECLADO PRECIO Y NOMBRE DEL PRODUCTO\n",
    "\n",
    "def valor(precio):\n",
    "    igv = precio * 0.18\n",
    "    importe=precio + igv\n",
    "    return(importe)\n",
    "producto = input('ingrese nombre del producto: ')\n",
    "importe = input(\"ingrese el precio del producto: \")\n",
    "\n",
    "\n",
    "print('el importe total de {0}, es : {1}'.format(producto,valor(importe)))"
   ]
  },
  {
   "cell_type": "code",
   "execution_count": 44,
   "id": "ee07cdff",
   "metadata": {},
   "outputs": [
    {
     "name": "stdout",
     "output_type": "stream",
     "text": [
      "Ingrese nombre del Producto: MI CORAZON \n",
      "Ingrese el Precio del Producto:5\n",
      "El importe total de MI CORAZON , es: 5.9\n"
     ]
    }
   ],
   "source": [
    "def valor(precio):\n",
    "    igv = precio * 0.18\n",
    "    importe=precio + igv\n",
    "    return(importe)\n",
    "\n",
    "\n",
    "producto = input('Ingrese nombre del Producto: ')\n",
    "imp = float(input(\"Ingrese el Precio del Producto:\"))   #corregimos canbiando el ingreso como tipo float\n",
    "\n",
    "print('El importe total de {0}, es: {1}'.format(producto,valor(imp)))"
   ]
  },
  {
   "cell_type": "markdown",
   "id": "cc109485",
   "metadata": {},
   "source": [
    "# <center> PRACTICA TERMINADA \n",
    "   "
   ]
  },
  {
   "cell_type": "code",
   "execution_count": null,
   "id": "08d654cb",
   "metadata": {},
   "outputs": [],
   "source": []
  }
 ],
 "metadata": {
  "kernelspec": {
   "display_name": "Python 3 (ipykernel)",
   "language": "python",
   "name": "python3"
  },
  "language_info": {
   "codemirror_mode": {
    "name": "ipython",
    "version": 3
   },
   "file_extension": ".py",
   "mimetype": "text/x-python",
   "name": "python",
   "nbconvert_exporter": "python",
   "pygments_lexer": "ipython3",
   "version": "3.8.11"
  }
 },
 "nbformat": 4,
 "nbformat_minor": 5
}
