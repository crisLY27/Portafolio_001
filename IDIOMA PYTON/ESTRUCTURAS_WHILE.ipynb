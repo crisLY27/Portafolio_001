{
 "cells": [
  {
   "cell_type": "markdown",
   "id": "6322f9bf",
   "metadata": {},
   "source": [
    "# <CENTER> UNIVERSIDAD NACIONAL DE SAN AGUSTIN\n",
    "   "
   ]
  },
  {
   "cell_type": "markdown",
   "id": "7b3e11d9",
   "metadata": {},
   "source": [
    "<img src= \"https://universidadesgratuitas.com/wp-content/uploads/2020/06/logo-unsa-facultad-de-ingenieria-unsa-unsa-salud-universidad-unsa-unsa-matriculas-unsa-carreras-a-distancia-aula-virtual-unsa.png\" width=\"300\" height=\"250\">"
   ]
  },
  {
   "cell_type": "markdown",
   "id": "e49cbbdf",
   "metadata": {},
   "source": [
    "## <center> FACULTAD DE PRODUCCION Y SERVICIOS"
   ]
  },
  {
   "cell_type": "markdown",
   "id": "421be9af",
   "metadata": {},
   "source": [
    "### <center> ESCUELA DE TELECOMUNICACIONES \n",
    "    "
   ]
  },
  {
   "cell_type": "markdown",
   "id": "5a415ae4",
   "metadata": {},
   "source": [
    "# Alumno: Larico Yucra,Cristhian Denis \n",
    "\n",
    "# CURSO : Computacion 1\n",
    "\n",
    "# Profesor: ING. Renzo Bolivar"
   ]
  },
  {
   "cell_type": "markdown",
   "id": "2964ee38",
   "metadata": {},
   "source": [
    "# <CENTER> DESARROLLO"
   ]
  },
  {
   "cell_type": "markdown",
   "id": "43cb2dc5",
   "metadata": {},
   "source": [
    "# ESTRUCTURA INTERACTIVA - BUBLE WHILE"
   ]
  },
  {
   "cell_type": "markdown",
   "id": "9d87e236",
   "metadata": {},
   "source": [
    "# hacer un programa que imprima la tabla del 3"
   ]
  },
  {
   "cell_type": "code",
   "execution_count": 13,
   "id": "58ada66d",
   "metadata": {},
   "outputs": [
    {
     "name": "stdout",
     "output_type": "stream",
     "text": [
      "tabla del numero 3\n",
      "3 x 0 ==> 0\n",
      "3 x 1 ==> 3\n",
      "3 x 2 ==> 6\n",
      "3 x 3 ==> 9\n",
      "3 x 4 ==> 12\n",
      "3 x 5 ==> 15\n",
      "3 x 6 ==> 18\n",
      "3 x 7 ==> 21\n",
      "3 x 8 ==> 24\n",
      "3 x 9 ==> 27\n",
      "3 x 10 ==> 30\n",
      "fin de la tabla\n"
     ]
    }
   ],
   "source": [
    "contador =0\n",
    "print(\"tabla del numero 3\")\n",
    "\n",
    "while contador <=10:\n",
    "    print(f\"3 x {contador} ==> {contador * 3 }\")\n",
    "    contador  += 1\n",
    "print (\"fin de la tabla\")"
   ]
  },
  {
   "cell_type": "markdown",
   "id": "cadf84bf",
   "metadata": {},
   "source": [
    "# Hacer un programa que repita frase las veces que desee use funciones.\n"
   ]
  },
  {
   "cell_type": "code",
   "execution_count": 18,
   "id": "8636df07",
   "metadata": {},
   "outputs": [
    {
     "name": "stdout",
     "output_type": "stream",
     "text": [
      "ingrese el numero de veces a repetir la frase: 4\n",
      "\n",
      "\n",
      "\n",
      "nunca te rindas en todos los proyectos, y recuerda la inteligencia no es igual a la sabiduria **TIENES QUE SER SABIO**\n",
      "nunca te rindas en todos los proyectos, y recuerda la inteligencia no es igual a la sabiduria **TIENES QUE SER SABIO**\n",
      "nunca te rindas en todos los proyectos, y recuerda la inteligencia no es igual a la sabiduria **TIENES QUE SER SABIO**\n",
      "nunca te rindas en todos los proyectos, y recuerda la inteligencia no es igual a la sabiduria **TIENES QUE SER SABIO**\n"
     ]
    }
   ],
   "source": [
    "frase = \"nunca te rindas en todos los proyectos, y recuerda la inteligencia no es igual a la sabiduria **TIENES QUE SER SABIO**\"\n",
    "#frase= print(input(\"introduce tu frase: \"))\n",
    "cont=0\n",
    "\n",
    "def repetir(n,cont):\n",
    "    while cont < n :\n",
    "        print(frase)\n",
    "        cont +=1\n",
    "num=int(input(\"ingrese el numero de veces a repetir la frase: \"))\n",
    "print(\"\\n\\n\")\n",
    "repetir(num,cont)"
   ]
  },
  {
   "cell_type": "markdown",
   "id": "425b535b",
   "metadata": {},
   "source": [
    "# HACER UN PROGRAMA QUE SOLICITE INGRESO DE CONTRASEÑA"
   ]
  },
  {
   "cell_type": "code",
   "execution_count": 53,
   "id": "2e8d1c89",
   "metadata": {},
   "outputs": [
    {
     "name": "stdout",
     "output_type": "stream",
     "text": [
      "porfavor ingrese su contraseña\n",
      "SOY EL MEJOR ALUMNO DE COMPUTACION EN EL GRUPOC\n",
      "usted ingreso bien su contraseña TOMA TU CARAMELITO\n"
     ]
    }
   ],
   "source": [
    "#ingresar un password\n",
    "password =\"\"\n",
    "\n",
    "while password !=\"SOY EL MEJOR ALUMNO DE COMPUTACION EN EL GRUPOC\":\n",
    "    print(\"porfavor ingrese su contraseña\")\n",
    "    password =input()\n",
    "print(\"usted ingreso bien su contraseña TOMA TU CARAMELITO\")\n",
    "    "
   ]
  },
  {
   "cell_type": "markdown",
   "id": "9be2689c",
   "metadata": {},
   "source": [
    "# MODIFICANDO LA FINALIZACION DEL BUCLE WHILE: BREAK Y CONTINUE"
   ]
  },
  {
   "cell_type": "markdown",
   "id": "a008448d",
   "metadata": {},
   "source": [
    "### <CENTER> USO DE BREAK:\n",
    "### <CENTER> HACER UN PROGRAMA QUE VALIDE INGRESO NOMBRE ROSE:    "
   ]
  },
  {
   "cell_type": "code",
   "execution_count": 26,
   "id": "0692eb1c",
   "metadata": {},
   "outputs": [
    {
     "name": "stdout",
     "output_type": "stream",
     "text": [
      "porfavor ingrese su nombre: \n",
      "cristhian\n",
      "porfavor ingrese su nombre: \n",
      "rose+\n",
      "porfavor ingrese su nombre: \n",
      "rose\n",
      "el nombre es valido :rose es un bonito nombre \n"
     ]
    }
   ],
   "source": [
    "while True:\n",
    "    print(\"porfavor ingrese su nombre: \")\n",
    "    name  = input ()\n",
    "    if name.lower() == \"rose\":\n",
    "        break\n",
    "print(\"el nombre es valido :rose es un bonito nombre \")\n",
    "    "
   ]
  },
  {
   "cell_type": "code",
   "execution_count": 54,
   "id": "ef8439d4",
   "metadata": {},
   "outputs": [
    {
     "name": "stdout",
     "output_type": "stream",
     "text": [
      "ingrese su nombre: MI MAMA\n",
      "ingrese su nombre: mi mama\n",
      "\n",
      " hola  Mi Mama,por favor ingrese su contraseña:\n",
      "soyguapo\n",
      "\n",
      " Bienvenido a su cuenta Bancaria\n"
     ]
    }
   ],
   "source": [
    "nombre=[\"alexander\",\"rudy\",\"yordan\",\"cristhian\",\"cesar\",\"manuel\",\"el profesor\",\"mi mama\"]\n",
    "contra=[\"123456\",\"654321\",\"soyguapo\",\"987654\",\"254766\",\"950819015\",\"900853357\",\"amo a mim perro\",\"me gusta el curso de computacion2\"]\n",
    "\n",
    "while True:\n",
    "    name=input(\"ingrese su nombre: \" )\n",
    "    if name not in nombre:\n",
    "        continue\n",
    "    print(f\"\\n hola  {name.title()},por favor ingrese su contraseña:\")\n",
    "    password =input()\n",
    "    if password in contra:\n",
    "        print(\"\\n Bienvenido a su cuenta Bancaria\")\n",
    "        break\n",
    "    else:\n",
    "        print(\"\\n Acceso Denegado ************* *****estafador****** **********\")\n",
    "        break"
   ]
  },
  {
   "cell_type": "markdown",
   "id": "d7f39af2",
   "metadata": {},
   "source": [
    "# \"se viene lo mejor que son los ejemplos :D \"   \n",
    "# <center> EJEMPLOS"
   ]
  },
  {
   "cell_type": "markdown",
   "id": "4a433c6d",
   "metadata": {},
   "source": [
    "# Hacer un programa que busque el numero2 dentro de una lista de numeros, si se encientra, que imprima el indice dentro de la lista:Ç"
   ]
  },
  {
   "cell_type": "code",
   "execution_count": 2,
   "id": "b32370e6",
   "metadata": {},
   "outputs": [
    {
     "name": "stdout",
     "output_type": "stream",
     "text": [
      "El numero 2 ah sido encontrado en el indice 2 que quiere decir que esta en la posicion comensando de la posicion 0 \n"
     ]
    }
   ],
   "source": [
    "valores =[7,5,2,4,6,98,1]\n",
    "encontrado = False\n",
    "indice =0\n",
    "longitud = len(valores)\n",
    "while not encontrado and indice< longitud:\n",
    "    valor=valores[indice]\n",
    "    if valor ==2:\n",
    "        encontrado=True\n",
    "    else:\n",
    "        indice += 1\n",
    "if encontrado:\n",
    "    print(f\"El numero 2 ah sido encontrado en el indice {indice} que quiere decir que esta en la posicion comensando de la posicion 0 \")\n",
    "else:\n",
    "    print(\"El numero 2 no se encuentra en la lista de valores\")"
   ]
  },
  {
   "cell_type": "markdown",
   "id": "7947d04a",
   "metadata": {},
   "source": [
    "# Hacer un programa que solicite iongreso de contraseña con intentos limitados:"
   ]
  },
  {
   "cell_type": "code",
   "execution_count": 35,
   "id": "31c18268",
   "metadata": {},
   "outputs": [
    {
     "name": "stdout",
     "output_type": "stream",
     "text": [
      "porfavor ingrese su contraseña: \n",
      "12345\n",
      "alfin te acordaste, pense que no te acordabas de tu contraseña , para la siguiente no  seas tan distraido \n"
     ]
    }
   ],
   "source": [
    "password =\"\"\n",
    "\n",
    "cont=0\n",
    "while password !=\"12345\":\n",
    "    cont +=1\n",
    "    print(\"porfavor ingrese su contraseña: \")\n",
    "    password =input()\n",
    "    if cont==5:\n",
    "        print(\"finalizo los intentos....!!!!!************** error syntax\")\n",
    "        break\n",
    "if cont!=5:\n",
    "    print (\"alfin te acordaste, pense que no te acordabas de tu contraseña , para la siguiente no  seas tan distraido \")"
   ]
  },
  {
   "cell_type": "markdown",
   "id": "aa974261",
   "metadata": {},
   "source": [
    "# imprime la secuencia 3n+1 desde un numero n, terminando cuando llegue a 1."
   ]
  },
  {
   "cell_type": "code",
   "execution_count": 36,
   "id": "2a91bc80",
   "metadata": {},
   "outputs": [
    {
     "name": "stdout",
     "output_type": "stream",
     "text": [
      "Ingrese numero de inicio n :  ==> 5\n",
      "5, 16, 8, 4, 2, 1.\n"
     ]
    }
   ],
   "source": [
    "#la regla de calculo\" para crear la sercuencia es partir de unos n datos y generar el siguiente termino de la secuencia a partir de nn, ya sea dividiendo n por la mitad,(siempre que n sea par), o  bien multiplicandolo por tres y sumando 1. la secuencia termina cuando n llega a 1 \n",
    "\n",
    "\n",
    "def seq3np1(n):\n",
    "    while n!= 1:\n",
    "        print(n,end=\", \")\n",
    "        if n% 2 == 0:\n",
    "            n=n//2\n",
    "        else:\n",
    "            n=n*3+1\n",
    "    print(n,end =\".\\n\")\n",
    "\n",
    "num =int(input(\"Ingrese numero de inicio n :  ==> \"))\n",
    "seq3np1(num)    \n",
    "\n",
    "\n",
    "\n",
    "\n"
   ]
  },
  {
   "cell_type": "markdown",
   "id": "627afec1",
   "metadata": {},
   "source": [
    "# Hacer un programa con funcion que cuenta el numero de digitos que son 1 o 5 en un numero entero positivo:"
   ]
  },
  {
   "cell_type": "code",
   "execution_count": 52,
   "id": "d10489af",
   "metadata": {},
   "outputs": [
    {
     "name": "stdout",
     "output_type": "stream",
     "text": [
      "ingrese un numero que contenga los digitos *** 0 *** y *** 5 *** : ==> 1112311511245\n",
      "\n",
      "\n",
      "\tLa cantidad de digitos ***0*** y ***5*** en el numero  1112311511245 es: ==>  2\n"
     ]
    }
   ],
   "source": [
    "def num_digi (n) :\n",
    "    count = 0\n",
    "    while n > 0:\n",
    "        digit = n % 10\n",
    "        if digit == 0  or digit == 5:\n",
    "            count = count + 1\n",
    "        n = n // 10\n",
    "    return count\n",
    "num =int(input(\"ingrese un numero que contenga los digitos *** 0 *** y *** 5 *** : ==> \"))\n",
    "\n",
    "cantidad=num_digi(num)\n",
    "\n",
    "print (\"\\n\\n\\tLa cantidad de digitos ***0*** y ***5*** en el numero \",num,\"es: ==> \",cantidad)"
   ]
  },
  {
   "cell_type": "markdown",
   "id": "c1c3b598",
   "metadata": {},
   "source": [
    "# porfavor  no entren a  mi repositorio por que sino  malogran y lo corrompen mi trabajo y despues cuando nos reunimos se rien de pòrque, y si lo digo por jhordan que entra ya te vi causa no pues no moelstes jhordan xd na mentira pero igual no entren a mi trabajo pwwww despues el profesor  esta molesto conmigo"
   ]
  },
  {
   "cell_type": "markdown",
   "id": "0e49e0e6",
   "metadata": {},
   "source": [
    "<img src= \"data:image/jpeg;base64,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\" width=\"300\" height=\"250\">"
   ]
  },
  {
   "cell_type": "markdown",
   "id": "05e20bee",
   "metadata": {},
   "source": [
    "# el profe es lo maximo"
   ]
  },
  {
   "cell_type": "markdown",
   "id": "af96ad09",
   "metadata": {},
   "source": [
    "# 01010000 01010010 01001111 01000110 01000101 01010011 01001111 01010010 00100000 01001100 01001111 00100000 01010001 01010101 01001001 01000101 01010010 01001111 00100000 01001101 01010101 01000011 01001000 01001111 00100000 01001110 01001111 00100000 01001101 01000101 00100000 01001010 01000001 01001100 01000101 00100000 00100000 01000100 01000101 01001100 00100000 01000011 01010101 01010010 01010011 01001111 00100000 00111010 00101100 00101001"
   ]
  },
  {
   "cell_type": "code",
   "execution_count": null,
   "id": "5956e65d",
   "metadata": {},
   "outputs": [],
   "source": []
  }
 ],
 "metadata": {
  "kernelspec": {
   "display_name": "Python 3 (ipykernel)",
   "language": "python",
   "name": "python3"
  },
  "language_info": {
   "codemirror_mode": {
    "name": "ipython",
    "version": 3
   },
   "file_extension": ".py",
   "mimetype": "text/x-python",
   "name": "python",
   "nbconvert_exporter": "python",
   "pygments_lexer": "ipython3",
   "version": "3.8.11"
  }
 },
 "nbformat": 4,
 "nbformat_minor": 5
}
