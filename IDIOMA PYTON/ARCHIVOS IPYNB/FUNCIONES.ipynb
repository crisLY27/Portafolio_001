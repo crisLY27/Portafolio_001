{
 "cells": [
  {
   "cell_type": "markdown",
   "id": "70198101",
   "metadata": {},
   "source": [
    "# <CENTER> UNIVERSIDAD NACIONAL DE SAN AGUSTIN"
   ]
  },
  {
   "cell_type": "markdown",
   "id": "87c3e800",
   "metadata": {},
   "source": [
    "<center><img src=\"https://upload.wikimedia.org/wikipedia/commons/3/3a/LOGO_UNSA.png\" width=\"380\" height=\"420\"><center>\n"
   ]
  },
  {
   "cell_type": "markdown",
   "id": "537f4eaf",
   "metadata": {},
   "source": [
    "## <center> FACULTAD DE INGENIERÍA DE PRODUCCIÓN Y SERVICIOS"
   ]
  },
  {
   "cell_type": "markdown",
   "id": "67110faa",
   "metadata": {},
   "source": [
    "## <CENTER> ESCUELA PROFESIONAL DE INGENIERÍA EN TELECOMUNICACIONES"
   ]
  },
  {
   "cell_type": "markdown",
   "id": "fcd8e69e",
   "metadata": {},
   "source": [
    "### alumno: Larico Yucra, Cristhian Denis\n",
    "#### CUI: 20213186"
   ]
  },
  {
   "cell_type": "markdown",
   "id": "b620e7d5",
   "metadata": {},
   "source": [
    "Curso: Computacion 2\n",
    "\n",
    "Autor: Renzo Bolivar"
   ]
  },
  {
   "cell_type": "markdown",
   "id": "99047b54",
   "metadata": {},
   "source": [
    "# <CENTER> EXCEPCIONES Y FUNCIONES"
   ]
  },
  {
   "cell_type": "markdown",
   "id": "696f6eb6",
   "metadata": {},
   "source": [
    "# Tipicos errores "
   ]
  },
  {
   "cell_type": "code",
   "execution_count": 1,
   "id": "e10ee444",
   "metadata": {},
   "outputs": [
    {
     "ename": "ZeroDivisionError",
     "evalue": "division by zero",
     "output_type": "error",
     "traceback": [
      "\u001b[0;31m---------------------------------------------------------------------------\u001b[0m",
      "\u001b[0;31mZeroDivisionError\u001b[0m                         Traceback (most recent call last)",
      "\u001b[0;32m/tmp/ipykernel_2883/162665469.py\u001b[0m in \u001b[0;36m<module>\u001b[0;34m\u001b[0m\n\u001b[0;32m----> 1\u001b[0;31m \u001b[0;36m1\u001b[0m\u001b[0;34m/\u001b[0m\u001b[0;36m0\u001b[0m\u001b[0;34m\u001b[0m\u001b[0;34m\u001b[0m\u001b[0m\n\u001b[0m\u001b[1;32m      2\u001b[0m \u001b[0mz\u001b[0m\u001b[0;34m=\u001b[0m\u001b[0;36m25\u001b[0m\u001b[0;34m\u001b[0m\u001b[0;34m\u001b[0m\u001b[0m\n\u001b[1;32m      3\u001b[0m \u001b[0mprint\u001b[0m\u001b[0;34m(\u001b[0m\u001b[0mz\u001b[0m\u001b[0;34m)\u001b[0m\u001b[0;34m\u001b[0m\u001b[0;34m\u001b[0m\u001b[0m\n",
      "\u001b[0;31mZeroDivisionError\u001b[0m: division by zero"
     ]
    }
   ],
   "source": [
    "1/0\n",
    "z=25\n",
    "print(z)"
   ]
  },
  {
   "cell_type": "code",
   "execution_count": 3,
   "id": "dcd8b868",
   "metadata": {},
   "outputs": [
    {
     "name": "stdout",
     "output_type": "stream",
     "text": [
      "12\n",
      "25\n"
     ]
    }
   ],
   "source": [
    "n= int(input())\n",
    "z= 25\n",
    "print(z)"
   ]
  },
  {
   "cell_type": "markdown",
   "id": "57232fc4",
   "metadata": {},
   "source": [
    "# validacion de numeros:"
   ]
  },
  {
   "cell_type": "code",
   "execution_count": 10,
   "id": "e4b831ac",
   "metadata": {},
   "outputs": [
    {
     "name": "stdout",
     "output_type": "stream",
     "text": [
      "ingresar un numero: \"·$!$\n",
      "error..!! no es un numero valido\n",
      "ingresar un numero: !·$!$%!\n",
      "error..!! no es un numero valido\n",
      "ingresar un numero: !·%!\n",
      "error..!! no es un numero valido\n",
      "ingresar un numero: 654\n"
     ]
    }
   ],
   "source": [
    "#validad ingreso de numeros enteros\n",
    "\n",
    "while True:\n",
    "    try:\n",
    "        x = int(input(\"ingresar un numero: \"))\n",
    "        break\n",
    "    except ValueError:\n",
    "        \n",
    "        print(\"error..!! no es un numero valido\")\n",
    "    "
   ]
  },
  {
   "cell_type": "code",
   "execution_count": 12,
   "id": "bd22ec2e",
   "metadata": {},
   "outputs": [
    {
     "name": "stdout",
     "output_type": "stream",
     "text": [
      "ingresar un numero positivo : qwefa\n",
      "error..!! no es un numero positivo valido\n",
      "ingresar un numero positivo : safsf\n",
      "error..!! no es un numero positivo valido\n",
      "ingresar un numero positivo : !·!%\n",
      "error..!! no es un numero positivo valido\n",
      "ingresar un numero positivo : -5\n",
      "\t porfavor ingrese numero positivo\n",
      "ingresar un numero positivo : 123\n"
     ]
    }
   ],
   "source": [
    "while True:\n",
    "    try:\n",
    "        x = int(input(\"ingresar un numero positivo : \"))\n",
    "        \n",
    "    except ValueError:\n",
    "        \n",
    "        print(\"error..!! no es un numero positivo valido\")\n",
    "        continue\n",
    "    if x < 0:\n",
    "        print(\"\\t porfavor ingrese numero positivo\")\n",
    "        continue\n",
    "    break"
   ]
  },
  {
   "cell_type": "markdown",
   "id": "f4a82398",
   "metadata": {},
   "source": [
    "# FUNCION PRINCIPAL main"
   ]
  },
  {
   "cell_type": "code",
   "execution_count": 13,
   "id": "c252cda9",
   "metadata": {},
   "outputs": [
    {
     "name": "stdout",
     "output_type": "stream",
     "text": [
      "inicio de pantalla\n",
      "inicio de pantalla\n",
      "\n",
      "\n",
      "\n",
      " Fin del programa\n"
     ]
    }
   ],
   "source": [
    "def uno():\n",
    "    print(\"inicio de pantalla\")\n",
    "def dos():\n",
    "    pass\n",
    "def fin():\n",
    "    print(\"\\n\\n\\n Fin del programa\")\n",
    "# programa MAIN PRINCIPIAL\n",
    "if __name__==\"__main__\":\n",
    "    uno()\n",
    "    dos()\n",
    "    uno()\n",
    "    dos()\n",
    "\n",
    "    fin()"
   ]
  },
  {
   "cell_type": "markdown",
   "id": "97da00ca",
   "metadata": {},
   "source": [
    "# hacer un programa que verifique el ingreso del DNI correctamente\n"
   ]
  },
  {
   "cell_type": "code",
   "execution_count": 18,
   "id": "04744660",
   "metadata": {},
   "outputs": [
    {
     "name": "stdout",
     "output_type": "stream",
     "text": [
      "************ BONO FAMILIAR UNIVERSAL  ************\n",
      "\n",
      "\n",
      "\n",
      "ingresar DNI:98465136465496546\n",
      "\t Error longitud de DNI no Valido\n"
     ]
    },
    {
     "ename": "KeyboardInterrupt",
     "evalue": "Interrupted by user",
     "output_type": "error",
     "traceback": [
      "\u001b[0;31m---------------------------------------------------------------------------\u001b[0m",
      "\u001b[0;31mKeyboardInterrupt\u001b[0m                         Traceback (most recent call last)",
      "\u001b[0;32m/tmp/ipykernel_2883/3478618957.py\u001b[0m in \u001b[0;36m<module>\u001b[0;34m\u001b[0m\n\u001b[1;32m     18\u001b[0m     \u001b[0mprint\u001b[0m \u001b[0;34m(\u001b[0m\u001b[0mtitulo\u001b[0m\u001b[0;34m.\u001b[0m\u001b[0mcenter\u001b[0m\u001b[0;34m(\u001b[0m\u001b[0;36m50\u001b[0m\u001b[0;34m,\u001b[0m\u001b[0;34m\"*\"\u001b[0m\u001b[0;34m)\u001b[0m\u001b[0;34m)\u001b[0m\u001b[0;34m\u001b[0m\u001b[0;34m\u001b[0m\u001b[0m\n\u001b[1;32m     19\u001b[0m     \u001b[0mprint\u001b[0m\u001b[0;34m(\u001b[0m\u001b[0;34m\"\\n\\n\"\u001b[0m\u001b[0;34m)\u001b[0m\u001b[0;34m\u001b[0m\u001b[0;34m\u001b[0m\u001b[0m\n\u001b[0;32m---> 20\u001b[0;31m     \u001b[0mval_dni\u001b[0m\u001b[0;34m=\u001b[0m\u001b[0mvalidar_dni\u001b[0m\u001b[0;34m(\u001b[0m\u001b[0;34m)\u001b[0m\u001b[0;34m\u001b[0m\u001b[0;34m\u001b[0m\u001b[0m\n\u001b[0m\u001b[1;32m     21\u001b[0m     \u001b[0mprint\u001b[0m\u001b[0;34m(\u001b[0m\u001b[0;34m\"\\n \\n El DNI Ingresando es:==>\"\u001b[0m\u001b[0;34m,\u001b[0m\u001b[0mval_dni\u001b[0m\u001b[0;34m)\u001b[0m\u001b[0;34m\u001b[0m\u001b[0;34m\u001b[0m\u001b[0m\n",
      "\u001b[0;32m/tmp/ipykernel_2883/3478618957.py\u001b[0m in \u001b[0;36mvalidar_dni\u001b[0;34m()\u001b[0m\n\u001b[1;32m      3\u001b[0m     \u001b[0;32mwhile\u001b[0m \u001b[0;32mTrue\u001b[0m\u001b[0;34m:\u001b[0m\u001b[0;34m\u001b[0m\u001b[0;34m\u001b[0m\u001b[0m\n\u001b[1;32m      4\u001b[0m         \u001b[0;32mtry\u001b[0m\u001b[0;34m:\u001b[0m\u001b[0;34m\u001b[0m\u001b[0;34m\u001b[0m\u001b[0m\n\u001b[0;32m----> 5\u001b[0;31m             \u001b[0mdni\u001b[0m \u001b[0;34m=\u001b[0m \u001b[0mint\u001b[0m \u001b[0;34m(\u001b[0m\u001b[0minput\u001b[0m\u001b[0;34m(\u001b[0m\u001b[0;34m\"ingresar DNI:\"\u001b[0m\u001b[0;34m)\u001b[0m\u001b[0;34m)\u001b[0m\u001b[0;34m\u001b[0m\u001b[0;34m\u001b[0m\u001b[0m\n\u001b[0m\u001b[1;32m      6\u001b[0m             \u001b[0;32mif\u001b[0m \u001b[0mlen\u001b[0m\u001b[0;34m(\u001b[0m\u001b[0mstr\u001b[0m\u001b[0;34m(\u001b[0m\u001b[0mdni\u001b[0m\u001b[0;34m)\u001b[0m\u001b[0;34m)\u001b[0m\u001b[0;34m==\u001b[0m\u001b[0;36m8\u001b[0m\u001b[0;34m:\u001b[0m\u001b[0;34m\u001b[0m\u001b[0;34m\u001b[0m\u001b[0m\n\u001b[1;32m      7\u001b[0m                 \u001b[0mprint\u001b[0m\u001b[0;34m(\u001b[0m\u001b[0;34m\"\\n\\t DNI VALIDO\"\u001b[0m\u001b[0;34m)\u001b[0m\u001b[0;34m\u001b[0m\u001b[0;34m\u001b[0m\u001b[0m\n",
      "\u001b[0;32m~/anaconda3/envs/computacion2/lib/python3.8/site-packages/ipykernel/kernelbase.py\u001b[0m in \u001b[0;36mraw_input\u001b[0;34m(self, prompt)\u001b[0m\n\u001b[1;32m   1004\u001b[0m                 \u001b[0;34m\"raw_input was called, but this frontend does not support input requests.\"\u001b[0m\u001b[0;34m\u001b[0m\u001b[0;34m\u001b[0m\u001b[0m\n\u001b[1;32m   1005\u001b[0m             )\n\u001b[0;32m-> 1006\u001b[0;31m         return self._input_request(\n\u001b[0m\u001b[1;32m   1007\u001b[0m             \u001b[0mstr\u001b[0m\u001b[0;34m(\u001b[0m\u001b[0mprompt\u001b[0m\u001b[0;34m)\u001b[0m\u001b[0;34m,\u001b[0m\u001b[0;34m\u001b[0m\u001b[0;34m\u001b[0m\u001b[0m\n\u001b[1;32m   1008\u001b[0m             \u001b[0mself\u001b[0m\u001b[0;34m.\u001b[0m\u001b[0m_parent_ident\u001b[0m\u001b[0;34m[\u001b[0m\u001b[0;34m\"shell\"\u001b[0m\u001b[0;34m]\u001b[0m\u001b[0;34m,\u001b[0m\u001b[0;34m\u001b[0m\u001b[0;34m\u001b[0m\u001b[0m\n",
      "\u001b[0;32m~/anaconda3/envs/computacion2/lib/python3.8/site-packages/ipykernel/kernelbase.py\u001b[0m in \u001b[0;36m_input_request\u001b[0;34m(self, prompt, ident, parent, password)\u001b[0m\n\u001b[1;32m   1049\u001b[0m             \u001b[0;32mexcept\u001b[0m \u001b[0mKeyboardInterrupt\u001b[0m\u001b[0;34m:\u001b[0m\u001b[0;34m\u001b[0m\u001b[0;34m\u001b[0m\u001b[0m\n\u001b[1;32m   1050\u001b[0m                 \u001b[0;31m# re-raise KeyboardInterrupt, to truncate traceback\u001b[0m\u001b[0;34m\u001b[0m\u001b[0;34m\u001b[0m\u001b[0;34m\u001b[0m\u001b[0m\n\u001b[0;32m-> 1051\u001b[0;31m                 \u001b[0;32mraise\u001b[0m \u001b[0mKeyboardInterrupt\u001b[0m\u001b[0;34m(\u001b[0m\u001b[0;34m\"Interrupted by user\"\u001b[0m\u001b[0;34m)\u001b[0m \u001b[0;32mfrom\u001b[0m \u001b[0;32mNone\u001b[0m\u001b[0;34m\u001b[0m\u001b[0;34m\u001b[0m\u001b[0m\n\u001b[0m\u001b[1;32m   1052\u001b[0m             \u001b[0;32mexcept\u001b[0m \u001b[0mException\u001b[0m\u001b[0;34m:\u001b[0m\u001b[0;34m\u001b[0m\u001b[0;34m\u001b[0m\u001b[0m\n\u001b[1;32m   1053\u001b[0m                 \u001b[0mself\u001b[0m\u001b[0;34m.\u001b[0m\u001b[0mlog\u001b[0m\u001b[0;34m.\u001b[0m\u001b[0mwarning\u001b[0m\u001b[0;34m(\u001b[0m\u001b[0;34m\"Invalid Message:\"\u001b[0m\u001b[0;34m,\u001b[0m \u001b[0mexc_info\u001b[0m\u001b[0;34m=\u001b[0m\u001b[0;32mTrue\u001b[0m\u001b[0;34m)\u001b[0m\u001b[0;34m\u001b[0m\u001b[0;34m\u001b[0m\u001b[0m\n",
      "\u001b[0;31mKeyboardInterrupt\u001b[0m: Interrupted by user"
     ]
    }
   ],
   "source": [
    "#mi primera fincion validad dni \"que felicidad \"\n",
    "def validar_dni():\n",
    "    while True:\n",
    "        try:\n",
    "            dni = int (input(\"ingresar DNI:\"))\n",
    "            if len(str(dni))==8:\n",
    "                print(\"\\n\\t DNI VALIDO\")\n",
    "                break\n",
    "            else:\n",
    "                print(\"\\t Error longitud de DNI no Valido\")\n",
    "                continue\n",
    "        except ValueError:\n",
    "            print(\"\\t Error !!! **** No es un DNI valido...*** intente de nuevo***\")\n",
    "    return dni   \n",
    "            \n",
    "if __name__==\"__main__\":\n",
    "    titulo=(\" BONO FAMILIAR UNIVERSAL  \")\n",
    "    print (titulo.center(50,\"*\"))\n",
    "    print(\"\\n\\n\")\n",
    "    val_dni=validar_dni()\n",
    "    print(\"\\n \\n El DNI Ingresando es:==>\",val_dni)"
   ]
  },
  {
   "cell_type": "markdown",
   "id": "e5c2491f",
   "metadata": {},
   "source": [
    "# EJEMPLOS"
   ]
  },
  {
   "cell_type": "code",
   "execution_count": 21,
   "id": "cde82ce7",
   "metadata": {},
   "outputs": [
    {
     "name": "stdout",
     "output_type": "stream",
     "text": [
      "\u001b[H\u001b[2J******************menu general  ******************\n",
      "\n",
      "\n",
      "\n",
      "selecciona una opccion \n",
      "\t1 - primera opcion\n",
      "\t2 - segunda opcion\n",
      "\t3 - tercera opcion\n",
      "\t9- salir\n",
      "inserta numero valor ==>>1\n",
      "\n",
      "has pulsado la opcion 1...\n",
      "pulsa una tecla para continuarWD\n",
      "\u001b[H\u001b[2J******************menu general  ******************\n",
      "\n",
      "\n",
      "\n",
      "selecciona una opccion \n",
      "\t1 - primera opcion\n",
      "\t2 - segunda opcion\n",
      "\t3 - tercera opcion\n",
      "\t9- salir\n",
      "inserta numero valor ==>>2\n",
      "\n",
      "has pulsado la opcion 2...\n",
      "pulsa una tecla para continuar \n",
      "\u001b[H\u001b[2J******************menu general  ******************\n",
      "\n",
      "\n",
      "\n",
      "selecciona una opccion \n",
      "\t1 - primera opcion\n",
      "\t2 - segunda opcion\n",
      "\t3 - tercera opcion\n",
      "\t9- salir\n",
      "inserta numero valor ==>>3\n",
      "\n",
      "has pulsado la opcion 3...\n",
      "pulsa una tecla para continuar \n",
      "\u001b[H\u001b[2J******************menu general  ******************\n",
      "\n",
      "\n",
      "\n",
      "selecciona una opccion \n",
      "\t1 - primera opcion\n",
      "\t2 - segunda opcion\n",
      "\t3 - tercera opcion\n",
      "\t9- salir\n",
      "inserta numero valor ==>>9\n",
      "\t*****FINALIZO EL PROGRAMA****\n"
     ]
    }
   ],
   "source": [
    "import os\n",
    "\n",
    "def menu():\n",
    "    \"\"\"\n",
    "    funcion que limpia la pantalla y muestra nuevamente el menu\n",
    "    \"\"\"\n",
    "    os.system(\"clear\")\n",
    "    titulo=(\"menu general  \")\n",
    "    print (titulo.center(50,\"*\"))\n",
    "    print(\"\\n\\n\")\n",
    "    print(\"selecciona una opccion \")\n",
    "    print(\"\\t1 - primera opcion\")\n",
    "    print(\"\\t2 - segunda opcion\")\n",
    "    print(\"\\t3 - tercera opcion\")\n",
    "    print(\"\\t9- salir\")\n",
    "def validar():\n",
    "    while True:\n",
    "        menu()\n",
    "        opcionMenu = input(\"inserta numero valor ==>>\")\n",
    "        \n",
    "        if opcionMenu==\"1\":\n",
    "            print(\"\")\n",
    "            input(\"has pulsado la opcion 1...\\npulsa una tecla para continuar\")\n",
    "        elif opcionMenu==\"2\":\n",
    "            print(\"\")\n",
    "            input(\"has pulsado la opcion 2...\\npulsa una tecla para continuar\")\n",
    "        elif opcionMenu==\"3\":\n",
    "            print(\"\")\n",
    "            input(\"has pulsado la opcion 3...\\npulsa una tecla para continuar\")\n",
    "        elif opcionMenu==\"9\":\n",
    "            break\n",
    "        else:\n",
    "            print(\"\")\n",
    "            input(\"no has pulsado ninguna opcion correcta...\\npulsa una tecla para continuar\")\n",
    "\n",
    "    return opcionMenu\n",
    "\n",
    "if __name__ == \"__main__\":\n",
    "    validar()\n",
    "    \n",
    "    print(\"\\t*****FINALIZO EL PROGRAMA****\")\n",
    "\n",
    "    \n"
   ]
  },
  {
   "cell_type": "markdown",
   "id": "b2441ceb",
   "metadata": {},
   "source": [
    "<img src= \"data:image/jpeg;base64,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\" width=\"300\" height=\"250\">"
   ]
  },
  {
   "cell_type": "markdown",
   "id": "e95de9e4",
   "metadata": {},
   "source": [
    "# 01010000 01010010 01001111 01000110 01000101 01010011 01001111 01010010 00100000 01001100 01001111 00100000 01010001 01010101 01001001 01000101 01010010 01001111 00100000 01001101 01010101 01000011 01001000 01001111 00100000 01001110 01001111 00100000 01001101 01000101 00100000 01001010 01000001 01001100 01000101 00100000 00100000 01000100 01000101 01001100 00100000 01000011 01010101 01010010 01010011 01001111 00100000 00111010 00101100 00101001"
   ]
  },
  {
   "cell_type": "markdown",
   "id": "eb63d3f7",
   "metadata": {},
   "source": [
    "# EL PROFESOR DE COMPUTO ES EL MEJOR PROFESOR DEL MUNDO"
   ]
  },
  {
   "cell_type": "code",
   "execution_count": null,
   "id": "da9a297c",
   "metadata": {},
   "outputs": [],
   "source": []
  }
 ],
 "metadata": {
  "kernelspec": {
   "display_name": "Python 3 (ipykernel)",
   "language": "python",
   "name": "python3"
  },
  "language_info": {
   "codemirror_mode": {
    "name": "ipython",
    "version": 3
   },
   "file_extension": ".py",
   "mimetype": "text/x-python",
   "name": "python",
   "nbconvert_exporter": "python",
   "pygments_lexer": "ipython3",
   "version": "3.8.11"
  }
 },
 "nbformat": 4,
 "nbformat_minor": 5
}
