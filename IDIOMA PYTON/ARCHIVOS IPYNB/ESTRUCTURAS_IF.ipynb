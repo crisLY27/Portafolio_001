{
 "cells": [
  {
   "cell_type": "markdown",
   "id": "9a965efb",
   "metadata": {},
   "source": [
    "# <center> UNIVERSIDAD NACIONAL DE SAN AGUSTIN"
   ]
  },
  {
   "cell_type": "markdown",
   "id": "31888ee8",
   "metadata": {},
   "source": [
    "<img src= \"https://universidadesgratuitas.com/wp-content/uploads/2020/06/logo-unsa-facultad-de-ingenieria-unsa-unsa-salud-universidad-unsa-unsa-matriculas-unsa-carreras-a-distancia-aula-virtual-unsa.png\" width=\"300\" height=\"250\">"
   ]
  },
  {
   "cell_type": "markdown",
   "id": "ebe775d9",
   "metadata": {},
   "source": [
    "# <center> FACULTAD DE INGENIERÍA DE PRODUCCIÓN Y SERVICIOS"
   ]
  },
  {
   "cell_type": "markdown",
   "id": "9493b64c",
   "metadata": {},
   "source": [
    "# <center>ESCUELA PROFESIONAL DE INGENIERÍA EN TELECOMUNICACIONES"
   ]
  },
  {
   "cell_type": "markdown",
   "id": "d17c5f79",
   "metadata": {},
   "source": [
    "# <center>AUTORES"
   ]
  },
  {
   "cell_type": "markdown",
   "id": "cdc24923",
   "metadata": {},
   "source": [
    "# <center>Cristhian Denis Larico Yucra            CUI: 20213186"
   ]
  },
  {
   "cell_type": "markdown",
   "id": "7614d600",
   "metadata": {},
   "source": [
    "# 1.- Introduccion a Listas"
   ]
  },
  {
   "cell_type": "code",
   "execution_count": 1,
   "id": "e047629e",
   "metadata": {},
   "outputs": [
    {
     "name": "stdout",
     "output_type": "stream",
     "text": [
      "La frase inicia con la letra: q\n",
      "La frase termine con la letra:  i\n"
     ]
    }
   ],
   "source": [
    "cadena= \"si quieres aprender, enseña. Marco Tulio Ciceron\"     #cadena de texto o string\n",
    "\n",
    "print(\"La frase inicia con la letra:\",cadena[3])        #Accediendo al promer elemento dela Cadena de texto\n",
    "print (\"La frase termine con la letra: \",cadena[-6])"
   ]
  },
  {
   "cell_type": "code",
   "execution_count": 5,
   "id": "908c1d28",
   "metadata": {},
   "outputs": [
    {
     "name": "stdout",
     "output_type": "stream",
     "text": [
      "['si', 'quieres', 'aprender,', 'enseña.', 'Marco', 'Tulio', 'Ciceron']\n"
     ]
    }
   ],
   "source": [
    "lista_de_cadena=cadena.split() #metodo split convierte una cadena a lista\n",
    "print(lista_de_cadena)   #lista es una coleccion ordenada de valores"
   ]
  },
  {
   "cell_type": "code",
   "execution_count": 6,
   "id": "e2337920",
   "metadata": {},
   "outputs": [
    {
     "name": "stdout",
     "output_type": "stream",
     "text": [
      "['luis', 'pablo', 'mili', 'gabriela', 'oscar']\n"
     ]
    }
   ],
   "source": [
    "    lista_de_nombres = [\"luis\",\"pablo\",\"mili\",\"gabriela\",\"oscar\"] #lista se crea con\"[]\" y se separa con \",\"\n",
    "\n",
    "    print(lista_de_nombres)"
   ]
  },
  {
   "cell_type": "code",
   "execution_count": 11,
   "id": "cc719e53",
   "metadata": {},
   "outputs": [
    {
     "name": "stdout",
     "output_type": "stream",
     "text": [
      "[20, 30, 40, 50, 60]\n",
      "20\n",
      "300\n",
      "40\n",
      "\n",
      "\n",
      "['luis', 'pablo', 'mili', 'gabriela', 'oscar']\n",
      "Luis\n",
      "OSCAR\n",
      "mili\n"
     ]
    }
   ],
   "source": [
    "lista_numeros=[20, 30, 40, 50, 60] #lista es una secuencia ordenada de valores\n",
    "print(lista_numeros)\n",
    "\n",
    "#accediendo a los elementos de una lista \n",
    "print(lista_numeros[0])           #accediendo al primer elemento de una lista\n",
    "print (lista_numeros[-1]*5)     #accediendo al ultimo elemento de una lista multiplicado por  5\n",
    "print (lista_numeros[2])\n",
    "\n",
    "print(\"\\n\")\n",
    "print(lista_de_nombres)\n",
    "print(lista_de_nombres[0].title())\n",
    "print(lista_de_nombres[-1].upper())\n",
    "print(lista_de_nombres[2])\n",
    "\n",
    "                #accediendo al primer elemento de una lista\n",
    "     \n",
    "                #accediendo al ultimo elemento de una lista"
   ]
  },
  {
   "cell_type": "markdown",
   "id": "6dea0a22",
   "metadata": {},
   "source": [
    "### Modificando elementos en una lista, porque la lista es mutable:"
   ]
  },
  {
   "cell_type": "code",
   "execution_count": 12,
   "id": "86343c5b",
   "metadata": {},
   "outputs": [
    {
     "name": "stdout",
     "output_type": "stream",
     "text": [
      "['iphone', 'sansung', 'huavei', 'motorola', 'xiaomi']\n",
      "['iphone', 'samsung', 'huawey', 'motorola', 'xiaomi']\n"
     ]
    }
   ],
   "source": [
    "celulares= [\"iphone\",\"sansung\",\"huavei\", \"motorola\" , \"xiaomi\"]\n",
    "print(celulares)\n",
    "\n",
    "celulares[1]=\"samsung\"  #puedo cambiar cada elemento de la lista indicando posicion\n",
    "celulares[2]= \"huawey\"  #las litas son mutables\n",
    "\n",
    "print (celulares)"
   ]
  },
  {
   "cell_type": "markdown",
   "id": "1a1bb52f",
   "metadata": {},
   "source": [
    "### adicionando elementos a una lista:"
   ]
  },
  {
   "cell_type": "code",
   "execution_count": 15,
   "id": "58566636",
   "metadata": {
    "scrolled": true
   },
   "outputs": [
    {
     "name": "stdout",
     "output_type": "stream",
     "text": [
      "['iphone', 'samsung', 'huawei', 'motorola', 'xiaomi', 'lg']\n",
      "['iphone', 'samsung', 'huawei', 'motorola', 'xiaomi', 'lg', 'zte', 'logic']\n"
     ]
    }
   ],
   "source": [
    "celulares= [\"iphone\",\"samsung\",\"huawei\",\"motorola\",\"xiaomi\"]\n",
    "celulares.append(\"lg\")    #ultilizamos el metodo append, adiciona al  ultimo lugar\n",
    "print(celulares)\n",
    "\n",
    "cel= [\"zte\", \"logic\"]  \n",
    "cel2= celulares+cel        #sumamos 02 listas\n",
    "print(cel2)                 "
   ]
  },
  {
   "cell_type": "markdown",
   "id": "b79449b1",
   "metadata": {},
   "source": [
    "### Borrando elementos de una lista"
   ]
  },
  {
   "cell_type": "code",
   "execution_count": 33,
   "id": "99154e63",
   "metadata": {},
   "outputs": [
    {
     "name": "stdout",
     "output_type": "stream",
     "text": [
      "\n",
      "lista de celulares originales\n",
      "['iphone', 'samsung', 'huawei', 'motorola', 'xiaomi', 'lg', 'zte', 'logic']\n",
      "\n",
      "Lista con el ultimo celular borrado\n",
      "['iphone', 'samsung', 'huawei', 'motorola', 'xiaomi', 'lg', 'zte']\n",
      "\n",
      "Lista borrando el celular nuevamente\n",
      "['iphone', 'samsung', 'huawei', 'motorola', 'lg', 'zte']\n",
      "\n",
      "Equipo Celulares Borrado\n",
      "XIAOMI\n",
      "\n",
      "Lista borrando celular LG\n",
      "['iphone', 'samsung', 'huawei', 'motorola', 'zte']\n",
      "\n",
      "El celular LG es muy malo para mi\n"
     ]
    }
   ],
   "source": [
    "celulares= ['iphone', 'samsung', 'huawei', 'motorola', 'xiaomi', 'lg', 'zte', 'logic']\n",
    "\n",
    "print(\"\\nlista de celulares originales\")\n",
    "print (celulares)\n",
    "\n",
    "del celulares[-1]   #borrmamos 01 elemento con el comando \"del\" indicando posicion del elemento\n",
    "print(\"\\nLista con el ultimo celular borrado\")\n",
    "print(celulares)\n",
    "        \n",
    "b_celular = celulares.pop(4)    #metodo \"pop\" borra posicion\"4\" de la lista se puede almacenar el valor\n",
    "print(\"\\nLista borrando el celular nuevamente\")\n",
    "print(celulares)\n",
    "print(\"\\nEquipo Celulares Borrado\")\n",
    "print(b_celular.upper())\n",
    "\n",
    "\n",
    "c_celular= \"lg\"                 #metodo que borra el celilar llamado\"lg\"\n",
    "celulares.remove(c_celular)\n",
    "print(f\"\\nLista borrando celular {c_celular.upper()}\")\n",
    "print(celulares)\n",
    "print(f\"\\nEl celular {c_celular.upper()} es muy malo para mi\") "
   ]
  },
  {
   "cell_type": "markdown",
   "id": "579471fa",
   "metadata": {},
   "source": [
    " # Ordenamos una lista"
   ]
  },
  {
   "cell_type": "code",
   "execution_count": 35,
   "id": "e386733c",
   "metadata": {},
   "outputs": [
    {
     "name": "stdout",
     "output_type": "stream",
     "text": [
      "\n",
      "Lista Original\n",
      "['mazda', 'audi', 'toyota', 'subaru', 'bmw', 'lamborghini']\n",
      "\n",
      "Lista Ordenada\n",
      "['audi', 'bmw', 'lamborghini', 'mazda', 'subaru', 'toyota']\n",
      "\n",
      "Lista Ordenada a la Inversa\n",
      "['toyota', 'subaru', 'mazda', 'lamborghini', 'bmw', 'audi']\n"
     ]
    }
   ],
   "source": [
    "autos = [\"mazda\",\"audi\",\"toyota\",\"subaru\",\"bmw\",\"lamborghini\"]\n",
    "print(\"\\nLista Original\")\n",
    "print(autos)\n",
    "\n",
    "print(\"\\nLista Ordenada\")\n",
    "autos.sort()   #utilizamos el metodo\"reverse\" que hace el cambio de la lista\n",
    "print(autos)\n",
    "\n",
    "print(\"\\nLista Ordenada a la Inversa\")\n",
    "autos.reverse()        #utilizamos el metodo \"reverse\" que hace el cambio de la lista\n",
    "print(autos)"
   ]
  },
  {
   "cell_type": "code",
   "execution_count": 38,
   "id": "2aa12c13",
   "metadata": {},
   "outputs": [
    {
     "name": "stdout",
     "output_type": "stream",
     "text": [
      "\n",
      "Lista Original\n",
      "[200, 600, 10, 2000, -5, 50, 110, 1500]\n",
      "\n",
      "lista ordenada Temporal\n",
      "[-5, 10, 50, 110, 200, 600, 1500, 2000]\n",
      "\n",
      "Lista Original de nuevo\n",
      "[200, 600, 10, 2000, -5, 50, 110, 1500]\n"
     ]
    }
   ],
   "source": [
    "num = [200, 600, 10, 2000, -5, 50, 110, 1500]\n",
    "print(\"\\nLista Original\" )\n",
    "print(num)\n",
    "\n",
    "\n",
    "print(\"\\nlista ordenada Temporal\")\n",
    "print(sorted(num))    #utilizamos funcion \"sorted\" que hace el cambio de la  lista temporal\n",
    "\n",
    "print(\"\\nLista Original de nuevo\")\n",
    "print(num)"
   ]
  },
  {
   "cell_type": "markdown",
   "id": "169cd890",
   "metadata": {},
   "source": [
    "### Longitud de una lista"
   ]
  },
  {
   "cell_type": "code",
   "execution_count": 41,
   "id": "89fd8960",
   "metadata": {},
   "outputs": [
    {
     "name": "stdout",
     "output_type": "stream",
     "text": [
      "cantidad de autos\n",
      "6\n",
      "\n",
      "Cantidad de numeros\n",
      "8\n"
     ]
    }
   ],
   "source": [
    "print(\"cantidad de autos\")\n",
    "print(len(autos))\n",
    "\n",
    "print(\"\\nCantidad de numeros\")\n",
    "print(len(num))"
   ]
  },
  {
   "cell_type": "markdown",
   "id": "9158ae86",
   "metadata": {},
   "source": [
    "# <CENTER> FIN DE LA INTRODUCCION"
   ]
  },
  {
   "cell_type": "markdown",
   "id": "afd9bc4c",
   "metadata": {},
   "source": [
    "# <CENTER> ESTRUCTURAS CONDICIONALES"
   ]
  },
  {
   "cell_type": "markdown",
   "id": "9c9c4810",
   "metadata": {},
   "source": [
    "# CONDICIONALES SIMPLES:"
   ]
  },
  {
   "cell_type": "code",
   "execution_count": 44,
   "id": "6e35aaa3",
   "metadata": {},
   "outputs": [
    {
     "name": "stdout",
     "output_type": "stream",
     "text": [
      "True\n",
      "False\n"
     ]
    }
   ],
   "source": [
    "x = \"Guido\"\n",
    "print(\"i\" in x)\n",
    "print(\"i\" not in x)"
   ]
  },
  {
   "cell_type": "code",
   "execution_count": 45,
   "id": "24bda5c6",
   "metadata": {},
   "outputs": [
    {
     "name": "stdout",
     "output_type": "stream",
     "text": [
      "False\n"
     ]
    }
   ],
   "source": [
    "lista = [\"unva\",\"naranja\",\"pera\",\"manzanas\"]\n",
    "\n",
    "print(\"uva\" in lista)"
   ]
  },
  {
   "cell_type": "code",
   "execution_count": 48,
   "id": "fc438cdb",
   "metadata": {},
   "outputs": [
    {
     "name": "stdout",
     "output_type": "stream",
     "text": [
      "100 es iguala 200  ===>>  False\n"
     ]
    }
   ],
   "source": [
    "x=100\n",
    "y=200\n",
    "print(x, \"es iguala\", y, \" ===>> \", x==y)\n"
   ]
  },
  {
   "cell_type": "code",
   "execution_count": 53,
   "id": "5fe1647c",
   "metadata": {},
   "outputs": [
    {
     "name": "stdout",
     "output_type": "stream",
     "text": [
      "1 < 7 =  False\n",
      "2 < 9 =  False\n",
      "10 == 20 =  False\n",
      "escuela == casa = False\n",
      "python != Java =  True\n"
     ]
    }
   ],
   "source": [
    "print(\"1 < 7 = \", 1>7)        #menor que\n",
    "print(\"2 < 9 = \", 2>=9)     #mayor que\n",
    "print(\"10 == 20 = \", 10==20) #igual que \n",
    "print(\"escuela == casa =\" ,\"escuela\"==\"casa\")   #igual a\n",
    "print(\"python != Java = \" , \"python\" != \"Java\")   #diferente"
   ]
  },
  {
   "cell_type": "code",
   "execution_count": 55,
   "id": "aac04c78",
   "metadata": {},
   "outputs": [
    {
     "name": "stdout",
     "output_type": "stream",
     "text": [
      "el numero  20 es valido\n",
      "el cuadrado del numero  20 es : 400\n"
     ]
    }
   ],
   "source": [
    "x=20\n",
    "#Condicional simple\n",
    "if x> 0 :                                     #solo ongresa a las sentencias si el nimero es POSITIVO\n",
    "    print(\"el numero \",x,\"es valido\")\n",
    "    print(\"el cuadrado del numero \",x,\"es :\" ,x*x)\n",
    "    "
   ]
  },
  {
   "cell_type": "markdown",
   "id": "9694967e",
   "metadata": {},
   "source": [
    "# Comando if-else-condicional"
   ]
  },
  {
   "cell_type": "code",
   "execution_count": 56,
   "id": "c46dad02",
   "metadata": {},
   "outputs": [
    {
     "name": "stdout",
     "output_type": "stream",
     "text": [
      "el numero MAYOR es: 20\n"
     ]
    }
   ],
   "source": [
    "            #iniciando variables\n",
    "n = 15\n",
    "m = 20\n",
    "#condicion para saber cual es mayor\n",
    "\n",
    "if n>m:\n",
    "    print(\"El numero MAYOR es:\" +str(n))\n",
    "else:\n",
    "    print(\"el numero MAYOR es: \" +str(m))"
   ]
  },
  {
   "cell_type": "code",
   "execution_count": 60,
   "id": "52f4b95e",
   "metadata": {},
   "outputs": [
    {
     "name": "stdout",
     "output_type": "stream",
     "text": [
      "ingrese el primer Numero:20\n",
      "ingrese el primer Numero:30\n",
      "ingrese el primer Numero:40\n",
      "El numero MAYOR es:  40\n",
      "El numero MAYOR es: 40\n"
     ]
    }
   ],
   "source": [
    "#ingresamos los numero#\n",
    "a = int(input(\"ingrese el primer Numero:\"))\n",
    "b = int(input(\"ingrese el primer Numero:\"))\n",
    "c = int(input(\"ingrese el primer Numero:\"))      \n",
    "#con 03 condicionales comparamos para hallar el nmero mayor de los 3  numeros ingresados\n",
    "if a> b:\n",
    "    if a>c:\n",
    "        m=a\n",
    "    else:\n",
    "        m = c\n",
    "else:\n",
    "    if b > c:\n",
    "        m = b\n",
    "    else:\n",
    "            m = c\n",
    "            \n",
    "print(\"El numero MAYOR es:  \"+str(m)) \n",
    "print(\"El numero MAYOR es: {}\".format(m))"
   ]
  },
  {
   "cell_type": "markdown",
   "id": "0962e8b3",
   "metadata": {},
   "source": [
    "# Comando if-elif-else-Condicional encadenado"
   ]
  },
  {
   "cell_type": "code",
   "execution_count": 3,
   "id": "ea5c24ba",
   "metadata": {},
   "outputs": [
    {
     "ename": "KeyboardInterrupt",
     "evalue": "Interrupted by user",
     "output_type": "error",
     "traceback": [
      "\u001b[0;31m---------------------------------------------------------------------------\u001b[0m",
      "\u001b[0;31mKeyboardInterrupt\u001b[0m                         Traceback (most recent call last)",
      "\u001b[0;32m/tmp/ipykernel_3747/1164019499.py\u001b[0m in \u001b[0;36m<module>\u001b[0;34m\u001b[0m\n\u001b[0;32m----> 1\u001b[0;31m \u001b[0mnombre\u001b[0m \u001b[0;34m=\u001b[0m \u001b[0minput\u001b[0m\u001b[0;34m(\u001b[0m\u001b[0;34m\"Ingrese su Nombre: \"\u001b[0m\u001b[0;34m)\u001b[0m\u001b[0;34m\u001b[0m\u001b[0;34m\u001b[0m\u001b[0m\n\u001b[0m\u001b[1;32m      2\u001b[0m \u001b[0;32mif\u001b[0m\u001b[0;34m\"a\"\u001b[0m \u001b[0;32min\u001b[0m \u001b[0mnombre\u001b[0m\u001b[0;34m:\u001b[0m\u001b[0;34m\u001b[0m\u001b[0;34m\u001b[0m\u001b[0m\n\u001b[1;32m      3\u001b[0m     \u001b[0mprint\u001b[0m\u001b[0;34m(\u001b[0m\u001b[0mnombre\u001b[0m\u001b[0;34m.\u001b[0m\u001b[0mtitle\u001b[0m\u001b[0;34m(\u001b[0m\u001b[0;34m)\u001b[0m\u001b[0;34m+\u001b[0m\u001b[0;34m\" contiene la vocal a\"\u001b[0m\u001b[0;34m)\u001b[0m\u001b[0;34m\u001b[0m\u001b[0;34m\u001b[0m\u001b[0m\n\u001b[1;32m      4\u001b[0m \u001b[0;32melif\u001b[0m \u001b[0;34m\"e\"\u001b[0m \u001b[0;32min\u001b[0m \u001b[0mnombre\u001b[0m\u001b[0;34m:\u001b[0m\u001b[0;34m\u001b[0m\u001b[0;34m\u001b[0m\u001b[0m\n\u001b[1;32m      5\u001b[0m     \u001b[0mprint\u001b[0m\u001b[0;34m(\u001b[0m\u001b[0mnombre\u001b[0m\u001b[0;34m.\u001b[0m\u001b[0mtitle\u001b[0m\u001b[0;34m(\u001b[0m\u001b[0;34m)\u001b[0m\u001b[0;34m+\u001b[0m\u001b[0;34m\" contiene la vocal e\"\u001b[0m\u001b[0;34m)\u001b[0m\u001b[0;34m\u001b[0m\u001b[0;34m\u001b[0m\u001b[0m\n",
      "\u001b[0;32m~/anaconda3/envs/computacion2/lib/python3.8/site-packages/ipykernel/kernelbase.py\u001b[0m in \u001b[0;36mraw_input\u001b[0;34m(self, prompt)\u001b[0m\n\u001b[1;32m   1004\u001b[0m                 \u001b[0;34m\"raw_input was called, but this frontend does not support input requests.\"\u001b[0m\u001b[0;34m\u001b[0m\u001b[0;34m\u001b[0m\u001b[0m\n\u001b[1;32m   1005\u001b[0m             )\n\u001b[0;32m-> 1006\u001b[0;31m         return self._input_request(\n\u001b[0m\u001b[1;32m   1007\u001b[0m             \u001b[0mstr\u001b[0m\u001b[0;34m(\u001b[0m\u001b[0mprompt\u001b[0m\u001b[0;34m)\u001b[0m\u001b[0;34m,\u001b[0m\u001b[0;34m\u001b[0m\u001b[0;34m\u001b[0m\u001b[0m\n\u001b[1;32m   1008\u001b[0m             \u001b[0mself\u001b[0m\u001b[0;34m.\u001b[0m\u001b[0m_parent_ident\u001b[0m\u001b[0;34m[\u001b[0m\u001b[0;34m\"shell\"\u001b[0m\u001b[0;34m]\u001b[0m\u001b[0;34m,\u001b[0m\u001b[0;34m\u001b[0m\u001b[0;34m\u001b[0m\u001b[0m\n",
      "\u001b[0;32m~/anaconda3/envs/computacion2/lib/python3.8/site-packages/ipykernel/kernelbase.py\u001b[0m in \u001b[0;36m_input_request\u001b[0;34m(self, prompt, ident, parent, password)\u001b[0m\n\u001b[1;32m   1049\u001b[0m             \u001b[0;32mexcept\u001b[0m \u001b[0mKeyboardInterrupt\u001b[0m\u001b[0;34m:\u001b[0m\u001b[0;34m\u001b[0m\u001b[0;34m\u001b[0m\u001b[0m\n\u001b[1;32m   1050\u001b[0m                 \u001b[0;31m# re-raise KeyboardInterrupt, to truncate traceback\u001b[0m\u001b[0;34m\u001b[0m\u001b[0;34m\u001b[0m\u001b[0;34m\u001b[0m\u001b[0m\n\u001b[0;32m-> 1051\u001b[0;31m                 \u001b[0;32mraise\u001b[0m \u001b[0mKeyboardInterrupt\u001b[0m\u001b[0;34m(\u001b[0m\u001b[0;34m\"Interrupted by user\"\u001b[0m\u001b[0;34m)\u001b[0m \u001b[0;32mfrom\u001b[0m \u001b[0;32mNone\u001b[0m\u001b[0;34m\u001b[0m\u001b[0;34m\u001b[0m\u001b[0m\n\u001b[0m\u001b[1;32m   1052\u001b[0m             \u001b[0;32mexcept\u001b[0m \u001b[0mException\u001b[0m\u001b[0;34m:\u001b[0m\u001b[0;34m\u001b[0m\u001b[0;34m\u001b[0m\u001b[0m\n\u001b[1;32m   1053\u001b[0m                 \u001b[0mself\u001b[0m\u001b[0;34m.\u001b[0m\u001b[0mlog\u001b[0m\u001b[0;34m.\u001b[0m\u001b[0mwarning\u001b[0m\u001b[0;34m(\u001b[0m\u001b[0;34m\"Invalid Message:\"\u001b[0m\u001b[0;34m,\u001b[0m \u001b[0mexc_info\u001b[0m\u001b[0;34m=\u001b[0m\u001b[0;32mTrue\u001b[0m\u001b[0;34m)\u001b[0m\u001b[0;34m\u001b[0m\u001b[0;34m\u001b[0m\u001b[0m\n",
      "\u001b[0;31mKeyboardInterrupt\u001b[0m: Interrupted by user"
     ]
    }
   ],
   "source": [
    "nombre = input(\"Ingrese su Nombre: \")\n",
    "if\"a\" in nombre:\n",
    "    print(nombre.title()+\" contiene la vocal a\")\n",
    "elif \"e\" in nombre:\n",
    "    print(nombre.title()+\" contiene la vocal e\")\n",
    "elif \"i\" in nombre:\n",
    "    print(nombre.title()+\" contiene la vocal i\")\n",
    "elif \"o\" in nombre:\n",
    "    print(nombre.title()+\" contiene la vocal o\")\n",
    "elif \"u\" in nombre:\n",
    "    print(nombre.title()+\" contiene la vocal u\")\n",
    "else:\n",
    "    print(\"!que nombre tan extraño!!\")"
   ]
  },
  {
   "cell_type": "markdown",
   "id": "1be3b96b",
   "metadata": {},
   "source": [
    "# <center> Ejemplos"
   ]
  },
  {
   "cell_type": "markdown",
   "id": "d7f35d3c",
   "metadata": {},
   "source": [
    "# Operadores con varias listas:"
   ]
  },
  {
   "cell_type": "code",
   "execution_count": 1,
   "id": "45ea628f",
   "metadata": {},
   "outputs": [
    {
     "name": "stdout",
     "output_type": "stream",
     "text": [
      "[10, 20, 30, 40, 50, 60]\n"
     ]
    }
   ],
   "source": [
    "lista1= [10,20,30]\n",
    "lista2 =[40,50,60]\n",
    "\n",
    "print(lista1 + lista2)"
   ]
  },
  {
   "cell_type": "markdown",
   "id": "da312e6c",
   "metadata": {},
   "source": [
    "# mejorando la imprecion de varias listas"
   ]
  },
  {
   "cell_type": "code",
   "execution_count": 5,
   "id": "99f108a6",
   "metadata": {},
   "outputs": [
    {
     "name": "stdout",
     "output_type": "stream",
     "text": [
      "Mi auto es: Mazda\n",
      "Mi auto Toyota tiene 2 puertas\n"
     ]
    }
   ],
   "source": [
    "listaA = [\"audi\", \"Toyota\", \"mazda\"]\n",
    "puerta =[2,4]\n",
    "\n",
    "print (\"Mi auto es: \"+listaA[-1].title())\n",
    "print (f\"Mi auto {listaA[-2].title()} tiene {puerta[-2]} puertas\")"
   ]
  },
  {
   "cell_type": "markdown",
   "id": "ad7baf67",
   "metadata": {},
   "source": [
    "# operadores matematicos de una lista:"
   ]
  },
  {
   "cell_type": "code",
   "execution_count": 6,
   "id": "4846ec0f",
   "metadata": {},
   "outputs": [
    {
     "name": "stdout",
     "output_type": "stream",
     "text": [
      "7600\n",
      "7000\n",
      "-200\n"
     ]
    }
   ],
   "source": [
    "lista3 =[100,500,200,7000,-200]\n",
    "\n",
    "print(sum(lista3))       #sumando cada elemento de una lista con la funcion \"sum\"\n",
    "print(max(lista3))        #Maximos de los elementos de una lista con la funcion \"max\"\n",
    "print(min(lista3))         #Minimo de los elemento de una lista con la funcion \"min\"\n"
   ]
  },
  {
   "cell_type": "code",
   "execution_count": 7,
   "id": "40bb94c7",
   "metadata": {},
   "outputs": [
    {
     "name": "stdout",
     "output_type": "stream",
     "text": [
      "[0, 1, 2, 3, 4, 5, 6]\n",
      "[1, 2, 3, 4, 5, 6, 7, 8, 9]\n",
      "[-10, -9, -8, -7, -6, -5, -4, -3, -2, -1, 0, 1]\n",
      "[200, 180, 160, 140, 120]\n",
      "[]\n"
     ]
    }
   ],
   "source": [
    "lista1 = list(range(7))                     #lista de  0 a 6 NO CONSIDERA 7\n",
    "lista2 = list(range(1,10))                  #Lista de 1 a 9 NO CONSIDERA 10\n",
    "lista3 = list(range(-10,2))                     #Lista de -10 a 1 NO CONSIDERA 2\n",
    "lista4 = list(range(200,100,-20))               #lista de 200 a 100 restando20\n",
    "lista5 = list(range(200,100,20))          #lista vacia rango inicia en 200 avanza sumado\n",
    "\n",
    "print(lista1)\n",
    "print(lista2)\n",
    "print(lista3)\n",
    "print(lista4)\n",
    "print(lista5)\n",
    "\n",
    "\n"
   ]
  },
  {
   "cell_type": "markdown",
   "id": "6ca5211b",
   "metadata": {},
   "source": [
    "# ERROR COMUN EN UNA LISTA: "
   ]
  },
  {
   "cell_type": "code",
   "execution_count": 8,
   "id": "d88cce79",
   "metadata": {},
   "outputs": [
    {
     "ename": "IndexError",
     "evalue": "list index out of range",
     "output_type": "error",
     "traceback": [
      "\u001b[0;31m---------------------------------------------------------------------------\u001b[0m",
      "\u001b[0;31mIndexError\u001b[0m                                Traceback (most recent call last)",
      "\u001b[0;32m/tmp/ipykernel_1953/2462318314.py\u001b[0m in \u001b[0;36m<module>\u001b[0;34m\u001b[0m\n\u001b[1;32m      1\u001b[0m \u001b[0mautos\u001b[0m \u001b[0;34m=\u001b[0m \u001b[0;34m[\u001b[0m\u001b[0;34m\"mazda\"\u001b[0m\u001b[0;34m,\u001b[0m \u001b[0;34m\"audi\"\u001b[0m\u001b[0;34m,\u001b[0m \u001b[0;34m\"toyota\"\u001b[0m\u001b[0;34m,\u001b[0m\u001b[0;34m\"subaru\"\u001b[0m\u001b[0;34m,\u001b[0m\u001b[0;34m\"bwm\"\u001b[0m\u001b[0;34m,\u001b[0m\u001b[0;34m\"lamborghini\"\u001b[0m\u001b[0;34m]\u001b[0m\u001b[0;34m\u001b[0m\u001b[0;34m\u001b[0m\u001b[0m\n\u001b[1;32m      2\u001b[0m \u001b[0;34m\u001b[0m\u001b[0m\n\u001b[0;32m----> 3\u001b[0;31m \u001b[0mprint\u001b[0m\u001b[0;34m(\u001b[0m\u001b[0mautos\u001b[0m\u001b[0;34m[\u001b[0m\u001b[0;36m6\u001b[0m\u001b[0;34m]\u001b[0m\u001b[0;34m.\u001b[0m\u001b[0mupper\u001b[0m\u001b[0;34m(\u001b[0m\u001b[0;34m)\u001b[0m\u001b[0;34m)\u001b[0m\u001b[0;34m\u001b[0m\u001b[0;34m\u001b[0m\u001b[0m\n\u001b[0m",
      "\u001b[0;31mIndexError\u001b[0m: list index out of range"
     ]
    }
   ],
   "source": [
    "autos = [\"mazda\", \"audi\", \"toyota\",\"subaru\",\"bwm\",\"lamborghini\"]\n",
    "\n",
    "print(autos[6].upper())"
   ]
  },
  {
   "cell_type": "code",
   "execution_count": 9,
   "id": "c3cb9ed5",
   "metadata": {},
   "outputs": [
    {
     "name": "stdout",
     "output_type": "stream",
     "text": [
      "BWM\n"
     ]
    }
   ],
   "source": [
    "autos = [\"mazda\", \"audi\", \"toyota\",\"subaru\",\"bwm\",\"lamborghini\"]\n",
    "\n",
    "print(autos[6].upper())"
   ]
  },
  {
   "cell_type": "markdown",
   "id": "ed0cf61c",
   "metadata": {},
   "source": [
    "# Condicionales\n",
    "\n",
    "### Hacer un programa que  determine si un numero ingresado por pantalla es positivo o negativo"
   ]
  },
  {
   "cell_type": "code",
   "execution_count": 2,
   "id": "d93ae52b",
   "metadata": {},
   "outputs": [
    {
     "name": "stdout",
     "output_type": "stream",
     "text": [
      "Ingrese un nimero entero,positivo o negativo:1800\n",
      "\n",
      "El numero :1800\n",
      "Es un numero : positivo\n"
     ]
    }
   ],
   "source": [
    "#metodo1 : Utilizando if anidado\n",
    "\n",
    "x = int(input(\"Ingrese un nimero entero,positivo o negativo:\"))\n",
    "if x > 0:\n",
    "    y =\"positivo\"\n",
    "else:\n",
    "    if x <0:\n",
    "        y=\"negativo\"\n",
    "    else:\n",
    "        if x == 0:\n",
    "            y=\"cero\"\n",
    "print(\"\\nEl numero :{}\".format(x))\n",
    "print(\"Es un numero : {}\".format(y))        "
   ]
  },
  {
   "cell_type": "code",
   "execution_count": 20,
   "id": "5459dc8a",
   "metadata": {},
   "outputs": [
    {
     "name": "stdout",
     "output_type": "stream",
     "text": [
      "ingrese un numero entero, positivo o negativo :67\n",
      "\n",
      "El Numero :  67\n",
      "Es un numero :  positivo\n"
     ]
    }
   ],
   "source": [
    "#METODO 2 : UTILIZANDO ELIF\n",
    "\n",
    "#***************************FUNCION detectada POSITIVOS Y NEGATIVOS*******************\n",
    "def det(xx) :\n",
    "    if xx < 0:\n",
    "        p=\"negativo\"\n",
    "    elif xx > 0:\n",
    "        p =\"positivo\"\n",
    "    else:\n",
    "        p = \"cero\"\n",
    "        print (p)\n",
    "    return p\n",
    "    \n",
    "### Ingresamos numero**********************\n",
    "num = int(input(\"ingrese un numero entero, positivo o negativo :\"))    #Probar varias veces\n",
    "### llamamos a la funcion *************************************************\n",
    "### funcion devuelve un  resultado capturado en variable\"resp\"\n",
    "resp =det(num)\n",
    "\n",
    "# Imprimo RESULTADO\n",
    "print(\"\\nEl Numero :  {}\".format(num))\n",
    "print(\"Es un numero :  {}\".format(resp))\n",
    "\n"
   ]
  },
  {
   "cell_type": "code",
   "execution_count": 28,
   "id": "eb844647",
   "metadata": {},
   "outputs": [
    {
     "name": "stdout",
     "output_type": "stream",
     "text": [
      "ingrese el radio de un circulo: 10\n",
      "selecione una opcion\n",
      "a) Calcular el diametro.\n",
      "b) Calcular el perimetro.\n",
      "c) Calcular el area.\n",
      "digita a, b, o c y preciona enter:    a\n",
      "\n",
      "El diametro del circulo es 20.0.\n"
     ]
    }
   ],
   "source": [
    "#METODO 1 :Utilizando if Anidado \n",
    "from math import pi\n",
    "\n",
    "radio = float(input(\"ingrese el radio de un circulo: \"))\n",
    "\n",
    "\n",
    "#mmenu\n",
    "print(\"selecione una opcion\")\n",
    "print(\"a) Calcular el diametro.\")\n",
    "print(\"b) Calcular el perimetro.\")\n",
    "print(\"c) Calcular el area.\")\n",
    "opcion =input(\"digita a, b, o c y preciona enter:    \")\n",
    "\n",
    "\n",
    "if opcion ==\"a\":\n",
    "    diametro = 2 * radio\n",
    "    print(\"\\nEl diametro del circulo es {0}.\".format(diametro))\n",
    "else:\n",
    "    if opcion==\"b\":\n",
    "        perimetro = 2 * pi * radio\n",
    "        print(\"\\nEl perimetro del circulo es {0}.\".format(perimetro))\n",
    "    else:\n",
    "        if opcion ==\"c\":\n",
    "            area = pi * radio **2\n",
    "            print(\"\\nEl perimetro del Circulo es {0}.\".format(area))\n",
    "        else:    \n",
    "            print(\"\\nSolo hay tres opciones: a, b, c.\")\n",
    "            print('Tu has teclado \"{0}\".'.format(opcion))"
   ]
  },
  {
   "cell_type": "code",
   "execution_count": 34,
   "id": "4d61289b",
   "metadata": {},
   "outputs": [
    {
     "name": "stdout",
     "output_type": "stream",
     "text": [
      "ingrese el radio de un circulo34\n",
      "seleccione una opcion: \n",
      "a) Calcular el diametro.\n",
      "b) Calcular el perimetro.\n",
      "c) Calcular el area.\n",
      "Digita a, b, o c y presiona enter:   a\n",
      "El perimetro del circulo es 68.0.\n"
     ]
    }
   ],
   "source": [
    "#METODO 2 : Utilizando elif\n",
    "from math import pi\n",
    "\n",
    "radio =float(input(\"ingrese el radio de un circulo\"))\n",
    "\n",
    "\n",
    "#Menù\n",
    "print(\"seleccione una opcion: \")\n",
    "print(\"a) Calcular el diametro.\")\n",
    "print(\"b) Calcular el perimetro.\")      \n",
    "print(\"c) Calcular el area.\")    \n",
    "opcion = input(\"Digita a, b, o c y presiona enter:   \")\n",
    "if opcion== \"a\":\n",
    "    diametro = 2* radio\n",
    "    print(\"El perimetro del circulo es {0}.\".format(diametro))\n",
    "elif opcion == \"b\" :\n",
    "        perimetro = 2 *pi *radio\n",
    "        print(\"El perimetro del circulo es {0}.\".format(perimetro))\n",
    "elif opcion ==\"c\":\n",
    "    area = pi * radio **2\n",
    "    print(\"el area del circulo es {0}.\".format(area))\n",
    "else:\n",
    "    print(\"Solo hay tres opciones: a, b, c.\")\n",
    "    print('Tu has tecleado \"{0}\".'.format(opcion))\n"
   ]
  },
  {
   "cell_type": "markdown",
   "id": "8841399e",
   "metadata": {},
   "source": [
    "# Hacer un programa que varifique si se  ha comprado carne en la lista del mercado para hacer parrillada"
   ]
  },
  {
   "cell_type": "code",
   "execution_count": 35,
   "id": "4f4c0583",
   "metadata": {},
   "outputs": [
    {
     "name": "stdout",
     "output_type": "stream",
     "text": [
      "Hoy  comemos rica Parrilla!!!!\n"
     ]
    }
   ],
   "source": [
    "# Lista de alimentos \n",
    "alimento = [\"arroz\",\"papas\",\"camotes\",\"leche\",\"carne\",\"cebolla\",\"tomate\",\"lechuga\"]\n",
    "\n",
    "if \"carne\" in alimento:             #condicional si \"carne\" esta en la lista de alimentos\n",
    "    print(\"Hoy  comemos rica Parrilla!!!!\")\n",
    "else:\n",
    "    print(\"Hoy comeos verduras\")"
   ]
  },
  {
   "cell_type": "markdown",
   "id": "c37eb4e1",
   "metadata": {},
   "source": [
    "# Hacer un programa que verifique en una jugerua si tienen la fruta que deseas y prepare un jugo"
   ]
  },
  {
   "cell_type": "code",
   "execution_count": 42,
   "id": "104f8a36",
   "metadata": {},
   "outputs": [
    {
     "name": "stdout",
     "output_type": "stream",
     "text": [
      "ingresa la fruta que deseas comer hoy : melon\n",
      "\n",
      "Hoy no tenemos MELON,pero regresa mañana\n",
      "\n",
      "Gracias por tu Preferencia !!!, Vuelve Pronto\n"
     ]
    }
   ],
   "source": [
    "# **************** Funcion jugeria ***********************\n",
    "def preparar (fruit):\n",
    "    if fruit in fruta:\n",
    "        print(f\"\\nSi tenemos {antojo.upper()} !!!, te prepararemos un jugo\")\n",
    "    else:\n",
    "        print(f\"\\nHoy no tenemos {antojo.upper()},pero regresa mañana\")\n",
    "        \n",
    "        \n",
    "        \n",
    "# *************** Lista de frutas *****************************\n",
    "fruta=[\"platano\",\"manzana\",\"pera\",\"naranja\",\"mandarina\",\"uva\"]\n",
    "antojo= input(\"ingresa la fruta que deseas comer hoy : \")\n",
    "\n",
    "preparar(antojo)                #probar varias veces con las frutas que esten y no esten en la lista\n",
    "\n",
    "print(\"\\nGracias por tu Preferencia !!!, Vuelve Pronto\")"
   ]
  },
  {
   "cell_type": "markdown",
   "id": "616fb58b",
   "metadata": {},
   "source": [
    "# Hacer un programa que verifique mayoria de edad"
   ]
  },
  {
   "cell_type": "code",
   "execution_count": 47,
   "id": "08f1f3cf",
   "metadata": {},
   "outputs": [
    {
     "name": "stdout",
     "output_type": "stream",
     "text": [
      "ingresa tu nombre: Juanito \n",
      "ingrese su edad : 12\n",
      "\n",
      "JUANITO  es Menor de Edad con 12 años de edad\n"
     ]
    }
   ],
   "source": [
    "#****************** funcion que detecte la mayoria de edad***********\n",
    "def mayoria(nom,xx):\n",
    "    if xx>= 18:\n",
    "        print(f'\\n{nom.upper()} es Mayor de Edad con {xx} años de edad')\n",
    "    else:\n",
    "        print(f\"\\n{nom.upper()} es Menor de Edad con {xx} años de edad\")    \n",
    "#***************************ingresa datos**************#\n",
    "nombre = input(\"ingresa tu nombre: \")\n",
    "edad= int(input(\"ingrese su edad : \"))\n",
    "              \n",
    "mayoria(nombre, edad)       #probar varias veces con mayores y menores de edad, "
   ]
  },
  {
   "cell_type": "code",
   "execution_count": null,
   "id": "afd76ab7",
   "metadata": {},
   "outputs": [],
   "source": []
  },
  {
   "cell_type": "code",
   "execution_count": null,
   "id": "aa969544",
   "metadata": {},
   "outputs": [],
   "source": []
  },
  {
   "cell_type": "code",
   "execution_count": null,
   "id": "5e12489f",
   "metadata": {},
   "outputs": [],
   "source": []
  }
 ],
 "metadata": {
  "kernelspec": {
   "display_name": "Python 3 (ipykernel)",
   "language": "python",
   "name": "python3"
  },
  "language_info": {
   "codemirror_mode": {
    "name": "ipython",
    "version": 3
   },
   "file_extension": ".py",
   "mimetype": "text/x-python",
   "name": "python",
   "nbconvert_exporter": "python",
   "pygments_lexer": "ipython3",
   "version": "3.8.11"
  }
 },
 "nbformat": 4,
 "nbformat_minor": 5
}
